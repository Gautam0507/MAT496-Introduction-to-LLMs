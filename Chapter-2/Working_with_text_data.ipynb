{
  "nbformat": 4,
  "nbformat_minor": 0,
  "metadata": {
    "colab": {
      "provenance": [],
      "collapsed_sections": [
        "uS3xkaV6STRU",
        "-tDoMDAFTZ4j",
        "czLHnpDkayqN",
        "iltXSfvfdpUX",
        "CUWOjAwVfp7O",
        "jRiGU4Hph1LO",
        "ZBCVtd0HlbGT",
        "uSiQjNLsnWIM",
        "dGuxp_12_N8t",
        "PnU_NceHAoS6",
        "oC5ZP6i3mzta"
      ],
      "authorship_tag": "ABX9TyPzrrkxdrr7D60QHp4t+gn8",
      "include_colab_link": true
    },
    "kernelspec": {
      "name": "python3",
      "display_name": "Python 3"
    },
    "language_info": {
      "name": "python"
    },
    "widgets": {
      "application/vnd.jupyter.widget-state+json": {
        "b71a676b772f4429aead938429fe2986": {
          "model_module": "@jupyter-widgets/controls",
          "model_name": "HBoxModel",
          "model_module_version": "1.5.0",
          "state": {
            "_dom_classes": [],
            "_model_module": "@jupyter-widgets/controls",
            "_model_module_version": "1.5.0",
            "_model_name": "HBoxModel",
            "_view_count": null,
            "_view_module": "@jupyter-widgets/controls",
            "_view_module_version": "1.5.0",
            "_view_name": "HBoxView",
            "box_style": "",
            "children": [
              "IPY_MODEL_d9016d2dab0f47c293628537b7c8da7e",
              "IPY_MODEL_63977819457348e3ada3df7410c23b58",
              "IPY_MODEL_fcdb35c34eda416093292357f58c4fcd"
            ],
            "layout": "IPY_MODEL_a73440022ce24d77b3c1c89863b806e4"
          }
        },
        "d9016d2dab0f47c293628537b7c8da7e": {
          "model_module": "@jupyter-widgets/controls",
          "model_name": "HTMLModel",
          "model_module_version": "1.5.0",
          "state": {
            "_dom_classes": [],
            "_model_module": "@jupyter-widgets/controls",
            "_model_module_version": "1.5.0",
            "_model_name": "HTMLModel",
            "_view_count": null,
            "_view_module": "@jupyter-widgets/controls",
            "_view_module_version": "1.5.0",
            "_view_name": "HTMLView",
            "description": "",
            "description_tooltip": null,
            "layout": "IPY_MODEL_68de86a49ce844828cf31ce28c5c9cbb",
            "placeholder": "​",
            "style": "IPY_MODEL_5883eb0048d7483aba9667004d571d43",
            "value": "tokenizer_config.json: 100%"
          }
        },
        "63977819457348e3ada3df7410c23b58": {
          "model_module": "@jupyter-widgets/controls",
          "model_name": "FloatProgressModel",
          "model_module_version": "1.5.0",
          "state": {
            "_dom_classes": [],
            "_model_module": "@jupyter-widgets/controls",
            "_model_module_version": "1.5.0",
            "_model_name": "FloatProgressModel",
            "_view_count": null,
            "_view_module": "@jupyter-widgets/controls",
            "_view_module_version": "1.5.0",
            "_view_name": "ProgressView",
            "bar_style": "success",
            "description": "",
            "description_tooltip": null,
            "layout": "IPY_MODEL_cc8f7606590e426388cff89d8d5e1350",
            "max": 26,
            "min": 0,
            "orientation": "horizontal",
            "style": "IPY_MODEL_af9b93cd1e7a4deeaba5be90337335fd",
            "value": 26
          }
        },
        "fcdb35c34eda416093292357f58c4fcd": {
          "model_module": "@jupyter-widgets/controls",
          "model_name": "HTMLModel",
          "model_module_version": "1.5.0",
          "state": {
            "_dom_classes": [],
            "_model_module": "@jupyter-widgets/controls",
            "_model_module_version": "1.5.0",
            "_model_name": "HTMLModel",
            "_view_count": null,
            "_view_module": "@jupyter-widgets/controls",
            "_view_module_version": "1.5.0",
            "_view_name": "HTMLView",
            "description": "",
            "description_tooltip": null,
            "layout": "IPY_MODEL_0518fbe588fd4a489f3820d19c40fee0",
            "placeholder": "​",
            "style": "IPY_MODEL_896880fa6ef043a68d5e4ef69c5a0948",
            "value": " 26.0/26.0 [00:00&lt;00:00, 1.48kB/s]"
          }
        },
        "a73440022ce24d77b3c1c89863b806e4": {
          "model_module": "@jupyter-widgets/base",
          "model_name": "LayoutModel",
          "model_module_version": "1.2.0",
          "state": {
            "_model_module": "@jupyter-widgets/base",
            "_model_module_version": "1.2.0",
            "_model_name": "LayoutModel",
            "_view_count": null,
            "_view_module": "@jupyter-widgets/base",
            "_view_module_version": "1.2.0",
            "_view_name": "LayoutView",
            "align_content": null,
            "align_items": null,
            "align_self": null,
            "border": null,
            "bottom": null,
            "display": null,
            "flex": null,
            "flex_flow": null,
            "grid_area": null,
            "grid_auto_columns": null,
            "grid_auto_flow": null,
            "grid_auto_rows": null,
            "grid_column": null,
            "grid_gap": null,
            "grid_row": null,
            "grid_template_areas": null,
            "grid_template_columns": null,
            "grid_template_rows": null,
            "height": null,
            "justify_content": null,
            "justify_items": null,
            "left": null,
            "margin": null,
            "max_height": null,
            "max_width": null,
            "min_height": null,
            "min_width": null,
            "object_fit": null,
            "object_position": null,
            "order": null,
            "overflow": null,
            "overflow_x": null,
            "overflow_y": null,
            "padding": null,
            "right": null,
            "top": null,
            "visibility": null,
            "width": null
          }
        },
        "68de86a49ce844828cf31ce28c5c9cbb": {
          "model_module": "@jupyter-widgets/base",
          "model_name": "LayoutModel",
          "model_module_version": "1.2.0",
          "state": {
            "_model_module": "@jupyter-widgets/base",
            "_model_module_version": "1.2.0",
            "_model_name": "LayoutModel",
            "_view_count": null,
            "_view_module": "@jupyter-widgets/base",
            "_view_module_version": "1.2.0",
            "_view_name": "LayoutView",
            "align_content": null,
            "align_items": null,
            "align_self": null,
            "border": null,
            "bottom": null,
            "display": null,
            "flex": null,
            "flex_flow": null,
            "grid_area": null,
            "grid_auto_columns": null,
            "grid_auto_flow": null,
            "grid_auto_rows": null,
            "grid_column": null,
            "grid_gap": null,
            "grid_row": null,
            "grid_template_areas": null,
            "grid_template_columns": null,
            "grid_template_rows": null,
            "height": null,
            "justify_content": null,
            "justify_items": null,
            "left": null,
            "margin": null,
            "max_height": null,
            "max_width": null,
            "min_height": null,
            "min_width": null,
            "object_fit": null,
            "object_position": null,
            "order": null,
            "overflow": null,
            "overflow_x": null,
            "overflow_y": null,
            "padding": null,
            "right": null,
            "top": null,
            "visibility": null,
            "width": null
          }
        },
        "5883eb0048d7483aba9667004d571d43": {
          "model_module": "@jupyter-widgets/controls",
          "model_name": "DescriptionStyleModel",
          "model_module_version": "1.5.0",
          "state": {
            "_model_module": "@jupyter-widgets/controls",
            "_model_module_version": "1.5.0",
            "_model_name": "DescriptionStyleModel",
            "_view_count": null,
            "_view_module": "@jupyter-widgets/base",
            "_view_module_version": "1.2.0",
            "_view_name": "StyleView",
            "description_width": ""
          }
        },
        "cc8f7606590e426388cff89d8d5e1350": {
          "model_module": "@jupyter-widgets/base",
          "model_name": "LayoutModel",
          "model_module_version": "1.2.0",
          "state": {
            "_model_module": "@jupyter-widgets/base",
            "_model_module_version": "1.2.0",
            "_model_name": "LayoutModel",
            "_view_count": null,
            "_view_module": "@jupyter-widgets/base",
            "_view_module_version": "1.2.0",
            "_view_name": "LayoutView",
            "align_content": null,
            "align_items": null,
            "align_self": null,
            "border": null,
            "bottom": null,
            "display": null,
            "flex": null,
            "flex_flow": null,
            "grid_area": null,
            "grid_auto_columns": null,
            "grid_auto_flow": null,
            "grid_auto_rows": null,
            "grid_column": null,
            "grid_gap": null,
            "grid_row": null,
            "grid_template_areas": null,
            "grid_template_columns": null,
            "grid_template_rows": null,
            "height": null,
            "justify_content": null,
            "justify_items": null,
            "left": null,
            "margin": null,
            "max_height": null,
            "max_width": null,
            "min_height": null,
            "min_width": null,
            "object_fit": null,
            "object_position": null,
            "order": null,
            "overflow": null,
            "overflow_x": null,
            "overflow_y": null,
            "padding": null,
            "right": null,
            "top": null,
            "visibility": null,
            "width": null
          }
        },
        "af9b93cd1e7a4deeaba5be90337335fd": {
          "model_module": "@jupyter-widgets/controls",
          "model_name": "ProgressStyleModel",
          "model_module_version": "1.5.0",
          "state": {
            "_model_module": "@jupyter-widgets/controls",
            "_model_module_version": "1.5.0",
            "_model_name": "ProgressStyleModel",
            "_view_count": null,
            "_view_module": "@jupyter-widgets/base",
            "_view_module_version": "1.2.0",
            "_view_name": "StyleView",
            "bar_color": null,
            "description_width": ""
          }
        },
        "0518fbe588fd4a489f3820d19c40fee0": {
          "model_module": "@jupyter-widgets/base",
          "model_name": "LayoutModel",
          "model_module_version": "1.2.0",
          "state": {
            "_model_module": "@jupyter-widgets/base",
            "_model_module_version": "1.2.0",
            "_model_name": "LayoutModel",
            "_view_count": null,
            "_view_module": "@jupyter-widgets/base",
            "_view_module_version": "1.2.0",
            "_view_name": "LayoutView",
            "align_content": null,
            "align_items": null,
            "align_self": null,
            "border": null,
            "bottom": null,
            "display": null,
            "flex": null,
            "flex_flow": null,
            "grid_area": null,
            "grid_auto_columns": null,
            "grid_auto_flow": null,
            "grid_auto_rows": null,
            "grid_column": null,
            "grid_gap": null,
            "grid_row": null,
            "grid_template_areas": null,
            "grid_template_columns": null,
            "grid_template_rows": null,
            "height": null,
            "justify_content": null,
            "justify_items": null,
            "left": null,
            "margin": null,
            "max_height": null,
            "max_width": null,
            "min_height": null,
            "min_width": null,
            "object_fit": null,
            "object_position": null,
            "order": null,
            "overflow": null,
            "overflow_x": null,
            "overflow_y": null,
            "padding": null,
            "right": null,
            "top": null,
            "visibility": null,
            "width": null
          }
        },
        "896880fa6ef043a68d5e4ef69c5a0948": {
          "model_module": "@jupyter-widgets/controls",
          "model_name": "DescriptionStyleModel",
          "model_module_version": "1.5.0",
          "state": {
            "_model_module": "@jupyter-widgets/controls",
            "_model_module_version": "1.5.0",
            "_model_name": "DescriptionStyleModel",
            "_view_count": null,
            "_view_module": "@jupyter-widgets/base",
            "_view_module_version": "1.2.0",
            "_view_name": "StyleView",
            "description_width": ""
          }
        },
        "9e5047c71eba4d1eaee3f58f4d58d62d": {
          "model_module": "@jupyter-widgets/controls",
          "model_name": "HBoxModel",
          "model_module_version": "1.5.0",
          "state": {
            "_dom_classes": [],
            "_model_module": "@jupyter-widgets/controls",
            "_model_module_version": "1.5.0",
            "_model_name": "HBoxModel",
            "_view_count": null,
            "_view_module": "@jupyter-widgets/controls",
            "_view_module_version": "1.5.0",
            "_view_name": "HBoxView",
            "box_style": "",
            "children": [
              "IPY_MODEL_33d268bf4dd9428da0dbb8fbac4d8bf6",
              "IPY_MODEL_0951ea6f3f98409982089b8f241e0b32",
              "IPY_MODEL_6b5defbac0fb4887a5a62bddf890f1d9"
            ],
            "layout": "IPY_MODEL_c8a1ae71d87f476faa531fa9500e9629"
          }
        },
        "33d268bf4dd9428da0dbb8fbac4d8bf6": {
          "model_module": "@jupyter-widgets/controls",
          "model_name": "HTMLModel",
          "model_module_version": "1.5.0",
          "state": {
            "_dom_classes": [],
            "_model_module": "@jupyter-widgets/controls",
            "_model_module_version": "1.5.0",
            "_model_name": "HTMLModel",
            "_view_count": null,
            "_view_module": "@jupyter-widgets/controls",
            "_view_module_version": "1.5.0",
            "_view_name": "HTMLView",
            "description": "",
            "description_tooltip": null,
            "layout": "IPY_MODEL_fd0d1e90bbe54b26a56d1eb3e7f2c278",
            "placeholder": "​",
            "style": "IPY_MODEL_d1f4e48db8f941009534e0747143427e",
            "value": "config.json: 100%"
          }
        },
        "0951ea6f3f98409982089b8f241e0b32": {
          "model_module": "@jupyter-widgets/controls",
          "model_name": "FloatProgressModel",
          "model_module_version": "1.5.0",
          "state": {
            "_dom_classes": [],
            "_model_module": "@jupyter-widgets/controls",
            "_model_module_version": "1.5.0",
            "_model_name": "FloatProgressModel",
            "_view_count": null,
            "_view_module": "@jupyter-widgets/controls",
            "_view_module_version": "1.5.0",
            "_view_name": "ProgressView",
            "bar_style": "success",
            "description": "",
            "description_tooltip": null,
            "layout": "IPY_MODEL_58ca74149cbc4515b12df9ba7d640895",
            "max": 665,
            "min": 0,
            "orientation": "horizontal",
            "style": "IPY_MODEL_72893fb81e474185bb033d6b24d13a49",
            "value": 665
          }
        },
        "6b5defbac0fb4887a5a62bddf890f1d9": {
          "model_module": "@jupyter-widgets/controls",
          "model_name": "HTMLModel",
          "model_module_version": "1.5.0",
          "state": {
            "_dom_classes": [],
            "_model_module": "@jupyter-widgets/controls",
            "_model_module_version": "1.5.0",
            "_model_name": "HTMLModel",
            "_view_count": null,
            "_view_module": "@jupyter-widgets/controls",
            "_view_module_version": "1.5.0",
            "_view_name": "HTMLView",
            "description": "",
            "description_tooltip": null,
            "layout": "IPY_MODEL_94924b80cfef4a72917f95eab4bcd88a",
            "placeholder": "​",
            "style": "IPY_MODEL_9b20a43d62ad406fa55cea977b491d74",
            "value": " 665/665 [00:00&lt;00:00, 39.4kB/s]"
          }
        },
        "c8a1ae71d87f476faa531fa9500e9629": {
          "model_module": "@jupyter-widgets/base",
          "model_name": "LayoutModel",
          "model_module_version": "1.2.0",
          "state": {
            "_model_module": "@jupyter-widgets/base",
            "_model_module_version": "1.2.0",
            "_model_name": "LayoutModel",
            "_view_count": null,
            "_view_module": "@jupyter-widgets/base",
            "_view_module_version": "1.2.0",
            "_view_name": "LayoutView",
            "align_content": null,
            "align_items": null,
            "align_self": null,
            "border": null,
            "bottom": null,
            "display": null,
            "flex": null,
            "flex_flow": null,
            "grid_area": null,
            "grid_auto_columns": null,
            "grid_auto_flow": null,
            "grid_auto_rows": null,
            "grid_column": null,
            "grid_gap": null,
            "grid_row": null,
            "grid_template_areas": null,
            "grid_template_columns": null,
            "grid_template_rows": null,
            "height": null,
            "justify_content": null,
            "justify_items": null,
            "left": null,
            "margin": null,
            "max_height": null,
            "max_width": null,
            "min_height": null,
            "min_width": null,
            "object_fit": null,
            "object_position": null,
            "order": null,
            "overflow": null,
            "overflow_x": null,
            "overflow_y": null,
            "padding": null,
            "right": null,
            "top": null,
            "visibility": null,
            "width": null
          }
        },
        "fd0d1e90bbe54b26a56d1eb3e7f2c278": {
          "model_module": "@jupyter-widgets/base",
          "model_name": "LayoutModel",
          "model_module_version": "1.2.0",
          "state": {
            "_model_module": "@jupyter-widgets/base",
            "_model_module_version": "1.2.0",
            "_model_name": "LayoutModel",
            "_view_count": null,
            "_view_module": "@jupyter-widgets/base",
            "_view_module_version": "1.2.0",
            "_view_name": "LayoutView",
            "align_content": null,
            "align_items": null,
            "align_self": null,
            "border": null,
            "bottom": null,
            "display": null,
            "flex": null,
            "flex_flow": null,
            "grid_area": null,
            "grid_auto_columns": null,
            "grid_auto_flow": null,
            "grid_auto_rows": null,
            "grid_column": null,
            "grid_gap": null,
            "grid_row": null,
            "grid_template_areas": null,
            "grid_template_columns": null,
            "grid_template_rows": null,
            "height": null,
            "justify_content": null,
            "justify_items": null,
            "left": null,
            "margin": null,
            "max_height": null,
            "max_width": null,
            "min_height": null,
            "min_width": null,
            "object_fit": null,
            "object_position": null,
            "order": null,
            "overflow": null,
            "overflow_x": null,
            "overflow_y": null,
            "padding": null,
            "right": null,
            "top": null,
            "visibility": null,
            "width": null
          }
        },
        "d1f4e48db8f941009534e0747143427e": {
          "model_module": "@jupyter-widgets/controls",
          "model_name": "DescriptionStyleModel",
          "model_module_version": "1.5.0",
          "state": {
            "_model_module": "@jupyter-widgets/controls",
            "_model_module_version": "1.5.0",
            "_model_name": "DescriptionStyleModel",
            "_view_count": null,
            "_view_module": "@jupyter-widgets/base",
            "_view_module_version": "1.2.0",
            "_view_name": "StyleView",
            "description_width": ""
          }
        },
        "58ca74149cbc4515b12df9ba7d640895": {
          "model_module": "@jupyter-widgets/base",
          "model_name": "LayoutModel",
          "model_module_version": "1.2.0",
          "state": {
            "_model_module": "@jupyter-widgets/base",
            "_model_module_version": "1.2.0",
            "_model_name": "LayoutModel",
            "_view_count": null,
            "_view_module": "@jupyter-widgets/base",
            "_view_module_version": "1.2.0",
            "_view_name": "LayoutView",
            "align_content": null,
            "align_items": null,
            "align_self": null,
            "border": null,
            "bottom": null,
            "display": null,
            "flex": null,
            "flex_flow": null,
            "grid_area": null,
            "grid_auto_columns": null,
            "grid_auto_flow": null,
            "grid_auto_rows": null,
            "grid_column": null,
            "grid_gap": null,
            "grid_row": null,
            "grid_template_areas": null,
            "grid_template_columns": null,
            "grid_template_rows": null,
            "height": null,
            "justify_content": null,
            "justify_items": null,
            "left": null,
            "margin": null,
            "max_height": null,
            "max_width": null,
            "min_height": null,
            "min_width": null,
            "object_fit": null,
            "object_position": null,
            "order": null,
            "overflow": null,
            "overflow_x": null,
            "overflow_y": null,
            "padding": null,
            "right": null,
            "top": null,
            "visibility": null,
            "width": null
          }
        },
        "72893fb81e474185bb033d6b24d13a49": {
          "model_module": "@jupyter-widgets/controls",
          "model_name": "ProgressStyleModel",
          "model_module_version": "1.5.0",
          "state": {
            "_model_module": "@jupyter-widgets/controls",
            "_model_module_version": "1.5.0",
            "_model_name": "ProgressStyleModel",
            "_view_count": null,
            "_view_module": "@jupyter-widgets/base",
            "_view_module_version": "1.2.0",
            "_view_name": "StyleView",
            "bar_color": null,
            "description_width": ""
          }
        },
        "94924b80cfef4a72917f95eab4bcd88a": {
          "model_module": "@jupyter-widgets/base",
          "model_name": "LayoutModel",
          "model_module_version": "1.2.0",
          "state": {
            "_model_module": "@jupyter-widgets/base",
            "_model_module_version": "1.2.0",
            "_model_name": "LayoutModel",
            "_view_count": null,
            "_view_module": "@jupyter-widgets/base",
            "_view_module_version": "1.2.0",
            "_view_name": "LayoutView",
            "align_content": null,
            "align_items": null,
            "align_self": null,
            "border": null,
            "bottom": null,
            "display": null,
            "flex": null,
            "flex_flow": null,
            "grid_area": null,
            "grid_auto_columns": null,
            "grid_auto_flow": null,
            "grid_auto_rows": null,
            "grid_column": null,
            "grid_gap": null,
            "grid_row": null,
            "grid_template_areas": null,
            "grid_template_columns": null,
            "grid_template_rows": null,
            "height": null,
            "justify_content": null,
            "justify_items": null,
            "left": null,
            "margin": null,
            "max_height": null,
            "max_width": null,
            "min_height": null,
            "min_width": null,
            "object_fit": null,
            "object_position": null,
            "order": null,
            "overflow": null,
            "overflow_x": null,
            "overflow_y": null,
            "padding": null,
            "right": null,
            "top": null,
            "visibility": null,
            "width": null
          }
        },
        "9b20a43d62ad406fa55cea977b491d74": {
          "model_module": "@jupyter-widgets/controls",
          "model_name": "DescriptionStyleModel",
          "model_module_version": "1.5.0",
          "state": {
            "_model_module": "@jupyter-widgets/controls",
            "_model_module_version": "1.5.0",
            "_model_name": "DescriptionStyleModel",
            "_view_count": null,
            "_view_module": "@jupyter-widgets/base",
            "_view_module_version": "1.2.0",
            "_view_name": "StyleView",
            "description_width": ""
          }
        },
        "36c9fe7ad1d7448d8fb8ee2bdab55b32": {
          "model_module": "@jupyter-widgets/controls",
          "model_name": "HBoxModel",
          "model_module_version": "1.5.0",
          "state": {
            "_dom_classes": [],
            "_model_module": "@jupyter-widgets/controls",
            "_model_module_version": "1.5.0",
            "_model_name": "HBoxModel",
            "_view_count": null,
            "_view_module": "@jupyter-widgets/controls",
            "_view_module_version": "1.5.0",
            "_view_name": "HBoxView",
            "box_style": "",
            "children": [
              "IPY_MODEL_c3dceabbe87645a6937363c943d0f684",
              "IPY_MODEL_b49c34fe5eb4481c990ccf3f30ae7dd9",
              "IPY_MODEL_be951333a6674d2889f8ce18448877b3"
            ],
            "layout": "IPY_MODEL_5802bfba6aea44e8becbd8c1bcd863ab"
          }
        },
        "c3dceabbe87645a6937363c943d0f684": {
          "model_module": "@jupyter-widgets/controls",
          "model_name": "HTMLModel",
          "model_module_version": "1.5.0",
          "state": {
            "_dom_classes": [],
            "_model_module": "@jupyter-widgets/controls",
            "_model_module_version": "1.5.0",
            "_model_name": "HTMLModel",
            "_view_count": null,
            "_view_module": "@jupyter-widgets/controls",
            "_view_module_version": "1.5.0",
            "_view_name": "HTMLView",
            "description": "",
            "description_tooltip": null,
            "layout": "IPY_MODEL_ce5b53f3d20246e7828022e0ec555d2b",
            "placeholder": "​",
            "style": "IPY_MODEL_239120fdc9524e72b86d89c2858c4a4f",
            "value": "vocab.json: 100%"
          }
        },
        "b49c34fe5eb4481c990ccf3f30ae7dd9": {
          "model_module": "@jupyter-widgets/controls",
          "model_name": "FloatProgressModel",
          "model_module_version": "1.5.0",
          "state": {
            "_dom_classes": [],
            "_model_module": "@jupyter-widgets/controls",
            "_model_module_version": "1.5.0",
            "_model_name": "FloatProgressModel",
            "_view_count": null,
            "_view_module": "@jupyter-widgets/controls",
            "_view_module_version": "1.5.0",
            "_view_name": "ProgressView",
            "bar_style": "success",
            "description": "",
            "description_tooltip": null,
            "layout": "IPY_MODEL_3bcafa1f5ff44583b8e47b478e06af2b",
            "max": 1042301,
            "min": 0,
            "orientation": "horizontal",
            "style": "IPY_MODEL_a672eb2bf69a477994e4996a24a189bd",
            "value": 1042301
          }
        },
        "be951333a6674d2889f8ce18448877b3": {
          "model_module": "@jupyter-widgets/controls",
          "model_name": "HTMLModel",
          "model_module_version": "1.5.0",
          "state": {
            "_dom_classes": [],
            "_model_module": "@jupyter-widgets/controls",
            "_model_module_version": "1.5.0",
            "_model_name": "HTMLModel",
            "_view_count": null,
            "_view_module": "@jupyter-widgets/controls",
            "_view_module_version": "1.5.0",
            "_view_name": "HTMLView",
            "description": "",
            "description_tooltip": null,
            "layout": "IPY_MODEL_3c0ee1e7247a4d30b1225236cddd0257",
            "placeholder": "​",
            "style": "IPY_MODEL_536e2b3f0f29473193634f291b811147",
            "value": " 1.04M/1.04M [00:00&lt;00:00, 6.33MB/s]"
          }
        },
        "5802bfba6aea44e8becbd8c1bcd863ab": {
          "model_module": "@jupyter-widgets/base",
          "model_name": "LayoutModel",
          "model_module_version": "1.2.0",
          "state": {
            "_model_module": "@jupyter-widgets/base",
            "_model_module_version": "1.2.0",
            "_model_name": "LayoutModel",
            "_view_count": null,
            "_view_module": "@jupyter-widgets/base",
            "_view_module_version": "1.2.0",
            "_view_name": "LayoutView",
            "align_content": null,
            "align_items": null,
            "align_self": null,
            "border": null,
            "bottom": null,
            "display": null,
            "flex": null,
            "flex_flow": null,
            "grid_area": null,
            "grid_auto_columns": null,
            "grid_auto_flow": null,
            "grid_auto_rows": null,
            "grid_column": null,
            "grid_gap": null,
            "grid_row": null,
            "grid_template_areas": null,
            "grid_template_columns": null,
            "grid_template_rows": null,
            "height": null,
            "justify_content": null,
            "justify_items": null,
            "left": null,
            "margin": null,
            "max_height": null,
            "max_width": null,
            "min_height": null,
            "min_width": null,
            "object_fit": null,
            "object_position": null,
            "order": null,
            "overflow": null,
            "overflow_x": null,
            "overflow_y": null,
            "padding": null,
            "right": null,
            "top": null,
            "visibility": null,
            "width": null
          }
        },
        "ce5b53f3d20246e7828022e0ec555d2b": {
          "model_module": "@jupyter-widgets/base",
          "model_name": "LayoutModel",
          "model_module_version": "1.2.0",
          "state": {
            "_model_module": "@jupyter-widgets/base",
            "_model_module_version": "1.2.0",
            "_model_name": "LayoutModel",
            "_view_count": null,
            "_view_module": "@jupyter-widgets/base",
            "_view_module_version": "1.2.0",
            "_view_name": "LayoutView",
            "align_content": null,
            "align_items": null,
            "align_self": null,
            "border": null,
            "bottom": null,
            "display": null,
            "flex": null,
            "flex_flow": null,
            "grid_area": null,
            "grid_auto_columns": null,
            "grid_auto_flow": null,
            "grid_auto_rows": null,
            "grid_column": null,
            "grid_gap": null,
            "grid_row": null,
            "grid_template_areas": null,
            "grid_template_columns": null,
            "grid_template_rows": null,
            "height": null,
            "justify_content": null,
            "justify_items": null,
            "left": null,
            "margin": null,
            "max_height": null,
            "max_width": null,
            "min_height": null,
            "min_width": null,
            "object_fit": null,
            "object_position": null,
            "order": null,
            "overflow": null,
            "overflow_x": null,
            "overflow_y": null,
            "padding": null,
            "right": null,
            "top": null,
            "visibility": null,
            "width": null
          }
        },
        "239120fdc9524e72b86d89c2858c4a4f": {
          "model_module": "@jupyter-widgets/controls",
          "model_name": "DescriptionStyleModel",
          "model_module_version": "1.5.0",
          "state": {
            "_model_module": "@jupyter-widgets/controls",
            "_model_module_version": "1.5.0",
            "_model_name": "DescriptionStyleModel",
            "_view_count": null,
            "_view_module": "@jupyter-widgets/base",
            "_view_module_version": "1.2.0",
            "_view_name": "StyleView",
            "description_width": ""
          }
        },
        "3bcafa1f5ff44583b8e47b478e06af2b": {
          "model_module": "@jupyter-widgets/base",
          "model_name": "LayoutModel",
          "model_module_version": "1.2.0",
          "state": {
            "_model_module": "@jupyter-widgets/base",
            "_model_module_version": "1.2.0",
            "_model_name": "LayoutModel",
            "_view_count": null,
            "_view_module": "@jupyter-widgets/base",
            "_view_module_version": "1.2.0",
            "_view_name": "LayoutView",
            "align_content": null,
            "align_items": null,
            "align_self": null,
            "border": null,
            "bottom": null,
            "display": null,
            "flex": null,
            "flex_flow": null,
            "grid_area": null,
            "grid_auto_columns": null,
            "grid_auto_flow": null,
            "grid_auto_rows": null,
            "grid_column": null,
            "grid_gap": null,
            "grid_row": null,
            "grid_template_areas": null,
            "grid_template_columns": null,
            "grid_template_rows": null,
            "height": null,
            "justify_content": null,
            "justify_items": null,
            "left": null,
            "margin": null,
            "max_height": null,
            "max_width": null,
            "min_height": null,
            "min_width": null,
            "object_fit": null,
            "object_position": null,
            "order": null,
            "overflow": null,
            "overflow_x": null,
            "overflow_y": null,
            "padding": null,
            "right": null,
            "top": null,
            "visibility": null,
            "width": null
          }
        },
        "a672eb2bf69a477994e4996a24a189bd": {
          "model_module": "@jupyter-widgets/controls",
          "model_name": "ProgressStyleModel",
          "model_module_version": "1.5.0",
          "state": {
            "_model_module": "@jupyter-widgets/controls",
            "_model_module_version": "1.5.0",
            "_model_name": "ProgressStyleModel",
            "_view_count": null,
            "_view_module": "@jupyter-widgets/base",
            "_view_module_version": "1.2.0",
            "_view_name": "StyleView",
            "bar_color": null,
            "description_width": ""
          }
        },
        "3c0ee1e7247a4d30b1225236cddd0257": {
          "model_module": "@jupyter-widgets/base",
          "model_name": "LayoutModel",
          "model_module_version": "1.2.0",
          "state": {
            "_model_module": "@jupyter-widgets/base",
            "_model_module_version": "1.2.0",
            "_model_name": "LayoutModel",
            "_view_count": null,
            "_view_module": "@jupyter-widgets/base",
            "_view_module_version": "1.2.0",
            "_view_name": "LayoutView",
            "align_content": null,
            "align_items": null,
            "align_self": null,
            "border": null,
            "bottom": null,
            "display": null,
            "flex": null,
            "flex_flow": null,
            "grid_area": null,
            "grid_auto_columns": null,
            "grid_auto_flow": null,
            "grid_auto_rows": null,
            "grid_column": null,
            "grid_gap": null,
            "grid_row": null,
            "grid_template_areas": null,
            "grid_template_columns": null,
            "grid_template_rows": null,
            "height": null,
            "justify_content": null,
            "justify_items": null,
            "left": null,
            "margin": null,
            "max_height": null,
            "max_width": null,
            "min_height": null,
            "min_width": null,
            "object_fit": null,
            "object_position": null,
            "order": null,
            "overflow": null,
            "overflow_x": null,
            "overflow_y": null,
            "padding": null,
            "right": null,
            "top": null,
            "visibility": null,
            "width": null
          }
        },
        "536e2b3f0f29473193634f291b811147": {
          "model_module": "@jupyter-widgets/controls",
          "model_name": "DescriptionStyleModel",
          "model_module_version": "1.5.0",
          "state": {
            "_model_module": "@jupyter-widgets/controls",
            "_model_module_version": "1.5.0",
            "_model_name": "DescriptionStyleModel",
            "_view_count": null,
            "_view_module": "@jupyter-widgets/base",
            "_view_module_version": "1.2.0",
            "_view_name": "StyleView",
            "description_width": ""
          }
        },
        "927e983b0a5e410e8e20ef6126911763": {
          "model_module": "@jupyter-widgets/controls",
          "model_name": "HBoxModel",
          "model_module_version": "1.5.0",
          "state": {
            "_dom_classes": [],
            "_model_module": "@jupyter-widgets/controls",
            "_model_module_version": "1.5.0",
            "_model_name": "HBoxModel",
            "_view_count": null,
            "_view_module": "@jupyter-widgets/controls",
            "_view_module_version": "1.5.0",
            "_view_name": "HBoxView",
            "box_style": "",
            "children": [
              "IPY_MODEL_4eecab3d50ad4d049df086aa3648025c",
              "IPY_MODEL_36f4c0cdcf014e068ae0dfbede26231d",
              "IPY_MODEL_9e505a4373a140149e8cecb7ec34758a"
            ],
            "layout": "IPY_MODEL_798a68af7abf47e2b2d471b9482aeca8"
          }
        },
        "4eecab3d50ad4d049df086aa3648025c": {
          "model_module": "@jupyter-widgets/controls",
          "model_name": "HTMLModel",
          "model_module_version": "1.5.0",
          "state": {
            "_dom_classes": [],
            "_model_module": "@jupyter-widgets/controls",
            "_model_module_version": "1.5.0",
            "_model_name": "HTMLModel",
            "_view_count": null,
            "_view_module": "@jupyter-widgets/controls",
            "_view_module_version": "1.5.0",
            "_view_name": "HTMLView",
            "description": "",
            "description_tooltip": null,
            "layout": "IPY_MODEL_aa20898123314c4b8a874aa866e05a97",
            "placeholder": "​",
            "style": "IPY_MODEL_595e40c0380240718c8a12607a8278fb",
            "value": "merges.txt: 100%"
          }
        },
        "36f4c0cdcf014e068ae0dfbede26231d": {
          "model_module": "@jupyter-widgets/controls",
          "model_name": "FloatProgressModel",
          "model_module_version": "1.5.0",
          "state": {
            "_dom_classes": [],
            "_model_module": "@jupyter-widgets/controls",
            "_model_module_version": "1.5.0",
            "_model_name": "FloatProgressModel",
            "_view_count": null,
            "_view_module": "@jupyter-widgets/controls",
            "_view_module_version": "1.5.0",
            "_view_name": "ProgressView",
            "bar_style": "success",
            "description": "",
            "description_tooltip": null,
            "layout": "IPY_MODEL_bfb215b77a08423db7c8ad90bbaddfa9",
            "max": 456318,
            "min": 0,
            "orientation": "horizontal",
            "style": "IPY_MODEL_99fce6d675f2444c83b8bccef89792cc",
            "value": 456318
          }
        },
        "9e505a4373a140149e8cecb7ec34758a": {
          "model_module": "@jupyter-widgets/controls",
          "model_name": "HTMLModel",
          "model_module_version": "1.5.0",
          "state": {
            "_dom_classes": [],
            "_model_module": "@jupyter-widgets/controls",
            "_model_module_version": "1.5.0",
            "_model_name": "HTMLModel",
            "_view_count": null,
            "_view_module": "@jupyter-widgets/controls",
            "_view_module_version": "1.5.0",
            "_view_name": "HTMLView",
            "description": "",
            "description_tooltip": null,
            "layout": "IPY_MODEL_1d97a61fa1964f4a9b28cdeb4d1882e8",
            "placeholder": "​",
            "style": "IPY_MODEL_7e0dc61ae9e9485da40f37d767c0b85b",
            "value": " 456k/456k [00:00&lt;00:00, 13.6MB/s]"
          }
        },
        "798a68af7abf47e2b2d471b9482aeca8": {
          "model_module": "@jupyter-widgets/base",
          "model_name": "LayoutModel",
          "model_module_version": "1.2.0",
          "state": {
            "_model_module": "@jupyter-widgets/base",
            "_model_module_version": "1.2.0",
            "_model_name": "LayoutModel",
            "_view_count": null,
            "_view_module": "@jupyter-widgets/base",
            "_view_module_version": "1.2.0",
            "_view_name": "LayoutView",
            "align_content": null,
            "align_items": null,
            "align_self": null,
            "border": null,
            "bottom": null,
            "display": null,
            "flex": null,
            "flex_flow": null,
            "grid_area": null,
            "grid_auto_columns": null,
            "grid_auto_flow": null,
            "grid_auto_rows": null,
            "grid_column": null,
            "grid_gap": null,
            "grid_row": null,
            "grid_template_areas": null,
            "grid_template_columns": null,
            "grid_template_rows": null,
            "height": null,
            "justify_content": null,
            "justify_items": null,
            "left": null,
            "margin": null,
            "max_height": null,
            "max_width": null,
            "min_height": null,
            "min_width": null,
            "object_fit": null,
            "object_position": null,
            "order": null,
            "overflow": null,
            "overflow_x": null,
            "overflow_y": null,
            "padding": null,
            "right": null,
            "top": null,
            "visibility": null,
            "width": null
          }
        },
        "aa20898123314c4b8a874aa866e05a97": {
          "model_module": "@jupyter-widgets/base",
          "model_name": "LayoutModel",
          "model_module_version": "1.2.0",
          "state": {
            "_model_module": "@jupyter-widgets/base",
            "_model_module_version": "1.2.0",
            "_model_name": "LayoutModel",
            "_view_count": null,
            "_view_module": "@jupyter-widgets/base",
            "_view_module_version": "1.2.0",
            "_view_name": "LayoutView",
            "align_content": null,
            "align_items": null,
            "align_self": null,
            "border": null,
            "bottom": null,
            "display": null,
            "flex": null,
            "flex_flow": null,
            "grid_area": null,
            "grid_auto_columns": null,
            "grid_auto_flow": null,
            "grid_auto_rows": null,
            "grid_column": null,
            "grid_gap": null,
            "grid_row": null,
            "grid_template_areas": null,
            "grid_template_columns": null,
            "grid_template_rows": null,
            "height": null,
            "justify_content": null,
            "justify_items": null,
            "left": null,
            "margin": null,
            "max_height": null,
            "max_width": null,
            "min_height": null,
            "min_width": null,
            "object_fit": null,
            "object_position": null,
            "order": null,
            "overflow": null,
            "overflow_x": null,
            "overflow_y": null,
            "padding": null,
            "right": null,
            "top": null,
            "visibility": null,
            "width": null
          }
        },
        "595e40c0380240718c8a12607a8278fb": {
          "model_module": "@jupyter-widgets/controls",
          "model_name": "DescriptionStyleModel",
          "model_module_version": "1.5.0",
          "state": {
            "_model_module": "@jupyter-widgets/controls",
            "_model_module_version": "1.5.0",
            "_model_name": "DescriptionStyleModel",
            "_view_count": null,
            "_view_module": "@jupyter-widgets/base",
            "_view_module_version": "1.2.0",
            "_view_name": "StyleView",
            "description_width": ""
          }
        },
        "bfb215b77a08423db7c8ad90bbaddfa9": {
          "model_module": "@jupyter-widgets/base",
          "model_name": "LayoutModel",
          "model_module_version": "1.2.0",
          "state": {
            "_model_module": "@jupyter-widgets/base",
            "_model_module_version": "1.2.0",
            "_model_name": "LayoutModel",
            "_view_count": null,
            "_view_module": "@jupyter-widgets/base",
            "_view_module_version": "1.2.0",
            "_view_name": "LayoutView",
            "align_content": null,
            "align_items": null,
            "align_self": null,
            "border": null,
            "bottom": null,
            "display": null,
            "flex": null,
            "flex_flow": null,
            "grid_area": null,
            "grid_auto_columns": null,
            "grid_auto_flow": null,
            "grid_auto_rows": null,
            "grid_column": null,
            "grid_gap": null,
            "grid_row": null,
            "grid_template_areas": null,
            "grid_template_columns": null,
            "grid_template_rows": null,
            "height": null,
            "justify_content": null,
            "justify_items": null,
            "left": null,
            "margin": null,
            "max_height": null,
            "max_width": null,
            "min_height": null,
            "min_width": null,
            "object_fit": null,
            "object_position": null,
            "order": null,
            "overflow": null,
            "overflow_x": null,
            "overflow_y": null,
            "padding": null,
            "right": null,
            "top": null,
            "visibility": null,
            "width": null
          }
        },
        "99fce6d675f2444c83b8bccef89792cc": {
          "model_module": "@jupyter-widgets/controls",
          "model_name": "ProgressStyleModel",
          "model_module_version": "1.5.0",
          "state": {
            "_model_module": "@jupyter-widgets/controls",
            "_model_module_version": "1.5.0",
            "_model_name": "ProgressStyleModel",
            "_view_count": null,
            "_view_module": "@jupyter-widgets/base",
            "_view_module_version": "1.2.0",
            "_view_name": "StyleView",
            "bar_color": null,
            "description_width": ""
          }
        },
        "1d97a61fa1964f4a9b28cdeb4d1882e8": {
          "model_module": "@jupyter-widgets/base",
          "model_name": "LayoutModel",
          "model_module_version": "1.2.0",
          "state": {
            "_model_module": "@jupyter-widgets/base",
            "_model_module_version": "1.2.0",
            "_model_name": "LayoutModel",
            "_view_count": null,
            "_view_module": "@jupyter-widgets/base",
            "_view_module_version": "1.2.0",
            "_view_name": "LayoutView",
            "align_content": null,
            "align_items": null,
            "align_self": null,
            "border": null,
            "bottom": null,
            "display": null,
            "flex": null,
            "flex_flow": null,
            "grid_area": null,
            "grid_auto_columns": null,
            "grid_auto_flow": null,
            "grid_auto_rows": null,
            "grid_column": null,
            "grid_gap": null,
            "grid_row": null,
            "grid_template_areas": null,
            "grid_template_columns": null,
            "grid_template_rows": null,
            "height": null,
            "justify_content": null,
            "justify_items": null,
            "left": null,
            "margin": null,
            "max_height": null,
            "max_width": null,
            "min_height": null,
            "min_width": null,
            "object_fit": null,
            "object_position": null,
            "order": null,
            "overflow": null,
            "overflow_x": null,
            "overflow_y": null,
            "padding": null,
            "right": null,
            "top": null,
            "visibility": null,
            "width": null
          }
        },
        "7e0dc61ae9e9485da40f37d767c0b85b": {
          "model_module": "@jupyter-widgets/controls",
          "model_name": "DescriptionStyleModel",
          "model_module_version": "1.5.0",
          "state": {
            "_model_module": "@jupyter-widgets/controls",
            "_model_module_version": "1.5.0",
            "_model_name": "DescriptionStyleModel",
            "_view_count": null,
            "_view_module": "@jupyter-widgets/base",
            "_view_module_version": "1.2.0",
            "_view_name": "StyleView",
            "description_width": ""
          }
        },
        "fe762c160f8d459ea7e537a899ea1c7c": {
          "model_module": "@jupyter-widgets/controls",
          "model_name": "HBoxModel",
          "model_module_version": "1.5.0",
          "state": {
            "_dom_classes": [],
            "_model_module": "@jupyter-widgets/controls",
            "_model_module_version": "1.5.0",
            "_model_name": "HBoxModel",
            "_view_count": null,
            "_view_module": "@jupyter-widgets/controls",
            "_view_module_version": "1.5.0",
            "_view_name": "HBoxView",
            "box_style": "",
            "children": [
              "IPY_MODEL_0c8d7a32474c4cd2a3c36a58959ab94f",
              "IPY_MODEL_d2ea10b90c9a4351a41643d7918eb2ce",
              "IPY_MODEL_5814dcbaa32a4f77818dfbbdfd3795ca"
            ],
            "layout": "IPY_MODEL_2a6e2e99c6bc42cbbe9cd2623ffb400a"
          }
        },
        "0c8d7a32474c4cd2a3c36a58959ab94f": {
          "model_module": "@jupyter-widgets/controls",
          "model_name": "HTMLModel",
          "model_module_version": "1.5.0",
          "state": {
            "_dom_classes": [],
            "_model_module": "@jupyter-widgets/controls",
            "_model_module_version": "1.5.0",
            "_model_name": "HTMLModel",
            "_view_count": null,
            "_view_module": "@jupyter-widgets/controls",
            "_view_module_version": "1.5.0",
            "_view_name": "HTMLView",
            "description": "",
            "description_tooltip": null,
            "layout": "IPY_MODEL_b6c753282cec44c289db73cf3a01fd07",
            "placeholder": "​",
            "style": "IPY_MODEL_9ef32763a7504c2d87e92f231b0d6092",
            "value": "tokenizer.json: 100%"
          }
        },
        "d2ea10b90c9a4351a41643d7918eb2ce": {
          "model_module": "@jupyter-widgets/controls",
          "model_name": "FloatProgressModel",
          "model_module_version": "1.5.0",
          "state": {
            "_dom_classes": [],
            "_model_module": "@jupyter-widgets/controls",
            "_model_module_version": "1.5.0",
            "_model_name": "FloatProgressModel",
            "_view_count": null,
            "_view_module": "@jupyter-widgets/controls",
            "_view_module_version": "1.5.0",
            "_view_name": "ProgressView",
            "bar_style": "success",
            "description": "",
            "description_tooltip": null,
            "layout": "IPY_MODEL_b2956a95450e4eb59b8b846653fabd7a",
            "max": 1355256,
            "min": 0,
            "orientation": "horizontal",
            "style": "IPY_MODEL_dcb1fb171a6741a798d87a4ca4afaf9e",
            "value": 1355256
          }
        },
        "5814dcbaa32a4f77818dfbbdfd3795ca": {
          "model_module": "@jupyter-widgets/controls",
          "model_name": "HTMLModel",
          "model_module_version": "1.5.0",
          "state": {
            "_dom_classes": [],
            "_model_module": "@jupyter-widgets/controls",
            "_model_module_version": "1.5.0",
            "_model_name": "HTMLModel",
            "_view_count": null,
            "_view_module": "@jupyter-widgets/controls",
            "_view_module_version": "1.5.0",
            "_view_name": "HTMLView",
            "description": "",
            "description_tooltip": null,
            "layout": "IPY_MODEL_4fc862f5f41a47b0a75672f5b5fe1b49",
            "placeholder": "​",
            "style": "IPY_MODEL_6cece1acd63b4e7480a6bca061f8798c",
            "value": " 1.36M/1.36M [00:00&lt;00:00, 14.1MB/s]"
          }
        },
        "2a6e2e99c6bc42cbbe9cd2623ffb400a": {
          "model_module": "@jupyter-widgets/base",
          "model_name": "LayoutModel",
          "model_module_version": "1.2.0",
          "state": {
            "_model_module": "@jupyter-widgets/base",
            "_model_module_version": "1.2.0",
            "_model_name": "LayoutModel",
            "_view_count": null,
            "_view_module": "@jupyter-widgets/base",
            "_view_module_version": "1.2.0",
            "_view_name": "LayoutView",
            "align_content": null,
            "align_items": null,
            "align_self": null,
            "border": null,
            "bottom": null,
            "display": null,
            "flex": null,
            "flex_flow": null,
            "grid_area": null,
            "grid_auto_columns": null,
            "grid_auto_flow": null,
            "grid_auto_rows": null,
            "grid_column": null,
            "grid_gap": null,
            "grid_row": null,
            "grid_template_areas": null,
            "grid_template_columns": null,
            "grid_template_rows": null,
            "height": null,
            "justify_content": null,
            "justify_items": null,
            "left": null,
            "margin": null,
            "max_height": null,
            "max_width": null,
            "min_height": null,
            "min_width": null,
            "object_fit": null,
            "object_position": null,
            "order": null,
            "overflow": null,
            "overflow_x": null,
            "overflow_y": null,
            "padding": null,
            "right": null,
            "top": null,
            "visibility": null,
            "width": null
          }
        },
        "b6c753282cec44c289db73cf3a01fd07": {
          "model_module": "@jupyter-widgets/base",
          "model_name": "LayoutModel",
          "model_module_version": "1.2.0",
          "state": {
            "_model_module": "@jupyter-widgets/base",
            "_model_module_version": "1.2.0",
            "_model_name": "LayoutModel",
            "_view_count": null,
            "_view_module": "@jupyter-widgets/base",
            "_view_module_version": "1.2.0",
            "_view_name": "LayoutView",
            "align_content": null,
            "align_items": null,
            "align_self": null,
            "border": null,
            "bottom": null,
            "display": null,
            "flex": null,
            "flex_flow": null,
            "grid_area": null,
            "grid_auto_columns": null,
            "grid_auto_flow": null,
            "grid_auto_rows": null,
            "grid_column": null,
            "grid_gap": null,
            "grid_row": null,
            "grid_template_areas": null,
            "grid_template_columns": null,
            "grid_template_rows": null,
            "height": null,
            "justify_content": null,
            "justify_items": null,
            "left": null,
            "margin": null,
            "max_height": null,
            "max_width": null,
            "min_height": null,
            "min_width": null,
            "object_fit": null,
            "object_position": null,
            "order": null,
            "overflow": null,
            "overflow_x": null,
            "overflow_y": null,
            "padding": null,
            "right": null,
            "top": null,
            "visibility": null,
            "width": null
          }
        },
        "9ef32763a7504c2d87e92f231b0d6092": {
          "model_module": "@jupyter-widgets/controls",
          "model_name": "DescriptionStyleModel",
          "model_module_version": "1.5.0",
          "state": {
            "_model_module": "@jupyter-widgets/controls",
            "_model_module_version": "1.5.0",
            "_model_name": "DescriptionStyleModel",
            "_view_count": null,
            "_view_module": "@jupyter-widgets/base",
            "_view_module_version": "1.2.0",
            "_view_name": "StyleView",
            "description_width": ""
          }
        },
        "b2956a95450e4eb59b8b846653fabd7a": {
          "model_module": "@jupyter-widgets/base",
          "model_name": "LayoutModel",
          "model_module_version": "1.2.0",
          "state": {
            "_model_module": "@jupyter-widgets/base",
            "_model_module_version": "1.2.0",
            "_model_name": "LayoutModel",
            "_view_count": null,
            "_view_module": "@jupyter-widgets/base",
            "_view_module_version": "1.2.0",
            "_view_name": "LayoutView",
            "align_content": null,
            "align_items": null,
            "align_self": null,
            "border": null,
            "bottom": null,
            "display": null,
            "flex": null,
            "flex_flow": null,
            "grid_area": null,
            "grid_auto_columns": null,
            "grid_auto_flow": null,
            "grid_auto_rows": null,
            "grid_column": null,
            "grid_gap": null,
            "grid_row": null,
            "grid_template_areas": null,
            "grid_template_columns": null,
            "grid_template_rows": null,
            "height": null,
            "justify_content": null,
            "justify_items": null,
            "left": null,
            "margin": null,
            "max_height": null,
            "max_width": null,
            "min_height": null,
            "min_width": null,
            "object_fit": null,
            "object_position": null,
            "order": null,
            "overflow": null,
            "overflow_x": null,
            "overflow_y": null,
            "padding": null,
            "right": null,
            "top": null,
            "visibility": null,
            "width": null
          }
        },
        "dcb1fb171a6741a798d87a4ca4afaf9e": {
          "model_module": "@jupyter-widgets/controls",
          "model_name": "ProgressStyleModel",
          "model_module_version": "1.5.0",
          "state": {
            "_model_module": "@jupyter-widgets/controls",
            "_model_module_version": "1.5.0",
            "_model_name": "ProgressStyleModel",
            "_view_count": null,
            "_view_module": "@jupyter-widgets/base",
            "_view_module_version": "1.2.0",
            "_view_name": "StyleView",
            "bar_color": null,
            "description_width": ""
          }
        },
        "4fc862f5f41a47b0a75672f5b5fe1b49": {
          "model_module": "@jupyter-widgets/base",
          "model_name": "LayoutModel",
          "model_module_version": "1.2.0",
          "state": {
            "_model_module": "@jupyter-widgets/base",
            "_model_module_version": "1.2.0",
            "_model_name": "LayoutModel",
            "_view_count": null,
            "_view_module": "@jupyter-widgets/base",
            "_view_module_version": "1.2.0",
            "_view_name": "LayoutView",
            "align_content": null,
            "align_items": null,
            "align_self": null,
            "border": null,
            "bottom": null,
            "display": null,
            "flex": null,
            "flex_flow": null,
            "grid_area": null,
            "grid_auto_columns": null,
            "grid_auto_flow": null,
            "grid_auto_rows": null,
            "grid_column": null,
            "grid_gap": null,
            "grid_row": null,
            "grid_template_areas": null,
            "grid_template_columns": null,
            "grid_template_rows": null,
            "height": null,
            "justify_content": null,
            "justify_items": null,
            "left": null,
            "margin": null,
            "max_height": null,
            "max_width": null,
            "min_height": null,
            "min_width": null,
            "object_fit": null,
            "object_position": null,
            "order": null,
            "overflow": null,
            "overflow_x": null,
            "overflow_y": null,
            "padding": null,
            "right": null,
            "top": null,
            "visibility": null,
            "width": null
          }
        },
        "6cece1acd63b4e7480a6bca061f8798c": {
          "model_module": "@jupyter-widgets/controls",
          "model_name": "DescriptionStyleModel",
          "model_module_version": "1.5.0",
          "state": {
            "_model_module": "@jupyter-widgets/controls",
            "_model_module_version": "1.5.0",
            "_model_name": "DescriptionStyleModel",
            "_view_count": null,
            "_view_module": "@jupyter-widgets/base",
            "_view_module_version": "1.2.0",
            "_view_name": "StyleView",
            "description_width": ""
          }
        }
      }
    }
  },
  "cells": [
    {
      "cell_type": "markdown",
      "metadata": {
        "id": "view-in-github",
        "colab_type": "text"
      },
      "source": [
        "<a href=\"https://colab.research.google.com/github/Gautam0507/MAT496-Introduction-to-LLMs/blob/main/Chapter-2/Working_with_text_data.ipynb\" target=\"_parent\"><img src=\"https://colab.research.google.com/assets/colab-badge.svg\" alt=\"Open In Colab\"/></a>"
      ]
    },
    {
      "cell_type": "markdown",
      "source": [
        "# What is there in this notebook\n"
      ],
      "metadata": {
        "id": "uS3xkaV6STRU"
      }
    },
    {
      "cell_type": "markdown",
      "source": [
        "Preparing Data for LLM Training\n",
        "- Getting the datset\n",
        "- Splitting it into tokens\n",
        "- Encoding the words into vector representations\n",
        "- Data Loading preparation to turn it into labelled data"
      ],
      "metadata": {
        "id": "EX2tq9rtQEYs"
      }
    },
    {
      "cell_type": "markdown",
      "source": [
        "# 2.1 Unserstanding word Embeddings\n"
      ],
      "metadata": {
        "id": "-tDoMDAFTZ4j"
      }
    },
    {
      "cell_type": "markdown",
      "source": [
        "The concept of converting data into vector format is called *embedding*. Embedding is a mapping from discrete objects (files, audio, words) to points in a continuous vector space.\n",
        "\n",
        "One of the most popular word encoding algorithm is called *Word2Vec*.\n",
        "\n",
        "LLM's generally produce their own embeddings instead of using a pretrained model like Word2Vec. They usually produce thier own embeddings that are part of the input layer and are updated during training. This allows them to optimize the word embeddings to the specific task.\n",
        "\n",
        "*embedding size* - the number of dimensions of the vectors that are used for embedding words"
      ],
      "metadata": {
        "id": "mHUs68YPQIC7"
      }
    },
    {
      "cell_type": "markdown",
      "source": [
        "# 2.2 Tokenizing Text\n",
        "\n"
      ],
      "metadata": {
        "id": "czLHnpDkayqN"
      }
    },
    {
      "cell_type": "markdown",
      "source": [
        "We split the input text of the training data into individual tokens. The tokens are either individual words, special charachters, including punctuation charachters"
      ],
      "metadata": {
        "id": "WvBNqNuMQLZ-"
      }
    },
    {
      "cell_type": "markdown",
      "source": [
        "## Downloading and Loading in data"
      ],
      "metadata": {
        "id": "DtuXM2yLbWVF"
      }
    },
    {
      "cell_type": "code",
      "source": [
        "import urllib.request\n",
        "url = (\"https://raw.githubusercontent.com/rasbt/\"\n",
        "      \"LLMs-from-scratch/main/ch02/01_main-chapter-code/\"\n",
        "      \"the-verdict.txt\")\n",
        "file_path = \"verdict.txt\"\n",
        "urllib.request.urlretrieve(url, file_path)"
      ],
      "metadata": {
        "colab": {
          "base_uri": "https://localhost:8080/"
        },
        "id": "zs9KgPz0bMoe",
        "outputId": "bb0b48e5-321f-4715-a7ca-6bcc5e3d9244"
      },
      "execution_count": null,
      "outputs": [
        {
          "output_type": "execute_result",
          "data": {
            "text/plain": [
              "('verdict.txt', <http.client.HTTPMessage at 0x785c4c7ffd50>)"
            ]
          },
          "metadata": {},
          "execution_count": 1
        }
      ]
    },
    {
      "cell_type": "code",
      "source": [
        "with open(\"verdict.txt\", \"r\", encoding=\"utf-8\") as f:\n",
        "    raw_text = f.read()\n",
        "print(\"Total number of charachters: \", len(raw_text))\n",
        "print(raw_text[:100])\n"
      ],
      "metadata": {
        "colab": {
          "base_uri": "https://localhost:8080/"
        },
        "id": "rkV138Ztb3zp",
        "outputId": "8edef5e8-9b15-4ca1-e8d6-4b69f9486f7e"
      },
      "execution_count": null,
      "outputs": [
        {
          "output_type": "stream",
          "name": "stdout",
          "text": [
            "Total number of charachters:  20479\n",
            "I HAD always thought Jack Gisburn rather a cheap genius--though a good fellow enough--so it was no g\n"
          ]
        }
      ]
    },
    {
      "cell_type": "markdown",
      "source": [
        "## Splitting the words into tokens\n",
        "\n",
        "We use the regex to split the words and punctuation"
      ],
      "metadata": {
        "id": "zFTLRU2Bbei4"
      }
    },
    {
      "cell_type": "code",
      "source": [
        "import re\n",
        "preprocessed = re.split(r'([,.:;?_!\"()\\']|--|\\s)', raw_text)\n",
        "preprocessed = [item.strip() for item in preprocessed if item.strip()]\n",
        "print(\"The number of tokens (not necessarily distinct) presesnt in the text: \", len(preprocessed))"
      ],
      "metadata": {
        "colab": {
          "base_uri": "https://localhost:8080/"
        },
        "id": "rx7iFSRLcfCE",
        "outputId": "02b39cbb-1e58-4f24-def0-bf96820cd0db"
      },
      "execution_count": null,
      "outputs": [
        {
          "output_type": "stream",
          "name": "stdout",
          "text": [
            "The number of tokens (not necessarily distinct) presesnt in the text:  4690\n"
          ]
        }
      ]
    },
    {
      "cell_type": "code",
      "source": [
        "print(\"A few of the tokens\")\n",
        "print(preprocessed[:30])"
      ],
      "metadata": {
        "colab": {
          "base_uri": "https://localhost:8080/"
        },
        "id": "qcpsMq7ac4SB",
        "outputId": "4ede1e9a-c238-4602-9105-fe02cd085afd"
      },
      "execution_count": null,
      "outputs": [
        {
          "output_type": "stream",
          "name": "stdout",
          "text": [
            "A few of the tokens\n",
            "['I', 'HAD', 'always', 'thought', 'Jack', 'Gisburn', 'rather', 'a', 'cheap', 'genius', '--', 'though', 'a', 'good', 'fellow', 'enough', '--', 'so', 'it', 'was', 'no', 'great', 'surprise', 'to', 'me', 'to', 'hear', 'that', ',', 'in']\n"
          ]
        }
      ]
    },
    {
      "cell_type": "markdown",
      "source": [
        "# 2.3 Converting tokens into token IDs\n"
      ],
      "metadata": {
        "id": "iltXSfvfdpUX"
      }
    },
    {
      "cell_type": "markdown",
      "source": [
        "We convert the tokens from words to integer representations."
      ],
      "metadata": {
        "id": "gJ5vwvsgP7x6"
      }
    },
    {
      "cell_type": "code",
      "source": [
        "# Determining the vocab size\n",
        "all_words = sorted(set(preprocessed))\n",
        "vocab_size = len(all_words)\n",
        "print(\"The size of the vocabulary (distinct tokens): \", vocab_size)"
      ],
      "metadata": {
        "colab": {
          "base_uri": "https://localhost:8080/"
        },
        "id": "0AVwrh6vdeH9",
        "outputId": "397cc414-3a20-439d-bc0c-bf82841ea62f"
      },
      "execution_count": null,
      "outputs": [
        {
          "output_type": "stream",
          "name": "stdout",
          "text": [
            "The size of the vocabulary (distinct tokens):  1130\n"
          ]
        }
      ]
    },
    {
      "cell_type": "markdown",
      "source": [
        "The vocab is stored as key-value pair dictionary of (word, int token id)"
      ],
      "metadata": {
        "id": "G3SaYUh_fJ6h"
      }
    },
    {
      "cell_type": "code",
      "source": [
        "vocab = {token:integer for integer, token in enumerate(all_words)}\n",
        "for i, item in enumerate(vocab.items()):\n",
        "  print(item)\n",
        "  if i >= 20:\n",
        "    break"
      ],
      "metadata": {
        "colab": {
          "base_uri": "https://localhost:8080/"
        },
        "id": "GzAEBPQ8ebTD",
        "outputId": "8f454283-29cd-4bdd-8fb0-8c7aaa3656d5"
      },
      "execution_count": null,
      "outputs": [
        {
          "output_type": "stream",
          "name": "stdout",
          "text": [
            "('!', 0)\n",
            "('\"', 1)\n",
            "(\"'\", 2)\n",
            "('(', 3)\n",
            "(')', 4)\n",
            "(',', 5)\n",
            "('--', 6)\n",
            "('.', 7)\n",
            "(':', 8)\n",
            "(';', 9)\n",
            "('?', 10)\n",
            "('A', 11)\n",
            "('Ah', 12)\n",
            "('Among', 13)\n",
            "('And', 14)\n",
            "('Are', 15)\n",
            "('Arrt', 16)\n",
            "('As', 17)\n",
            "('At', 18)\n",
            "('Be', 19)\n",
            "('Begin', 20)\n"
          ]
        }
      ]
    },
    {
      "cell_type": "markdown",
      "source": [
        "## Basic tokenizer class implementation"
      ],
      "metadata": {
        "id": "CUWOjAwVfp7O"
      }
    },
    {
      "cell_type": "code",
      "source": [
        "class SimpleTokenizerV1:\n",
        "  def __init__(self, vocab):\n",
        "    self.str_to_int = vocab\n",
        "    self.int_to_str = {i:s for s, i in vocab.items()}\n",
        "\n",
        "  # Processes input text into token IDs\n",
        "  def encode(self, text):\n",
        "    preprocessed = re.split(r'([,.?_!\"()\\']|--|\\s)', text)\n",
        "    preprocessed = [item.strip() for item in preprocessed if item.strip()]\n",
        "    return [self.str_to_int[token] for token in preprocessed]\n",
        "\n",
        "  # Converts token IDs back into text\n",
        "  def decode(self, ids):\n",
        "    text = \" \".join([self.int_to_str[id] for id in ids])\n",
        "    text = re.sub(r'\\s+([,.?!\"()\\'])', r'\\1', text)\n",
        "    return text"
      ],
      "metadata": {
        "id": "f5w7EXYxe_kE"
      },
      "execution_count": null,
      "outputs": []
    },
    {
      "cell_type": "markdown",
      "source": [
        "tokenizing some text"
      ],
      "metadata": {
        "id": "9pROcAnpheua"
      }
    },
    {
      "cell_type": "code",
      "source": [
        "tokenizer = SimpleTokenizerV1(vocab)\n",
        "text = \"\"\"\"It's the last he painted, you know,\"\n",
        "Mrs. Gisburn said with pardonable pride.\"\"\"\n",
        "ids = tokenizer.encode(text)\n",
        "print(ids)"
      ],
      "metadata": {
        "colab": {
          "base_uri": "https://localhost:8080/"
        },
        "id": "Jto-uQvtgm08",
        "outputId": "0085fa4a-e573-410c-8eaa-2c84b037e21f"
      },
      "execution_count": null,
      "outputs": [
        {
          "output_type": "stream",
          "name": "stdout",
          "text": [
            "[1, 56, 2, 850, 988, 602, 533, 746, 5, 1126, 596, 5, 1, 67, 7, 38, 851, 1108, 754, 793, 7]\n"
          ]
        }
      ]
    },
    {
      "cell_type": "markdown",
      "source": [],
      "metadata": {
        "id": "8EQlwtcfh_u9"
      }
    },
    {
      "cell_type": "markdown",
      "source": [
        "converting it back into text. Notice the change in It's to It' s in the output of decoder from the input  "
      ],
      "metadata": {
        "id": "QqRiHgY-hgrA"
      }
    },
    {
      "cell_type": "code",
      "source": [
        "print(tokenizer.decode(ids))"
      ],
      "metadata": {
        "colab": {
          "base_uri": "https://localhost:8080/"
        },
        "id": "bmSnUBs6hJl1",
        "outputId": "ee19f2a7-2fbc-4350-b7fc-b3977fd99631"
      },
      "execution_count": null,
      "outputs": [
        {
          "output_type": "stream",
          "name": "stdout",
          "text": [
            "\" It' s the last he painted, you know,\" Mrs. Gisburn said with pardonable pride.\n"
          ]
        }
      ]
    },
    {
      "cell_type": "markdown",
      "source": [
        "# 2.4 Adding special context tokens\n",
        "\n",
        "\n"
      ],
      "metadata": {
        "id": "jRiGU4Hph1LO"
      }
    },
    {
      "cell_type": "markdown",
      "source": [
        "The above tokenizer only encodes words it has seen before in the training data\n",
        "\n",
        "We are adding 2 new tokens to encode this problem\n",
        "- `<|unk|>` - unknown\n",
        "- `<|endoftext|>` - end of the file / text (encodes that the context of one input is done and the next set of text is from another source)\n",
        "\n",
        "There are other speical tokens that are used depending on the context of the model being trained.\n",
        "- `[BOS]` - beginning of sequence (sequence context management)\n",
        "- `[EOS]` - end of sequence (very similar to `<|endoftext|>`)\n",
        "-  `[PAD]` - When using batch training. To ensure all texts have the same length.\n",
        "\n",
        "The GPT tokenizers only use `<|endoftext|>` for encoding and no other special tokens"
      ],
      "metadata": {
        "id": "U8fzSdTMAks1"
      }
    },
    {
      "cell_type": "code",
      "source": [
        "all_tokens = sorted(list(set(preprocessed)))\n",
        "all_tokens.extend([\"<|unk|>\", \"<|endoftext|>\"])\n",
        "vocab = {token:integer for integer, token in enumerate(all_tokens)}\n",
        "print(\"The new vocab size including special tokens:\", len(vocab.items()))"
      ],
      "metadata": {
        "colab": {
          "base_uri": "https://localhost:8080/"
        },
        "id": "dvJUUCyohmLS",
        "outputId": "dcb57a36-db0a-4633-91ec-d4eae5bbcc82"
      },
      "execution_count": null,
      "outputs": [
        {
          "output_type": "stream",
          "name": "stdout",
          "text": [
            "The new vocab size including special tokens: 1132\n"
          ]
        }
      ]
    },
    {
      "cell_type": "code",
      "source": [
        "for i, item in enumerate(list(vocab.items())[-5:]):\n",
        "  print(item)"
      ],
      "metadata": {
        "colab": {
          "base_uri": "https://localhost:8080/"
        },
        "id": "lT9bRQMpivKF",
        "outputId": "87b0978d-8eba-48ba-8d2a-6116dd68bfe7"
      },
      "execution_count": null,
      "outputs": [
        {
          "output_type": "stream",
          "name": "stdout",
          "text": [
            "('younger', 1127)\n",
            "('your', 1128)\n",
            "('yourself', 1129)\n",
            "('<|unk|>', 1130)\n",
            "('<|endoftext|>', 1131)\n"
          ]
        }
      ]
    },
    {
      "cell_type": "markdown",
      "source": [
        "## Changing the above class to work with the new tokens"
      ],
      "metadata": {
        "id": "3jnHa1GyjJvu"
      }
    },
    {
      "cell_type": "code",
      "source": [
        "class SimpleTokenizerV1:\n",
        "  def __init__(self, vocab):\n",
        "    self.str_to_int = vocab\n",
        "    self.int_to_str = {i:s for s, i in vocab.items()}\n",
        "\n",
        "  # Processes input text into token IDs\n",
        "  def encode(self, text):\n",
        "    preprocessed = re.split(r'([,.?_!\"()\\']|--|\\s)', text)\n",
        "    preprocessed = [item.strip() for item in preprocessed if item.strip()]\n",
        "    preprocessed = [item if item in self.str_to_int else \"<|unk|>\" for item in preprocessed]\n",
        "    ids =  [self.str_to_int[s] for s in preprocessed]\n",
        "    return ids\n",
        "\n",
        "  # Converts token IDs back into text\n",
        "  def decode(self, ids):\n",
        "    text = \" \".join([self.int_to_str[id] for id in ids])\n",
        "    text = re.sub(r'\\s+([,.?!\"()\\'])', r'\\1', text)\n",
        "    return text"
      ],
      "metadata": {
        "id": "X0PHUhERi-uP"
      },
      "execution_count": null,
      "outputs": []
    },
    {
      "cell_type": "code",
      "source": [
        "text1 = \"Hello, do you like tea?\"\n",
        "text2 = \"In the sunlit terraces of the palace.\"\n",
        "text = \" <|endoftext|> \".join((text1, text2))\n",
        "print(text)"
      ],
      "metadata": {
        "colab": {
          "base_uri": "https://localhost:8080/"
        },
        "id": "SOd2MvMsjVVN",
        "outputId": "8a50110d-7f32-4d7c-ac00-081092a1dc10"
      },
      "execution_count": null,
      "outputs": [
        {
          "output_type": "stream",
          "name": "stdout",
          "text": [
            "Hello, do you like tea? <|endoftext|> In the sunlit terraces of the palace.\n"
          ]
        }
      ]
    },
    {
      "cell_type": "markdown",
      "source": [
        "tokenizing the above text using the new tokenizer"
      ],
      "metadata": {
        "id": "yitfJTwRj3oC"
      }
    },
    {
      "cell_type": "code",
      "source": [
        "tokenizer = SimpleTokenizerV1(vocab)\n",
        "id = tokenizer.encode(text)\n",
        "print(id)"
      ],
      "metadata": {
        "colab": {
          "base_uri": "https://localhost:8080/"
        },
        "id": "sru--LHVjx4t",
        "outputId": "3f8ffcea-31d2-45bf-aa66-ec6194e90a32"
      },
      "execution_count": null,
      "outputs": [
        {
          "output_type": "stream",
          "name": "stdout",
          "text": [
            "[1130, 5, 355, 1126, 628, 975, 10, 1131, 55, 988, 956, 984, 722, 988, 1130, 7]\n"
          ]
        }
      ]
    },
    {
      "cell_type": "code",
      "source": [
        "print(tokenizer.decode(id))"
      ],
      "metadata": {
        "colab": {
          "base_uri": "https://localhost:8080/"
        },
        "id": "_XUmqafIj_-B",
        "outputId": "c89eca8a-b1ea-4d65-eee4-cba86cda5be2"
      },
      "execution_count": null,
      "outputs": [
        {
          "output_type": "stream",
          "name": "stdout",
          "text": [
            "<|unk|>, do you like tea? <|endoftext|> In the sunlit terraces of the <|unk|>.\n"
          ]
        }
      ]
    },
    {
      "cell_type": "markdown",
      "source": [],
      "metadata": {
        "id": "x4ByXTk4Aijn"
      }
    },
    {
      "cell_type": "markdown",
      "source": [
        "# 2.5 Byte Pair Encoding\n"
      ],
      "metadata": {
        "id": "ZBCVtd0HlbGT"
      }
    },
    {
      "cell_type": "markdown",
      "source": [
        "GPT models use this kind of encoding\n",
        "\n",
        "The model above can use `<|endoftext|>` token and can encode and decode unknown words correctly."
      ],
      "metadata": {
        "id": "mTQQjQd8QSOD"
      }
    },
    {
      "cell_type": "code",
      "source": [
        "!pip install tiktoken"
      ],
      "metadata": {
        "colab": {
          "base_uri": "https://localhost:8080/"
        },
        "id": "eP4yGZL4kNdA",
        "outputId": "c9b44c39-d3cd-48e6-9490-fa7ad2e83e9c"
      },
      "execution_count": null,
      "outputs": [
        {
          "output_type": "stream",
          "name": "stdout",
          "text": [
            "Collecting tiktoken\n",
            "  Downloading tiktoken-0.8.0-cp311-cp311-manylinux_2_17_x86_64.manylinux2014_x86_64.whl.metadata (6.6 kB)\n",
            "Requirement already satisfied: regex>=2022.1.18 in /usr/local/lib/python3.11/dist-packages (from tiktoken) (2024.11.6)\n",
            "Requirement already satisfied: requests>=2.26.0 in /usr/local/lib/python3.11/dist-packages (from tiktoken) (2.32.3)\n",
            "Requirement already satisfied: charset-normalizer<4,>=2 in /usr/local/lib/python3.11/dist-packages (from requests>=2.26.0->tiktoken) (3.4.1)\n",
            "Requirement already satisfied: idna<4,>=2.5 in /usr/local/lib/python3.11/dist-packages (from requests>=2.26.0->tiktoken) (3.10)\n",
            "Requirement already satisfied: urllib3<3,>=1.21.1 in /usr/local/lib/python3.11/dist-packages (from requests>=2.26.0->tiktoken) (2.3.0)\n",
            "Requirement already satisfied: certifi>=2017.4.17 in /usr/local/lib/python3.11/dist-packages (from requests>=2.26.0->tiktoken) (2024.12.14)\n",
            "Downloading tiktoken-0.8.0-cp311-cp311-manylinux_2_17_x86_64.manylinux2014_x86_64.whl (1.2 MB)\n",
            "\u001b[2K   \u001b[90m━━━━━━━━━━━━━━━━━━━━━━━━━━━━━━━━━━━━━━━━\u001b[0m \u001b[32m1.2/1.2 MB\u001b[0m \u001b[31m9.7 MB/s\u001b[0m eta \u001b[36m0:00:00\u001b[0m\n",
            "\u001b[?25hInstalling collected packages: tiktoken\n",
            "Successfully installed tiktoken-0.8.0\n"
          ]
        }
      ]
    },
    {
      "cell_type": "code",
      "source": [
        "import tiktoken\n",
        "tokenizer = tiktoken.get_encoding(\"gpt2\")"
      ],
      "metadata": {
        "id": "y9BlfnIAllt1"
      },
      "execution_count": null,
      "outputs": []
    },
    {
      "cell_type": "markdown",
      "source": [
        "encoding text"
      ],
      "metadata": {
        "id": "aSBoa1QNmWP2"
      }
    },
    {
      "cell_type": "code",
      "source": [
        "text = (\"Hello, do you like tea? <|endoftext|> In the sunlit terraces\"\n",
        "        \"of someunknownPlace.\")\n",
        "integers = tokenizer.encode(text, allowed_special={\"<|endoftext|>\"})\n",
        "print(integers)"
      ],
      "metadata": {
        "colab": {
          "base_uri": "https://localhost:8080/"
        },
        "id": "O5Gje8gUmG9k",
        "outputId": "2961b220-e0ed-4765-e000-62616a99240b"
      },
      "execution_count": null,
      "outputs": [
        {
          "output_type": "stream",
          "name": "stdout",
          "text": [
            "[15496, 11, 466, 345, 588, 8887, 30, 220, 50256, 554, 262, 4252, 18250, 8812, 2114, 1659, 617, 34680, 27271, 13]\n"
          ]
        }
      ]
    },
    {
      "cell_type": "markdown",
      "source": [
        "decoding text"
      ],
      "metadata": {
        "id": "hpp5FwL4mXyY"
      }
    },
    {
      "cell_type": "code",
      "source": [
        "strings = tokenizer.decode(integers)\n",
        "print(strings)"
      ],
      "metadata": {
        "colab": {
          "base_uri": "https://localhost:8080/"
        },
        "id": "edupfXJ5mS-D",
        "outputId": "91125542-a755-4fcc-bc63-1edea471c34e"
      },
      "execution_count": null,
      "outputs": [
        {
          "output_type": "stream",
          "name": "stdout",
          "text": [
            "Hello, do you like tea? <|endoftext|> In the sunlit terracesof someunknownPlace.\n"
          ]
        }
      ]
    },
    {
      "cell_type": "markdown",
      "source": [
        "The alorithm breaks down words it does not know into subword tokens or even charachter tokens to represent the word.\n",
        "\n",
        "As we can see below there are only 2 words in the input but the output is composed of 6 tokens (subword tokens).\n",
        "![{F4880A71-F39F-4157-875B-DF39134978F9}.png](data:image/png;base64,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)"
      ],
      "metadata": {
        "id": "Uh6WJy1-_QxA"
      }
    },
    {
      "cell_type": "code",
      "source": [
        "tokens = tokenizer.encode(\"Akwirw ier\")\n",
        "print(tokens)"
      ],
      "metadata": {
        "colab": {
          "base_uri": "https://localhost:8080/"
        },
        "id": "7kg_jeuI_QY3",
        "outputId": "c41877e5-27dc-4374-c256-df97e537d682"
      },
      "execution_count": null,
      "outputs": [
        {
          "output_type": "stream",
          "name": "stdout",
          "text": [
            "[33901, 86, 343, 86, 220, 959]\n"
          ]
        }
      ]
    },
    {
      "cell_type": "code",
      "source": [
        "print(tokenizer.decode(tokens))"
      ],
      "metadata": {
        "colab": {
          "base_uri": "https://localhost:8080/"
        },
        "id": "Kn5ErRphAG8S",
        "outputId": "3bb2c180-99b1-45fa-ea79-e37452fee30b"
      },
      "execution_count": null,
      "outputs": [
        {
          "output_type": "stream",
          "name": "stdout",
          "text": [
            "Akwirw ier\n"
          ]
        }
      ]
    },
    {
      "cell_type": "markdown",
      "source": [
        "# 2.6 Data Sampling with a sliding window"
      ],
      "metadata": {
        "id": "uSiQjNLsnWIM"
      }
    },
    {
      "cell_type": "markdown",
      "source": [
        "\n",
        "\n",
        "Create the dataset using input output pairs for training"
      ],
      "metadata": {
        "id": "g7QZxb-XQYZ8"
      }
    },
    {
      "cell_type": "markdown",
      "source": [
        "![{A199559C-5237-4C36-8E93-C3363CB49DA3}.png](data:image/png;base64,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)"
      ],
      "metadata": {
        "id": "TUjwIGsNPm4Q"
      }
    },
    {
      "cell_type": "code",
      "source": [
        "with open(\"verdict.txt\", \"r\", encoding=\"utf-8\") as f:\n",
        "    raw_text = f.read()\n",
        "enc_text = tokenizer.encode(raw_text)\n",
        "print(\"Total number of tokens in the training set:\", len(enc_text))"
      ],
      "metadata": {
        "colab": {
          "base_uri": "https://localhost:8080/"
        },
        "id": "rJvCFmoHn3ir",
        "outputId": "bd4e266e-c5e8-4377-99ad-2ae5a9bf503e"
      },
      "execution_count": null,
      "outputs": [
        {
          "output_type": "stream",
          "name": "stdout",
          "text": [
            "Total number of tokens in the training set: 5145\n"
          ]
        }
      ]
    },
    {
      "cell_type": "code",
      "source": [
        "enc_sample = enc_text[50:]"
      ],
      "metadata": {
        "id": "KoF2J6VkoVxf"
      },
      "execution_count": null,
      "outputs": []
    },
    {
      "cell_type": "markdown",
      "source": [
        "Shifting the words by 1 gives us the input output pairs as data"
      ],
      "metadata": {
        "id": "_ku2pDWkBI-e"
      }
    },
    {
      "cell_type": "code",
      "source": [
        "context_size = 4\n",
        "x = enc_sample[:context_size]\n",
        "y = enc_sample[1:context_size+1]\n",
        "print(f\"x: {x}\")\n",
        "print(f\"y:      {y}\")"
      ],
      "metadata": {
        "id": "nNenl4rlob5t",
        "colab": {
          "base_uri": "https://localhost:8080/"
        },
        "outputId": "57b8b294-b934-4cdb-b267-2d039ef089fc"
      },
      "execution_count": null,
      "outputs": [
        {
          "output_type": "stream",
          "name": "stdout",
          "text": [
            "x: [290, 4920, 2241, 287]\n",
            "y:      [4920, 2241, 287, 257]\n"
          ]
        }
      ]
    },
    {
      "cell_type": "code",
      "source": [
        "print(\"Input\", \"----->\", \"Output\")\n",
        "for i in range(1, context_size + 1):\n",
        "  context = enc_sample[:i]\n",
        "  target = enc_sample[i]\n",
        "  print(context, \"----->\" , target)\n",
        "  print(tokenizer.decode(context), \"----->\", tokenizer.decode([target]))"
      ],
      "metadata": {
        "id": "cElaEnsPoyLT",
        "colab": {
          "base_uri": "https://localhost:8080/"
        },
        "outputId": "14075d75-bb31-4925-f2f2-bd4cc2645cfa"
      },
      "execution_count": null,
      "outputs": [
        {
          "output_type": "stream",
          "name": "stdout",
          "text": [
            "Input -----> Output\n",
            "[290] -----> 4920\n",
            " and ----->  established\n",
            "[290, 4920] -----> 2241\n",
            " and established ----->  himself\n",
            "[290, 4920, 2241] -----> 287\n",
            " and established himself ----->  in\n",
            "[290, 4920, 2241, 287] -----> 257\n",
            " and established himself in ----->  a\n"
          ]
        }
      ]
    },
    {
      "cell_type": "markdown",
      "source": [
        "## Making a DataLoader for this task\n",
        "now we return the two tensors: an input tensor containing the text that the LLM sees and a target tensor that includes the targets for the\n",
        "LLM to predict\n",
        "\n",
        "\n",
        "Making a dataset for batched inputs and targets"
      ],
      "metadata": {
        "id": "hn3gXKq7p3ZQ"
      }
    },
    {
      "cell_type": "markdown",
      "source": [
        "Terms\n",
        "- `txt` - input text that is made into a dataset\n",
        "- `tokenizer` - passing in the tokenization algorithm that converts the `txt` into tokens\n",
        "- `max_len` - Number of tokens to be taken. i.e context_window. The number of tokens taken as imput for prediction\n",
        "- `stride` - The number of tokens to be skipped from one input to the next. i.e if input 1 starts from token 1 with a stride of 2 input 2 will start from token 3 and not token 2(next token). stride value of 1 acts as a sliding window of 1.\n",
        "- `batch_size` - no of input tensors returned when the dataloader is called.\n",
        "\n",
        "Sliding Window (Generating input output pair)\n",
        "![{ACB1729F-AE98-470D-A0BF-E1D1C35DD47F}.png](data:image/png;base64,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)\n",
        "\n",
        "Explanation of Strides\n",
        "\n",
        "![{9BDBFC9E-E22D-4B75-A507-BB14B337E3F0}.png](data:image/png;base64,iVBORw0KGgoAAAANSUhEUgAAAmcAAAIhCAYAAAALsx1gAAAAAXNSR0IArs4c6QAAAARnQU1BAACxjwv8YQUAAAAJcEhZcwAADsMAAA7DAcdvqGQAAP+lSURBVHhe7N0HXFXlGwfwHzFFQAQEZThACTPFXEmKIub2r4bbFHOVI1fOtNKGlak5srRciSZiQZozy4mGJiiopIATEES2gFzm+z/nci5cLndzwas+3z7kPes95x3n3Oe+ZxkwDgghhBBCiF54SfiXEEIIIYToAQrOCCGEEEL0CAVnhBBCCCF6hIIzQgghhBA9QsEZIYQQQogeoeCMEEIIIUSPUHBGCCGEEKJHKDgjhBBCCNEjFJwRQgghhOgRCs4IIYQQQvQIBWeEEEIIIXqEgjNCCCGEED1CwRkhhBBCiB6h4IwQQgghRI9QcEYIIYQQokcoOCOEEEII0SMUnBFCCCGE6BEKzgghhBBC9AgFZ4QQQggheoSCM0IIIYQQPULBGSGEEEKIHqHgjBA1seRQ/LR6NVZzf2sPxaJQGF/jRDEIWT4DEz4MRHRuiTBSWgmyIgLF27Xuz7vcUA1h2Yg9/COWzZmM8TODEKtsRU8uYfUbdjBpvhoRxcK4F0FWBHaJ20ggIrJ0VBMq6/8pK36EqP0bsXjqBLy7KwrJYT9i7qQF2BiWAibMopTKMlOjfddEuUvTh/asTjvQ97ZC1McIIWooZunH5jMbE1NmzP/12cZiSoRJWijNSWIJmUXCkHLFkevZa+L1+rBV4TnCWGlFLCl4qni73FaFc0M1QcTu751ckX+3VSxc7oqKWM79i2zv4r7MUul8z4cq9ZgUzPzFZTSVBSfpJuOq67/mqG6neexWwMTyduG26jcW/F5L8WfL9w6yR8JcSqksMzXadw2Uexn9ac+K2oF0HT3NtkJ0i3rOCFFLNqL/OY8cYQhh4bieouVP6OJEnFq9DEG3RcII5QxbDcW61XPx/peL4NeqrjC2lpXexd87jnL5d8XbAdF4cms+2hsJ0wQl0ZvRvZ4FbFp0w7hvT0G93D3DNKxHbT21+lcnf6XxOPPLn1y78MCkwJu4OX8Ien+wBt99uRGBH3jDTpjtWaRv7VluO5CpI704VhCdoOCMEHWUJCP6VCz3wRVtWjsAoku4eCOrbJoyxblIzxJVnN5hXJC36zNM+ypOxSmfEhQXC3MYOaHbzK/w7by+cDUzKBvHYyJkpedCWYjIRHnIk6SjjuI8ZOXKSbE0Dxm30rgPDmjV3AEycVkZ82Z46+Mv8OWKz7B4VDthpAZYAXLzpNfNuOLLRq6i7Ve0rWpSWDaydSaP2vVYjNysPIV1pFb9KKr/cqrWkY10TctJ3fyVt4v6cGtix7ULQ1i498N78yZjgHs9yG6tRu1RjfatCBM9RraoVBjSUjXbs8pyV9Z+5bVB2XYgr46UtRW19xfl7YnUEqEHjRCiROmdADaYP13QbDHbtGEYMzaxYp6rLjGRML2K0iwWHbSUDXCzEp+Osez4Dvv8t3AWc+Jz5mvFn3aQ/DVn/sHxlU/L3L/BfpvuzSytfNnHZx7JOWVTzHJi9rNPBvGnj6yY26ClbP3Hg8TplZ32KWVFSefY5tl9mRu/nFUX9s760yypqLRs26rg5/+HbV80pGx+EyfWfvhytjcyTTiFFM+C/ZuL0y/7U3XqqOI0lNLTQOX5msi2Ht3OpnZ04j47sY7TAtnNlKssaLGwPe5T2PbrWdxW8lRsa96/bJWXLTe+A1t4IrVsiZSDbKotN6/jQnYsvUhx2cits+us6skhEUtSWY9cno79whYNKKsj91Hfs0sZxcLyGtaPbP0rWsc7P7PrOdw6JNOthrGP185hPvx2WnViI1edqFiHbJpcLsNX+XDDfBsKZfcV5a8S2XbBzxMtlY7kFKSK/FbZFlXtW47yNHqxmR9PZh3FeRbWky1pE+3YnGPJ4nZU+iCYTeDbhNUYti0mrywNhTRsz8rKXVX7VdYGK5VTrvw2+M3nMmWpat/mlKeroD2Rp4J6zghRqQSZsVcRyn0y6+2Fvm1fRUMU4L+/r+K+gh/npXf/wEdTNuPRwK8QGPgz1g42w6k/zyMmrw6cLfg53DF6xQ7sDVyN8a/WEy9T5gni96/Hu1v/hUhkBUc7OacmnkRh+/uz8NWxO4BLO7QzPY8NK/8UJnKKbiBg2jjM3AEM+3kfdk63RPCCdzE/+C7kbq54/rfx3tpLsBk1D1/MfQM5B77CuJ4LEXj7CTdDPbw6djpGi89R8ds9BK9a6vLQ8Qumvb8fxj180dYsDZHb3seAN4ZhdVJT9O/lCtwLwOwVx5DAdw+o2lbzV9Dfvzs34zVs/e0CHrEiJJ87in05pvCYPgTelrEKy6ZYXp39FVdxKluCPcYjlfXI5WnED0hy9YK3C3A35Ess/T2urPw1rR+FZNax51N8/PudijREB7Fu9wO0Hj8IbRCFkKWTMS3gBoqEyQqVZiJVZf54su3iCznzcDTNr6r2rdRZbN5zC037eKGxKBy/cOuZd+AlvCluE9EI2PcPklkhEkKP4DeuYs0GDMKbLczLFtUVZeWuov3KPW5o0gbb24snl1O5b0tT0Z5I7RKCNEKIQuns7Cde4l+dvbfdYCWPDrL3xL+Kpwm/TqsqCl/F/VK1Yh7TdrBLSXnc71fuF2xOLhMVhbNVbvyvVJkLdst/vTZmbu6D2CdHo9n96BssPp/7xV3pF3MRE4WvZp78sO1Utvd+PrdwHovZNpqbzvcsXGK5kunem1g098O3vNdvcAC7I/kBX66U5YV9yVrz0xsvZSey+AWS2bE57bj0bJn3putM/NtZ0XbLpWnPWR+2Iiyd25JUdmJRB/FyjtN+Z4lFpRV5Faej3raW3A5gb/H1YzubHXwYw/aO5nt3+nLbnVWRnpyyiflXQZ2VbW1lKuvRi8099oAvXRa9aYg4Ty6fnGW53Bhl21C1fjgy9V8x3IUtOpHCpZjNwlf1Eq9D3LNUPn0i2xtfyCWQz+7vnVp20b6wzippVuo549JQt76rzCeTjjr5ldkW5e1bVc/ZaKEnjF9mTNlF/Nx6r93Zy0aL99lxLCDuCtvWh++lbc2mHkzktlAVzXuC5Ze76vYrUnTcqJS+UGfy6qjSPIXq7dvlyyhoT+KESW2jnjNCVCm/3swKDQsTceVuLuo1MVV63Zmhy6sY5Arc3jYVbzTtgCHL/8AdmIFbSoUsmPsvxqK+r6DxKx5wqXKNUTEy7t/Cf/zHXj54w8WM+2ACS2tJj4XU9KQgLJ84Hu8s2o7r/PD1FGRUubu+BNlJ8bjJf/Rph5b1DAEDW7zSuS03IhcXwmLwiJ9Wo5rBo4kVDLjyqWfHdwW44M0328PJyACmjs3gWTYTR71tfalZd4wdxhV+znmcPXQMxw4nAB37o1frukrLJttJ2zqTxxNd29hzeTJBffuG4jEP76XiMZcHzepHmdbo1NKGW4c5HF3dxGPir91HqvgTzwTGXBmCy4Pzax3RgR91MQo3H9Xm1USa5ldV+1alHqwtTbh/zdG8a0948aO4PMeadcH4ia24ffYI1s/5ED+cSgNch2FMt0ZVrourPkXlXqCy/aZrfdyQR9N9W1V7IrWJgjNCVGDxl3HsYi736Q4CZw+El/c7WBtTwA3H4s/L98B/kmVg3wffnD2BHYv90MbsDo5+NRJesw8gSeW10O7o59WCOzyqwcQY4u8ARZq8Cf+ZszBr0WoE/XMeYfuGwo07Pj/3DJzgM+J/aMDVz69frUOwyBED3+uL1vx3toScsmnRSNs609KLVj+a5ldV+9aIA7xHDoMHF5Rc/esUrsICHSb1Q3sr/foK1P64QZ43FJwRolTF9WZwnYDVe/Zgb+BubJ7rw40owH9/hOO2nN4Olp2KdMt2ePvTXTh99lv05sblHIvAzRwDmFjxv4PTcTs5G4y/Iy1bOrxzRrOGykIzQ9RzbMx9yXD+voir4q4HhuIiySNxDWHVoCHEfTU3H8PYtS3at28v/mvXxgWWVb7spNK7EoP7T7hvAZaO/y5EciNM8UrrxrDhp+kFdbfVEDZeAzDJFXiQkASRmS9Gdm/CHeyUl43FY0V1JueqGwMjFfWoiKb1Ux1PkCfie8lEuHcxFGH8qNc94WEvfa9tIYr4uyeLU3ArOkUYx9E6f7Kq0R7ltm9VspGVw88rQuKVSwjnR4nzbAzzdv0wuaP4Ii1Od/j3f0W9H0EaU1Tupirbb32Fxw0122Cm9HVkz9K+TWRRcEaIUhXPN7PsMwRjh/rBz28o3h7SDU785IvnERFf9Uur5FYAunV9Gwu//A7bgkMRx490c0HDeg3h2olfMhbb5ozFiP/1w9wT0icXGsK+vnQXjywDmLfpg8ndHYC0zZjhPxdffDIZQ9/9RZj+Euq2/x/ml09fgA279mD76gUYOf+wnFOUUunFbMaHH3yGVcsW4ePt0VyGh2HeW69oeUqlJmiwrVaeGDzpDfFHy7eHoIcLX6YGSssmWVGd1ZVzmDRsoKIeFVG+DeqkoL4gzBg+DP7+wzDi/UAuVHBE/3e6oQXfW2XTGK1b8qX1J9Z8tAyfv/8upuy5I15KTOv8ydI0v6ratyohmDPmbbz77tvwe3cHt982wbApvmV5NnHHm2O9xXOZDRiC3h419RwwReWuuv0aVbcNHr5XNk3sWdq3iSwKzghRpvx6Mzt0aNME1uKRBjB1a4M+/OUwuIaI2KrXnb1k/ypGu97B5k8XY8HKIyjpNR+7N49GS0MHdHnnXfRz4Q6LCWH485EHurpZCkupydwTE9d9gxlvWCP+r5/wzTFzDJr6pjCRw0/fvAWrxrTGo79+wPzJEzFnXxraeDeH3DWZv4bpOwOweowLInZ8haUr9yPDey5+PPQ5RrvVTN+C1tTeViu06T8EPmgF/8Ed0EDSQ6OkbOoprDNh2UqqUY+a1o/W3sTUIS64eeBvXBW5ot+HP2DDuJYw5ieZtsbb3y6AN3937N79uFh/JL6ZI/0sLx20UwmN26OK9q2M3Vh8/I4TIoMO4yo64O1VP2HN6BZleS6Nx4X9l7gPrhg2tjua1di3n5JyV9F+FR83xAnLkFNHHjKP/X2W9m1SiQF/V4DwmRCiU6UQZaUhs9gcDewsKj24lYmykMLFdNYO1pD7XFF1FOciLbUAZg1sYCH34hzF65dPmF9kgvrV2a5aoca28qd5UvJgZCevfBSVjWZlVr161LR+1JQcgvFNxyAQE7D33ncYZJmNVJGpnHXwD/nNUDCtjE7aaTkN86uyfSvGP4T2MSxQz0wSgTEURm2Eb6cF+NduNg5e+xJ9bJRd8KYFtcudp6z91kQbVLY+oo8oOCNEhzIyMnDjxg106dJFGENILZMJEvwaqQyDXgBZuLDiLXT77DI8PjmGC0u9dH+9GZU70SE6rUmIDoWHh+PKFf6CW0KI3nh8FUd2X+Y+eGPywNY1dCMAIbpDwRkhOvT3iRN47TX+OUKEPCXG1nAfNRKjR7nC2pjOX4mftRZ1BYmdhmD0DH/0faWGbgSgcic6RKc1CdGR/Px81LOuj+ysTNSpU0cYSwghhGiGes4I0ZHLly9jvP84CswIIYRUCwVnhOjImTNnMHz4cGGIEEII0Q6d1iREB+iUJiGEEF2hnjNCdODo0aNYvuwTCswIIYRUGwVnhOhAQMAuDBs2TBgihBBCtEfBGSHVdP78efG/7u7u4n8JIYSQ6qDgjJBq4K81W7VqNRYsmC+MIYQQQqqHgjNCqoG/1sz9ZXd6XRMhhBCdobs1CdESfzpz7twPcOzYUdjY2AhjCSGEkOqh4IwQAX+KMiEhQfzZxcVF6Z2XfGDWw7cn/r14AW3b0uuaCCGE6A4FZ+SFxwdaP//8M3YG7MKcObPF49atW4+2np7w6eGDzq+/DgcHBzRo0AD37t0Tvz8zNiYW33yzkm4CIIQQonMUnJEXFt9Ttm3bdvz999/iC/plrxvLyMhAfHw87ty5g5s3byIrOxuNXRqLX2zerl07eqYZIYSQGqHz4Izl3sSRHbtwMPQ6EmGH5p4+GOo/FN4u5sIctSwrAru2nkIKnNBj8gi0tzYUJpAX3cJFi5DJBWAbNmygQIsQQoje0G1wVhSHoKmjMG53tDCC54LRgSex089FGK5lySEY33QMAjEBe+99B79GRsIEzbDcZDwobgBna+2Wl6cm0iTqCQgIQGhoKAVmhBBC9I5Og7PS2O3o13o6TsEDkwJ24ZM3jHE/6jwizfthqq+jMFct00VwVpyIk198hiv/+xbz2lsII6upJtLUA9IX1eub69evi/9NSkrCei4o+/ijj2Bh8fyUPdFcUlIy4hPihSFCypw+dRqRUVHCECHy8dcoSy510fXjlHQanJX8txk9XpuDC1xwNiX4MDYOdIKBMK0yhuLcDKSKTNHAzgIKwyVWgNwnhrCoK5mDX+4xRGZWsDBSkLIoGxnFdWFrISyjJDhjojw8MTJHXQVpibFsRP+8AH5T4zDln4OYLyeQUisdaWqk+azggzG+B4q/SJ6/iJ4nuahe37zaqpU4GFu5ciX69u0LT09PYQp5kb366qvCJ0LK2NnZ0eNxiFKSjgj+JrFff/0VUVFX8cUXn6N3797CHNXEB2c6U3CVberTmBmbmDJj9yls+/UsVipMEivNZfGhP7OPh3dilvw8JlbMbdAqdvZRUdn0pGDmLx4/kW09up1N7ejEfXZiHacFspspV1nQ4iHMTTZtyTJWw9jHa+cwHyv+cyc2ctUJllTEzVGe5lQWnMSvp5QVJZ1jm2f3LUvLqgt7Z/3psnmrELGkE58zXz5NcRr8X3PmHxzPTVOSTmE02za4GTevLfNa9S/LK33Ezi7zFS9vOehbduSPTxWk+WwJDg5mHTt2YgsWLmRXrlxhT548Eabol3PnzrH09PTyz4MHDxF/JoQQQnQhJiaGTZ48Wfyni+9C3QZnrJhlX1rLekkCD9kArSicrXJzZ77vfcy+WbWcvefDB3K2zHvTdW5JTnkgxf25DWIzF45jHcVp2TI3brmO/nPYzAEtxdMtR+9l9/mEpZaxbD+czZw5nLUXL9OMDd4WzQplgzNJ4GTVly3ac4DtWdyXCxTd2Zi9t1kJvw3SuKAq8o/VzN+RX74181+1hwtI9rMTMdkq0illeZHflZWD7Ttsy/51bDD/2eottv5yrOI0nxF8w5M0Qr5B6js+eOTbB7+93t7d2IkTJ4QphBBCiO58991GcQeApENAWzoOzngyvU0dl7ETkp6xgvss/N9Eli+O1kTsTsBY8Txuq8KZeI7yQKoPWxGWzoU4qezEog7ieRyn/c4Si0qZKHw18+TncVvFwvmFypeZyPbGF3Ij8tn9vVOZDT/OexOLTqgcnJUvz0/jIsLSOwFsMD88OIDdkdd5Jg4o+eV92KrwHGGk1HYoSkeqt6zsz5Z5rfiHZfPT5Kb5bJAEZnwDfFbs3LlTqh5Mxb19/PYnJCQIcxBCCCG6wX+/VLcHrQberWmKRr5zsGnjBDTjB6M24pPA6yjkP5s0RvsO9ZF5OQRrpg9Gr8m/8mPlaAaPJlYwgBnq2fHXY7ngzTfbw8nIAKaOzSD/SiETGIuv+TKD82sd0YEfdTEKNx8W8Z8Exci4fwv/8R+TgrB84ni8s2g7xJeJX09BRgn/QR0lqtMxaICu0xfgfVdTfizgOQcrp3WClZqXpemrWbNmwdOzLd5/f4YwRv81bNhQ+FSGv9D3g3nzxHdsEkIIIbrEfz/Wt7ERX4umLd0GZwV5yC3m7y+wgPvo2VjU14H7nIt/I+4gnZ/O36H46XC8PPIXPPZZhr1bx/Jjn44mb8J/5izMWrQaQf+cR9i+oXDT5hFoCtNhKBE9RmZqgXg23LmLexnCZxUSExMREhIi/vvyyy/Fz+NS9McHGMePHxcvU9P47eE9S4EZr2nTpsKnCnsD92DJkiXCECGEEKI7i7nv540bvxc/zFwbug3OMk7g8wUBCI1NQVZGMpJT84QJvBJu8noM/+oEbCcswJIRHeFU11iYpgtPkCcq5v4V4d7FUITxo173hEdD6XUYwqpBQ4j7UW4+hrFrW7Rv3178166NCyzl9WoZGMHEiu/9Ssft5GwwJkJWdrHqdFgqzm7agF9y+Jk4Ob/hi29PIJmPXeWmWRG4mZtXPLC3e/fumDxpkty/MaNHi+8+DA8Ph5/fUAwZ8pb4VUQ1gb8z5euvV2LZsmXCmGcHf+eVBP9KJv59mH5+fsIYQgghRLf4u335jow9ewKFMRoSTm/qhvQF/eV/LdmE4PuslBWy+L0TxeMsfaayz79ZwvzFd2Ny87j1YQuPJUotL7mzMoeFr/LhhqXuZpTMU+WaM/6GgAFs3LgBym8IyItg63vxNyJYMbcBc9n6gF/YtlXz2fDZ+1lS2RpkPGAH3yu7CcHYzYcNG+DD3uG3RWk6pSwvfA3z4pexnch2nvuVzfWw4ubtwhadSOGmKkizmvg7Jvnz3PwF8Lq+c5K/M/NZus5MFl/WfNnQdWaEEEJqA39TAH+NszZ023NWvx3GfzMObc2EYbMOeHvVJqwY5AIDGMPZdxyWdHWA6J89+PmcBYZ+9D58uHnNbJrBvWFdYSFtvYmpQ1xw88DfuCpyRb8Pf8CGcS25tcow98TEzVuwakxrPPrrB8yfPBFz9qWhjXdzWAqzVOaALu+8i34upkBCGP585IGubtycytIpuoG9n29EOCzQYfFUDOvSH1MXDIQZN+bbj37Gxcd28tOsprZt22LLli3ih+KtXbtWGKsbAQG70LWrbh+yV5v405j82wCcnZ2FMYQQQkjN4XvPPD3bIDY2Vhijvhp58TkTZSElUwQjSzvYSR4GKxBPywKsHaxhZlAKUVYGRGY2sDbTMk6UecjsIMts1Q+3FePXnYbMYnM15pXdbmGkmGbpSFOcZvXwpyBHjx6Db75ZCXd3d2Gs9vhz5g0bOaKwQCSMIYQQQogq/HXh/OVHml5KUyPBWa3S0bsznzf8TQKxsXE6uXifj/q3btuGb1auFMaoL7+gGKHXHyL8Tgay8/lrAmvGqXuPEZUnfWfu821OK1u87maDfh2cUceU2jwhhOgjyY10FJxRcCbG373J3yTw778XhTHa0zbQOx/9EHODb4o/+7dzgGP9mnvBuIO1GRrUk5xPf7494QLeq/cyERKZgqS8Yvz09qto61Zx0wMhhBD9EBkZiT2BgRp3bjz7wVnaSayYtxOxeBXj13wAXzttnofxfDIxNUN2Vibq1KleUKRN5B95Ow2v/3QFa7ydMalXC+rdqQF8r+S2v+IwLzQRt+d7wbkBvcSdEEL0ibZnnmrgIbS1zM4XS3fuxM6dCygwk8G/gJx/MevT8O4v17GsgwPeH9iSArMawpcrX778Kc7vjmp+wSkhhBD99Oz3nBGF+AfgOTo2qvYzvTTtOeNPZ/oGXEPWZz1qJDBLTM3Fv7FpSMrMR0JGvjD2xZXxpAgBdx9jkls9WJpVv7xbOVliYEcX2Fi9GKeJCSGkpmjbc0bB2XOMv1aMf0BtdZ+Er2lwFnL+Hi7ezsBK/3bCGN3IeCzCyv3/YV10OvybWaGZbR14OFoJU19si47dwYQ2dtUuj1xRkfhatqOP8hE4qAX8ulR9uwIhhBD1UHBGqpA8AqO6151pGpwtCrgs7n3x79lCGFN9/PVV3Veeg6d9HSwY+DLcna2FKYTHlzl/96augqnjEYn4374bFKARQkg1vLjXnBGF+AfgfbtmDbZt2y6MUYx/NpouWZjp8tVcEF/47ljXCBsmtKfArBb0bu+MgyNaYvQfceIeS0IIIbWHgrPn3KRJE8UPwZP0fily9OhR8YvUtX1Ja03igwP+jsQFfZvTzQW1iA/Q+tnXwaFLT+emEkIIeVFRcPac409nhoQElwdffBerPDdv3sS6devFp0H5YE7XPWnVEZ+aK/63Syvxq+ZJLfJr64DoB5K39xNCCKkNFJy9APj3SfLv3Oz8+utYuHARhgx5S3wnZ9nDZWPFvWVZ2dnC3MDkKe+ie3cfnD9/XhhTHSXIDF2HCRPW4XTYHswc/yGCYuMRunoGZgbFclNVu/MwV/y4iDIMxalROPdf2faWxAZhJpd2aKY6KSmny7RUq5wPzZQgNzoQiwZ3hFXzCdgVK33aUbflo87p6crrqE6+FKmJNCVSlbTFmmtryihfj+LtlV5O0ecXRfXzr2wf0x8vYt1qT3bfqcnjSvVRcPYC4S/o37//dy4w+078iA3+Tk7+QkW+t4zvNZMWGRWFHr49xb1o1cMgSo3BL3tikJJ8F0f3XkBCTi5Srx3H0YQcbqqGSq7ihz4jsOXmY/Egy0nAUS7tVFH172vRZVoqyeRDI6Vx2DdvMfZbj8BPqyeja2NTYQJHx+Xj2tBCfHes2qqTL0VqIs1yIsVtsQbbmjLK16N4exUtV6vtWk9UO8/K9jE98iLWrfZk9p0aPa5UHwVnLyC+J40P1PhHbPB3kPAvNOcfWCutf79+OHXyBPz9/YUx2jKAaV0LWDq5wLmJDRzhDAcbRb0x3C+ZtDhcjk2DwrdwsmIUPi4VBipTuizLRcLVKMSmFQgjlFOYlqp0xNMjEKFo2ZuJyOWPDEryUa44DbERkVXXVZqHjFsm6Dx4FEYN6YJm0m/N16Z8lOTJXN41fjLzG7qPxHc75sC7vqF6+VKqBLkJ0Yi4mlBWTjxFaSoqHwkl01luAq5Kr0Oe2mhrqvIgUGt7pVSqk3JlZXs1IVf+jyLp9ikZVtSWebLza0vVeqTJ3UblZS23LFQtp2gfk12/yvrjj2m3cE2qzNWuS03KRVXdKiDelog4pBUrWEpp/lQcr9Wom3Kq5pUtd43KRgG5+7ec48/Twj9Kg5AFCxcyYxNT1rFjJxYcHMyePHkiTGHiYf5PXQt3RrDgc3eFIcaKY7ax/mP2svtZZ9jH3b5iYXn3WbB/c+a2KpwVcdOLwlcxN5PubJy/L7PktoHfDkvfz9mJJJF4eT4tPk1uRrbKrWw6/8cvny8s6//eIO7fqssyJmJJJ1ayQW5WwnKNmc+cvSw6p1iYXkGyHfLTUpFOaRa7HjCTdbQqW068rM+H7I87eUK6nszHpyU33oq1/uRztkQmH3w5VJBdlxPrOG03u86vS6YMjP2DWRK3hLjMz4ZqWD6qyyYmIZOZLDwuDFWd33fZcXb/n2+4tKey4Piwyuv/5nd2cE47ZjPtIEspFZIoucG29WnOem26xgqFURKlOVdZwDTv8jZg7DaMrTgWxD6vUlZKykdMyXSZerLs2Jf1f822ah3UcFtTto1l7YUrzyRui9TdXo70clU/S+9flcurSvv8/CC7oKAtV51fmEfNOq5EyT4jq8o2fnGCxSop66r5F8pTQRtOKpJsPEfOPhavcv3yylSmzKdvYQe2TGHu4mEr5jZ4IwvPltM2NC4XBXVbmsyOKdr/fjjDLkuvw92P+Q/j8iYcT1S3T8XH6+rtB/LqUf22qVx8xfeOnP27SN7x50RClf1MUzExMeLvV01Rzxkpxz9249ixo+Jeteq+j1OaoftEHP5lJBrX64bPzixGZ3Opnp5y13HTcQFi8vLxJOEI5uZvwfIDt4RrAwRG7TH/5nl86eKC0YFxuDW/Pcr6da7jhvVEHE/Pq7Jsafx+zB+xH82+/BcZIi7txD0YeGcF5myPwhPxsrLkp1WkNB2GwqsBeG/yfYw8mYyCAhEKUk9hcUEAlh2ME/KQiLzXP8aZ88ewY8JcrJCbDx5DUeweTHvrKDxWXypb170d6BezHBNWn0OmYeUyKNzph0bCknjJWaPyUZ6nqkrv7MOMt6Tmv7Me7lvmYdnOyLI8GnWovP4Fg9DNbzDsf9mPUwmF3AxcOV37C9vDvDCudwtU7j8tQdrpLZhxuBv2P8pDoeghLs02wNeLEtAv6pxUntqBKSsfpqz8QvFQXE/X4LsvDk8KsnFrdQ8U3S674aSSGm1rKupY6hd7WbtSY3tVkt6/dmPIreWYsvmy1HZVtM9N7hGYp7Qt8yTzn8CR76bATa06lqbOPiOrYhu3esVhuUb7dRlFbfizY0ncFglk6r5iH6tY/4+ekVigsv4kZZ6HtDOzYLR1HhZd740jfNuJ2wLvc1uwKyxNmFdCm3JRULcG9vCSu/91xjD7cCx+v6JdPdjdEwWn7pQlx82nun0qPl5rcsxVb15N26YaquzfbZEp7/jzQRCiCp5OFxoFZ0Rs8aJFeP/9GeJnoz0drTFiWFc0MjKAkX0LeLYwQVKuqOKAqRS37PCecLUwlFm2APfPHMKvpm3RxikHMZcvIyr+JTRr2xCnfz6HOLl7s7y0snBXaToGMGkzAYFR3+O9dtYo4bv6o+7hsSnwuLBYyAOf7v/g1cEL7ZvWFY+RLx9xJ//AEc+RGP8/d1gYcOXRyAeT3+2GyC3HcSVHm1OG2uRJWLRcMVIi/8Eh24EYNVjYLqd++PzULrzfw1mYR9ZLsGrfD5Na/YMDYQ+4csjDjTN/4uqAAejeTPYaHgOY1rODU9Zp7PxuJw6dT4HTtCA8jpyH9qbSwbyq8slTMj0I2/Yfw789xmFiLxcu2DKFvbcfxvVwENJWhy7amvI8XM6UnKh5glthJ6u5vRK+mDrBR9i/vDB6XGeE7wmT2q6K9tll+DwVbZknmb8L3hzrr2YdS1Nnn5ElWWc7NHhwTsP9mqe4DU/zrCfMo4xk/Z6olxiqxj7KzS8+phnCqklztIA7Bg3ygRvfdhzd0Mo6D5l5fNAkTZtyUVS3iva/bmiUEopTXhXtqkHHoZgw1kNIT532Kckbv05t9wN155WUu7ptUxvqHn9qDwVnROzpBWUSHnB11PZdjoqWLUJGSiKQth1TfbvC640u3F8PjPr6LJCeicdyL6KVl1aB6nRKshAXMhdtzerA3KkDRn4SgIsJ0o+gUDd/pcjnAic0s0fFJTLGaNS8JRqnZSArT5vgTMs8VSJC0p2b3BHDBMaGkoOVKezcPeHZvAGkr2yqxLwleo1yxW87TiEu9xoObU3E22O6wqXK8Y77Iuk6G8FbeiF//yfw6+kJR1tvTNhwBsmVrodRVT7FSqY/QOydR4CDNSwlRz4DS9g3rS8MqEMXbU1FHnIk30rCfNXaXglbWFtK+mcNYVbXAkhJQXp5e5LKl8q2zJOaX+06lqHWeqRJ1qnNfs1T3IbbuFhwX8+qSNav7j4q21Ys0KCe9LACGpeLkrqVWzfeaPREpl2hLuycJe1KnfYpmzcJTepG3Xml1qVx2ahL3eNP7aHgjDzHjGBp0wBouQJhj/PFNz4UFuQh4+YFhB6ciNfknl6VxxhWStMpxJ3AJRjyfT0suBBfdvrp5CZM7Sh5/IcmXkIdC2vg7iNU3B1fhORbNxDfsCEaWJUfLatJVZ5ky8YU9i6u3HG7EEUlkoNVLmIPbcaaLYcRL4ypygKt+/qhx6nDOLz7IILS+2DIGw3lfBGWIDcxATkvT0JAeAKePLiMY2s7InrB1/g1Wvo0nqryMVYyvRlaezTivriyUN65wfKRlaKLu7U0aWsq8lB+w4wwn062Nxd5IsnKSiDK48rUwQG2dWW/Agq0aMvq1rE0bdYjoe1+rbgNrz0UC9k+LMVqch/VplyU1a28unGCeZV2lYH70UnCgLrtUx5N6kbTeqxOm1FF2fFH2YnymkPBGdG5enWMkJRZkw+xLUFBUYka3dimaNa1H/rfDcauA7Hiu29Y7nX8smQM/H+MhPq/t+qoSKcYOZmpEBk1RAtXW+6QU4DUC/ux50gS8tOylVwDIy8fddDcuy96RAVh50F+XfyzeP7Fvj1n4cb94m2l8ItHmjrloypPsozh1NEHA9MPIeivBC7H3HYlncamBT8gKt8GlR8PXHn9L7XogYlDr2LR7G+RPq4PvGzkfXkV49Hpb9Bryk84k1wII7uX0cmzCSxhBhMjPs+SNFWVj7mS6YMwzu8t9A/bhe3iPHAH5Oi/8ftfki8leWqirSnPw6sWksOyOVr4DtJwexU5i12BYXhUzK0r+Sx+/jkCPu90RYsqVaFdW5ZbxywVUUcO4EhUqpzy03af4Wm7Xytuw9cKzbip6tLFPqqINuWivG6r1o0FWvQahmHhP2LtzgikFj3GncM78H3I/bIF1G6f8mhSN5rWoxplo7TNySPZv5Ucf4yrU5/ao+CM6FRiai5c7S0QlVhDz44xtIdHH1uE+HugybJQ5Amj5TOAsfsYbPp9CO4u6QQbMzOY2nbDqifvYNNHvdFI7X1OVTrmaDX8A3zYfBf62teFiak9vL5+iE7jOyP1xn08LJRzmFCYDwOYtBqLTbu9ET6+DbeuOjB3Hokgp+X4bWl32CjYZv5ZZPwzydQvH83L5iXXEfiem//OnNYwN+W2q9kMXB25Bl9P7QwTYR656zdwhvew3tyBzgvTh7SDlXhGWdyB+q0F+L7DaQxvWo8rw7qw8Q2B+9bPMLa1q1Sa51CktHyUlZ8PHF7m89wTl0a04PLArWNoAFIac+UmT421NfXruCxNNbdXKTsY/7MIzety62o6AUdfXoq1Ez258E+Wiras6BSPvDouicdfs0Zi1l/x3FegLC3XI6b9fq2oDa8Y5MKlqi7t9lH1aFMuKuq2St1w5ec2DGtCRiPza184Wbig95Z4OLe1Q+PWTdCgWvnTbD/QrB7VKBulbU5Gpf37XzgoOv60rLqX1Arhrk1CFFL3URrnriezjp+eYnvP3BY/fiE9O1+YUj3lj9IoV8qKsrJYrtTd7yoVpbKY8HAWFZ/DLV0NytIpzWHxUREarENFPsTrusJiUiW3qMvHlztf3k9Ekpu+NSwfJXmq/CgNgcrtkl1/EUs5OJvZeK1h4XmqNopbNjWWhYdfZ/GVbr2XkydV26FkemlOPIsKj2WpRWpsT022NZVlWUb97VVGxFJjItXbLo3bsrw6LmW5Zz9lXdZHMnkPURDTeD0yNClraWqWu0q6SkeWxuWirG5l66aE5UQfZ0GHI1mqZObSOBYwuBl7TbauqpM/TepGk3mr22Yqkd2/FR1/tKftozQM+P8JcRohcklems4/YkORgBNx2Hj+AXZPbAt3Z2sMWXMOLzcwx0r/dsIc2gs5fw8Xb2foJK3nDd9T6bcpHO93cYJ/zxbCWN2JTcxC6+8uoWBlL2GMJhhEd//BscvRCPthI2Le3otfJ76iwekjov+U1DGLx/75P6FkxhIMdX1KvQ8vNEV1w1AYtRG+3Y6g64+LMKyFKdIjf8XXi+7hrRM/Y5an/L5toh3+FYn8m3j4B75rgk5rkmrJLyjGxkM3EBqXgZBpHcSBGW+jf1ucuvcYiwIuI+Oxfr6X7ll3PvqhODDztK+D4V2bCWN16/r9LPg30/ZgbQDjohj8OHEdbvZch03+LSkwe+4oqWODxtyPtC8oMHtqFNWNAUza+GP7L30gClwA3zeGY+mfFvA/tBHTKTDTG9RzRlRS1HPGB2azdkSIP2+Y0B51ZF71w/fqvB8QiaOP8sUvLnexqQPH+po/3PZuah6WhCUhcJDue4YkckVFiH6g+FJifcMHvlF5RVjj7YxJvVpUKXtd4XtE+XKhXktCCNGctj1nFJwRleQFZ5LAzNPZSmVwEHk7DXce5uJm0mNk52v+JjRRUSk2x2ZiTBNL2FuUX3quc6+7Pe1nvanPwdoMLV2sYWOlxnOTqoE/Pe3X1qFGTpkSQsjzjoIzUmNkgzPpwOz9gS3F42qa+PTokyK5PXSkZvDX+n194h6Ozelc40EgIYQ8j+iaM1IrnkZgxpvZzx1Rj/KxPOiqeBtIzeHLlz+dOfqPOKwd6kGBGSGE1DLqOSMqSXrO+g0Y9FQCMwnJNWxJecXwb+eg1fVrRDn+rlj+erbMolJM7+CAuYNbCVMIIYRoik5rkhojCc5uljQXXzP2NC8O53t1Lt9Kw5n/Hml1/RpRrpWTJRpa10FGbgG+PZOAM4u60mlkQgjREgVnpMbwwdnRe2aAuS1d8/WC4IPg0Rsv4M2XbZ9KLykhhDwP6JozUmNuphvjTLoRBWYvEL6eF/RtjnmhifScOkIIqWUUnBGl+Ou8Pr1lhlkv51Ng9oLp0qoh+tnXwZ6zd4UxhBBCagMFZ0Qh/tTWp8HRmONSCEcLla+RJc8h6j0jhJDaR8EZUejXc3dhY26M1x0LhDHkRUO9Z4QQUvsoOCNy8S+85l9kvmjIK8IY8qLie88CLqfQ8+UIIaSWUHBG5Fp1KAaLezalB5AStGtuJ/73aHii+F9CCCE1i4IzUsX56IdIzSuCX5emwhjyIuNvBOED9YALFJwRQkhtoOCMVLHq2C0sH+IhDBEC+LRuiKOP8sWBOyGEkJpFwRmphP/yfbmBOdq6lZ3KqlkMxalROPdftjD87CiJDcLMCesQmllS6bMmtF1ONyrKXp3t4E9vL+vggD8ikoQxta92yqsEudGBWDS4I6yaT8CuWOm7VCu316dbf7qQitDVMzAzKJbLdVW1mb+nU5aa7QMSyufVVRvR/thYeZ3apqNsP6gpytujbpUgM3QdJnDldDpsD2aO/xBBtZJH9VFwRirhe80GtXcUhmpYyVX80GcEttx8LIx4drCcBBzdE4NUEav0WRPaLqcTUmWv7nb0b+eIddHpT+2xGrVSXqVx2DdvMfZbj8BPqyeja2NTYQLnGW6v8omQeu04jibkcF/hT9dT2Re0rE+l2yqTptb50lVb0zYdZftBjanN9sggSo3BL1zdpCTfxdG9F5CQo183PFFwRsrxd2jy+Mcn6B73SywhGhFXE5Ar2fNYMQoflwoDUorTEBsRidg0RY/w4H4NpsXhcmwaquxOLBcJV6OULKsFcZoRiJC3Prnk5FWpsvmvJuRWPSipKgt+224mSpWpmvlXUPYKy5XT1tUMPawMsSdMnWvP+Dq6hWtSeWK5Cbgqr0xUla9sHhXSoNwVlWtpHjJumaDz4FEYNaQLmpkZCBM4MmVm6D4S3+2YA+/6hsIYnqb51rKtqioz8XbIr0uF2yNDfv50oDr5LqcifxFxSCtWkUGp+pSXV3XSqbINio5pmpKXjsrjYplKeamSjpr7iKL9QFm7U1avSpZT2R510l5kGcC0rgUsnVzg3MQGjnCGg42xME1P8O/WJIT33cH/WPC5u8JQheDgYPGftkpzrrKAad7M0sSUGfN/bsPYimNB7HM3YZj7c1sVzoqYiCWdWMkGuVkJ451Yx2m72fWcYnE6ReGrmJtJdzbO37c8LUvfz9mJJBE3VXbZxsxnzl4WLSxbruAKW9+lGeu97QYr4Ydzz7KPG5syx0UnWDY/XHqH7R3dknVZf4UVlGax6wEzWUeriu209PmQ/XEnT9iWqSw4qajSZ7l5PZHA5a2qqvmRzq86ZeHJfHxactOsWOsvTrBYdfLPKwpnq6TKvuyvO/N/bxCXZtlwRbnyKrbFZMTXzGRWiMK05eZp+hZ2YMsU5i4etmJugzey8GxuWSXlW5FWRR4dxfOUlTMrSmAnlvVnNsJ2ql/uSspVtlz8g1mSsJTsNL695kvVu0b5VretyqNWmSnYR2SWtezYl/V/zVbY96oqS4vP3z12cFrrin2Ex+9HXsI2TDvIUkqF8SU32LY+zVmvTddYoTCqQtV8+y47zpKKSqXWVXl/KhPPgv2bS5W5evkzdvdj/sO4tiNdjxJy9wFhnSrSkZRxlf3lfqiSNpLAjs1px2zUKasqbS2U3VfUZuUoL7/4sErpNF34Hdumzj4ibz9Q2u4U16vS9qqyPVZjP1FDccw21n/MXnY/6wz7uNtXLCxPUjG6FRMTwxYsXCgMqY96zkg5/llW/IXfulWCtNNbMONwN+x/lIdC0UNcmm2ArxcloF/UOXzp4oLRgXG4Nb8dWOweTHvrKDxWX0KGKB9P7u1Av5jlmLD6HDLLf1Vdx03HBYjJ46YnHMHc/C1YfuAWiuL3Y/6I/Wj25b9lyybuwcA7KzBnexSeCEuKmTRFp35NEPZ3FBIZQ+GtSJx8CKQeu4K4AgaWGo3Tx10xontz4GoA3pt8HyNPJqOgQISC1FNYXBCAZQfjuFzJoyCvHwQhiktbPun87MaQW8sxZfNlZKtVFonIe/1jnDl/DFu94rBcnfzzjNpj/s3z5WX/5J8v0JjbjhvWE3E8Pa9SufL5LJUq26vfTQfMLOCdHCI/bTFJnvKQdmYWjLbOw6LrvXGETztuC7zPbcGusFQUqlW+FXkM3j6X205OUSJOfvEehod64dfdC+DbyEjNcmcoUlauhpXLpXCnHxoJS8qW2a357VH1ZWbq5DutUnmqrKtKuPaqVpnJ20fikC9e9hp893F1XpCNW6t7oOh2rrCMMg3xxuB+wNY/cPYR3+/B8OTaSeyNHom1P8yG2y/7cSqhUDy+8Npf2B7mhXG9W0C2H6L0zj7MeEsq33fWw33LPHx2TNPrGBXk77+9+OD9ivw92N0TBafuCMvIkLsPlClUKx05+8uR+pirsI3Yw8tvMOzVKatK2xaLG4PiMEvlsUAOow5S6dzAv96xmKPOsUmmbAp3vgVbJe2uUEm9FihcLhZPVLRH7fcT9Ri6T8ThX0aicb1u+OzMYnQ2l+ol1wMUnBEx/pSmY12jGniumQFM69nBKes0dn63E4fOp8BpWhAeR85De1PpnSEfcSf/wBHPkRj/P3dYGBjAqJEPJr/bDZFbjuNKjqRrvjVGDOuKRkbcdPsW8GxhgqTcLNw9cwi/mrZFG6ccxFy+jKj4l9CsbUOc/vkc4ipFUvXQupsPrI+H40bmE9yLCMXdN99Ej7vncOl2HjKvnME+xy7o1KIuTNpMQGDU93ivnTVK+NMXUffw2BR4XFjMHVrlUTev0nwxdYKPkB8vjB7XGeF7jiL4TzXLYvj/4NWhHRo8OKdm/hXh0+oJVwtDqXIVcfkswH2pss1NiEV/25eQ5dZFSdqSOjKEVZPmaAF3DBrkAzc+bUc3tLLmyjmvSM3yleTRCx08bLnhG9j/8SQM2dgYP+yYzwVm/LUwum5j2lIn348rladmdWWgfplV2UfSERt2Ev/2GIeJvVy4oMEU9t5+GNfDQVhGGUPYeA3ApAancfjfFG492bh67CBi3h6O4aOHYVKrf3Ag7AE3Pg83zvyJqwMGoHsz2WuUipES+Q8O2Q7EqMFC2Tv1w+endmGaZz1hHnUpyF/oMZzyqshfg45DMWGspnedP8EttdLh26W8/UWRl2DVvp+aZSXtiY7arDbHJgll7S5fab0qXi4bcUrbY+XjjnbHtGcbBWdE7Pr9LPi1VedArSnuoNR1NoK39EL+/k/g19MTjrbemLDhDJIrXctRinwuyEIze1Rc9mGMRs1bonFaBrLyJAchD7g6ygaQBchISQTStmOqb1d4vdGF++uBUV+fBdIz8bjSxbgGqOvpjdGmp3Hy8jVc+fs+ek+chbE9YnAsIgqXT52F00gftOF/RZVkIS5kLtqa1YG5UweM/CQAFxNyhHTkUTev0mxhbSn5fW0Is7oWQEo8Yu6laFAWRRrkXxF55cqrmvaRC6H4MddZSdqyaVmgQT05aatVvrJpXcHFXBt4Ixynw5OF61d03ca0pU6+q1lXWpUZr6Qs7w7WsJQc9Q0sYd+0vjCgglUb9B9bH/t+v4jk7Mv4/YfH8B/cAQ3MW6LXKFf8tuMU4nKv4dDWRLw9pitcqnzfi5B05yZXVSYwNpRMNIWduyfauHBtXiNq5g91YeesZv7KCW1EZTrytkEFtctKmq7aLPeDQeNjkxSF7e4JHiipVwOFy6lqj7o4pj3bKDgjYhdvZ6CNugdqjZQgNzEBOS9PQkB4Ap48uIxjazsiesHX+DVa+pTKS6hjYQ3cfYSKu86LkHzrBuIbNkQDq/IjkxzGsLJpALRcgbDH+SgsEHF/eci4eQGhByfiNdnuaqtW8B1eij8P7MGfx5vAu3UHtO/7MkKP/oSfAw0xpNvLMOcCvjuBSzDk+3pYcCG+rNv95CZM7cj33iiiLK+KOuJzkSeSZLgEojyuTBwa4+WmXKCsdlkYwVKT/Gukatq3f/wAMLNE8C9vVyNtkRblyxuGz9ZtxYa1bbDvw/X4I56/c1Tdcq9OG9OV6tSVNm1SwrAs7ylZKO9sYfnISlH3Lr56aDfQDy1/O4Df9/yB3VaD4edlz/3UsUDrvn7oceowDu8+iKD0PhjyRkNuvCxT2Lu4crFGIYpKJF+suYg9tBlrD8WCP9FXGTefJGhgBcjLrjpHZfLyl4H70ZqeMhXaSLXTkUfdspKmqzarzbFJQlm7qwMHhfV6FTcULqeqPdbkMe3ZQMEZETt17zEaN9D0F6w6ivHo9DfoNeUnnEkuhJHdy+jk2QSWMIOJEb+DlaCgqASM28mbe/dFj6gg7DwYi1zGUJz6L/btOQu3Md5opXRnrINmXfuh/91g7DrAL8vt57nX8cuSMfD/MRJV+7ps8dqb3kj46SfsfsUXnd3qo2nbTnAKDsK+4h7w8eQOGtx252SmQmTUEC1cbblDRQFSL+zHniNJyE/LVnDNg5K8Giva/rPYFRiGR9wXUXHyWfz8cwR83hkAP19NysJUw/xLlJW9clXTdqpzF6+U5GJqcJyStFXRpnx53C90o7pwGz4bKzwO48OvjyC+uEjNcq9OG5OQtFdtmamuK5aKqCMHcCQqVWY92pYZry7cfQehf9gubP8rgUuJ+7KO/hu//6Vu0GEAk1d6YOzrJzB3zg7Yju2F9lZlXx8vteiBiUOvYtHsb5E+rg+8bOQFDMZw6uiDgemHECReP1f2SaexacEPuFZoxk2tYGjjgFcRgdOXHnDz8Xk8hN9OpQhTFeHy12sYhoX/iLU7I5Ba9Bh3Du/A9yH3hemKyO4D5mihVTrSFLcR9cpKgk/HFG46abMipGh8bJJQ1u7yYa2wXrk5FS5XAmel7VHTY1ox0qKOI2T/edyV9KqJ7iJ0/0GE3s0rG5bMcyQKafIqR89QcEbEL7SOyiuqofdocjvZWwvwfYfTGN60HkxM68LGNwTuWz/D2Nau8OhjixB/DzRZdg5FrcZi025vhI9vAxu+G9x5JIKcluO3pd1ho/T4YQBj9zHY9PsQ3F3SiVvWDKa23bDqyTvY9FFvNKqyrBEatPFCHy67DXu0QhNDA5i/8jr62QENxvVEB/GXjjlaDf8AHzbfhb72dbnttofX1w/RaXxnpN64j4eF8vZuJXltaS7MI8sOxv8sQvO6XH6bTsDRl5di7cS2sNaoLDTNP8fQvrzszd/4CPHC6Krkp52cI0LbpvXlp62WusrLV9WpFrPWeOfLBfD45St89UcyXNQqdy7A0LqNcaTKrMmyUEgO+ZpRo65K4vHXrJGY9Vc895UlTUWbVFpmkvX2xKURLWDOl9HQAKQ01uAHmXEL9B7ny32de2PywNbc1ggMnOE9rDf3Re+F6UPawUoYLesl1xH4nsv3nTncsqZc2Tebgasj12DFIBdu6yoYNO2HxV+646/RXNs0rQe3j+7Dc2QrYaoiXP7chmFNyGhkfu0LJwsX9N4SD+e2dmjcugkaCHNVomAf0DgdaaraiJplVZFOS7TY54xV1W6zbdHtXEt8qdGxSUJ5u0ttPFxBvbbEq0qWS3cdraQ9anpME+H+X19h1MjduCLpYsy8gq0jP8DWKxllw5J5Zv2F+6p+k+oD4a5N8gKLSchkC3dGCENVVfdRGmVKWVFqLAsPv87iK90KzY3PymK50ncxF6WymPArLCZV8igHDYiXDWdR8TlcyjpQmsPioyI0TE9RXhURsdSYSPnr0LQsNMq/nLJXRirty7dSmcnC4+yJSN5DGDSgVfkqokG5a93GNCwzZRTWVSnLPfsp67I+ksnNRTXLrDQnnkWFx7LUIl1kglfEUg7OZjZea1i4Oo8jUKvshbqMimc5am1mCcuJPs6CDkeyVMn8pXEsYHAz9pqichSTrU9t05GmrI1oUlYy6eikzQrlqvaxSYqqdqdo+1Qsp7I9KtxPng3aPkrDgP+fEKeRFxR/p+a2k3ew0r+dMKaykJAQ5Obmwt/fXxhDXnR8b6v1J6dw8d3XaulVXy8QFo/9839CyYwlGOqqqlfjaWIQ3f0Hxy5HI+yHjYh5ey9+nfhKpVOUtYehMGojfLsdQdcfF2FYC1OkR/6Krxfdw1snfsYsT4V9VDJ0lY4sfSorUptiY2Oxdds2fLNypTBGPXRak6j06quv4np0tDBECFDH1Aj+zaxw9V6mMIbojEFjDFnzhZ4HZjwDGBfF4MeJ63Cz5zps8m/5FIMN/nEP/tj+Sx+IAhfA943hWPqnBfwPbcR0jQIqXaUjS5/KitSm69ev49VWqk7LV0U9Z0Rlzxkf+a9atQpbtmwRxhACBJyIQ2hcBrZMfV0YQwghRNrGjd/D0bER/Pz8hDHqoZ4zopKLiwt2BuwShggpwz96JeBuNV/MTAghz7G///4bnTp1EobUR8EZUalOnToY7z8OkZGRwhhCgJed+UeOlPW8EkIIqYw/68RzdnYW/6sJCs6IWoYPH44jR44IQ4SUXXfWz74O7qWo835GQgh5sfA3Avj7jxOGNEPBGYGdlZn4IbTKeHt7Y//+A0hMTBTGEAJ0amyF2GTtH0VLCCHPI/5M0+lTp9GvXz9hjGYoOCPih8/yD6HlH4+gCH9qc/HiRdjw3XfCGEIAD0crJGTkC0OEEEL4Tox3330PP/30o/i7UxsUnBEx/rEICanKT0/xd5tkZmSI7z4hhOfa0ALrotOFIUIIebFlcN+Rn376Kd5/fwbatm0rjNUcBWdEzNPZCtfvq76we+XKlQgICKAAjYjxp8R5GY/5F5ATQsiLiz+V2bdvP/FlQNV9aDsFZ0TstWb1cfG25B1kitnY2CAkJBhRUZFYuGiR+FcCeXE5Cy/LT6PgjBDyguKDMv77UHIqUxdv06GH0BIxyet4sj7rIb4LT5X8/Hz8+uuvmDzlXXy7Zg2GDBms1e3C5Nk3ZM05TPdpit7tqf7J84f/AZqWliYMkRcV/6R/WRcuXhRf9O/o6Ijp06eJe8y0vcZMFgVnpNyUzRfxjncTdGnVUBijGn/gOnToEEJCfseRo0cxZ85s8XjrevXg4eEh/qxvkpKSEZ8QLwyR6jqDjnBEFlogThjzbIqNiRW3YUKktfX0hE8PH2GIvKj4VzBZWJSdKZBwdXVF48aNxWeUdI2CM1LueEQiwu9kYMnwNsIYzfC9aQkJCeLPqampSElJEX/WN/wO1rRpU2GIVNfmM6nif6d2byD+91llbm5Ovb+EEL1AwRkpx1/U3WhFqNqnNgnhhZy/J75eUdG7WQkhhGiGbggg5fjnnS3r4ICj4fSgWUIIIeRpoeCMVDLMqzECLlBwRtRHzzojhBDdouCMVOLubI0GdY1xPvqhMIYQ5czpFDghhOgUBWekCv6OzVXHbglDhBBCCKlNFJyRKvhHabzcwFx89yYhhBBCahcFZ0SuSb6u+OjwLaUvQyeEEEKI7lFwRuTirz0b0tIGv567K4whRD7J+zUTVbw4nxBCiHooOCMKTe3jjo3nHyA2UfUL0cmLi38EC+8J9bISQohOUHBGFOK/dL8Y0ByrDsUIYwghhBBS0yg4I0pJXmbNPwWeEEIIITWPgjOi0soxnvj6xD06vUnkkrQLlwaVXwpMCCFEOxScEZX405trh3pg7PZIunuTKETvYyWEEN2g4IyohX/2mX87BywPuiqMIYQQQkhNoOCMqG1SrxbIeFKEgBNxwhhCCCGE6BoFZ0Rt/Gkr/voz/vEa9O5NQgghpGZQcEY0wl9/tntiW/gGXKv00FH+WrSMxyJhiLxI7qXkop99HWGIEEJIdVFwRjTGvz3gpH9r+G0KFwdo/N/ojRew5yy9TeBFlCsqFr+LlRBCiG5QcEa0wt8gsLhnUwzlAjS31WE4+igfAZdT6G5OQgghpJooOCNa4U9hXrydgci8ImEMEMV9vnwrTRgiLwq+HbRyshSGCCGEVBcFZ0QrE7eEY110ujBU4Y+IJOETeZFYmBkLnwghhFQXBWdEKxv928KzbtUvZD5goxsDXix8nTtYl738nBBCSPVRcEa04tzAAmcWdYV/MythTIXT1+gxGy+aBvUoOCOEEF2h4IxojX/u2Zapr2ONd9nL0SUCLiQKn8jzjt6rSQghukfBGam29we2xMERLYUhiO/cpJekvxhSs0Xi09v0Xk1CCNEdCs6ITvRu74yL775Wfh3a8chk8b/k+ZaSJUKPplVPbRNCCNEeBWdEZ9q62SFkWgfxdWj0zLMXAz1GgxBCdI+CM6JT/I0CGya0F/em0DPPnn+n7j2GW0MKzgghRJcoOCM6J35Bun87uoPvOcc/MoV/8HATe7oZgBBCdImCM1Jj+HdwkudXvPDie763lBBCiO5QcEYI0crVe5mY08pWGCKEEKIrtRKcseRQ/LR6NVb/FIpkJoysFUXIuvcAWTWyTobi5AvYtWIuJoyfjkUbz1bKmyTPa0L+wxNhnGY02PYn/yFkjTbly7hFD2DN6o0I+e+xMK6mlCAzdB0mTFiH02F7MHP8hwiK5d8kkIrQ1TMwMyiWm0NTXB2kRuHcf9nioZLYIMzk0g/N1DwlWbpMS7XK+dBMCXKjA7Fo8CswMTXj/j6TKd+aExqXgdfdbIQhQgghulI7wVlOHIKXfoQlIXHIqa3grPgBzm6Yjt7T/sSjmlgnS+XSn49Jn51CXiMX2NevC+krrCR5/vbfh9D4nkVNt734IS5+q2n5cgHBozNYN2cWPly6ExcfFgrjawqDKDUGv+yJQUryXRzdewEJOXzJiJB67TiOJuRwc2io5Cp+6DMCW26WBZYsJwFHufRTRdWvcF2mpZJMPjRSGod98xZjv/UYfCxugIky5Vsz+DtxA+4+hmtDOqVJCCG6pgenNbkgITcdabmKvkhKIcpKQ5aoVBhW05MYHF65C5Ey361MlIWHyY/UTK9s25LTcqsGWCwD967cA+wGYOqSRZj3dnvUNxCmVaEkD0yErIfJeJglqghOFGx7GT6tR5Xnr0RVeXKKU/Hfn5vw/sCxWH4mRRhZ0wxgWtcClk4ucG5iA0c4w8FG2cuyuXykxeFybJri4JYVo/Cx/HpUuCzLRcLVKMSmFQgjVNM6LfH0CEQoWvZmInL5SlSSj3LFaYiNiKy6rtI8ZNwyQefBYzFj30yufJuqWb7VEyM8ZPhluq6QEEJ07ukEZ49PYpGTGZxm/YjfvhwBD1snONp2wKg155HKfVmVxm5HH1Nu+rvfYMuHQ/GqgzPsXx2Kxfuiy77MhOVN+m5HrPg7TYTY7SNgYtoRi06mcQncxPYR/ljLP8nh1HS8WmcEtkffwtkNU/C6Q0M0btoY9g5eGLXiAGJz5Z224gKD5DDsWOwn3rYmTk7wGPgRgqLSy75k+fT7v4mpp7gVpK1B3wavl61Xnoxw7J3bl1ufTB5YNv7b9xEGtnCAfZNmaOzQHK9P2IiziZFVt118eqoEuXeOY/2EblxajSvmT5b6si66hRNr/NGKL08nH0z4rqw8q3hyDTsnbkRy/28Q+EU/YaS0NJxc3JErT8m6dcEQ9Zq1RGcvN7g0bwWfzq3QwsFEmFahOGI1mpv6wH/8m7Bxao3OrZ1h0/MLnJTOJ684Aqs9umBJQgICR7dA89URQgB0Awc+HQqPKssWIPnkNxjcwgluHV/Hq07u6DE3CP/JrX8JLdPi6jZ61yx0srbjpneBF79sjyU4ePeJkL+26OHbCW6erfDG8i+wVG4+JIR1ebjh1Tc6c+tyQ6fpvyCaX1elMvBAw0HfIUdF+eqK5HozejMAIYTo3lPtOUv9cTtONJyGvad3YXHXTIQs+QqBV8vuAOOl7gzCuUaTsftMMFZ3ice3UxZhw4U0BT1GUgzs0XnGDAzhH7/kORUb9kyBR+zPeG/BebRcG4rb96Lxz7qOuPP3b9hzPrlqek+u4Ifxo/DeJhGGbv0DJ45uwND8XRg34hME33lSlv7cjzDd0wKwfAvLfl6Gt1rIP72TGnQKd15fgpMyeSi5+wc+mvIdbvf+Fn+dP4Nj6/she89yLAlOxWuVtn0qOtsbg2VewIYpU7Dgn5fxxYETOPvbdNiHzMfAaXsQW1S2Lpw7gau2E/DLmb1Y5p2EXz76AQfj5FzxVqcVJp05h+DlfmhtK693xRj1mnph9KhXYV9Hd03E0H0iDv8yEo3rdcNnZxajs7mirsbruOm4ADF5+XiScARz87dg+YFbla9JM2qP+TfP40sXF4wOjMOt+e1RFiZcxw3riTienldp2aL4/Zg/Yj+affkvMkRcuol7MPDOCszZHqXkmkBt0mIovBqA9ybfx8iTySgoEKEg9RQWFwRg2cE4IQ+JyHv9Y5w5fww7JszFCrn54DEUxe7BtLeOwmP1pbJ13duBfjHLMWH1OWQaVi6DQm5dhWqVb/WFRKbQ9WaEEFJDnu5pzY5jMXVsD3Tw+h/Gvv06NyIFD9Klemo6voMPpvZH5879MXnaMHiIQrH3ZBzyhckKGdjgle6vo5kp99mmDXzf6olX7fhehAc4HxKI30/GQNRpMU7+FYDlfZxR+SusFI8jDmHTmTx0+PgzLBvXG96+Y7Fo6Xi43duNFYHcFzCffi8ftLExA0xd4TWA20YX+c/0Mus5Bu+O8EGHzv3wzuTBcBPyUOA6DiHpybj07Wh4NqwPq/p2qIdc3E02hFulbffFK9YvIT/mLPaey0OnGTMxtW8XdB44C5tCLyF84xA0lnybS8qzc18M9+sAiGIRkygn9DB2gHtzG6kgQFY9tJ+6ATt3foKBLjXX+6JYa4wY1hWNjAxgZN8Cni1MkJSr6DSuLG7Z4T3hamEotWwW7p45hF9N26KNUw5iLl9GVPxLaNa2IU7/fA5xCjvPtEnLACZtJiAw6nu8184aJfwp0ah7eMzV5+PCYiEPfLr/g1cHL7RvWlc8Rr58xJ38A0c8R2L8/9xhYcCVRyMfTH63GyK3HMeVHHVOzese/3wz/v2pndzthDGEEEJ06ekGZxZ1UYf7AlbEsk0zNDLmpxvAzMYBjVCA9Jz8qtfvqPQSrLwm4cfV49Dk5jbMn+gH33bN4fjGbOyKzpb50i/Ew7jruA0zWNpYChf5G8LauSkaa7F+S3cn2IlL+SVYODhXpFGchAu7vsbEru6w95mGDUeuQvG9eiXITeMCV25r6lqYlQVVBhZwadMa7s71YSYpQhXl+ezwgKuj/GBXNXnLFiAjJRFI246pvl3h9UYX7q8HRn19FkjPxGOFF/1rmVZJFuJC5qKtWR2YO3XAyE8CcDEhR1iep27+SpHPBYNoZo/6hsIoGKNR85ZonJaBrLynE5yFx6WJ36FKzzcjhJCa8XSDMxVyrt5FchH/xckgykhBMkxha1lHTo+PCBnJqcJnBQxt0Wb4pzgQGYfof45g77ppaB/zE2asOIaESt/NJmjY4lW4cWnmZORw/+epWr9iqeeicbeQX0Epcrkv9XhxGkbIOLEB46f+hrqz/0TGzb/x89KhaFq2iByGsLBzgBO3NXm5orLgkKUjYt8uBB26iITauKPwmWYMK5sGQMsVCHucX3b6ryCPK/cLCD04Ea9pdPpPVVqFuBO4BEO+r4cFF+LxpCAbt05uwtSO2jwP7CXUsbAG7j5CxRM9ipB86wbiGzZEA6vyiK1W/XrpAfzbOQhDhBBCdE2vgzNc+hnfbj6CCxeOYOum33DTzBujfFugjlEdWNmaAmFH8cfJCESdDMSPAZeFhQSSee5G4Nzpkwj+8m00btIRb/8YDUPHl9G2VWNYcYGSU5MGqPz7/yVYvtoT47rWRfiWdVgXfBqXzgbis6WbcbPpWCwd7QlzYU61cHlYt/0vhF84ip+3HsBts56YPLAlXspK44I9LqjMzERGagxO/3YIYcIilbf9X8RmlaLOy90witumf7//DpuPnceFQz9i2ZQpmLL1P+Qb6rq3LBsRm2dh/PjPcCihph+xUV0lKCgqUXHKsw6ade2H/neDsetArPiGDJZ7Hb8sGQP/HyMh3aelmqq0ipGTmQqRUUO0cLXlAvkCpF7Yjz1HkpCflq3k+jZ5+aiD5t590SMqCDsP8utiKE79F/v2nIXbGG+0qsFryhThT2nyj9Do2pILUAkhhNQI/Q7OPNuhya316N19KObvt8WMn1ZiVmc7GJi3w8R1S9GvwXEsGTAYU3YVYvBCf1T6uqjTAj3H90Hje9swtd+3eNBnBQ6t6onkz/rBo6kbPHqtQfLoVdg+qwtsZL7jDOq/gYW7A7D6jfv4ekxfdOk1Db/VGYdd+z7DUFeNQjM0GD8SXjGr4Vueh88xsU0DuAyYje8nOePUgjfR3ONd7KvTAWNcTZFz8z4eGjWX2vbPcOx+PrdNnTFr0wZ86BGG+YN7otuwH/DIbzUObRoDd50/MaEI2ffCELj3Oh7lP51TZ2oxtIdHH1uE+HugybJQ5AmjqzKAsfsYbPp9CO4u6QQbMzOY2nbDqifvYNNHvdFIoxhHVVrmaDX8A3zYfBf62teFiak9vL5+iE7jOyP1Ble34l5UGQrzYQCTVmOxabc3wse34dZVB+bOIxHktBy/Le1epd3WBskpzbZudL0ZIYTUFAPGET7rDf5RGv1aT8epHj/g+hF/OGakQ2RmCzsL6ROK/PO8MpCaa4j6DtYV111VUozctDTkGlnDwdpMfOE//5yzlMx8LnirXz5OsbLnk2WKTJSsQx38dsjJA/+Ms5QsFFvYyeSNV3XbxcTLZCLfyBIN7Cw0OsX6fOLaQfZjFFjVQ1116od/XljUfYjsX0ZrFwsV9a+CsrT455hdi0VmfXc116MiH+J1JQJNWsLdjr9b5OmYsvkiPJ2t8P7AlsIYQgghuvYMBGcT4a7f/XuEvBD4U5qNVoTi2syO9FJ7QgipQXoZ9hhYtsDQFV/gS78WsKxW1wYhRFcOXUpAP/s6FJgRQkgN08ueM0KI/hmy5hz8OzvDr4vi+4oJIYRUH50wJITIxZ/GlIi8nSZ+8KxP64bCGEIIITWFes4IIXLxF//bmBtjkq8rtp28g3p1jLBkeBthKiGEkJpCwRkhpIr8gmJYf3JKGCqzb4g7Bns1EYYIIYTUFDqtSQipIiYxS/hUYcT+WHz569VKpzsJIYToHgVnhJAq7jzMFT5V9ml4ChbtiRKGCCGE1AQKzgghVVy8nSF8qsy/mRU2TGgvDBFCCKkJFJwRQqpYF50ufKogCczqmNJ7KQghpCZRcEYIqSQxteopTf59mhSYEUJI7aDgjBBSyX/xlW8G4AOzkGkdKDAjhJBaQsEZIaSS2OQc4VNFYObcwEIYQwghpKZRcEYIqeTvmIrrzSgwI4SQ2kfBGSGkHP8MM/41TbyT/q0pMCOEkKeAgjNCSLl44WYAPjDr0oreo0kIIU8Dvb6JEFIu4EQc3BpaUmBGCCFPEQVnhJBykbfT0NbNThgihBDyNFBwRgghhBCiR+iaM0IIIYQQPULBGSGEEEKIHqHgjBBCCCFEj9RKcMaSQ/HT6tVY/VMokmv1CrciZN17gKwaWSdDcfIF7FoxFxPGT8eijWcr5U2S5zUh/+GJME4zGmz7k/8Qskaz8mWiB4g4vBMb+G3c/CvOxmagWJhWM0qQGboOEyasw+mwPZg5/kMExYq48Vw5pkbh3H/ZZXPFBmEmN09oZol4uDp0mZZqlfOhmRLkRgdi0eCOsGo+AbvE5SKhq/JRVP6EEEL0Te0EZzlxCF76EZaExCGntoKz4gc4u2E6ek/7E49qYp0slUt/PiZ9dgp5jVxgX78uzIRJPEmev/33oeZBj6bbXvwQF7/VoHxF/2H3tEHw8luKgNPncWj1ZLzZ0R/fhKVxoUBNYRClxuCXPTFISb6Lo3svICGHK5mSq/ihzwhsufm4bK6cBBzl5kkVVX9LdJmWSjL50EhpHPbNW4z91iO4gH4yujY2FSZwdFY+CsqfEEKI3tGD05oMxbnpSMtV9EVRClFWGrJEpcKwmp7E4PDKXYiU+Q5joiw8TH6kZnpl25aclls1wGIZuHflHmA3AFOXLMK8t9ujvoEwrQoleWAiZD1MxsMsUUVgpGDby/BpPao8fyWqypPhSeQBrNpzHx2W/YqTB0Nw/Mg69Mff+Pq7E0jQ9DtfbQYwrWsBSycXODexgSOc4WBjzG1OMQofy6+L4rQ4XI5Nk1P2uUi4GoXYtAJhhGpapyWeHoEIRcveTEQuX2ZK8lGuOA2xEZFV11Wah4xbJug8eBRGDemCZmZSDUln5aOg/AkhhOgf/lEaNa0kZhvrbWLKjPtsYzEl3IjsE2yhoylznLmZ/bpiGHPjp5l4spGrz7FHpRXzO05ZyX5aPKRsutsQtijoOsvhpkuWL0+P5bOYbcO5NDqwhSdSuQRusG19nLhhPl3+bzjbdj2OnVk/mXW0EsZZdWIjv9jPYnKK+QRklLKipH/Y9kXCuk2smNuApWxvZBor4idXSV9YrxTpPPw4pxez5OeTzkNpFosOWsoGuFkJaTixju98x84kXKm67TH53ALFLOf2n2zdO13K0pLMnySqKA/fD9kP34xl7vx0qy7snQ1l5VkZl7ecVBYfc53FpHLL8mPu72WjuXKxHL2X3RfPn8pOLOogtW7dKObKpP8Ybh1ZZ9jH3b5iYdn/slVuknyaMrdV4Sw/fBVX5t2Z/3uDhLLntsv3c3aCzycTsaQTK9mg8jJrzHzm7GXRcuuQsaLqpMXVz/WAmRXthV/W50P2x508IV1P5uPTkhtvxVp/8jlbIpMPcTspJ7suru6m7WbX+XUVhVcqA2P/YJYkLCU7rbrlU6X886o0DkIIIXrgqQZnxiad2NRtJ9ilf/axj30bc8MD2PrInIr5Tdox//WHWFjYIbbevx0XcAxgK/5JZaWqgrPSdBb9x5dsuC03T8fZbNNvx9n5kKXMw6Ql89/2L4tPusUubZ/BOvqMZcuOJXDhioy8CLa+F7c9Vn3ZwoA/2dkTP7OF/Pa5T2d7b+eVpX9sE5vd0ZYZ245iX+w5yMLiKwcx5Xng0lgUeIpdkslD8e0A9paVFfOYtpWdvnSBndg0mQuqbFmXdcfZ5UrbfoJFZxaz0oxzbIV4Gyay9UfPsbA/VrABfEA1eDuLSZMpz7Df2RcDmnHrGsMFV9z2KsPl5dLqIVzA14FNPxgvlEUWC980k/n7f8oOxheIx9QYcQDSnPkHxwuDfPBhyzou2s9uc0FFUcoJ9olXY+a96Tor5ILIMbZebHbQTS7A5YLMR+fY6kGtWa/1EUxeLrVPq5QVRG5gXUwGsdXhGeIyKc3+h63wcmKvrY9kovJ097B/Lv3Dwu/mVslHhVJWGLOdDbbyYQt/jylbV9Jx9olvc9Zx2WmWwSeucFlODZYPIYQQ/fR0T2t2HIupY3ugg9f/MPbt17kRKXiQLnWRcsd38MHU/ujcuT8mTxsGD1Eo9p6MQ9lrmZUwsMEr3V9HM/7SHZs28H2rJ161M+EGHuB8SCB+PxkDUafFOPlXAJb3cUbls5GleBxxCJvO5KHDx59h2bje8PYdi0VLx8Pt3m6sCIzCEz79Xj5oY2MGmLrCawC3jS7SV5xVMOs5Bu+O8EGHzv3wzuTBcBPyUOA6DiHpybj07Wh4NqwPq/p2qIdc3E02hFulbffFK9YvIT/mLPaey0OnGTMxtW8XdB44C5tCLyF84xA0NipbV3l5du6L4X4dAFEsYhKV3I7AshH982K8veQkGo2dj3nlZVEP7aduwM6dn2CgC19uta01RgzvCVcLQxjZt4BnCxMk5Wbh7plD+NW0Ldo45SDm8mVExb+EZm0b4vTP5xCn8Pp4bdIygEmbCQiM+h7vtbNGCX/6MOoeHnN18riwWDidzKf7P3h18EL7pnXFY+TLR9zJP3DEcyTG/88dFgYGMGrkg8nvdkPkluO4kqPO6XVZuiwfQggh+ubpBmcWdVHHSOGFWrBs0wyNjPnpBjCzcUAjFCA9J7/qNTYqvQQrr0n4cfU4NLm5DfMn+sG3XXM4vjEbu6KzZa7dKsTDuOu4DTNY2lgKF/kbwtq5KRprsX5LdyfYiUv5JVg4OFekUZyEC7u+xsSu7rD3mYYNR65C8X1+JchN4wJXbmvqWphBHIsZWMClTWu4O9dH+SVKKsqzEnFgtgB+U/+E4/Sf8Pv6YXAVl7U+8ICro2ywW4CMlEQgbTum+naF1xtduL8eGPX1WSA9E48VXiCvZVolWYgLmYu2ZnVg7tQBIz8JwMWEHGF5nrx05SlFPhc4oZk96hsKo2CMRs1bonFaBrLytAnOdFk+hBBC9I0e3BCgWM7Vu0gu4r9UGEQZKUiGKWwt65QFJ5WIkJGcKnxWwNAWbYZ/igORcYj+5wj2rpuG9jE/YcaKYzIXwZugYYtX4calmZORw/2fp2r9iqWei8bdQn4FpcjlvjzjxWkYIePEBoyf+hvqzv4TGTf/xs9Lh6Jp2SJyGMLCzgFO3Nbk5YrKgkOWjoh9uxB06CISNP3ilQrMnD/cij2rRuAVi/LIQU8Zw8qmAdByBcIe56OwQMT95XFldwGhByfiNXNNAktVaRXiTuASDPm+HhZciMeTgmzcOrkJUzvaCstr4iXUsbAG7j5CxdMvipB86wbiGzZEAytdlbsuy4cQQsjTpNfBGS79jG83H8GFC0ewddNvuGnmjVG+LVDHqA6sbE2BsKP442QEok4G4seAy8JCAsk8dyNw7vRJBH/5Nho36Yi3f4yGoePLaNuqMay4QMmpSQNYCIuUeQmWr/bEuK51Eb5lHdYFn8als4H4bOlm3Gw6FktHe8JcmFMtXB7Wbf8L4ReO4uetB3DbrCcmD2yJl7LSuGCPCyozM5GRGoPTvx1CmLBI5W3/F7FZpajzcjeM4rbp3++/w+Zj53Hh0I9YNmUKpmz9D/mGmnzxMhTFhWDpnADcRV3UybqAX9atwepKz6HLRsTmWRg//jMcSigUL1WzSlBQVCLTgymrDpp17Yf+d4Ox60Cs+A5JlnsdvywZA/8fIyHdp6WaqrSKkZOZCpFRQ7RwteWC8QKkXtiPPUeSkJ+WreS5dfLyUQfNvfuiR1QQdh7k18U/t+xf7NtzFm5jvNFKraCptsuHEELI06TfwZlnOzS5tR69uw/F/P22mPHTSszqbAcD83aYuG4p+jU4jiUDBmPKrkIMXuiPBsJiYnVaoOf4Pmh8bxum9vsWD/qswKFVPZH8WT94NHWDR681SB69CttndYGNzPejQf03sHB3AFa/cR9fj+mLLr2m4bc647Br32cY6qpRaIYG40fCK2Y1fMvz8DkmtmkAlwGz8f0kZ5xa8Caae7yLfXU6YIyrKXJu3sdDo+ZS2/4Zjt3P57apM2Zt2oAPPcIwf3BPdBv2Ax75rcahTWPgrtETEfLw37FgHBF3Cd7B8U0rsIR/Bl2l59AVIfteGAL3XsejfG1Ou2nA0B4efWwR4u+BJstCua1TxADG7mOw6fchuLukE2zMzGBq2w2rnryDTR/1RiONOoZUpWWOVsM/wIfNd6GvfV2YmNrD6+uH6DS+M1JvcPUj7gmVoTAfBjBpNRabdnsjfHwbbl11YO48EkFOy/Hb0u5V2l4VT6V8CCGEPE0G/F0Bwme9URq7Hf1aT8epHj/g+hF/OGakQ2RmCzsL6ROK/PO8MpCaa4j6DtYV111VUozctDTkGlnDwdqM+/rilhJlISUznwve6pePU6zs+WSZIhMl61AHvx1y8sA/4ywlC8UWdjJ541XddjHxMpnIN7JEAzsLjU6x6i+uLrMfo8CqHuqqU8b888Ki7kNk/zJau1ioqEMVlKXFPy/sWiwy67uruR4V+RCvKxFo0hLudvwdH+p6iuVDCCGk1j0DwdlEuOt3/x4hhBBCiM7oZdhjYNkCQ1d8gS/9WsCSfvYTQggh5AWilz1nhBBCCCEvKjphSAghhBCiRyg4I4QQQgjRIxScEUIIIYToEQrOCCGEEEL0CAVnhBBCCCF6hIIzQgghhBA9QsEZIYQQQogeoeCMEEIIIUSPUHBGCCGEEKJHKDgjhBBCCNEjFJwRQgghhOgRCs4IIYQQQvQIBWeEEEIIIXqEgjNCCCGEED1CwRkhhBBCiB6h4IwQQgghRI9QcEYIIYQQokcoOCOEEEII0SMUnBFCCCGE6BEKzgghhBBC9AgFZ4QQQggheoSCM0IIIYQQPULBGSGEEEKIHqHgjBBCCCFEj1BwRgghhBCiRyg4I4QQQgjRIxScEUIIIYToEQrOCCGEEEL0CAVnhBBCCCF6hIIzQgghhBA9QsEZIYQQQogeoeCMEEIIIUSPUHBGCCGEEKJHKDgjhBBCCNEjFJwRQgghhOgRCs4IIYQQQvQIBWeEEEIIIXqEgjNCCCGEED1CwRkhhBBCiB6h4IwQQgghRI9QcEYIIYQQokcoOCOEEEII0SMUnBFCCCGE6BEKzgghhBBC9AgFZ4QQQggheoSCM0IIIYQQPULBGSGEEEKIHqHgjLzwWHIoflq9Gqu5v7WHYlEojK9xohiELJ+BCR8GIjq3RBgprQRZEYHi7Vr3511uqIawbMQe/hHL5kzG+JlBiFW2IpaBC1/2hYmpGUzGhyBZGP3cy4rALnEbCURElg5qQmXd64HiR4javxGLp07Au7uikBz2I+ZOWoCNYSlgwiwKqSwvNdq2rstclj60ZXXbwbPQXohuMUJeaMUs/dh8ZmNiyoz5vz7bWEyJMElLpTlJLCGzSBhSrDhyPXtNvF4ftio8RxgrrYglBU8Vb5fbqnBuqCaI2P29kyvy77aKhStcUSnLi/yO9bIS5vUPZknClOdNlTpMCmb+4jKayoKTql8Tquu+Zqluo3nsVsDE8nbhtuo3FvxeS/Fny/cOskfCXAqpLC812raOy7wy/WjLitqBbP087fZCah/1nJEXXDai/zmPHGEIYeG4nlIsDGihOBGnVi9D0G2RMEIxw1ZDsW71XLz/5SL4taorjK1lpXfx946jXP5d8XZANJ7cmo/2RsI0WaJrCPjkW5xWnbVnmwZ1qK2nWvfq5K80Hmd++ZNrFx6YFHgTN+cPQe8P1uC7Lzci8ANv2AmzPbP0pC3LbQdy6kcvjhWkVlFwRl5sJcmIPhXLfXBFm9YO3EH7Ei7eyCqbpkxxLtKzRJVP7zAu0Nv1GaZ9FafktE8JiouFqUZO6DbzK3w7ry9czQzKxvGYCFnpuVAWIjJRHvIk6aijOA9ZuXJSLM1Dxq007oMDWjV3gKK4DHiC27+ux9LzXbDsIz9hnJpYAXLzpNfNuOLLRq6i7Ve0rWpQWi7y6kyWWnXIK0ZuVp7cOlKrbhTVfTnF6UswUTbSNS0ndfNX3i7qw62JHdcuDGHh3g/vzZuMAe71ILvFardHNdq2Ikz0GNmiUmGoOrRvyyrLXFnbldf+ZNuBovpR1l7U2l+UtCd19gtS6yg4Iy80Fn8Zxy7mAk6DMXl8J25MLP68fA8FZZOr4g6e/+37CAM9nNDIwRr1Ok3AF8HRyOWWSD71HWbNCcBdhGHJG3YwMW2B8au+wHj+mhbTaQiJv4ngGT1gY/smPjmbCiSHVExL5g+bJciNPYBlQ9rB3tEJHoOX49fIpLL1inFBTfJ5/DinH1rUs0V9W29M2HAGyQq/FPn5w7Bj8VtoXtcW9rZN0WHEpwiKShcO0gkImTQKSxL4z/w2LxC2QxaXTvwxrP7iFNp/8j5GtaonjFegPF+TsO3YDkx73Q02Nk3RafpexDy6hn0f+sHD1gE2rd7Djuhs4UtBybY+uYTV4vLsiEUn+YCBm/vRIUyz49bhtAh/ZhQrLxeFdSZLQR2GiAtIUIjMq/uweGAb2Dg4otXoHxCeyV8DpGHdyNa9dJn9uaci/Qk7K64xksxTbzg+WTcXvg4OaOTUBaNWn6xYT5U2lYuI1T24YTM0X30O8Srzx5NtF69x8/wnlU6E0H40ybOqtq3MbZzeNA2vO9ijgUO3inWUt4v2mPvnQ3E7YkkhmMi3i3pvY3vsk7LFK9GyLSsrc2VtVzxZSfurVF95ittflXpVsc7y+ZW0J7X3C/I0UHBGXmAlyIy9ilDuk1lvL/Rt+yoacl/Q//19FfcV/EAvvfsHPpqyGY8GfoXAwJ+xdrAZTv0Vhxz2GI/y6sDZgp/LHaNX7MDewNUY395evBz/az1+/3q8u/VfiERWcLSTc2riSRS2vz8LXx27A7i0QzvT89iw8k9hIqfoBgKmjcPMHcCwn/dh53RLBC94F/OD70Lu5ornfxvvrb0Em1Hz8MXcN5Bz4CuM67kQgbf5L656eHXsdIwWn6Pit3kIXrWUc0hgyTixbjW22U7FZ++0hbkwWrVfMO39/TDu4Yu2ZmmI3PY+BrwxDKuTmqJ/L1fgXgBmrziGBP47Ttm2JnPz+3fnZrqGrb9dwCNWhORzR7EvxxQe04fA2zJWabkorDN+E6UpqsNXpb/AuTyN+AFJrl7wdgHuhnyJpb/HoVTTulFIJv09n+Lj3+9UTkN0EOt2P0Dr8YPQBlEIWToZ0wJuoEiYrFBpJlJV5o8n2y64HxhV5uFokmdVbVups9i85xaa9vFCY1E4fuHWMS8wDkXmrwjtIhoB+/5BMitEQugR/MZVrNmAQXizhZyWqm1bVlbmKvYz3bY/gcp9W0Jxe1J7u8jTIVx7RsgLKJ2d/cSLGZs4sd7bbrCSRwfZe/wFwlbTFF6AXBS+irmZWDGPaTvYpaQ8Vsr9V5STy0RlE9kqN5mLdssvam7M3NwHsU+ORrP70TdYfH5plQueReGrmSc/bDuV7b2fzy2cx2K2jeam8xdNX2K5kunem1h0MWOldwLYYH54cAC7wyVXWSnLC/uSteanN17KTmTxCySzY3PacenZMu9N1xk3Rv42V1LM0k98zDxMurBFJ1L43JZfyK3wIuryfPVhK8LSuWVS2YlFHcTLOE77nSUWlVbkVXwDguptLbwdwN7i68Z2Njv4MIbtHd2cm9aX2+asirQUlIvSOpOlqDzK8+TF5h57wJcui940RJwnl0/OsHSN6oYje7F7+bCknLNZ+Kpe4vTLL5gvn2ci2xtfyI3IZ/f3Ti27aF9Yb5V0WQ6Xjk9FOirrW1BlPpl0uC1UWu4PKm+H8rat6oaA0WxbTB43gl9mDLPkx0nWeX8vGy3eZ8exgLgrbFsfJ27+1mzqwURuC2VVpy0rKnPVbVekrP3J1pfK9sfPV6h63y6fX3F70mi/ILWOes7Ii6v8ejMrNCxMxJW7uajXxFTpdWeGLq9ikCtwe9tUvNG0A4Ys/wN3YAZuKRWyYO6/GIv6voLGr3jApcp1RsXIuH8L//Efe/ngDRcz7oMJLK0lv5qlpicFYfnE8Xhn0XZc54evpyCjyt31JchOisdN/qNPO7SsZwgY2OKVzm25Ebm4EBaDR/w0lfJx93IobpsV4PrPC/DO+ImY/d3Jsknnv8PsFSdRdqJRnmbwaGIFA6586tnx3QEuePPN9nAyMoCpYzN4ls3EUb2tac26Y+wwruBzzuPsoWM4djgB6NgfvVrXVVku2teZPJ7o2saey5MJ6ts3FI95eC8ZdzSqG2Vao1NLGy59czi6uonHxF+7j1TxJwkTGHNlCC4Pzq91RAd+1MUo3HxUdrKxdpRo0B5VtW1V6sHa0oT71xzNu/aEFz9KyK+BS3eMn9iK22ePYP2cD/HDKa41ug7DmG6NqlwXV722rKjMC1S23XSdtj+eJvu24vak2/2C6BoFZ+SFVX69GXdICpw9EF7e72BtDH+1meLrzgzs++CbsyewY7Ef2pjdwdGvRsJr9gEkybvMphJ39PNqod5pFBNjiL8HFGnyJvxnzsKsRasR9M95hO0bCjfu+FyjRNdwPCgIgXv3Yf8/98vGJYRhf2yW6tNpumDgBJ8R/0MDrm5+/WodgkWOGPheX7Tmv7MlFJSL9nWmhadRN0+bJnlW1bY1ZeAA75HD4MEFJVf/OoWrsECHSf3Q3krJV1stt+VabX8a0NftImUoOCMvqIrrzeA6Aav37MHewN3YPNeHG1GA//4Ix205PR4sOxXplu3w9qe7cPrst+jNjcs5FoGbOaXc0c4IJlb878503E7OBuPvTMuUXP/hjGYNlYVmhqjn2Jj7kuH8fRFXxV0PDMVFkkfiGsKqQUOI+2puPoaxa1u0b99e/NeujQssq3zhSaV3JQb3n3BHXJaO/y5EciNM8UrrxrDhp6lkgfbzT6GwQCT85eJ+4ISySaP24P5OPzQqG6oGdbbVEDZeAzCJ+6X/ICEJIjNfjOzehDuAqS4XpXUmS14dZiu8PURghHoa1U11PUGeiO8lE+HexVCE8aNe94SHvfS9toUo4i9YL07BregUYRxHq/zJo0l7VNW2VclGVg4/rwiJVy4hnB9Vnl8DmLfrh8kdxRdqcbrDv/8rCn4EVactKypzU5Vtt77O259u9m2N9gtS6yg4Iy+oiuebWfYZgrFD/eDnNxRvD+kGJ37yxfOIiK/6pVVyKwDdur6NhV9+h23BoYjjR7q5oGFdblcybADXTvzSsdg2ZyxG/K8f5h6+x8/BaQj7+tLdPLK4L5k2fTC5uwOQthkz/Ofii08mY+i7vwjTX0Ld9v/D/PLpC7Bh1x5sX70AI+cflnOKUiq9mM348IPPsGrZIny8PZrL8DDMe+sVPTp9oea2Wnli8KQ3xEtYvj0EPVz48jRQWS5K60yWvDo8oeoEsAEsNKqb6grCjOHD4O8/DCPeD+TCBUf0f6cbWvC9VTaN0bolX1p/Ys1Hy/D5++9iyp474qXEtMqfPKrLvYKqtq1KCOaMeRvvvvs2/N7dwe2zTTBsim9Zfnkm7nhzrLf4o9mAIejtURPPAVNU5qrbrpHO259u9m2N9gtS66gWyIup/HozO3Ro0wTW4pEGMHVrgz78JTG4hojYqtedvWT/Kka73sHmTxdjwcojKOk1H7s3j0ZL8ReFA7q88y76uXCHxoQw/PnIA109NHhcp7knJq77BjPesEb8Xz/hm2PmGDT1TWEih5++eQtWjWmNR3/9gPmTJ2LOvjS08W4OS2GWSsxfw/SdAVg9xgURO77C0pX7keE9Fz8e+hyj3dS+T612qLWtVmjTfwh80Ar+gzuggaR3RkW5KK8zWXLq0E1u6Vamad1Uy5uYOsQFNw/8jasiV/T78AdsGNcSxvwk09Z4+9sF8Obvjt27Hxfrj8Q3c9qJlyqjZf7k0STPqtq2MnZj8fE7TogMOoyr6IC3V/2ENaNblOWXVxqPC/svcR9cMWxsdzSrkW81JWWuou3WSPvTwb6t2XaR2mbA3xUgfCaEqKUUoqw0ZBabo4GdRZUHtzJRFlK4uM7awRpyny+qSnEu0lILYNbABhZyL9BRvv6qhPlFJqiv7TbVGhXbyp/mScmDkZ28slFWLpqVmfZ1qGndaIB/dlXTMQjEBOy99x0GWWYjVWQqZz2Ma0IZCqaVqXYbrUSDPKts24rxD6F9DAvUM5OOvhgKozbCt9MC/Gs3GwevfYk+NjqMLtQuc56ytltT7U/ZOtVRg+2VVAsFZ4QQ8iyQCRT8GtFXKX8X9IUVb6HbZ5fh8ckxXFjqpd5NN+qiMidPCZ3WJIQQ8mx6fBVHdl/mPnhj8sDWug3MCHmKKDgjhJBngbE13EeNxOhRrrA2rva5yOdACTKiriCx0xCMnuGPvq/UwI0AVObkKaHTmoQQQggheoR6zghR4csvv0RsLH9nJyGEEFLzqOeMEBVMTM3wMDkJNjbqPbaVEEIIqQ7qOSNEicjISIz3H0eBGSGEkFpDwRkhSpw7dx7e3mVPHyeEEEJqAwVnhCgREBAAX19fYYgQQgipeRScEaIAf0rT0dERzs7OwhhCCCGk5lFwRogC/ClNf/9xwhAhhBBSO+huTULkyM/PRz3r+nSXJiGEkFpHPWeEyHH06FEsX/YJBWaEEEJqHfWcESKD7zXr3t0Hu3fvgru7uzCWEEIIqR3Uc0aIjF9//RU+PXwoMCOEEPJUUM8ZIVL41zSNHTsOx44dpVOahBBCngrqOSNEkJiYKA7M1q79lgIzQgghTw31nJHnEn/d2OXLl5GSkiKMASwsLNC0aVO5pyvPnz+PuXM/EAdmXbp0EcYSQgghtY+CM/LckQRanp5t0K9fP2EskJSUjKioSOwM2CV+X2Z9oXfs9KnT4ofNfvPNSrrOjBBCyFNHwRl5rmzc+L34lUuq7rTkry2TMDc3p7cAEEII0RsUnJHnRkhICBeY7UJg4B7UqVNHGEsIIeRFw19D/OTJE2FIM3Z2dk/9umMKzohWpHuepN27dw+5ubnCUO1JSkrC+g0bsHDBAtja2gpjiT67efMmsrKzhSFClOMvP4iMihKGCFGuf79+cH9Zu8tUZNsan1anTh3RvXt3tGvXrlZ+/FNwRtSSkZGBQ4cOISTkdxw5erTSNVvSOr/+uvCp9hQWFmLt2rXo27cvPD09hbFE3zk4OKBBgwbCECHK6UNvBnkx8Z0RqampOPDHH+LAbfHiReLrmWsySKPgjCjF3/W4bdt2fDBvHr5dswa9e/fSu4vm+dOZFy5exDcrVwpjCCGEEN3jOyq+5r5rYmNisXHjdzV2vTI954woxJ+z519j9PhxtvgF4O+/P0MvAjP+V8yUKVPEd2WKd5SvV2LypEnCVEIIIaRm8L23fEfA9OnT4Oc3VPw9WROo54zIxTc4vuHp43O/+N68etb1xZ+bNGmMpk2aYseO7XTHJSGEkFojeWxTTbxRhoIzUgXfG9W3bz+9fiBrp06vV7k4mL8O7p133qGHyBJCCKkV/KObrkdH6/yyGjqtSarYvHkz/P399TrI4V9MLou/QYG/k4YQQgipDcOHDxdff8b3oukSBWekEv56rv37D2DSpInCGP3U2KWx8KnM1i0/iX+50PPNCCGE1Bb+O2fBgvniOzl1iYIzUsnx43+JbxPW9yDH0bGR+N+2np44dfKEuKePEEIIqW38GRv+ERv8JUG6QsEZqYR/ZIaPT9VThvrG1dVV/GDAkJBgusaMEELIU8N3ZgwZMhg3btwQxlQf3RBAyvGnNBcuXIT9+38Xxugv/o5NXm318OUXFCMhtfbefGBnZQYb7u9FV9vlrg13Z2vhEyHkRcU/b5Pn5+cn/re6KDgj5SIjI7EnMFCru05iE7NwPDIZf8ek4+ijssCJVJ9/Myu8490EXVo1FMZUxgcvR8MTcfRaCgLuPhbGktrWz74O/Ds7o18HZ9QxNRLGEkJeFMePH0dsbJz4eaC6QMEZKadt5B9wIg5Tjt/DnFa26NnKHk0dLIQpz5fa7CFJTM3FEy7w4gPeeaGJWOPtjPcHthSmluHn8dsULv78fhcntGlaH+bPYWCgzz1Tkp696/ez8PWJe/DkgrQNE9pTgEbIC4Y/87R12zadPVKDgjNSTpvgLOT8PYz+Iw4n/Vsr7N0h1SMJwvgAzL9nC/E4PijovvIcBQN6JOOxCBO3hOPlBuZY6U+PdCHkRaLr4IxuCCBa4wMEvrcgcFALCsxqkHMDC6wd6iHuneQDAN62v+LgWNeIAjM9wl8juNG/LdZFpyPydpowlhBCNEfBGdFa6PWH4n/9ujQV/0tqDh/88tc1hceVfekHXE7BdJ+mFJjpGT6QXtbBAedupApjCCFEcxScEa3FJuegR1MrYYjUtE6NrRB+J0PcexaVV4RXGtNdgvrIw9EKCRl0UwwhRHsUnBGt8V9Ar7vp9mWvRDH+Sz87vxhpwqlNvpeG6B8LMyPEpD4RhgghRHMUnBEdKUFm6DpMmLAOp8P2YOb4DxEUG4/Q1TMwMyiWm6ophuLUKJz7L1s8VBIbhJlc2qGZmqckS5dpqVY5H5opQW50IBYN7gir5hNwJqVIGF+mpspHkcrrqE6+FKmJNCVSlbRF3bY1/m5ldR4no3w9irdXejlFn18U1c9/5X1sV2zZDx998yLWrfZk952aPK7UHArOiI4wiFJj8MueGKQk38XRvReQkJOL1GvHcTQhh5uqoZKr+KHPCGy5WfbsLpaTgKNc2qmi6t9crMu0VJLJh0ZK47Bv3mLstx6Bn1ZPRkubyteX1VT5qKU6+VKkJtIsJ1LcFmuwrSmjfD2Kt1fRcrXeBvRAtfMss491bWwqTNAvL2Ldak9m36nR40rNoeCM6IgBTOtawNLJBc5NbOAIZzjYGAvTZHG/ZNLicDk2DcXCmCpYMQoflwoDlSldluUi4WoUYtMKhBHKKUxLVTri6RGIULTszUTk8kcGJfkoV5yG2IjIqusqzUPGLRN0HjwKo4Z0gb2xgTChjMblo2HZyM5v6D4S3+2YA+/6hurlS6kS5CZEI+JqQlk58RSlqah8JJRMZ7kJuCq9Dnlqo62pyoNAre2VUqlOypWV7dWEXPk/iqTbp2RYUVvmyc6vLVXrkSZ3G5WXtdyyULWczD7WzEzYx2TXr7L++GPaLVyTKnO161KTclFVtwqItyUiDmnFCpZSmj8Vx2s16qacqnlly12jslFA7v4t5/ijb/jnnBHCCw4OFv+pa+HOCBZ87q4wxFhxzDbWf8xedj/rDPu421csLO8+C/ZvztxWhbMibnpR+CrmZtKdjfP3ZZYmpsyY+7P0/ZydSBKVJSBRFM5WuZVN5//45fOFZf3fG8T9K29ZEUs6sZINcrMSlmvMfObsZdE5xcL0CpLtkJ+WinRKs9j1gJmso1XZcuJlfT5kf9zJE9L1ZD4+LbnxVqz1J5+zJTL54Muhguy6nFjHabvZdX5dMmVg7B/MtnJlzZd5zL0LzGTh8fJpqstH/bIpU3V+32XH2f1/vuHSnsqC48Mq1883v7ODc9oxm2kHWUqpkETJDbatT3PWa9M1ViiMkijNucoCpnmXtwFjt2FsxbEg9nmVslJSPmJKpsvUk2XHvqz/a7ZV66AG2lpMQqa4fsoo3say9sKVZxK3RepuL0d6uaqfpfevyuVVpX1+fpBdUNCWq84vzKNmHVeiZJ+RVWUbvzjBYpWUddX8C+WpoA0nFUk2niNnH4tXuX55ZSpT5tO3sANbpjB38bAVcxu8kYVnl81ficbloqBuS5PZMUX73w9n2GXpdbj7Mf9hXN64vCaJZ1TVPpUdr5XvB5Upn7dsXeq3TeXiK7535OzfRfKOPycSquxnmoqJiWELFi4UhqqPes6Izhi6T8ThX0aicb1u+OzMYnQ2r9zTU+Y6bjouQExePp4kHMHc/C1YfuCWcG2AwKg95t88jy9dXDA6MA635rdH2Qm967hhPRHH0/OqLFsavx/zR+xHsy//RYaISztxDwbeWYE526Mg/9Js+WkVKU2HofBqAN6bfB8jTyajoECEgtRTWFwQgGUH44Q8JCLv9Y9x5vwx7JgwFyvk5oPHUBS7B9PeOgqP1ZfK1nVvB/rFLMeE1eeQaVi5DAp3+qG+sCQMXxb/o275KM9TVaV39mHGW1Lz31kP9y3zsGxnZFkejTpUrp8Fg9DNbzDsf9mPUwmF3AxcOV37C9vDvDCudwtU7j8tQdrpLZhxuBv2P8pDoeghLs02wNeLEtAv6pxUntqBKSsfpqz8QvFQXE/X4LsvDk8KsnFrdQ8U3Zbzjs4abWsq6ljqF3tZu1Jje1WS3r92Y8it5Ziy+bLUdlW0z03uEZintC3zJPOfwJHvpsBNrTqWps4+I6tiG7d6xWG5Rvt1GUVt+LNjSdwWCWTqnt/HGoknVKz/R89ILFBZf5Iyz0PamVkw2joPi673xhG+7cRtgfe5LdgVJvvcO23KRUHdGtjDS+7+1xnD7MOx+P2KdvVgd08UnLpTlhw3n+r2qfh4rckxV715NW2baqiyf7dFprzjzwdBiCrQry40Cs5ILWuNEcO6opGRAYzsW8CzhQmSckUVB0yluGWH94SrhaHMsgW4f+YQfjVtizZOOYi5fBlR8S+hWduGOP3zOcTJ3ZvlpZWFu0rTMYBJmwkIjPoe77WzRgnf1R91D49NgceFxUIe+HT/B68OXmjftK54jHz5iDv5B454jsT4/7nDwoArj0Y+mPxuN0RuOY4rOdqcMtQmT8Ki5YqREvkPDtkOxKjBwnY59cPnp3bh/R7OwjyyXoJV+36Y1OofHAh7wJVDHm6c+RNXBwxA92ay1/AYwLSeHZyyTmPndztx6HwKnKYF4XHkPLQ3lQ7mVZVPnpLpQdi2/xj+7TEOE3u5cMGWKey9/TCuh4OQtjp00daU5+FypuREzRPcCjtZze2V8MXUCT7C/uWF0eM6I3xPmNR2VbTPLsPnqWjLPMn8XfDmWH8161iaOvuMLMk626HBg3Ma7tc8xW14mmc9YR5lJOv3RL3EUDX2UW5+8THNEFZNmqMF3DFokA/c+Lbj6IZW1nnIzOODJmnalIuiulW0/3VDo5RQnPKqaFcNOg7FhLEeQnrqtE9J3vh1arsfqDuvpNzVbZvaUPf48/RRcEZqmQdcHc2Ez5pStGwRMlISgbTtmOrbFV5vdOH+emDU12eB9Ew8lnsRrby0ClSnU5KFuJC5aGtWB+ZOHTDykwBcTMgRluepm79S5HOBE5rZo+ISGWM0at4SjdMykJWnTXCmZZ4qESHpzk3uyGACY0PJwcoUdu6e8GzeANJXNlVi3hK9Rrnitx2nEJd7DYe2JuLtMV3hUuV4x32RdJ2N4C29kL//E/j19ISjrTcmbDiD5ErXw6gqn2Il0x8g9s4jwMEalpIjnIEl7JuW9z2qQRdtTUUeciTfSsJ81dpeCVtYW0r6Zw1hVtcCSElBenl7ksqXyrbMk5pf7TqWodZ6pEnWqc1+zVPchtu4WHBfz6pI1q/uPirbVizQoJ70sAIal4uSupVbN95o9ESmXaEu7Jwl7Uqd9imbNwlN6kbdeaXWpXHZqEvd48/TR8EZeQ4YwdKmAdByBcIe56OwQMT95SHj5gWEHpyI1+SeXpXHGFZK0ynEncAlGPJ9PSy4EF92+unkJkztaCssr4mXUMfCGrj7CBV3xxch+dYNxDdsiAZW5UfLalKVJ9myMYW9iyt33C5EUYnkYJWL2EObsWbLYcQLY6qyQOu+fuhx6jAO7z6IoPQ+GPJGQzlfhCXITUxAzsuTEBCegCcPLuPY2o6IXvA1fo2WPo2nqnyMlUxvhtYejbgvriyUd26wfGSl6OJuLU3amoo8lN8wI8ynk+3NRZ5IsrISiPK4MnVwgG1d2UN9gRZtWd06lqbNeiS03a8Vt+G1h2Ih24elWE3uo9qUi7K6lVc3TjCv0q4ycD86SRhQt33Ko0ndaFqP1Wkzqig7/ig7UV77KDgjeqwEBUUlanRjm6JZ137ofzcYuw7Eiu++YbnX8cuSMfD/MRLq/96qoyKdYuRkpkJk1BAtXG25Q04BUi/sx54jSchPy1ZyDYy8fNRBc+++6BEVhJ0H+XXxz+L5F/v2nIUb94u3lcIvHmnqlI+qPMkyhlNHHwxMP4SgvxK4HHPblXQamxb8gKh8G1R+g2rl9b/UogcmDr2KRbO/Rfq4PvCykfflVYxHp79Bryk/4UxyIYzsXkYnzyawhBlMjPg8S9JUVT7mSqYPwji/t9A/bBe2i/PAHZCj/8bvf0m+lOSpibamPA+vWkgOv+Zo4TtIw+1V5Cx2BYbhUTG3ruSz+PnnCPi80xUtqlSFdm1Zbh2zVEQdOYAjUalyyk/bfYan7X6tuA1fKzTjpqpLF/uoItqUi/K6rVo3FmjRaxiGhf+ItTsjkFr0GHcO78D3IffLFlC7fcqjSd1oWo9qlI3SNiePZP9WcvyRuRv+aaPgjOgnQ3t49LFFiL8HmiwLRZ4wWj4DGLuPwabfh+Dukk6wMTODqW03rHryDjZ91BuN1N7nVKVjjlbDP8CHzXehr31dmJjaw+vrh+g0vjNSb9zHw0I5hwmF+TCASaux2LTbG+Hj23DrqgNz55EIclqO35Z2h40a26xe+WheNi+5jsD33Px35rSGuSm3Xc1m4OrINfh6ameYCPPIzZeBM7yH9eYOdF6YPqQd5L/YiztQv7UA33c4jeFN63FlWBc2viFw3/oZxrZ2lUrzHIqUlo+y8vOBw8t8nnvi0ogWXB64dQwNQEpjBW9UqLG2pn4dl6Wp5vYqZQfjfxaheV1uXU0n4OjLS7F2oicX/slS0ZYVneKRV8cl8fhr1kjM+iue+wqUpeV6xLTfrxW14RWDXLhU1VX9fVQxbcpFRd1WqRuu/NyGYU3IaGR+7QsnCxf03hIP57Z2aNy6CRpUK3+a7Qea1aMaZaO0zcmotH//CwdFx5+WVfeSp0q4a5OQaj9KQ/dKWVFWFsuVuvtdpaJUFhMezqLic7ilq0FZOqU5LD4qQoN1qMiHeF1XWEyq5BZ1+fiyFj9Ko/xRDRqWj6Zlo3K7ZNdfxFIOzmY2XmtYeJ6qNXDLpsay8PDrLL7Srfdy8qRqO5RML82JZ1HhsSy1SI3t0VFbu3IrVepRGgKVZVlG/e1VRsRSYyLVq2eN27K8Oi5luWc/ZV3WRzJ5D1EQ03g9MhSUtUpqlrtKukpHlsbloqxuZeumhOVEH2dBhyNZqmTm0jgWMLgZe022rqqTP03qRpN5q9tmKpHdvxUdf7Sn60dpGPD/E+I08oILCQkR/+vn5yf+V5Uvf70q/nfJ8Dbif0nNCjgRh+gHOZjk64rW311C8lJv2FipceFxjWMQ3f0Hxy5HI+yHjYh5ey9+nfiKBqePni8h5+/h4u0MrPRvJ4x5HiipYxaP/fN/QsmMJRjqqme9Dy8ERXXDUBi1Eb7djqDrj4swrIUp0iN/xdeL7uGtEz9jlqf8vm2indjYWGzdtg3frFwpjKkeOq1JtMa/iPtuuup3CBLdCI3LEL9o3t3ZWjwcn6rNc7BqggGMi2Lw48R1uNlzHTb5t3xhAzNeUmY+6tWpeKLd80FJHRs0xpA1X1Bg9tQoqhsDmLTxx/Zf+kAUuAC+bwzH0j8t4H9oI6ZTYKb3qOeMlNO05yyRCw7cVofh2syO5QEDqRmxiVni3rLb873g3MACiwIui8c/X70zz76MxyI0WhGKk/6t0aVV5dsnCCHPL+o5I3qDDxImNbfGqkMxyC/Q+s1nRAX+C39h0HXMaWUrLnMef2pzXXQ6zkc/FA+Tp4/fBxbtiYJ/MysKzAgh1ULBGdEaf23NtltZOJ+Uh9EbLyDytuwrSkh18F/2fPDVd90FNKhrjOUjK67t43sqt/RuCt+Aa+J6qIngmA8KiWqSeuL3gahH+Vg2tJUwhRBCtEOnNUk5dU9r8l9G2/6Kw7zQRBwc0RLerzbE8qCr4p4cHt/DQ+Q7de8xovKKhCHVPLmg7P0uThjetRnqmFa9jul4RCI+OnxLnCbfY2NjrpurvURFpdgcm4nxXJr1dZTm06RpuWtjjbczJvVqIbeeCCHPN12f1qTgjJRTJzjjA7NZOyLEPQS7J7atdK0Z39NyIyELKVnU46KIg7WZeq92Eah7LR9/Tdr1+1nCkG7suvAAuUUlmObdWBjz7NK03DXl0sCCgjJCXmAUnJEaoyo444Mv/pqa1LwibPRvW379E3k+0cXthBCiHrohgDwV/J2Z/LVPvMD3O1Ng9gLgn6HGn6pbdeyWMIYQQkhtoOCMqMQHZn6bwuFpXwcbJrSn0zcvkDHdmuHoo3y6K5QQQmoRBWdEKQrMXmzUe0YIIbWPgjOiEH/xPwVmhHrPCCGkdlFwRuSS3JVJgRmh3jNCCKldFJwRufjnlvGPy1g5xpMCM0K9Z4QQUosoOCNVBJyIEz+0M2RaB3GvCSGS3rM/IpKEMYQQQmoKBWekkrtZRphy/B7WDvWgx2WQSnq3bSR+CwT/wFtCCCE1h4IzUi638CX8eLush4QeOkpk8W8r4F/NdTwyWRhDCCGkJlBwRsr9fscMTcyY+P2AusVQnBqFc/9lC8PPjpLYIMycsA6hmSWVPmtC2+V0o6LsdbEdg9o7it+pWpMvRa+d8ipBbnQgFg3uCKvmE7ArVjo/ldvr060/XUhF6OoZmBkUy+W6qtrM39MpS+32AeXz6qqNaH9srLxObdNRth/UFOXtUbdKkBm6DhO4cjodtgczx3+IoFrJY/VRcEbE+BdoH8k2xAhXke5vACi5ih/6jMCWm4+FEc8OlpOAo3tikCpilT5rQtvldEKq7HWxHXyPKv8y9tPXau7GgFopr9I47Ju3GPutR+Cn1ZPRtbGpMIHzDLdX+URIvXYcRxNyuK/wp+up7Ata1qfSbZVJU+t86aqtaZuOsv2gxtRme2QQpcbgF65uUpLv4ujeC0jIKRam6TcKzoj4sRkfHb6F9xwLYVunur9luF9iCdGIuJqAXMmex4pR+LhUGJBSnIbYiEjEphUII2RxvwbT4nA5Ng1VdieWi4SrUUqW1YI4zQhEyFufXHLyqlTZ/FcTcqselFSVBb9tNxOlylTN/Csoe4XlylOR9vtdnBBwIVEY4uvoFq5J5YnlJuCqvDJRVb6yeVRIg3JXVK6leci4ZYLOg0dh1JAuaGZmIEzgyJSZoftIfLdjDrzrGwpjeJrmW8u2qqrMxNshvy4Vbo8M+fnTgerku5yK/EXEIa1YRQal6lNeXtVJp8o2KDqmaUpeOiqPi2Uq5aVKOmruI4r2A2XtTlm9KllOZXvUSXuRZQDTuhawdHKBcxMbOMIZDjbGwjQ9x7/4nLzYdv4dyzp+eooF7gthwcHBwljNleZcZQHTvJmliSkz5v/chrEVx4LY527CMPfntiqcFTERSzqxkg1ysxLGO7GO03az6znF4nSKwlcxN5PubJy/b3lalr6fsxNJIm6q7LKNmc+cvSxaWLZcwRW2vksz1nvbDVbCD+eeZR83NmWOi06wbH649A7bO7ol67L+CisozWLXA2ayjlYV22np8yH7406esC1TWXBSUaXPcvN6IoHLW1VV8yOdX3XKwpP5+LTkplmx1l+cYLHq5J9XFM5WSZV92V935v/eIC7NsuGKcuWpV7bp2fnMZOFx1vj1aZXzNH0LO7BlCnMXD1sxt8EbWXg2t6yS8uXJ5tFRPE9ZObOiBHZiWX9mI2yn+uWupFxly8U/mCUJS8lO49trfpU2IFOXivKtbluVR60yU7CPyCxr2bEv6/+arbDvVVWWFp+/e+zgtNYV+wiP34+8hG2YdpCllArjS26wbX2as16brrFCYVSFqvn2XXacJRWVSq2r8v5UJp4F+zeXKnP18mfs7sf8h3FtR7oeJeTuA8I6VaQjKeMq+8v9UCVtJIEdm9OO2ahTVlXaWii7r6jNylFefvFhldJpuvA7tk2dfUTefqC03SmuV6XtVWV7rMZ+oobimG2s/5i97H7WGfZxt69YWJ6kYnQrJiaGLVi4UBiqPuo5e8Hx1w5J7s40MVTxC1SpEqSd3oIZh7th/6M8FIoe4tJsA3y9KAH9os7hSxcXjA6Mw6357cBi92DaW0fhsfoSMkT5eHJvB/rFLMeE1eeQWb4J13HTcQFi8rjpCUcwN38Llh+4haL4/Zg/Yj+afflv2bKJezDwzgrM2R6FJ8KSYiZN0alfE4T9HYVExlB4KxInHwKpx64groCBpUbj9HFXjOjeHLgagPcm38fIk8koKBChIPUUFhcEYNnBOC5X8ijI6wdBiOLSlk86P7sx5NZyTNl8GdlqlUUi8l7/GGfOH8NWrzgsVyf/PKP2mH/zfHnZP/nnCzTmtuOG9UQcT8+rVK58PkvVLFv+sRpjbUXIb/6ykKc8pJ2ZBaOt87Doem8c4dOO2wLvc1uwKywVhWqVb0Ueg7fP5baTU5SIk1+8h+GhXvh19wL4NjJSs9wZipSVq2Hlcinc6YdGwpKyZXZrfntUPckvqUtl+U5Tuzyr4tqrWmUmbx+JQ7542Wvw3cfVeUE2bq3ugaLbucIyyjTEG4P7AVv/wNlHfL8Hw5NrJ7E3eiTW/jAbbr/sx6mEQvH4wmt/YXuYF8b1bgHZfojSO/sw4y2pfN9ZD/ct8/DZMU0fw6Igf//txQfvV+Tvwe6eKDh1R1hGhtx9oEyhWunI2V+O1MdchW3EHl5+g2GvTllV2rZY3BgUh1kqjwVyGHWQSucG/vWOxRx1jk0yZVO48y3YKml3hUrqtUDhcrF4oqI9ar+fqMfQfSIO/zISjet1w2dnFqOzuVQvuR6j4OwFt+fsXfSzr6ODuzMNYFrPDk5Zp7Hzu504dD4FTtOC8DhyHtqbSu8M+Yg7+QeOeI7E+P+5w8LAAEaNfDD53W6I3HIcV3IkXfOtMWJYVzQy4qbbt4BnCxMk5Wbh7plD+NW0Ldo45SDm8mVExb+EZm0b4vTP5xBXKZKqh9bdfGB9PBw3Mp/gXkQo7r75JnrcPYdLt/OQeeUM9jl2QacWdWHSZgICo77He+2sUcKfvoi6h8emwOPCYu7QKo+6eZXmi6kTfIT8eGH0uM4I33MUwX+qWRbD/wevDu3Q4ME5NfOvCJ9WT7haGEqVq4jLZwHuq122wPiX05Dn0EKoI0NYNWmOFnDHoEE+cOPTdnRDK2uunPOK1CxfSR690MHDlhu+gf0fT8KQjY3xw475XGDGXwuj6zamLUnbVJbvxxqVZ2UG6pdZlX0kHbFhJ/Fvj3GY2MuFCxpMYe/th3E9HIRllDGEjdcATGpwGof/TeHWk42rxw4i5u3hGD56GCa1+gcHwh5w4/Nw48yfuDpgALo3k71GqRgpkf/gkO1AjBoslL1TP3x+ahemedYT5lGXgvyFHsMpr4r8Neg4FBPGegjLqOsJbqmVjqL9RZGXYNW+n5plJe2JjtqsNscmCWXtLl9pvSpeLhtxStujZsedFwkFZy8w/loz/s67BX2bC2OqgzsodZ2N4C29kL//E/j19ISjrTcmbDiD5ErXcpQinwuy0MweFZd9GKNR85ZonJaBrDzJQcgDro6yD8AtQEZKIpC2HVN9u8LrjS7cXw+M+voskJ6Jx5UuxjVAXU9vjDY9jZOXr+HK3/fRe+IsjO0Rg2MRUbh86iycRvqgDf8rqiQLcSFz0dasDsydOmDkJwG4mJAjpCOPunmVZgtrS8nva0OY1bUAUuIRcy9Fg7Io0iD/isgrV55mab/WMAvFRsYofCJ9d5gFGtSTk7Za5Su7XVdwMdcG3gjH6fBk4foVXbcxbcluq7x8V7OutCozXklZ3h2sYSk5uhtYwr5pfWFABas26D+2Pvb9fhHJ2Zfx+w+P4T+4AxqYt0SvUa74bccpxOVew6GtiXh7TFe4VPm+FyHpzk2uqkxgbCiZaAo7d0+0cdH0uYlq5g91YeesZv7KCW1EZTqK9hcl1C4rabpqs9wPBo2PTVIUtrsneKCkXg0ULqeqPerimPZ8ouDsBRZ6/aH4zrt2ze2EMdVRgtzEBOS8PAkB4Ql48uAyjq3tiOgFX+PXaOlTKi+hjoU1cPcRKu46L0LyrRuIb9gQDazKj0xyGMPKpgHQcgXCHuejsEDE/eUh4+YFhB6ciNdku6utWsF3eCn+PLAHfx5vAu/WHdC+78sIPfoTfg40xJBuL8OcC/juBC7BkO/rYcGF+LJu95ObMLUj33ujiLK8KuqIz0WeSJLhEojyuDJxaIyXm3K/INUuCyNYapJ/jWiWdh2jElg+eoTo22nCGEVEWpQvbxg+W7cVG9a2wb4P1+OPeP72d3XLvTptTFeqU1fatEkJw7K8p2ShvLOF5SMrRd27+Oqh3UA/tPztAH7f8wd2Ww2Gn5c991PHAq37+qHHqcM4vPsggtL7YMgbDbnxskxh7+LKxRqFKCqRfLHmIvbQZqw9FAv+RF9l3HySoIEVIC+76hyVyctfBu5Ha3rKVGgj1U5HHnXLSpqu2qw2xyYJZe2uDhwU1utV3FC4nKr2WJPHtGcbBWcvsF8vPRDfeaebR2cU49Hpb9Bryk84k1wII7uX0cmzCSxhBhMjfgcrQUFRCRi3kzf37oseUUHYeTAWuYyhOPVf7NtzFm5jvNFK6c5YB8269kP/u8HYdYBfltvPc6/jlyVj4P9jJKr2ddnitTe9kfDTT9j9ii86u9VH07ad4BQchH3FPeDjyR00uO3OyUyFyKghWrjacoeKAqRe2I89R5KQn5at4JoHJXk1VrT9Z7ErMAyPuC+i4uSz+PnnCPi8MwB+vpqUhamG+ZcoK3vlNE/b7EEyLt3LEIYU0aZ8edwvdKO6cBs+Gys8DuPDr48gvrhIzXKvThuTkLRXbZmpLk+WiqgjB3AkKlVmPdqWGa8u3H0HoX/YLmz/K4FLifuyjv4bv/+lbtBhAJNXemDs6ycwd84O2I7thfZWZV8TL7XogYlDr2LR7G+RPq4PvGzkBQzGcOrog4HphxAkXj9X9kmnsWnBD7hWaMZNrWBo44BXEYHT3HGoWJzHQ/jtVIowVREuf72GYVj4j1i7MwKpRY9x5/AOfB9yX5iuiOw+YI4WWqUjTXEbUa+sJPh0TOGmkzYrQorGxyYJZe0uH9YK65WbU+FyJXBW2h41Pe4UIy3qOEL2n8ddSa+a6C5C9x9E6N28smHJPEeikCavcp4RFJy9oBJTcxFw9zF825RfCl1N3E721oL/t3ce8DVe/x//3Oy9914iIRF7VBBSI0WNFpUWRY2WKr8ObXVp/1VaikqrRozQ2KFiE4LEJmTdDNl7b1k39/mf5+aGm+Qm994Mos7b68ozz/ie7/me7xnP8+DP/sGYZqMNJWV16I0KgOPOH/Geqx2cxuojYLYTrL8PQW3P97B1/zDcm9MLeuwwuMUMHDL/AUdXjYBeq/aDA0VHb2w9PhlJXw8k96pAWX84fnvyPrZ+Mwamze5VgGGvIRirApiM7AlreQ7UegyClwFgOMsT/QWNjhp6TvsfvnLYh3FG6iTdRhiyNhsD5wxGHjcF2TXiancreXVWE17TFAMo3lgJB3WSX5u5ONt9FTbO6w0dmWQha/4J8kZPZa/22jdIFR5ujuxhK0elI6WSh4etjp6pty5fSVMtKq54f83ncPrnF/xyMguWUsmdOBht1jGCiMysv7+OBpMvG1LIsy4VF5fNwLKLqaTJEkWCTrYqs4Z4PXF3ejeosTJ6yw85VjJMKSp2w5hZo0hzPgwfTHAlqRHCscCwt8eQhn4IPprcF1rCw02Rs5uOP0m+E5eTe5WJ7G2XIHzGBvz8piVJ3TM4Nl74co0jLs4kuqmsDftvUuA2o6fwbEuQ/Nm/jQ0BM1G0dhTMNSwxZkcqLHobwMrVGobCqxrRQh2QORxRJOmIlLJ6Fo4zuh22wG/t1tneGB7ijDUy2aYGWte7PKtpLZSrM1xaua/AbmYr+iir3alCysVf8M6M/QhrGGIsCsPOGf/DzrCGjqLwmmUXkSKpT9qVET61SXnFOH8vjZm0/rpwrx72NRrteZVGPXymNi+OuXcvkklt9Cg0OV5czJSLPsVcm8fE3gtjYvMaXuUgA4J77zGPUstIyB0Av4xJfXRfxvBaymtLVDF5sQ/FxyGrLGTKvxjZt4YMYX+w9RazJTBauNcKbZJvS8gg9zbrmIwya40W5clnyq+tZoZufsiIzUU7ZcYvS2Ue3Ytj8mo7IhMstUxO4CeM3pANzD1pXkcgleyFZfkolSmTKpl1TFnUBebQ6YdMXsP1/HjGb5It06clOQpoWp5tDUeU1nREFlk1CadDdFYoV6ltkwiS9K6l9Em4T6I+tlhPXg46+lUaHPY/oZ9GeYVY6fcAlnqqWDrBWXgECAgIEPydOnWq4C+FIomA0GTBC2lPfOouPEKRGiYVJz7bjrolX+MtO0mjGi8SBlVJN3DuQRRu/uWD2HcP4si8Ho2mKJ8fDGoe+WDU8DNw37YSb3dTRsHDI1i7MhlTgvZgmVuLY1RN6KhwmtKVZEV5nsTFxWGnry9+XbdOeKR90GnNV5RNUQXoY9v4ySQ7Ozvcun1buEehSGagowHO5lZ26rc2/7NwrDB5w/91cceMhQPF2lhsm7cJMZ6bsHW28wt0NtjXPczGrn/GourA5xj12jSsOq+B2ad88JFMDlVHhdOUriQryvMkOTkZVpYNb9FrP3Tk7BWEXW9mv/4mEj4bAgvDZ2tROtrzp7waDPwxWPAS4/a/K49CoVBeTvz8/KChodFhM0905OwV5El1/VujRB0zFktLS2zatFm4R6FIx2RnPYQlFQn3KBQK5dUjIOA4XFxchHvthzpnryCRKcWYbdt86F5VVRVveHnh4cOHwiMUimT62+nhUmyBcI9CoVBeLdhZp8zMTDg6OgqPtB/qnL2i6KmJXwkxe/YshISECvcoFMnYGGvQdWcUCuWVhV0O9OWXK4V7HQN1ziiN8PLyEsydp6enC49QKK3jaMG+zBdIzZPm49oUCoXy34GdaQq+EixoOzsS6pxRGsFObbI9gNWrVwuPUCiSYafJE7Opc0ahUF4d2EGMhQsXYfv2bYK2syOhzhmlGQ1Pm/j4/Cn4S6FIws1CCzGZ0n6/kUKhUF5uWMds6tS3sHHj7+jdu7fwaMdBnTOKWP744w88evRQ4KBVVlYKj1Io4jHTVcWdVOqcUSiU/z7sC9vt7B0EjtnQoUOFRzsW6pxRxMIO0bIOWmpaKmbO9BY8jUKhtISLtY7goQAKhUL5L1JYWIgLFy5g8uQpgpe1JyY87jTHjIW+hPYVJDQqGyuOxeDOdx7CI60TGhqK335bL9j+6KMPYWNj06GPDFNeftgnNU1/vt7sxcZdAdqxoMgC+6b38nK6fvJVpumXctj3f/Z2c8Ps2bMxZszo59L+UefsFSQuvRiuW+6i+MeRUFVWEB6VDPtUCvuaDXa6c6/fPuFRYM7sWdDV0xPudT70RbldE87yQDBXfYGwE8IjXYPnrZ+Ulxv2EzxmZqbCPcqrCPspQzW1Z59VY1/Q3tEL/iVBnbNXkMpqHnS+u4KIjwc8fQ1Ce3jeIxMvoqJQJDN5QwhmD7bA1KE2wiMUCoVCaQvUOXtFoQ0ppaNZ6fcAg+z1qE5RKBRKO6EPBLyivN5dH7cTCoV7FEr70VZVQGYRfSiAQqFQ2gt1zl5R+tjqYlMU/R4ipeNwMtNCWiF1zigUCqW9UOfsFaWvg4Hg78OEfMFfCoVCoVAoXQPqnL2isE9pft/fGGceZAqPUCgUCoVC6QpQ5+wVZkQPI6y+lyN4epNCaS8aKgqIzXsi3KNQKBRKW6HO2SsMO7Xppq6I65HZwiMUStuxMdagXwmgUCiUDoA6Z68w7NTm0qHm+Cs4WXiEQqFQKBTKi4Y6Z684EwZYCkY72E86USgUCoVCefFQ5+wVR09LBRuGWeC3c4+FRygUCoVCobxIqHNGgfdwWzp6RqFQKBRKF4E6ZxTB6NmOMTZYcSyGPrlJaTN5JVWCB0woFAqF0j6oc0YRMM3dVvD3SEiS4C+FIis5xVUYaaMl3KNQKBRKW6HOGUUA++Tm/413wIILyUjPKxcepVAoFAqF8ryhzhnlKWP6WWB5T32sPhYlPEKhUCgUCuV5Q50zSiM+9nLEo9xKBITSd59RZCMmsxSWeqrCPQqFQqG0FeqcURphYaghmN6ceTKeTm9SZKKkkgczXeqcUSgUSnuhzhmlGQ3Tm0v9HtKnNylSU/ikVrhFoVAolPZAnTOKWH6Y0QuZFTxsPBktPEKhtI5fUilcrHWEexQKhUJpK9Q5o4iFfXpz/7zeWH0vh64/o0iksLRK8FeN6A2FQqFQ2gd1zigt4mihg8DpzoL1Z/TrAZTWyBc6Z+yaRQqFQqG0D+qcUVqFXX/GfnuT/XoAfUCA0hKRKcXwMqIPA1AoFEpHQJ0zikSWTnAWvPl96tZ7T6evKBRRMosqMdCKfh2AQqFQOgLqnFGkgn1AwM1IFSv9H9EnOCnNeJReCicz6pxRKBRKR0CdM4pUsA8I/DG3H/IqarFs9/1GDhq7HZdeLNyjvIqwT2ramdD1ZhQKhdIRUOeMIjWsg+Yzu7fgCwINDhr7Y7e/OBQpvIryqtHgmHe3oK/RoFAolI6AwxCE2xSKVLAPBrDrzxx0lFBew8f5vErB8cuzXTG0p4lgm/LqwL5qxe9WOk586i48QqFQKJT2QEfOKDLDvi7hzxk9cCqz4qljxvLbucfCLcqrxO2EQrzeXV+4R6FQKJT2Qp0zisyw7zxbciga1U3GXM/mVtL3ob2CbIoqQB9bXeEehUKhUNoLdc4oMsG+SoN959mjCvHfUaSjZ68WDevNnC3pejMKhULpKKhzRpEJPS0VnFs+WPBhdHHQ0bNXi1uxeZhtqyXQCwqFQqF0DNQ5o8gM2xCvm91X8GknN3VF4dFn0NGzV4eAhzkY1k1PuEehUCiUjoA6Z5Q2w37a6epKd3zf31h4pB46evZqwD61y5b1qF6mwiMUCoVC6Qioc0ZpF+y7z76e1gu3F/ZpNIpGR8/++9yJyxd8T5N+7JxCoVA6lufinDFZ17F9/Xqs334dWc/1rWq1KE7OQHGnxMmAl3UL+35egblzPsJKn2uN8taQ5w0B0XgiPCYbMqT9STQCNrRFvgy59V9sWO+DgOhS4bG20dveoNEoWvPRszoUXd+EuXM3IfimPz6e8xUOxbHf6czD9fVL8PGhOHKFrJAyyHuEkOgSwV5d3CF8TMK/XiR7SE3pyLAk0zgfslGH8qgDWDmpB5SUVcjvxyby7TzYd5tN7d141JRCoVAo7ef5OGdl8Ti26ht8HRCPsuflnPEycO2PjzDmw/PI7Yw4mTwS/meY/+MVVJhawkhXHaJLohvy/PudbMj8JUpZ087Lxu3fZZUvcQhyr2LT8mX4atVe3M6uER5vO01H0RqPnjGoyovFP/6xyMlKwtmDt5BWxkqmCnkRF3A2rYxcISN14fhr7HTsiKl3LJmyNJwl4edVtb/AOzIsiTTJh0zw43H40y9xQscb3woUML2JfDsHOqVJoVAonUcXmNYkTkJ5AfLLW2pI+KgqzkdxFV+4LyVPYnF63T48bNK2MlXFyM7KlTK8+rRl5Zc3d7CYQiSHJQMG47H465X49N1+0OUIzzWjlTwwVSjOzkJ2cdUz56SFtNfDhpXb+PpGSJIngZeH6PNbsXTCe/jhao7wYMfRMIo20EpLZPSMA2V1DWiaW8LCWg9msICxXvOHCZ5B8pEfjwdx+S07twwPNaXiy7HFe5lypIU/Qlx+tfCAZNocluD8fdxv6d6YdJSzhdhKPp7Cy0fc/YfN4+JXoPCxEgZPeg9LDn9M5GsjpXzbx+XwLDqlSaFQKJ0F+/mmzqYu1pcZo6TMKI71ZWLryIGSIOYLM2XG7OO/mSM/v83Ys+eU3JgZ60OYXP6z680WrGO2fzm5/rz9ZGbloUimjJxvuP9peEwlE+s7jYTRn/kiKI8EwGV8x5qTfTZc9jeN8Y2MZ65u/oAZoCU8pjWQmfF/J5jYMh4bQBP4TG3mDWbXSmHcSlqM/fhVzMGH+Uwte7pZ+MJ4RRDNw7bloxlN9jrRPPCLmahDq5jx9lrCMMyZAe9vYa6mhTVPe2wluYHHlCWcZza9P7Q+rIbrM6ueyWPUV8xfv77HOLLntYYy7/9RL89mCK53Zt78/h/m6K+TSVhN05/HBK3sLxJ323lSJZCYAB6RyRveB5mU4qvMt8N/YW5WsIlLZY7NdmDsf7snkG3tvd+IzEcws2aPEuZTmdEc9RMTxOZTlNp7zG/29efZH3t/pfDe2YveFJab6L1VTGbQOubNp/K2YjyWH2SixJb/s3S0KSxStpF+Hz/TNfZej6+Yk4kVwnDdGA8PZ3Jci3H97ifm6yb5eCYxlqZxkXL/cD8TycbVRAaCXzP5dg4DVl9hzt9LE+5RKBQKpSN5oSNnedt2IcjkQxwM3ocv3YsQ8PUvOBBeLjxLzu89hBDTD7D/6jGsH5qK3xesxB+38lsYMRKBY4TBS5ZgsibZdluMP/wXwCluDxZ9HgrnjdeRkByFG5sGIPHSUfiHZjUP70kY/przDhZtrcJbO08i6OwfeKtyH2ZN/w7HEp/Uh7/iG3zkpgFoTsH3e77HlG7iRxDyDl1B4qCvcblJHuqSTuKbBVuQMOZ3XAy9inObvVDi/wO+PpaHPo3SvhiDjRTBFN3CHwsW4PMb3fF//wbh2tGPYBTwGSZ86I+4hvfBhgQhXH8u/rl6EN8Py8Q/3/yFwHgxK95Ue2L+1RAc+2EqXPXFja4oQttmCGa+4wIj1fapCDvV2YC84zyc/mcGrLSH48erX2KwWktDjZGIMfscsRWVeJJ2Bisqd+CHfx83XpOm0A+fxYRijaUlZh6Ix+PP+qE+pkhwdebhQkFFo3trU0/gs+knYLvmDgqrSLjp/piQ+DOW73rUyprAtoTFoCbcD4s+SMGMy1morq5Cdd4VfFnth+8D44V5SEfFoG9xNfQcds9dgZ/F5oOFQW2cPz6cchZO6+/Wx5W8G16xP2Du+hAUyTeWQQ2Jq0Yq+bYPdjSUfQlx/24GwiMUCoVC6Uhe7LTmgPew+L2R6D9kIt57dxA5kIOMApFFzAPex/8Wv4HBg9/ABx++Daeq6zh4OR7PvubYAhw99BgxCLbKZFuvF0ZN8YSLgRLZyUBowAEcvxyLqoFf4vJFP/ww1gKNmzA+Su+fwtarFej/7Y/4ftYYDBv1HlaumgP75P34+QBpgNnwR3ugl54KoGyHIeNJGi3Fv4RTxdMbC6d7oP9gL7z/wSTYC/NQbTcLAQVZuPv7TLiZ6EJL1wDaKEdSljzsG6V9FHroyKEy9hoOhlRg4JKPsXjcUAyesAxbr9/FPZ/JsGpozRvkOXgcpk3tD1TFITZdjOuhaAxHBz0RJ6Ap2ui3+A/s3fsdJliycnveuGL62+4wVeBAwagb3LopIbO8pWncppB7p3nCTkNe5N5iJF09hSPKvdHLvAyxDx7gUaocbHubIHhPCOJbXPPflrA4UOo1Fwce/YlFfXVQx06JPkpGKSnP0hqeMA9suBMxpP8Q9LNRFxwRTyXiL5/EGbcZmDPRERocIg9TD3ywcDge7riAsDIZp/o7iJP3M7FhmAV98SyFQqF0Ei/WOdNQhyppgFtCs5ctTBXZ8xyo6BnDFNUoKKtseQ1Si8hBa8h8bFs/C9Yxvvhs3lSM6usAs9c+wb6okiaNfg2y4yORABVo6mkKF/nLQ8fCBlZtiF/T0RwGAinLQcPY4lkYvEzc2rcW89wdYeTxIf44E46Wn9WrQ3k+cVxJatQ1VOqdKo4GLHu5wtFCFyoNIpQgz5cHJ9iZtbXhF3dvNQpz0oH8XVg8yh1DXhtKfiPxztprQEERSltc9N/GsOqKER+wAr1VVKFm3h8zvvPD7bQy4f0s0uaPj0riDMLWCLrywkNQhKmDM6zyC1Fc8fydM/ZBAPZbmmN60wcBKBQKpbN4sc6ZBMrCk5BVyzacDKoKc5AFZehrqooZ8alCYVaecLsF5PXRa9pq/PswHlE3zuDgpg/RL3Y7lvx8DmmN2mYlmHRzgT0Js6ywjPzPIin+lskLiUJSDRsBH+WkUU8VhKGAwqA/MGfxUah/ch6FMZewZ9VbsKm/RQzy0DAwhjlJTUV5Vb1zyBTg/uF9OHTqNtKexxOFLzWK0NIzBJx/xs3Syvrpv+oKIvdbuB44D31kmv6TFFYNEg98jcl/auPzW6l4Ul2Cx5e3YvEA8Z+7ah05qGroAEm5ePZGj1pkPeYi1cQEhlpPPbZOZcHft+EXFI/Kah5O3E4TPAjgaEG/pUmhUCidRZd2znB3D37/+wxu3TqDnVuPIkZlGN4Z1Q2qCqrQ0lcGbp7Fycv38ejyAWzzeyC8SUjDNUn3ERJ8GcfWvAsr6wF4d1sU5M26o3dPK2gRR8nc2hCNV4vJQdPFE7Pc1XFvxyZsOhaMu9cO4MdVfyPG5j2smukGNeGVUkHysGnXRdy7dRZ7dv6LBBVPfDDBGXLF+cTZI05lUREK82IRfPQUbgpvaZz2O4gr5kO1+3C8Q9J0588t+PtcKG6d2obvFyzAgp3RqJTv6NGyEtz/exnmzPkRp9La/4qNzqUO1bV1EqY8VWHr7oU3ko5h379xgickmfJI/PO1N2ZvewjRMS3JSAqLh7KiPFQpmKCbnT5x5KuRd+sE/M9kojK/pJX1beLyoQqHYeMw8tEh7A1k42LAy7uDw/7XYO89DD07aU2ZKKxD5pdUigUXkuG+9jo+vZ6OZZ62wrMUCoVC6Qy6tnPm1hfWjzdjzIi38NkJfSzZvg7LBhuAo9YX8zatgpfhBXw9fhIW7KvBpC9mw1B4mwDVbvCcMxZWyb5Y7PU7Msb+jFO/eSLrRy842djDafQGZM38DbuWDYVekzaOo/savtjvh/WvpWCt9zgMHf0hjqrOwr7DP+ItO5lcMxjOmYEhsesx6mkefsK8XoawHP8J/pxvgSufvw4Hp4U4rNof3nbKKItJQbaCg0jaf8S5lEqSpsFYtvUPfOV0E59N8sTwt/9C7tT1OLXVG44d/saEWpQk38SBg5HIrXwx65qkQt4ITmP1ETDbCdbfX0eF8HBzOFB09MbW45OR9PVA6KmoQFl/OH578j62fjMGpjL5OJLCUkPPaf/DVw77MM5IHUrKRhiyNhsD5wxGHpeUrWAUtQkt5oMDpZ7vYev+Ybg3pxeJSxVqFjNwyPwHHF01opnedgax6cXCLSDySf2E/h9BSfTzXBQKhdKJcNhHNoXbXQZ+3C54uX6EKyP/QuSZ2TArLECVij4MNEQnFNn3eRUir1weusY6z9ZdNYKH8vx8lCvowFhHRbDwn33PWU5RJXHedJ8ea5n695MVVSm1Eoc0sOkQkwf2HWc5xeBpGDTJG0vztAsQ3FOESgVNGBpoyDTF+t+E6EFJKaq1tKEuTfmw7wt7lIIqo+5wtdSQUP4SaC0s9j1mEXEo0nWUMh4J+RDElQ5YO8PRgH1a5PnATmeyo2biYB8KWDrBWbhHoVAolI7iJXDO5sGxa4/vUSj/WQTrzZKaf7mA/QJEwIf96UtoKRQKpRPokm4PR7Mb3vr5/7Bmajdotmtog0KhtJWG9WZNoY4ZhUKhdC5dcuSMQqG8eB4m5GPQ9jDhXj3UMaNQKJTOh04YUigUsYQnFwm36qGOGYVCoTwfqHNGoVDEcj2+ULhFHTMKhUJ5nlDnjEKhNKPpejPqmFEoFMrzgzpnFAqlGWl55cIt4PJsV+qYUSgUynOEOmcUCqUZkSn1L59lHbOhPU0E2xQKhUJ5PlDnjEKhNON2QiF1zCgUCuUFQV+lQaFQmsF+nok6ZhQKhfJioM4ZhUKhUCgUSheCTmtSKBQKhUKhdCGoc0ahUCgUCoXShaDOGYVCoVAoFEoXgjpnFAqFQqFQKF0I6pxRKBQKhUKhdCGoc0ahUCgUCoXShaDOGYVCoVAoFEoXgjpnFAqFQqFQKF0I6pxRKBQKhUKhdCGoc0ahUCgUCoXShaDOGeW5wRTdhs+qg4gtfIQ9qw8hrpb9chgDXt4jhESXCK6pizuEj+duwvWiOsF+Z9A4jsbxdwydEWYDebi+fgk+PhSH5hLqKFnWoej6Jswl9wbf9MfHc77Cobgq4TkKhUKhdDbPxTljsq5j+/r1WL/9OrKe65c8a1GcnIHiTomTNIRZt7Dv5xWYO+cjrPS51ihvDXneEBCNJ8JjsiFD2p9EI2CDbPJlqjJw//Re/MGm8e8juBZXCJ7wXOdQjeRT+5Hm6QG9GwdwzXUIuilyiB8Qjr/GTseOmFLBVUxZGs76xyKv6jkpSpP4O4TOCPMpVciLuICzaWVEA5vQYbJkUJUXi3/IvTlZSTh78BbSyjpXOygUCoXyjOfjnJXF49iqb/B1QDzKnlObC14Grv3xEcZ8eB65nREnk0fC/wzzf7yCClNLGOmqQ0V4iqUhz7/fyZbd6ZE17bxs3P5dBvlWRWP/h29iyNRV8AsOxan1H+D1AbPx68385g1+h1GLwpxIbFzoi+sVJdj/xWE8YAXD8FBTyq+/pAm8/Hg8iMtvLj+mHGnhjxCXXy080ApirpV3nIEtu5djmK58q/FLpg7laVG4H56GclHBtRQmLx9x9x+KT3dr5whMeRrCm8bTlA6TJQfK6hrQNLeEhbUezGABYz1F4TkKhUKhdDrMc6Au1pcZo6TMKI71ZWLrhAefwmdqy/KZvLJa4X5T6pjKojymqLLZja1TEsR8YdY8Tn5lEZOVmSNlePVpy8wrY5qlro7L+I41ZxTNvmaCSpqH1ZBns5VBTElreeBXMkVZmUxWUSWJTUgLaa+HDSunleslyZPPVNxcw7gq6TNDfr7BlPD5TE3sLmaSljKjOfMgk/I00I6mlsl7eJ45djqMSXkcwhw//ZDJq7nH/GZP0s3qBvnZ/3aPqbz3G2OvNIKZvehN8rf+uOaon5igzCoSRhWTGbSOedNeS3iPFeOx/CATVcarj6IRza8d9f0FJrOWyEcQx2LmWOrNxvH/epwJXN6X0fswkMlpkIOgnB2Y0VsjmBrhIRZ+WTjj9+EwRlN4r6L928zPQWlMbW3zPNU2S4s5M+DD/UykIN2tnWMjKmYi/T5mBpDyYc9rDhjHvNFHXxiuCGLibY8seUR/3/Am+lB8lfl2+C/MzYpOUwwKhUKhNOHFOGdCZ8Ls47+ZIz+/LWw43JgZ60OYXNIGPHVsFqxjtn85uf68/WRm5aFIpoxtI5o5L5VMrO80EkZ/5ougPGGDShwnQbjsbxrjGxnPXN38wdNGTlFrIDPj/04wsWIbdtKAZ95gdq0Uxq2kxdiPX8UcfJhf3yA2C18Yrwiiedi2fHR9Iy6aB9LoRh1axYwXbZTf38JcTQtrnvbYSnIDjylLOM9sen+o0CEQXs82tA3yGPUV89ev7zGO7Hmtocz7f9TLszGs85bHpMZGMrF5bCNNjqQcZGY2cs7ymKCV/UXi7kQEToUDM/tYqnCXdSj0mQErTzAJpGxqc4KY74ZYMcO2RjI1JJ3e+kOYTw7FEBmSfOSGMOvfdGVGb77PVAjufkZdgh8zRUvk2vTjzGIzV2ZxYPoz5yyTlGaj+OuYkmurGSet+czBlGqyz2eqH/7BDNWaxfgl1MuqHh6TG/gxo2m1igkqJvrDL2Ie/jGN0XRbz9yrIgJsFGaD8+vBfHE8tj4tmReY70Y5MAO+v8LkxLR0LpgpJPuC+JU8mJXnUgVOXs7VdcxoUlbNnDOWTpIlhUKhUJ4vL/SBgLxtuxBk8iEOBu/Dl+5FCPj6FxwILxeeJef3HkKI6QfYf/UY1g9Nxe8LVuKPW1JMvXGMMHjJEkzWJNtui/GH/wI4xe3Bos9D4bzxOhKSo3Bj0wAkXjoK/9Cs5uE9CcNfc97Boq1VeGvnSQSd/QNvVe7DrOnf4Vjik/rwV3yDj9w0AM0p+H7P95jSjWyLIe/QFSQO+hqXm+ShLukkvlmwBQljfsfF0Ks4t9kLJf4/4OtjeejTKO2LMdhIEUzRLfyxYAE+v9Ed//dvEK4d/QhGAZ9hwof+iKutjwshQQjXn4t/rh7E98My8c83fyEwvumKNw4UNAxg6dgTjgbKAFOI+0cO4lSVK2Z5vwZLDnuNIrRthmDmOy4wUn0RKuKK6dM8YachDwWjbnDrpoTM8mIkXT2FI8q90cu8DLEPHuBRqhxse5sgeE8I4huteech5+ENnNKfgHcmOUKDQ/Js7oWfruzDh27awmvEIQetfl6Y3/MG/r2ZQfSiAtyr5xE+fjxG2BJZPYUDZW0DmBcHY++WvTgVmgPzDw+h9OGn6KcsEKAIlYi/fBJn3GZgzkRhWkw98MHC4Xi44xB2HDzawrkLCCurwOObl3Fn5CzMG20JBSjDaNhUzBppLAxbGtorSwqFQqE8b17s05oD3sPi90ai/5CJeO/dQeRADjIKRJ4KG/A+/rf4DQwe/AY++PBtOFVdx8HL8aS5kwBHDz1GDIKgPdXrhVFTPOFioER2MhAacADHL8eiauCXuHzRDz+MtSBNrSh8lN4/ha1XK9D/2x/x/awxGDbqPaxcNQf2yfvx84FHeMKGP9oDvfRUAGU7DBlP0mgpuuLsGSqe3lg43QP9B3vh/Q8mwV6Yh2q7WQgoyMLd32fCzUQXWroG0EY5krLkYd8o7aPQQ0cOlbHXcDCkAgOXfIzF44Zi8IRl2Hr9Lu75TIaVQn1cT+U5eBymTe0PVMUhNr2VxxGYEkTt+RLvfn0Zpu99hk+fykIb/Rb/gb17v8MES1Zuzxsn2Jk1lWc1CnPSgfxdWDzKHUNeG0p+I/HO2mtAQRFKGy16r0JmYgzRbiUoyjeUrjIMHN3Qy1K8E/0UNWeMfscOR3dfQXx5BE7tTMe73u5Cp7UB4sS5f4JjO0aj8sR3mOrpBjP9YZj7x1Vk8Zq6+nxUEmcItkZgl7jVowhTB2dY5WcgLjG3hXOFKK7g1d9rrAPNhprK0YSRja5wRxraK0sKhUKhPG9erHOmoQ5VhaYjDc/Q7GULU/aJPuIyqOgZw5Q0KgVllW14qpA0pkPmY9v6WbCO8cVn86ZiVF8HmL32CfZFlTQZOatBdnwkEqACTT1N4SJ/eehY2MCqDfFrOprDQCBlOWgYWzwLg5eJW/vWYp67I4w8PsQfZ8LR8osX6lCeTxxXkhp1DRUIfDGOBix7ucLRQhcqDSKUIM9GCByzzzF18XmYfbQdxze/DTuBrLsqitDSMwScf8bN0krUVFeRXwUKY27heuA89FETTbsyjCztiF9Ug9q6htItR9ypv7HxVBwp4dbQgOu4qRh55TRO7w/EoYKxmPyaSRMHnpRHehrKus+H3700PMl4gHMbByDq87U4EtXUGZaDqoYOkJSLZ2+0qEXWYy5STWzh6mTawjkTGGop1t+bU4yyhnX+TCWKc9r7FKgssqRQKBTK8+bFOmcSKAtPQpbwXVhVhTnIIo2uvqZqvXPSiCoUZuUJt1tAXh+9pq3Gvw/jEXXjDA5u+hD9Yrdjyc/nkNbIO1OCSTcX2JMwywrLyP8skuJvmbyQKCTVsBHwUZ6TjlRBGAooDPoDcxYfhfon50mjeAl7Vr0Fm/pbxCAPDQNjmJPUVJRX1TuHTAHuH96HQ6duI03WkQ4Rx8ziq53w/206emg8Hbp5AdShurau+fRyI1Rh6+6FN5KOYd+/cYKnFpnySPzztTdmb3uIMuFV9SjCfIAHJhScwqGLaUReDHiZwdj6+V+IqFEhZ5vSOH65biMx761wrPzkdxTMGoshek1lw0Nu8K8YvWA7rmbVQMGgOwa6WYN15ZWeOrgNYarCYdg4jHx0CHsD2XSz7yK7g8P+12Dv/Sbemzi+hXPD0FNNDd1GvYk3bu7DLkE+iFMYdQnHL2YK4xBHR8uSQqFQKM+bLu2c4e4e/P73Gdy6dQY7tx5FjMowvDOqG1QVVKGlrwzcPIuTl+/j0eUD2Ob3QHiTkIZrku4jJPgyjq15F1bWA/DutijIm3VH755W0CKOkrm1IRpPdMlB08UTs9zVcW/HJmw6Foy71w7gx1V/I8bmPaya6QY14ZVSQfKwaddF3Lt1Fnt2/osEFU98MMEZcsX5xNkjTmVREQrzYhF89BRuCm9pnPY7iCvmQ7X7cLxD0nTnzy34+1wobp3ahu8XLMCCndGofDp1Jw0MauMDsGq5H5KgDtXiW/hn0wasb/QeuhLc/3sZ5sz5EafSWh9najfyRnAaq4+A2U6w/v46KoSHm8OBoqM3th6fjKSvB0JPRQXK+sPx25P3sfWbMTBtIgI5u+n4k1ybuNwVasqqULNdgvAZG/Dzm5aNR8HExc+xwLC3xxBnawg+mtyX6ElTlGE75XP82T8Y02y0oaSsDr1RAXDc+SPecyba0SjMENT2fA9b9w/DvTm9SLpJWixm4JD5Dzi6ygMmLi2dGwE9TkOePXF3ejeSDxLPW37IsWpharaTZEmhUCiU54zwwYBOpaWnNVt62vLp9QM+YL79WPiko9ZoZvlB4ZOOjV4DwD61uIk5vnMpYyb61CQ/j7m5fprwacvxzOa73MZPa7L3LdrG3BC8VqAp7FNzwczmp09GNnlak0XaV2mIPq0pkodGr2LQGsYs+v1nZpGTFqM5aRcTW53bOO0Py0iIPKYs9gTz3ZvOz9Lf9GnNlp5ebUQZ83DzeGEYTX5P73+OT2sKIPIuLmbKBWUrBbV5TOy9e8yj1DJypwQE14Y9fTJVPE3jr2VyAj9h9IZsYO61+goJcl9eHHPvXiST2uypXzF5ai0tEtLJL0tlHt2LY/JqJeW4E2VJoVAolOcCh/1P6Kd1Gfhxu+Dl+hGujPwLkWdmw6ywAFUq+jDQEJ1QZMArL0ReuTx0jXWerbtqBA/l+fkoV9CBsY6KYMSEqSpGTlEloKr79FjL8FFVnI+iKqVW4pAGNh1i8sBUoTinGDwNgyZ5Y2medgGCe4pQqaAJQwMNmaZYKZJgUJV0A+ceROHmXz6IffcgjszrIWYalEKhUCiUzuMlcM7mwbFrT75S/kPUEd2bMGA9lFb64O8vRsJU2gcsKBQKhULpILqkc8Z+l3LHP7dRqjUI7y4YRtfAUCgUCoVCeWXoks4ZhUKhUCgUyqsKnTCkUCgUCoVC6UJQ54xCoVAoFAqlC0GdMwqFQqFQKJQuBHXOKBQKhUKhULoQ1DmjUCgUCoVC6UJQ54xCoVAoFAqlC0GdMwqFQqFQKJQuBHXOKBQKhUKhULoQ1DmjUCgUCoVC6UJQ54xCoVAoFAqlC0GdMwqFQqFQKJQuBHXOKBQKhUKhULoQ1DmjUCgUCoVC6UJQ54xCoVAoFAqlC0GdMwqFQqFQKJQuBHXOKBQKhUKhULoQ1DmjUCgUCoVC6UJQ54xCoVAoFAqlC0GdMwqFQqFQKJQuBHXOKBQKhUKhULoQ1DmjUCgUCoVC6UJQ54xCoVAoFAqlC0GdMwqFQqFQKJQuBHXOKBQKhUKhULoQ1DmjUCgUCoVC6UJQ54xCoVAoFAqlCyH/A0G43THkB2Pd8jXwCwxEYLPfDZQ52KFg17dY43edbL8GV0NF4Y1dhQpk3D6DA//sxR6/w/g3+AFSCuVhYG0OXWVJvmwN8u/ux08//oXD0ZoY4m4DNeGZxlQhJfA3rNywTyiT9sqhFhnnfsVnv5LwQnjo6ekMXQ45zE/A8S+/xsYjZ/FAsRdGOGhDcDjxOL5cuREnci0xyioGv7Pldb4MDmNdYfifd9erkJ+UgJQiQFtXDfLsoQadfelkkIPgdV82qUsdkT9x4cpIh8iUj+r8FDxOKSaZ0YaaPKu9kuiAtLcFXh4izhzCnt274Hc4FppDBsJG7UUp0vPS8Rck6+p8JD1ORRE0oKumIDwomTquP5at2oITrdpmUdqifx3Bi4q3vTTVh0KJ+iF7mbw6vDTN0POhBtnBu7HW9wzuJxSQPYApy0D4lf3YuC0YGbz6q5rDVqZ43DqyGat3hKKAER5uAV52KA6dToKEy2RAEaaOTtBlN4tTkFooTGheEqKL+GSjFjkpOXgiOMhDXuJjYtjU4dzTEqqCY68QRfewb+0G4rBGolR46D/Ffyp/Bbi773f8vvE4IktZPe661MZfwq6Tt5BQbox+Hi4wVn6BDep/WsfrUHTXH2t/98GRyBLhsc7iRenfy6P3lM6jE50zfXis2ITt27eL/H6Bt7MVBi5ajTVrPsdEexXhtU3hoeihP35Y+jHWBecIjz0HqmJx4UQEqkna+837CX9t/wvrV4yBGYdBdfwVXI2vEF4oSh2Kb23Hp1//hl0X48m9EmBycOvgGaQ5ecDDVkl4sP3ImdrCke2YMBlISGfdMD4q0pKQIThLJBoTj9RadqscaQnZ5K8RHCy12AOvFnU81DT1inUHYtGaNVizeiLsBcMMbYMpeoB9PyzDwnXByBcee+50Yv6eP3zwal6GxqkOJTnZYK2D0oBJmOs9Gs6aL7DfK04HOgV9KWx5x1PHq+vAjm1rvCj9e1n0XhIvRj/+K3T8tOaTZIQGRaAIarAZMkLMUGYeQjevxqaj91DTfSg5L48nGWG4dOIYDh/ch/0nriM6LQ0xt5OhP+FdjHcxQd2dP7F8zW6cL3PAWFdDyDUdome48F+2ClvOFMPALBa+v4XD+HVyvCoNt08dxJ6du7A/MATRWTXQtrKGsZr4FopfkILI7EKUKwzATO++0OXIQVmPg8wLt5BMDJ683RC422gIr26AQfnjGwgucMDbH8zGcJVo3EuuBPRc4dlsmLYOpfcPY8t5BmMWvgGDqBuIKFJuQU4yoqiImqRbCMupRK1JX3h0V0XG7XO4lsiHplodairqYNh3MLprZuP20WA8lu+NcZPdYFgtLC95E9gaJ+P0jp3Yd/4Rsjkm6G6nh/pUCad69+zAjv2ncCM6G1XaFrAzVifefR3ygzeT8vkH0SoW0Oaexp7dfjgekoAybRs4mrLXiKMWRdxgHD10EAf9jiAoIguVKoawNNMSxNkw3H2mTBdmkX74LcIQr7vqoyrjLk4d2IOdO/5B4A0usqq0YGVnjIYZJF4RF5ePHsIBVpcOn0Lw/SQUKhjB3koJj/2/wyrfO0Q3CUURCAo8j2jNfnDXeoTNX2/C0es16M7qU6FQv6KV4KAdh5N7dmH38VAklmnBztG0Pq4n6bh36V8EHD4Iv/3/4np0GjJiHoCrPxYfjHeFecN00lMahvy5UHFQQNjhvdh36BzuZyjA0ppB5Al/7PM/grP3s8Axc4CdLnHcm01FNZ02qEFy6DWhDg2AwsWfpMvf0/pSCF3LVBz7dTN2B95DprIlegjKvEIk3AbdbE0HxNBgBwR6lYR/fbZiP9lvpFe8AnAvH8ehAweIDBuWECjC2N4Cmo8PkPLfjYdFdeTCfEQEnUbg06mP1nSnIe1KMLfVwOPTe+C77zweZsvBrLs1dBUFE/vE5rSmRzXIjzhP8roLuxqWNoiWfRP4Gbdw9OxdpBVVg6mpQnkeHzrMNaz6pqn+GoIpTUBogB/+3rYbh8/caGKT2qAjjXgCbks6bpTfznoujqa2vGEai02/Krgn92H37gCEJD6Btp09TNWq69O3JQiluppIPLYFG3cH4m6mEqx72JCy4QttSQu2/nUFXPzkG/g+ZLs+dSR7VxAY+LjlKWSigyFH92DrNn8ERRZATr4YMXE5qHtqm0X1aD8O/xuM+yklUDC2hlnWUSn1r/F9VjpsmUjSn5blzAjsXkvxSoDI6tcVa7A3MBKKxNY7aNUhNfAXfL5hP86xS1j6mkCx4h62LV+Nf0oc4EnkK/9Etjay8fQ9a1+TRex8U7tR3EQ/iJZJLBNJdVMMrdgRnac6JWv79OJ58emqeIQD67bh+I0yOE77H77/3yRY5j1EeE4NFPVtYGcgg8fNj8BJ/2BkVpN+FS8Vl/7cCN+zMeC4jcfMyX2gFH0SPhtPIq5KfL9Lzngg3lv6NX75xgvmAskwqE6MQgQ7vwlDOFppsxtN4EDd5V2s+XYuPJ2N0GpqK6Lw76EHUBw0FiOsO3pCUQuWDkbkLw95j9NRwuQhLjwXMO0P9x6a5HguHqeWPJ3qVHDqBqt6i1xPzW0cC0yDpqkuUPAYtw4fx41sdqitChmXdmCt71lEcnph8syJ6KsUg5M+f+F4nOhIIg85lw/gYFQt9HQUUZ75CBf8ghAvGK1rCnFSI47g102HcD2iGDpuPaGTew+B2zdie0hOo14xP+I0/K+kCkYkeRmX8edaX5yNlIPb5OmY3FcJ0Sf/xsbjMSSVhKoYHF/vg8MhGVDv8wZmThkEvYIIXPHbhqMRT6BlNxAjepnUK72mPQZ5DIebcSsllnMFfgcjwdfTgVJ5BsIvHMMFwehpCR4e2ILtx++gxPEtfP79ckyxLMDN8CzUKBrA3s4ALY+JpuDcoeso0dGDek0+Em4dwuaft+FSgSK0FatRkBCKQ7uuIFXmjrOC7PnjPcTx44nQ69cLVpxM3D+0Bye45cKTokirA2IgehVwuQo9Rw2GZXkC0av9OC24pwJxx32w6fANZKi7YcLMSRiqV4zwK37YeDQKVVp2GD6iF0wEmdGG/aAR8HAzhrLUulOI0GNByNY0gi7ZTrgVgIM3sgTnJekRnz3v8y8ewhWTvN/BZDclxF7YhT/PJhEtbw5Tmoy7CfVTbPzscFy9lkjqn2C3kf4SY4IzWzZh35UUaAyciGmeFii+cwI+G44iopRtjBtoq45IoQPtrufSkI7LfgGI4mtDR6kSmeHn4Hchgbg0DZTiwfFzSNJzQV8reWTfP4KtJ4R1uDU4xMEZ7o5eJmztkiPZGwCPFqeQK5F4fh+RdTQKNbtjYC8VcG9EC5aq1MOgKu5frCd6FJKhjj4TpmHKUAMUhF+C38bjiFK0bUH/Wr8vgrQtretP63LmtKj3UqDfDX2tWdkQW5/GTmgXIpFbP/NUm5SGPD5JeyIXXJ4e+rhaQFHmNrKGpN0XPicjAdcJ8J45Hm6Kj3Hhb1KXUiSWHkFSmUhh45shwY4Ir5KtfeoaCFSgcyhA8MblWLhwofD3Ffy59aueRKlL5SKMVQTbIRjZ1xbmdgMwxt2OnMnDnYgMYoplgFeCcoPR+PCLcTCLu4pT8aShMRyBmd7jMfL1KZg+2hpMXiguPCwU3tAC8vKCUQ9e/l38Q4xgAXHAlHuMwBArcQ2dHFQNDKHVQkfjGU+QeCEQIWXdMHFiL+JKdTTP1p0xCUlIL8pGSg4P6t1cMaibOclBFR7HpqEwKw2ZpKrbdLeAev2N9ci54p3lSzBn4RyMNydeG1OA3CKiuVXxCDrFJY2LOUbNnA6vkWPw9vRRMGcyEHQhQmRNCx8Vmp74+ItFWLDMGwNZx68iGzklYkqQn4EbATdQwJAe85Sl+HTBIny6ZAxxf8sQHRSGTBG7wCuohoHXInzxhiHigkhlqpaH4ajp8PbyxOtvv4XR5kRTgq7gIbs2g68G2zHTMHP2PLw/3QsjvaZh6hA9EkoZsgrqYD54Ct7xdCJNGMFoEDGc0zHOWZzDLaTCAJ4fr8CCBR9i1kD2uhKk5RCdqstEdBg7NmGHoSP7wNrcHgPHvAZbIoOyO5FIaVVpFeE4YT7mvzsfc8fbkH1iru0mY8XShVi65E1Ys5cUl6FCnG1sFSXZ88fXhft7izDHuyEtObhxN6mRsRQgtQ6IgeOMt+ZPx+jRM7BghivkmEzcfMTWawYqtqMwc+YszHt/GsaNHI93pw4guWDwJKsAleaDMf0dTzgJMmOGQZPegfc4Z2hKrTtq6PHOEiyd84EwbzXIzC1lSwjcVvWoFoXxXGQwHCjpmMLe2Q3u0xfj80+IHowwr5dtE+SdZ+AHb2fBtpLHCmz18UYP4YXP9NcGVdyruJhC3DSdoZg+cwJGT5mO8c5qpKrdQMCNDJK2BtqqI1LoQLvruTTUQtNzMb5YsBDLZg0guWFQkZZDak8DpOzd38PHc2Zh4dyxJEY+Sm7cR7ykuVg5cwye/jY8ndjOpgLJ3pvwbmkKuS4N96+nk5j0MdR7NqaMm4rZk1xEGjziRKnYYcxMb8yeNwfTx70Or3cnYwjr2zzJR5HOQPH6J+G+gnIJ+iNBzuUt6T27KwmOIRxdTchGBbhRaaisSEdsMh9KSiTXeQlILHyCzMeJeKJghx52agJ9lK2NLEL8I1amytAxs4Nzr+GYvmQFPln5PkaYttwdfYrEMpFUN8X1WFu3I8+6mjK0T12ETnTOpEPexBbObM8n/T5ucjORnxGO4NBEckYTznaGTaaGJGGM4VPGoo+VGukUEiVkD+WdwdqPWOdwCVYHJJEDFYhJzJXg9PHxJPEStm3Yi1sFPCiZDcec916DiTjLLCW89Os4eD4LZuMnwd2wHQG1wtN1ZzXJiA2NQAxPA06OVjCxsyeNFzGZcVzceZxKTKcBulnpCO55ioIe9LWJtDlKUFF51hPlZz5G1BPWaKbj7NpPBI72otUBgrVs/JhEZIgIUtHGHIbsrUrKUBXXmW2gJBXcTNYF0ISttYGgIVGwHodVPn9j+/fjYC56r85rmDKhH6y0SvA4inWIeMg7uw4fsQ7/op8QkEEaFn4qEjNIH0nNCr17mUOpKAzHfNZj7XffYlNwQX04bUHRDOaCKT0FKKuKlJm8IeycWXOZhjs3ucjOT0N48E0ksU68sy1MWlVaJWiq1/f8lVXqnX05XW0IJsvlFcQ2/p2HJnS12LQowsTamqSMqA4xaE0bYll0oBmKRjDWZXMlD219PZI/BuWJmcTMa8Cqd0+YKxUi7NhW/Lr2O3yxKbi5Y9gUqXVHFUb6bPfjmZwF8HMl6FEtdGy7kXCIG3f/ANZ++xU+XfYdtp4KATdfYuqa06C/pLplxifW9+T1DaDLqhXpHukbsSPoNch6nCnSkHSijnRAPZeMJmzMdUltIA6KsjL5vyly0NLVEOSDY2KNbgLFI45NRy5+L81FusB7NYKVKTshKAd1bW0R2ckRc+GKXuZKKAoLgM+vv+C7L7YgWGIRS7pPrlX9qetQOTdFCRZubiTHrK1PQgbpiCfCEa8NNiU+TAYSUhMFsylyPVzhqF5b76ixt0ndRmrDtgfb0S/Aff/f8O1Xn2LZN1txKpiL/BYflhNBUplIrJvixs6ktyNSt09dhE50zpo+EMA+DCBm1lx3AGbM6AXlmjQE7/g/fL16F+7DCSNnf4y5gw2EF0mLLgx1mwwAm3hg3ooVWCHyWzrCopWMVyL7tj9+/f0IHpF2Xb/fTHz+xUz0N2AtSFupQ/HjaCTza5AR+Eu90i38Fv4JrAoJRxg7YhG5qgnsrdn8Z+Nm8ENSxQxgzc6pm9jAkU1+0Q1SkbKIllrB1lSqgXIRLOAxb1kjOa5YOgIWbdEgcQuW5VWgxvbwmvK0IWuAOBIecxqnY8U8jLAg+Sl9hAO/bsLewEeoNB+E8fOJDg1q4oR2CAYYNGMyeihXIzt4J77/+v+w/T4D15Gz8dncQfVPzf4n6UAdQDEiDmzC+r2nEVZpjtfGz8OnRHYSa5ksutMqLeuRgvUYLFn6FtxdzKEpMOLCqcStp8BtYUlEizTT365OR5bxC0TiQxHC6fH1exAYVgnz1yZg/qezMEiyAkq4j9O6/lQ2JKpz5Cxn2h1uOiQQ0kE9dy4MxTa94N7Timh7GWJDriAsUw52LjaNZ26kbiNVYO31AZZOHQYXM816p7umAAm3Dks3LS31gyqt2PhmtNGOvAS88CrHywjG7kPh4A98H//3+1/EiduCX1YtwUxxCyB5PIE3zystljDMrgRjW6v69V+VctC2dYKzc3dY8bg4fe46IvNaUCN2seNRH/zsew2ZHBtSeb7Et4s8YC26EpEpQ0YMF1xuDBLzJaqjEA6UjV3g4eHx7Pd0XYESTHq5S7+uoFX0YOdsTP7WoqyMpE3DAfYmpGVQMoOjEzuKUIuaGj7knJ1hJ2XXQc6YOHaCHjbpvWjbEDk6w9mKh6jT53EtMpeYnTagZwlHXTbzZUjOKAJD/lVxD+Jz1mldfQ4Z4iqwnAFsHdnpmTriPuvClk2Hsxl4URdx7loU8qqJ0Yy+gdACkk6rkZg2ZRhcrTWBKmm6dDLCS0XQ7uOI5vfH7P/biG3bt8Hnl6+xZObQxrrSYdSBJ1D8chR16KP1ZSQ8toNQi+yUFNLb5EDDzqyZc9kuHeAVokAwdcBDUU4uCUEYR2kMroZmk5K3gee0iXB3tYQ6OSsxd23RHVEk6lE1ilMTSQ/fAO5zv8GGbT7Y8NNieOiT/n1JFnLK2yp/ZZh1s6u3SdlZyCOiZEcoCnIryV8lmDqY1Y+MvSA6pZ63CB+lReVEI4g5zU5BPKuCGhYw1xUZcpba1reAtjEs1dn8ZCIhnV0zV4fyEnZau4FiRF+9K5get/KcginurrAm11dJLF5J99W0qj/56kR/2yTnOpRlxJN2h7Q9ifktjzArWqD3AHbsLBvh4fkwdLaFhT2JQ46P4shIJMEafZ30yfk2tJG8YqTGZ6BCdyjm/rAB23zW46ePRkKfSLUkLVdk5LcFJJWJxLoppnK31Y68BDwb5X0h8FGWFI3HROjMnX3YUPsIdlrEmVDUhJGREYwdnNHDXBMapPfJOmpP7hzDduYmKh4/RlWrbaAc1F088Wa3CByOv4adm8vQz7QSMXeikC3XF+5z2CH35tTFX8S2C/H1il+dhOBdP5Gf4BRBAUYTv8CPb1Tiqs9GBNcowd77W6z0qMA9vz0IymJNDR8VucKVFWnn8fe626QPQO50m4bl40ZDuCylnjou/G+GI7tGE06eb4sfVZQZ1sjbE+VMJWafxNvdFmYCeyd8WCCcHbJWJNeQHh17WBrUnTHuTWc8PByNqzv/RGU/E1TG3Ed4tjLc3C2gTwQp88ShnDWGTXTFZb9HSD6xA39mmKEi/CFKSKp6ePaBGQmzeeXShguRYbeHRxB/dQ82V7rCtDIBd8KzIOc2AHOI8ZNPVyESIP5YWihOneHAqjgSoemNKzRHXRPsWFpu4hn4+qbBsvsIzHCqPyc1ZamIeExMEXMX+zZUItxOh2iHEjSNDGFobI+ePSyg2erUppRo6MNUjYOEJ3dxZHst7lQkIbpKnOY+Q7b8pePcjr9R6qqKtJvJZN8I/V3MIC/QHhGk0AHxKEBDPQGHt+5HaR8g7CwXDMcKw/pZQF6+AqpK5MaqFIScOgt5qzI8Ck0RNBZPjTxHFZo6xETlxiPQdxcyLZ3hPmOwRN2JF94uHkl6pAReTBB8/cKJkz8QYwbbQLEwEhGFPMjZusJJr60FS2yS8wiMtn6AwJQ7CDigiYGaKbjMfQKOvgemvmZOruiYF7C0ScfbXMZtgYe8czuxpbQH1NIeIIPkXLt/T1jKE6Mu0dYrQF2T7WgWIDFwD3wz7dHdfQLcm64HVrREH+KkBAfn4M6+rUCUDgriRfVLASqqrLWoQFrIWZyRt0Dxo1tIVyGRNSigWP1zlXCfHOm7taI/Vq7oJknOYuPti4qru7CRXaZh7401Kz0gfl5JFZZO3aB2MRtPSEtga6kHOWKMHEwVEc5ODxp2h6NR/VCuzG2kfDVSz++DXzQfVpEeGGynhMJH4SgkHQ/bft3Aru5tFYllItnGN0NeWbIdeUlp1cXpfOSg2+d1jDYnomTKkPoglBRcMIIvBuLwP77Y8uNmnEysgorzWLw3sjtR3DLk5iuj/+y30E+SW6lghdeXLMOcMW7QzQ1DMCkwJVcvzF/5HgbrSbpZHHLQ1FQVIzAeyrOSkJCQQH5JyC4TjtTUFCBVcCwBSYUd2+9sDUWrbsLFpEowtzcj1VNwFCb2DsKeuQ66WeuJdU7FowLz1z/AZ3PGoq9uLu4E30aSUk94zV+GuYMNZQhHFAUYuL+PL+e/gX62QNLNWFSYDcDEhSuw0N24xTAVzEdhyWdzMKavNnLvXEdokiJcveZj5dxB0OOwDvl4zB3TE/oKmbgTdBup+qMxe4wVuZNBVVUN+Z+UouVQvDtpMOz1KpEQFo3U8jaMrOn2wrjRNkTCPOKnPUQIq7PBFxB4+B/s2vIL1p18zPaL249Kd7zxnicc9Im7lFsETv9peKdf64+SyJY/O3iOMkfO/XCkMmboN+N9THYWN37TRh2Q64Gpn/8PsxzLSXk8RLlFf3gtmIfxdqT5Ve+JSXPHogdpjTLvBCM01RDjZ3uCHfclhQVBJ1nOAsPefROD7LVRnRCOiNQyIvG26Y4oresRG/4cktcxcFF8jPOHD+NUWAUsPGbhiyUewtHuNqJsh4krPsXskfaofXQGR4KyYDT0LSz99G24Sn6iSGrapuOdUc9bQgm2nsNgmROBB6l1MOk3DR9OdiIp4Ehh65VgOWwqJg1ygB7pQIdFpEN89jTgPPl9zBhkA43ydDzOM8ToGR71+iWAOAKTZmBMDyMoZN5HUGgG9MeTfWM2sipUVZPuoVj9k3SfnAT9kULOYuN9BkeJdESF280hMnRwhSvrf8nZoacdqc8cPVh3Y9110t726/Fs6lTWNpJjDPeFH5PrnaH4+BIOHziDsAoLeMxajiUj2c6FJCSViaS6KbxIFGnsyEsKhyEIt58/TA5CNv8Kv3gnLFw3H/2JHtWUFaO0uhAP9/+Jw9F1cJ79LVa4s8vZKZSuAA/5Iduw2i8RLgu/waL+uqzSoqC0EmUPD+LXw5Goc56NtSvcu+7aM3bU9hN29NcZ3muWwcOg4xwDCqVl2Pew/YSNwWXCWQfRZpkimXIiv5245zoXs1xbeQqb8p/gxY6cMZUoKqgi7V0ybl0MxUNuLBLSs5AeE4GYnBrS0+yOAU7/3eXVlJeROlQUFaOG9JKTbwUj5GEUuAnpyE2PRVhMDjmrCecB3QTTShQKhdJRMHn3cbFiKCZRx+yV4MWOnIF9G/BDXA26ifDHiUjMLgP7DhV9KyuYW7lgsOdw9Ddv9DYuCuXFw34d4OoV3AqPR1JiNsrYdxrpW8DK3Aaug0diRH+L5g+zdCXoyBnlhUBHztoOaStzUpGvbA4rnfo1Y5T/Ni/YOaNQKBQKhUKhiPJipzUpFAqFQqFQKI2gzhmFQqFQKBRKF4I6ZxQKhUKhUChdCOqcUSgUCoVCoXQhOt45yw/GOvZTKkv9wW3+5dROgo/q/GTEcJORL93Hu6QgB8HrlmLhwq/gzxV8HlZm6rj+WMrKoiO+m/lKIa48218e4ukM3WFpe7hP9WbhRgTnCysR+2mxU7uw7quPGx9vxPOUmwSq85EUI8UnziTaC/YJv69I+pdiXXCO8JiMvBCb1ARp5YEq5CfFtv6JHhnh5d/Brq+WtKI3XRlJ+ivmvLi60h75d4b+vCidlFoO0lJHsrKRyHkhlvpzyV5b6IA6LhMvyCbKyH9k5KwAd/f9jt83Hkdkh357kPJieJ7l2VlxdWy4tfGXsOvkLSSUG6OfhwuMlcW9Lrur1IM6FN31x9rffXAkUvg5s1caGeRRdA/71m7AxiORbfumpCikIY6/dQQbVvviFvvN2VeE5nWF/2Lk3+Wg9fJlouOdM92BWLRmDdasngj75/b6JD54NR3dGOlj4KLVWLPmc0y0b/LdNkon0xnl2RKdFVdHhluHkpxswRcvlQZMwlzv0XDWFFd1n6fcWqeOVyf4XJZEnoe9eCE2qTFSy6OOhw4ZwC2+CZ9PV+G3XReR8DJ/w0YiTe20+Lry3OUviRekk1LLQWrkSVbmEvmvweqJ9q18VooiK/I/EITbHUNhKDZ/vQlHr9eg+1hXGBYGY93yNfCLVoKDdhxO7tmF3cdDkVimBTtHU6gxXPgvW4UtZwqha5mKY79uxu7Ae8hUtkQPOz0oCoYgv8Qav+soc3gNroZyyA/ejOVrduN8mQNeV7iIT1btxsMidkA1HxFBpxEYrYkh7jZNXgSajeBfv8KavafxQLEXRjhog0kNxLefb8DBc/mwHNUbJooluLdtFX74pxAOnsaI8/kRm47eQ033oSTeQmE6uFBxUAX35D7s3h2AkMQn0Lazh6kaUcsnyQg5ugdbt/kjKLIAcvLFiInLQZ2eKzwF6eGhNDEUAXt3YNuuQzhzg4usKi1Y2RlDTU7W9BHZiqkJvCIuLh89hAMH92H/4VMIvp+EQgUj2FvpCD7CDl4BuJeP49CBA/A7HISIrCqoGJvDTIv9mC87vPwdVm0JQpmBGiJ9dyHCeCDJO6eVdLOB1iA/4jwOkLLd5XcY/wY/QEpD+ZLzvPwInDmwF7t3+eHwv8G4nyIisyawU3rLxJanIXJDryGiSAnmthp4fHoPfPedx8NsOZh1t4auIjuSxL7U+C5OHdiDnTv+QWCzdDam5bjYsqpAxu0zJE87sGP/KdyIzkaVtgXsjNVJj6YK6ec24otf9+LktQo4DO8Jwyf3sO3zH7EzQg29tW7h62+l0UnxMERe524lk2bGEK6eg2BVdBtHz95FWlE1mJoqlOfxoe9sAS2RwbPnKTeWFstUOY7U52/g+5CdyCc99YgrCAx8DM0hA2GjHCus68UwMIuF72/hMO5TCv9vROyFHElLyg0c3bMd2/ZfRGQBA/nyRMRl8aDnOgLuNuy3P1srGzE0tUlyreurOCTq8JM03D51EHt27sL+wBBEZ9VA28oaxq3Jo1FkwrrnewdF7G5RBIICzyNas199nutKkBj6L/b+vQ27Dp+VnOfyBFwJLkL3t+dj4XAlhN5LeapPjeNtDR6xtX9gxZpdCHygiL4jHKDFJCPw26+x4WAwci0Ho6+JIiru7cTyHwJQ4jCY2AoFmXVJMA155hD27N5FbBJrs5JRpm0DR1M2bxVIblV/8xG6efVTO92z5n7jupJ5B0f/2oV/w9shfyMSR1AEiuRNYGucjNM7dmLf+UfI5pigu6CNYmmnTkpqJ+We2eZSXU0kHtuCjbsDcTdTCdY9bIgc+I3axbGuhpBjp07ZMM+XweF1BVz8RBo9lLXMB8A8bhe+3nQI12u6k3j1UChIxz+IVrGANvc0KVc/HA9JEClTyXW8rjQBoQF++Hvbbhw+c+NZfVJj2qCTbNsmShOd+ncH/iLpiGjQKcTjyFersPnIFWSaDkJ/M+L01xI/5bNv4ZtrDQ83Y4j58miHI20tbT85V+B3MBJ8PR0olWcg/MIxXIhn+zdCeA9x/Hgi9Pr1ghUnE/cP7cEJruTvynO07DB8RC/hB4m1YT9ohEB4yoKzoujDqa81OKhF1uMMsJ+SLUxMQB57qjYDaXm1QFUaorkVUOvjAltBoyWOdFz2C0AUXxs6SpXIDD8HvwsJJNRKJJ7fh31XolGo2R0De6mAeyNaZN0Ig+qU89jy6z5cSVDHwClT4Wlegjsn/8aGA49QKnP6BIE2pioGx9f74HBIBtT7vIGZUwZBryACV/y24WhEGbmgGBEHNmPT4auIKNSBm5sOcu+cxPa1exCSL/pp3TJEnDyGK5nsugRJ6SZNe8Zl/OnzLx7CFZO838FkNyXEXtiFP88mgcdPxaU/t+HkQ8B10juYObkXFGPP4e8/LyBFzAeLJZdnIUKPBSFb04hUokIk3ArAwRtZgt4gj03HWl+cjZSD2+TpmNxXCdEknRuPxxB3qjktx1WFjEs7sNb3LCI5vTB55kT0VYrBSZ+/cDyO1VkVWHiMx3BtcmNJKI4HxyLh6iU8qLbC2LeHwExPWp2UDqY0GXcT6qch+NnhuHotEaVNur/PU25orUzrSGMy3B29TFiDKAdN+wHwaDoNy4/ASf9gZIob0alNxPkd/rgSXQRNp37opZGEG2GiUzCSykYyreqr8JpGSNJhHnt+I3zPxoDjNp6c7wOl6JPw2XgScdWakuUhQAFadgMxopdJvVHWtMcgj+FwM2ZHg54g5czf+HXfZSRo9MeUaSNgXnyf5HkLDkQUs1c3R90V76/5GvM8nWGoIgixDShA38kF1mxSs5KQVsYnapQMbh6b6QokpRWSZrYCidGJ4Kk5wdWWdD9l1SViITMu+cLnZCQR7gR4zxwPN8XHuPA3CSNF9I6W9VeUZnXlei6MhrVX/kJqbuNYYBo0TXWBgse4dfg4bmSz08Xt18mnSGonicV9cPwckvRc0NdKHtn3j2DriZZkKwJHinopQPYyFw8POZcP4GBULfR0FImT/AgX/IIQz4pLUh2vTsSZLZtIW5oCjYETMc3TAsV3TsBnw1FElHI6KH0sRKcCbqKmpztes6wmOnUMvqfjUKVogd4DjMj5cnCj0wSy5afF4FGFLvr2sSHW//nQ1lorOxUG8Px4BRYs+BCzBrLfBitBWo6I88XXhft7izDHez7mjrchB3Jw426SxEWxcuaDMf0dTzgJXFkzDCLG03ucMzQFZ0VRhJFjd9J3JFFxuUisLEVybBoUlZSIQ5QDbmIh6jIfI+qJOpx7WLZSALXQ9FyMLxYsxLJZA0ioDCrSclBSl4b719PJnj6Ges/GlHFTMXuSi4iAS8G9dA0pfDnoDH8LM73GYoq3F5zlalEQQnrCGUz708dXg+2YaZg5ex7en+6FkV7TMHWIHjlRhqyCJ6RRuoWAkGwwHAdM+d9yUhbLsGScBakM0Qi6J2roalBQbgavDxfjDfsaCemuRGE8FxnsJ4x0TGHv7Ab36Yvx+SekrEeYQ6EwEY8ySCkq6cDM3hm93KdhyeefYuWCYTAV0/2QXJ5q6PHOEiyd84FQT2qQmVtKKmQZuEGk8lfLw3DUdHh7eeL1t9/CaHMgL+gKHopZg9ViXFXxCDrFRTXMMWrmdHiNHIO3p4+COZOBoAsR9WtRVLpjwowBpByqkXxqO/46nwLlvmPgaacmg05Kh7zzDPzg7SzYVvJYga0+3nBuMuj4POVGeg0tl6mSOQZPfxueTmzMCjAa9Ca8m07D8kpQbjAaH37h1WxKpy45DNdziQVXGwzvD97CuCnvYJKryCfcpCmbVqlrXV+FVzWiVR1mUMW9ilPxxJYZjsBM7/EY+foUTB9tDSYvFBfCVSXLQwDpxQ+egnc8nerTYDSIOI7TMc6Z2MqKWFy6mEjKyhjDp0+D1+gp8B7vDDkmGyEBt5Ahpoigqg9jLbG5kQmOkYNgNAz8REQllqIiOR7JikpQ4vCQx01GYV0uHkcVQcHZGXYqpDGTVZdQhPhHrN1Uho6ZHZx7Dcf0JSvwycr3McKUdSQaaEl/G9Osrvz9I5a+2075NyDnineWL8GchXMw3pz0jpkC5Baxneb26qQIktpJIikV9/fw8ZxZWDh3LImRj5Ib9xEvaS5WTop6KUS2Mm/q3DVAXCRNT3z8xSIsWOaNgexgQkU2ckrqJNRxch+pTxdTqgGdoZg+cwJGT5mO8c5qRNw3EHAjA0yHpI9FGQ5vzYb36HHwXjAVPUiblnczAml1arDp3Qs6RNZPwiKRVFuN9KgoFCnYoYfd8/ucZPOS6SwUzWBuyJaQApRVxRkNTegKptYUYWJtTaoKqX5ZBbIptgTkLFwxyIjEXZuKpIxMpCXKocdrfYhDVI2UhBQkxcWgSM4Bbo5awjvEoQkbc13iMBHjrqxM/hdSmov0CraCGMHKlPXW5aCurV1f0VnqchAfxfZySc/EULt+KFxbH2xywOTgcVpZ+9OnZoXevcyhVBSGYz7rsfa7b7EpuEB4sg4lSXHIZJNIegbWJuyYiiqsx30On+1/4vtxls/yQtKuM3wiJvSxho58noR0P4GObTeYc0gzf/8A1n77FT5d9h22ngoBN580aDrW6GFOSrPsHvzXfoevPl2Bb7aeQDA3X/wohURUYaTPVhA5KKuIuKj8+grJ9tjyzq7DR+yTUIt+QkAGMQL8VCRmSOxbPoUvcIJZQaXj7NpPBE8iLVodgAz2XEwiMtiZQ8hDq/co0vCQvNWUo4znhKlT+6A1zXmxdKDc2l2mxMmYMhZ9rHQF9fwZdSjNySL9XoKpJUwFhlUV2nrP0itd2bSGfOv6Ko5W81uNzMeJEDzzlXcGaz8i8lu4BKsDksiBCsQk5pJctQ9Bp6yKzbMuDHXZeitPqqCewLYw7OhBuTinp4OQM4PbIDOyUYa4pHRkpWUCPQZjMGkcmZQkpCbFIrxIFT3cbKHepjqoDdse5sT2FOC+/2/49qtPseybrTgVzEWjwfyW9Pd5oqAHfW3Sm+AoQUWk0W+/ToogsZ2Ug5auhqDsOSbW6MZWoJp8FHTkA0CylHn9HWJRtDGHISsmJWWoPhWXpDpehcz4xPqRQH0D6AoaHHXoG6mSvzXIepyJ8g5KH6ABC2OhxW5o08rTkVFUR9LeCwN0iHtUwUVkUiriIrKh4NYHzurPz2V6fjF1BeSM4ORmQDZyEXbuEsKKzdHDvZdgirA2NgTnwjLBsXOGg1YbxNIRC0nbm77SRzjw6ybsDXyESvNBGD//Y8wdpCM8yYhdDCqvqtqkgWQRccSkQMF6DJYsfQvuLubQFFTCahQkhOLQ1lPg8mzgtWQRprq7wExT0Jyghp0SkHLaWnaIc+8xBytWrBD5zcMIi7ZMKlrAY96yxmEtHQGLBvGTMuc9FWgtqqrb5m52DWSQm4JtO8u0wclojvQLliWUTSu0qq8CJ6gJ0ubXxAPzRNNDfktHWLzkRlYJpk5O0AEfRWGXiA0qgU2PAehpS5q92jiEnLuPTI41XBxERphkqoMqsPb6AEunDoOLmWZ9B7GmAAm3Dks3XdelaLtOdi3aUubS0/6HEjo3fQKeTm3m4+HVYDxKVYBjT2sJzl7H0oXUpgxFpWzPtRbZKSnER+ZAw86MmPEG+ODx2N5BDUqL2PVTbaFhuJLEER6NbEN72FnYoaczEXkx8baTGFj37QZ94dUyoW0MS3XWtGQiIZ3tF9ShvERk2F3eGN16so4SiTuzkPxPKClALtuec4zhYMkON7cnfXyURt9AKPvIvNVITJsyDK7WJMyqBodBAXpWNvXyrM1EBruGjZ1T9/+2vqd/Lk18hZGYbhUUpyYivcIA7nO/wYZtPtjw02J46JNGrCQT6WnJiE9/Al339/HDBh/4bFiNjzzYXk8R0nJkXI/RGnIGsHVkK2MdKkkubZ2d4exsBl7URZy7FoW8aunNgZyxDRwFPTqSW20bEg4Jy4qHqNPncS0ylzTlLFVIuXAU57L04OJiAg4/Hif8riJdgn/GlGUghssFtw3vP+sU2iA3XnFqJ5WpPKlGJvUGMDUJ6ZVs3JUoKaqXOIt0ZdMata3oaxZyxIxCtZ7fWhjbWtUvM6iUg7atE0lTd1jxuDh97joi89rvXsibOaCnIM/5yBSEV0eqYKFglJJjagtLjbaa8TqUZcQTXST62Mp71Z6OImRHIzxbD852VrDvaUcajwJEhqcB1i5wYuXXljrIK0ZqfAYqdIdi7g8bsM1nPX76aCSxcXyUpOUSC9X1ab9OygKx80XlgrJnslMQzxaahgXMdUXWB/B4pATIn9LiNs88SV3mMkPqSKt1XAVm3ezq61N2FgTNFCpQkFtJ/hKnzMEM7CNBHZO+SuQWCO1VUQ7S2bieyrKhLeYh7+5dxMIB/XuwS4SeH13IOUvHuR1/Y6+/L3afTib7RujvYkbMtRr0TVnHpRh3juzCXl8f7A4papxwjio0ddiCiEeg7y74+4cgtYWhZEXL7nBRYysS2ba1hKGcFiwdWA+ZxQSujoYi03syoGiJPgJPuwR39m2F7z87se1cSr2SCdCC8+vDYS3HoOLmCRw4ex7H/c+Cy1eEvrsXXmOnTQjtSZ+8ikr9KFhaKE6dCcJF//04l/7MIMrZvoaJPYgsGeJI/LWVyPJP7LyaAyj3gGd/0xbClZRuZfBSg+C7azs2bt6DwEvXEXr1OiIKeSS+XnDRTsd5Uia+G7fANzAIoaFXERyRxyYG/ZxaUHYZyvMZ2nAZNxrdlBmUXN2Dzb774OezEdsuRCGJZwyrliqquLhUnDHuTWcoIwdXd/4JX/+98Fm3AxfiMsCzsIA+ERQv/Sr+OZ0CLfe3MX/+dHgYKoKffAp+l1IEhrOlPPDJfT4bN2JjZ7yL7DnJTZ6XIqFMFaCuyZrfGiQG7iHyO4qQVOmcFEVbNwxgH7SovYt9f+zEP9t2NdJhqEsum9bhtKKvrnDSa7IIjtB6fg2g7uKJN7uRJqPkGnZu3gl/Px+s23YecaQzZWHFLoGQXh4cdU3SIBASz8CXlIV/SCrq1Lvj9dFsw5OPmwFHcfbicfif5oLPMYH71MEwb2bF61B8zx/r1q0T/H47cL++U4VEnP/7t/rjG84hsa4a6Vd3EV0k+tjae70UTeHkIuwmK5rD0lAFmpa2MBUcUIChqwOMBHJvQx2Ur0bq+X3Y5buFXP8vLoWG4mpwOApJCdv264aOaQ7bKX/BmVZot07KAnEWzu3Elr37sH33eWSwzk7/nrCUl4OGvgFpLUku7xzD9r3bsWH3DVQ10g0Z6qXUZS4rHAl1XI6IcwRGWysTn+wOAg6cwsXjh3Ga+wQc/dcw9TXz+ra/A9LH0ZBH6uGd8DsTCL9t/+IxowSzYb1hJTQBTx1AAsfKCQ6iDvBzoFm1fnHYwXOUOXLuhyOVMUO/Ge9jsjPrI2vC+Y23MNJBD5yKQuRz+mH2O32J+EWQs8Cwd9/EIHttVCeEIyKVfdaxBVSs0cuVnWdWh3NPS6hCEUbWNvWevG5P9LRoPsknHRpwnvw+ZgyygUZ5Oh7nGWL0DA8YC8+ySqls7YUVX83ByO41eHQiAEEZBhg6dTE+nen2bK1Sm9NHlNplPOaO6Ql9hUzcCbqNVP3RmD3GipxjUFVVA4ZjDPeFyzHfqz9skYKb0ZUwG/gmFn75PtwNxBhOAZLSrQAD9zn4bM4YuCg+xvnDh3EqrAIWHrPwxRIPmBoNxcLP5mCMiwIenz+KA6ceocJiBGZ98QFGmrQwcSpLeYqgYD4KS9i4+moj9w5pdJMU4eo1HyvnDoJeSxVVbFwqMH/9A5Knseirm4s7wbeRpNQTXvOXYe5g4hzz0hHsfxrJ6kPw7qSeUCfGefy0gURTq5F8OhAh2aQ728Y8tIvnJDeOgaQyVYLlsKmYNMgBetVJCItIR7m0mVdxwuQPp2OQlSrK01KQpz8CM0ZZCE+ySCgb4VUt07q+1j/t2hiJ+VWwwutLlmHOGDfo5oYhODQFSq5emL/yPQzWY+uV9PKQsxxKdGow7PUqkRAWjVTBhWqwnrgEX832RPfacJw4chUZRoMxdenHmOnasGyhMbzyHCQkJAh+idllwlHxahSkJtYfTypsNKLDUVIgHeGW0IBDL0diiUj6nJ1hp8oBx8ga3QQzBcbo11P4hCNB5joosEkfE9k5Q/HxJRw+cAZhFRbwmLUcS0YKG+J20175S6K9OikLSrD1HAbLnAg8ID0vk37T8OFkJ5ICDlScx+K9kd2JM1iG3Hxl9J/9Fvo1Muuy1Evpy1xmJNVxZTtMXPEpZo+0R+2jMzgSlAWjoW9h6advw1WrQUvbmz41OE/9BF/MckTpnWDcLTdBP6/3sXi8A3GyhShaot8QdoRcEWZ9u8O4YwtSIhyGINx+MdRx4f/JRgTXOMN7zTJ4GDxf75RCoVBeXdilDTtxz3UuZrm2Y40OpZNh33P2EzYGl8He+1us9HjW7ad0FnUoubUDX+3Kh9c3X2CiVVsHbtpGx3RMKBQKhfLSweTdx8WKoZhEHTMKRUgVkoIPwd9/B7b8EwZ+N3cMtny+jhkLdc4oFArllYSPSr41Jk/r3YVfAUOhPG/4qMp8iOAbKeA4jcOiua/VvxLkOfPipzUpFAqFQqFQKE+hI2cUCoVCoVAoXQjqnFEoFAqFQqF0IahzRqFQKBQKhdKFoM4ZhUKhUCgUSheCOmdSkYPgdUuxcOFX8OcKPnFMqEJ+Umzjz57kB2Md+7Hfpf7gSnyt9PNAXLr/y/BRnZ+MmEafRnqOMqjOR1JMDBLzG966XUdUYqPgQ8hL/bmS3zTepRCj3+LoEJ2XMq5GdEy51nH9sZRN/8KNCM4XZoCXh4hTu7Duq48bH3+pEFcXWqDL6K20eiC57J+W67pg5AuPvXxIqePNyq+tPC/72dX1q2tAnbO2UnQP+9ZuaP2zJ5TnTAHu7vsdv3fGp5EkUoeiu/5Y+7sPjkSWCI+9xDxP/e5idak2/hJ2nbyFhHJj9PNwgbHyC3iOvt1IWxe6kN5Sm9oGOrL8XqT9fA68ZPpFnTOp0MfARauxZs3nmGgv/FpmHQ/NOqS6A7FozRqsWT0R9vRDBy8APng1TY2KmLJrC0wBHu77ifTGWx5JqePVif94/MuIOP3uLJ5nXBKpQ0lONtjPISsNmIS53qPhrPkymklxdUE8XUZvpdaDDqrT/xE6rvyk15n2IU+ayrmk/NZg9UT7Vj4b1sF0KTsjGfkfCMLtDqOuNAGhAX74e9tuHD5zA9FZNdC2soaxGlsM7DDpl1jjx4WKgyq4J/dh9+4AhCQ+gbadPUwF11Qg4/YZHNizAzv2n8KN6GxUaVvAzli9BW+S/bTFd1i1JQiluppIPLYFG3cH4m6mEqx72EBXke358lCaGIqAvTuwbdchnLnBRVaVFqzsjKHGBspOZZw5hD27d8Hv8CkE309GmbYNHE3ZOPMQunk1Nh29h5rufaBw8Ses8r2DIjbqoggEBZ5HtGY/uGs9wuavN+Ho9Rp0H+sKQxJu+2UhCg/5wX9gxZpdCHygiL4jHKDFJCPw26+x4WAwci0Ho6+JIiru7cTyHwJQ4tATmrG3EFGkBHNbDTw+vQe++87jYbYczLpbC+XCx5OMuzh1YA927vgHgU3lwk5bLV8Dv2glOGjH4eSeXdh9PBSJZVqwczStv0YcvAJwLx/HoQMHiDyDEJFVBRVjc5hpKRGhcOG/bBW2nCmGgVksfH8Lh/HrrLwklXstirjBOHroIA767cfhf4NxP6UECsbWMMs6imWrduNhEes45SMi6DQCozUxxF0dYU/LbihcDQul0797QTgRcITE8w9OXI9CWgYXt7kGmPCBF1zMdaEmLzKaIsjPN/B9yE6gkJ5sxBUEBj6G5pD+MMq9i6CIfMibkzJ/fBY7fA/g/MMccMwcYKcrfOv0kzTcPnUQe3buwv7AkCY60hR2SmAzlq/5B9EqFtDmniY664fjIQki+kpoLUxeCs6t/Ra/7juJa2V2GO6qhyf3duPzH/YgQtUeWrfW41tx+m3Dfuu2CU+SERoUgSJ5E9gaJ+Ffn63YT/azOSbobqcn+PYdr4iLy0cP4cDBfdgvqFtJKFQwgr2VEh6z9baluFrTIVJGyaHXJOi2ZJj8CJy7lUykaghXz0GwKrqNo2fvIq2oGkxNFcrz+NB3toCWaHCkTvy6Yg32BkZCse9gOGjVITXwF3y+YT/O5VpiVF8TKFbcw7blq/FPiQM8XQ0hL1MZE1q1Rywt1xWG699CXbARfBj7Kc9Vbwkt5omD2Bb1QO6pbS8zUEOk7y5EGNug1P8XkTpNtIzoYcjRPdi6zR9BkQWQky9GTFwO6vRc4SnItwQ7JxZJ9qgG+RHnyfld2LXvLB7kKsLCNBP+Kw+htP8g2FVdq7ed58vgIGgPGuz9dZQ5vFafblEd338Y/wY/QEqhIoztLaCj+ESo48qwGTKi/npRWiy/gbAhmWq97WkMOw0sXmcMkSuxnskq2zoUhm7D15sO4XpNd4wl9qdQgk2r1+ktOFOqA8vE4/h1424E3s2GsnX3en1saKfEyrp3y222OJvWRWhRLdtMdSLObNmEfVdSoDFwIqZ5WqD4zgn4bDiKiFLREYd0XPYLQBRfGzpKlcgMPwe/Cwmk+a1CxqUdWOt7FpGcXpg8cyL6KsXgpM9fOB7H9mdboxQPjp9Dkp4L+lrJI/v+EWw9EUNCZFCdch5bft2HKwnqGDhlKjzNS3Dn5N/YcOARuauGxOkLn5ORgOsEeM8cDzfFx7jwty/OpjSdx1eAlt1AjOgl/LCqpj0GeQyHm7GYHly7ZdEUBeg7ucCarQ9ZSUgrI72cwmRw89iv11YgKa2QVJMKJEYngqfmBFdbwefSCYUIPRaEbE0j6JLthFsBOHgjS9Db4mVcxp9rST4j5eA2eTom91VCNJHLxuOs3ETIuQK/g5Hg6+lAqTwD4ReO4UJ8S+VRjIgDm7Hp8FVEFOrAzU0HuXdOYvvaPQjJF/nSLj8CJ/2DkVnNpkRSuTOoivsX60mFDslQR58J0zBlqAEKwi/Bb+NxRCnaYviIXsIPV2vDftAIeLgZP/uIbTNakjmR4MPDWLf9OG6UOGLa59/gf1OskXczEjk1SqDYpAIAACYJSURBVNC3t4aBUpOGn0Mc1eHu6GXCNlpyRCUGwKPJdFhN6L8IzFaBqS5QkBCKwwdvIVtQAKm49OdG+J6NAcdtPGZO7gOl6JPw2XgScVWtdfN4yLl8AAejaqGno4jyzEe44BeEeFZpJIWpYAWPKUOJlPgouXYawclxuHo6DNVmnnh7mDX0pNVvUWpuI+ByFXqOGgzL8gTcOrwfp9lyq4rB8fU+OBySAfU+b2DmlEHQK4jAFb9tOBrxpJW6JKUOtaLbbYEpTcbdhPrpIX52OK5eS0Rp08D0u6GvNVvWuXicxk6QFCKRmyM4VZuUhjw+0dVELrg8PfRxtYCizGUsyR61Xlc4WsThlqYuPFe9bS1PtVLY1DJEnDyGK5ni1lVVIvH8PmJno1Go2R0De6mAeyO60boiqe3cUyS3Q7yUC/jT5wRuJyqQLI1Gz8rL+P3nAwjnKUBBtPPWIhWIO+5DdPwGMtTdMGHmJAzVK0b4FT9sPBrVQrpEaK38pG576pGsMx3QhkikFZsmhPfgFI4naaNfX0twsu/i0NZT4LZqJ1lkaLO7EIK0dhykYeNexcWUakBnKKbPnIDRU6ZjvLMamIIbCLiRQa5ooBaanovxxYKFWDZrAOlhM6hIy0FJVTyCTnFRDXOMmjkdXiPH4O3po2DOZCDoQoSEuWIGKu7v4eM5s7Bw7lgSAml8btxHfE0JuJeuIYUvB53hb2Gm11hM8faCs1wtCkLO4kZGNuIfpZO7laFjZgfnXsMxfckKfLLyfYwwZRVfFNKDGDwF73g6kSInGA3CJO/pGOfc9Nt0HSAL4VlROEYOpAdFYuYnIiqxFBXJ8UhWVIISh4c8bjIK60iDEVUEBfZL/SoNBkINPd5ZgqVzPsDc8TZkvwaZuaUk/jJwg4jyV8vDcNR0eHt54vW338JocyAv6Aoeiq47qDCA58crsGDBh5g1kM1rCdJyyuvPNYGfcQsBIdlgOA6Y8r/l5J5lWDLOghiMaATdE2k4eSUoNxiND7/wgn2NpHJnwFexw5iZ3pg9bw6mj3sdXu9OxhC2eJ7ko0hnIKa/4wknQaGYYdCkd+A9zhma7K5YWpJ5FVKj48j/SrAdOow0wqSnPHAk3G1JRGVRiGjmrBPkzDF4+tvwdGJjUyAq8Sa8m0yHyfWYjuVL5wv1kmhqZi6K2Eac6MipeCJHwxGY6T0eI1+fgumjrcHkheLCw8L6m8VC9EvTEx9/sQgLlnljINuprshGTglPijA5UHEegxn9dEgwj3Fqyw6cz1BD3wnDYKesLKV+N4HjjLfmT8fo0TOwYIYr5JhM3HyUgTq+GmzHTMPM2fPw/nQvjPSahqlD9MgNZcgqqGsxLql1qEXdbhvyzjPwg7ezYFvJYwW2+njDuelAA8cQjq4mZKMC3Kg0VFakIzaZDyUlUt55CUgsfILMx4l4omCHHnZqbSjjotbtkQQbWW4+WLq68Fz1trU8aUqhczUoKDeD14eL8Ya9qvCYkLo03L/Ohq2Pod6zMWXcVMye5CLSuMlg5xqQ2A4RO/HgPjIY0qa8PgvzJo7DlLmT4cqvEdFNSZD2ynYUZs4k978/DeNGjse7UwcQy8PgSVYBxFtXEVosP6KZUrc99chJ1JkOaEMk0pJNe+ZM8lWG4L2P58J74RyMNycXlIThbouDBA1I22Z3LTrYOatGZnxivbesbwBdwSisOvSN2MpUg6zHmSIKpwkbc13STHCgRBqEBjeCn/kYUU9Y9U7H2bWfCJ7oWLQ6ABnsuZhEZDR3+kWQg5auhqAAOCbW6MY23DX5KCjKQnxUMdlRgL6htmCqBdr6MGIvZHJI71cetj3MSRoKcN//N3z71adY9s1WnArmolEnXSbaLwuxyJnBbZAZ2ShDXFI6stIygR6DMZg4bExKElKTYhFepIoebrYktgZUYaTP7slBWUWkt8Cvd+TYHkve2XX4iH26adFPCMggXRV+KhIzRBwRRTOYC4bVFaCsKlDxFqhDSVIcMtkiVLSAtQnb91KF9bjP4bP9T3w/jvR4BNexGGP4lLHoY6ULhSxJ5S4HNStX9DJXQlFYAHx+/QXffbEFwW1+7KYlmSvDxM6G/F+L9Dt3wM3ORUZ4CEKTSETKNrAT5Ed2FIz0SX+U6KWyCp6VANERthFnN/POYO1H7FODS7A6IIkcqEBMYi6RZsso2pjXf/NNSRmqTzMgbZh66D1uOMw5DGrKysHr9gam9mOdpjaiaARjXVYv5EnV0iNawqA8MRNFalbo3cscSkVhOOazHmu/+xabggvq72kRWXSoBd3uVJRg4eYGI7JVG5eEjKw0JMIRrw02JfYkAwmpiYgLzyWOjSsc1WvbUMbardqj9tlI2eg4vW09T5JhO9YTMaGPNXRYJ1iU0lykV7DyMIKVKTtxKwd1be36hphFFjsnRLKMS5Aal0f2RNoUFXXItjxRA1a9e8JcqRBhx7bi17Xf4YtNwaR1aC+ytD3S0gFtiBSIt2kiaOlAS9DA68O6G/tF2ArSyZPknL2cdLBz1pFYwGPeMqxYseLZb+kIWHRKilVg7fUBlk4dBhczzXrDX1OAhFuHhdOiXQklmDo5QYf0MorCLuFcWAlsegxAT3YKszYOIefuI5NjDRcHWXoFijDxmNNY1ivmYYRF2xwRcQtU5VVVScqbogtD3aZxtFTudSiNOIJf1+9BYFglzF+bgPmfzsKg5oG2E3noDpqMGT00UJMdjB3ff4PV2+8Brq9j9mfvYrBuC+tp2ouJB+aJ5pn8lo6waF8FbTVMBnV1IuVUW43qDmzUn1L6CAd+3YS9gY9QaT4I4+d/jLmDdIQnW0Z6HXoxyJl2h5sOkSRxOs+dC0OxTS+497QiNakMsSFXEJYpBzsXm8YfFJe6jKW1R8/TRrZAh+epJUScoKZIvdC7LXauM2XMTt1vwvq9pxFWaY7Xxs/Dp3MHdRkdl42ObUMoHe6cKcOsm119Dys7C3mCueIKFORWkr/EqXAwI32F1pEztoGjYDqO3KxtA2dnZzhb8RB1+jyuReaSPkFr8FFaVE58eNL0ZKcgnu2CaFjA3MAM3XqyDUItsjML2ZCBkgLkshdyjOFgWofU+AxU6A7F3B82YBvp4f/00Ujok/BK0nLb0Mtgab8sWkKRNAQD2IYhOxrh2XpwtrOCfU87UpgFiAxPA6xd4KTf2uiWEDkD2DqyTlwdKomjZMvK2tkMvKiLOHctCnmCtWCyIg89KxsSGqE2ExmCjJeD6/9tfe/6XFqzRpdFcrkXI/rqXRQwSrDynIIp7q6wVuegqq3zVy1ShYygAzgULYeBs7/H79u2Y7vPL1i1ZDrcrTt68agSjG2t6nWkUg7atk4k391hxePi9LnriMxrS7dAyjB5ybiw7yKyjHvAxUQJ/ORT8LuUIqg7bYJXiALB9AMPRTm5pBQ50LAzgXz0DYQWkDK1GolpU4bB1VqTiFhSLG3ToaYwZRmI4XLBleZdX7KiaIHeA9ixs2yEh+fD0NkWFvZEZ+X4KI6MRBKs0ddJn5xvQxnzilu1R0/aZSM7go7PU9tsrBBtY1gSWwBkIiGdHUWpQ3mJyNR2G+ycZHukBXM7VkN5KMgrqW9TyktQJNYe1YH0Ncil5SgSneYrjcHV0GyiyzbwnDYR7q6WUCchtd+kdV7b04xOaUNaobQYpYIGvgAp8ewiJ13YmYt2gVqQ9UtIBztnclB3HoHR1sRbrriDgAOncPH4YZzmPgFH/zVMfc1ccoTqzhj3pjNRrxxc3fknfP33wmfdDlyIywDPwgL6bH1pER7yzu3Elr37sH33eWSQ2LT794SlvBacXx8OazkGFTdP4MDZ8zjufxZcviL03b3wmhWD1PP7sMt3Czb7/otLoaG4GhyOQpIK237dIG6yh6OuCUH/P/EMfH33wT8klaiFKB0gi5ZQNIWTi6DpItvmsDRUgaalLUwFBxRg6OoAo1bl1IA2XMaNRjdlBiVX95C874Ofz0ZsuxCFJJ4xrKRx8MQgZ/saJvYgjTATjxN/bcVe3z+x82oOsRk94NnftL7X3BSJ5a4AFVXBPDXSQs7izJXz8CdlnK4iIkWOKjR12DTHI9B3F/z9Q5Aq82hQGZIiEonxLcGdfVvwt58/CecAjgRexNVbkcgoa8mxUIC6JjvsX4PEwD0k/UcRkirJuSI64uKJN7sRU1lyDTs374S/nw/WbTuPuCQGFlbstKusSBNmFdIvHcXpDB24T5uD+TOHw5BTjeQTh3EpvT7NkvVbFAVoqCfg8Nb9OHPmH2w7xgXDscKwfhZQUlEhzQEhLRSnzgThov9+nEtvbLDFxcW0RYeawE+/Cp+NG7GxU97bpApLp27Cpx/VYWupBzlNc9LRE47tGHaHoxG73YYylq9u3R5JYyOlrgvPSW8l5YlcIpvOiaBoiT4CR5mts1vh+89ObDuXUu+cCGiDnZMoYxVYurmRekOc8Uu74UPanG1bDuGRqHnQ0IepGpFEzV0c2b4Lvhv2IKRKRDLyylAVPFyUgpBTZ3Hl4iHsbpRuaRBXfjVta3vaZD87pw1pkbyL2LFlN/y37yX2i3Wce8LFkkhMkqwJbdavF0QHO2cEZTtMXPEpZo+0R+2jMzgSlAWjoW9h6advw1VLmikhFZi//gE+mzMWfXVzcSf4NpKUesJr/jLMHWwowSgrwdZzGCxzIvCAaJVJv2n4cLITCZEDZWsvrPhqDkZ2r8GjEwEIyjDA0KmL8elMN2hxjOG+8GPMGeMMxceXcPjAGYRVWMBj1nIsGSlekeUsh+LdSYNhr1eJhLBopJaLabTbLYuW0IBDL0fBEL8c6anYqXLAMbJGN0Hv0Rj9egqfSpECBfNRWPLZHIzpq43cO9cRmqQIV6/5WDl3EPRaF3bLCOS5HPO9+sOWGJ6b0ZUwG/gmFn75PtwNWqqsksqdGIFJMzCmhxEUMu8jKDQD+uPJvjEbXhWqqknjK2eBYe++iUH22qhOCEdEalkbRoL00WfcCJgTo8mUpeBBSDCCg6/gYuAR/LPrD/y47hQSBT3RpijBcthUTBrkAL3qJIRFpEOcSjRDwQqvL1lGdM8NurlhCA5NgZKrF+avfA+D9dpo2CSEycsOhf+JBKgPJul11SWGfDSmDdIn3sxjnD56C9kk3VLpdwNyPTD18/9hlmM57gQ9RLlFf3gtmIfxdhqkER+PuWN6Ql8hk5y7jVT90Zg9xorcxKCqqn7xtNi42qRDzxMOVBxc4SqohHboSfIKjh6su7HmXw66/Xo8m/qStYwl2iMpbKTUdeE56a0UNlYmnWuEBpwnv48Zg2ygUZ6Ox3mGGD3Dg1jCZ8hu5yTJmJS/oxc+mvs6HDRKwL0bB17voegrOiep0h1vvOcJB315VOQWgdN/Gt7pJzLKo94Tk+aORQ/iTWfeCUZoqiHGz/asT3dVFaQbdGqh/NrS9rTRfnZKG9IStsMwyrIQ9x+kgTEZgBkfToAzO8IpSdaEtuvXi4HDEITbLzHse85+wsbgMth7f4uVHqLVkkKRHib/Ojav3o94lwVYt6g/Mfs1KCsoRXXZQ+z/9TCi61wwe+0SuHfW2jMKhfJywr537JONCK5xhveaZfAwoDaio2Dfw/bJxmDU2HtjzUoPGAiP/5fp+JEzCuUlhqkoRkENA17ybVwMCQOXm4D03DTEhMUip44DZec+cNKhRpdCoVAonQd1zigUEeSsR2HxgikYal6OsOM7sJFds/TnYQTHA86TF+HLhUNh0NFD9RQKhUKhiPAfmdakUCgUCoVC+W9AR84oFAqFQqFQuhDUOaNQKBQKhULpQlDnjEKhUCgUCqULQZ0zCoVCoVAolC7EC3bOchC8bikWLvwK/lzBZ3Rlhn3/yVL2Y6vrgpEvPPbiaH9+KC8zVchPigU3MR/t/3hxR1KH/OCNgo83L/XnvqC3YndE3eCjOj8ZMZ3xOaZOR4xu5AdjHWu7lvqD21GF0iFhtkXOXUHHKJT/DnTkjELpKIruYd/aDdh4JBLsV98oHU0B7u77Hb93yueYOpmXSjdeYjlTKP8RXrBzpo+Bi1ZjzZrPMdFeti+KdU3+a/mhyEQdDy/dgM5LBR+8mpfUWXipdOMlljOF8h9B/geCcLsDyEbwr19hzd7TeKDYCyMctMGkBuLbzzfg4Ll8WI7qDRPFEtzbtgo//FMIB09jxPn8iE1H76Gm+1C4GhYieN2XWOPHhYqDKrgn92H37gCEJD6Btp09TNXkgSfJCDm6B1u3+SMosgBy8sWIictBnZ4rPN1toAYeShNDEbB3B7btOoQzN7jIqtKClZ0x1ORkTZ8rDJu9DL4G+RHncWDPLuzyO4x/gx8gpUwLdo6mJPw8hG5e/Sw/nFCsW74GfoGBCHz6O49ozX5wt9EgeUnD7VMHsWfnLuwPDEF0Vg20raxhzOZTIjzkB/+BFWt2IfCBIvqOcIAWk4zAb7/GhoPByLUcjL4miqi4txPLfwhAicNgIl8FPMm4i1MH9mDnjn8Q2Eg2wmCbUYsibjCOHjqIg35HEBSRhUoVQ1iaaQm+7dn4/H4c/jcY91NKoGBsDSsdpfppFlYG0Upw0I7DSSK33cdDkfhUZoJAGsFOVS9btQVnSnVgmXgcv27cjcC72VC27g47XRIm+5mUZauw5UwxDMxi4ftbOIxfJ2VV1bI8a+OP4quvNuHI5fKn5VrLPYDPVh1BmdMg9NSXb102reZDGykHv8Mq3zsoYjNQFIEg0XJuRms6+gTxR37CV5sP4nKZAzxdDSGPCnD9V2PVviI4efSAvnwFMm6fITq4Azv2n8KN6GxUaVvAzlid9LbYT5mRtGwJQpmBGiJ9dyHCuD/sKx6QssuHvM0QeJEw5SSV21MZF0LXMhXHft2M3YH3kKlsiR52eqTsW6sHwmw2ogLJodcQUaQEc1sNPP53B/7afxER2XIw624NXUX2zb78FstAOZbVid14WMROmOUjIug0AqM1McQpGT4r1mBvYCQU+w6Gg1YdUgN/wecb9uNcriVG9TWBYsU9bFu+Gv+UCOUpqd61ep6dnpVgoxohLA9xumGUj9CgCBTJm8DWOBmnd+zEvvOPkM0xQXeBjFlaK2sxEPv4LMwk/OuzFfvJfqMweQXgXj6OQwcOwG+/sOwKFWFsbwHNxwfEy1lgW1uzBQyJ+na9jpkTWT0+ix2+B3D+YQ44Zg719baV8q3XGVl1ikL579LBKq8Pp77W4JBKnPU4A+xnUwsTE5DHnqrNQFpeLUAa0GhuBdT6uMBWYJDFkY7LfgGI4mtDR6kSmeHn4HchgYRaicTz+7DvSjQKNbtjYC8VcG9Ei6zvYVCdch5bft2HKwnqGDhlKjzNS3Dn5N/YcOARSmVOnyDQRvAzLuNPn3/xEK6Y5P0OJrspIfbCLvx5NomE1gQ1O3h6e8Ob/GZ69YKm4KA2TPVViYFMxaU/N8L3bAw4buMxc3IfKEWfhM/Gk4irkqaLrQB9JxdYsyLMSkJaGenpFiaDm8emogJJaYXEFFYgMToRPDUnuNoSt5VN+1pfnI2Ug9vk6ZjcVwnRRDYbj8egShBmU+pQGnEEv246hOsRxdBx6wmd3HsI3L4R20NyiLQZVMX9i/XkfEiGOvpMmIYpQw1QEH4JfhuPI0I0HzlX4HcwEnw9HSiVZyD8wjFciK8QnhQP78EpHE/SRr++luBk38WhrafAFQ2TH4GT/sHIZL8QLEGeijY90Zv9MHxFHGLS2NxWIS0mDhVq3eBkqSq9bMTmowpadgMxopfwg/Oa9hjkMRxuxuJGTyXpqBpsXJyhTq6reBSDNHYAg5+NmEdFUHPpDkvFKmRc2oG1vmcRyemFyTMnoq9SDE76/IXjcaLyLEPEyWO4kimuZGUoN95DHD+eCL1+vWDFycT9Q3twglsuWz1oRCFCA26ipqc7XrOsRsKtY/A9HSeQcWtlUK1lh+EjesFEIGBt2A8aAQ834rTpd0Nfa7bhz8XjNHbCsBCJ3Bz2ItQmpSGPT/KayAWXp4c+rhZQlFTvpK6XLdmopihI1o2a2zgWmAZNU12g4DFuHT6OG9lsSNKWtRhImAGXq9Bz1GBYlieQMPfjtOCeCsQd98GmwzeQoe6GCTMnYaheMcKv+GHj0ShUtSRnibbgGTWh/yIwWwWC7CSE4vDBW8hmRSuhjrVdpyiU/x4d7JwpwsixOwzJFp/LRWJlKZJj06CopEQcohxwEwtRl/kYUU/U4dzDEi1P/NVC03MxvliwEMtmDRD0yirSclBSl4b719PJnj6Ges/GlHFTMXuSi0gmSsG9dA0pfDnoDH+LOERjMcXbC85ytSgIOYsbGUw701eHwnguMhgOlHRMYe/sBvfpi/H5JyuwYIQ5McNNULNCfw8PeIxwgWYe6wzKQXPwW5jsqokq7lWcii8HDEdgpvd4jHx9CqaPtgaTF4oLDwuFAbQOx8hBMBoGfiKiEktRkRyPZEUlKHF4yOMmo7CONFhRRVBwdoadSjm4QUGIr5aH4ajp8PbyxOtvv4XR5kBe0BU8FLe2hJ+BGwE3UMAowXrKUny6YBE+XTKGyK8M0UFhyGQY8FXsMGamN2bPm4Pp416H17uTMYRtK5/ko6BcJMwKA3h+TOS04EPMGqhNDpQgLYfkvxX4KkPw3sdz4b1wDsabE0+5JAx3RR06XgnKDUbjwy/GwSxOgjwVLeDaR4/clIP7UdngE4cn6n4u1Pr2RjdZZCM2H7UwHzwF73g61euA0SDSuEzHOGf2fFMk6WgNFG1d0EeNOJJFUYhKrwE/PRr3i7TRt48NVKriEXSKi2qYY9TM6fAaOQZvTx8FcyYDQRciRNYz1RD5m8Hrw8V4o9kUuwzlxteF+3uLMMd7PuaOtyEHcnDj7mNky1IPGqEMh7dmw3v0OHgvmIoeJN95NyOQVlfWahmEaw7E9Hc84SQI3AyDJr0D73HO0OQYwtHVhByrADcqDZUV6YhN5kNJiViFvAQkFj5B5uNEPFGwQw87NQn1rkCGetmCjRKefYaSZN2Qc8U7y5dgToOeMwXILWI7itKWtRg4znhr/nSMHj0DC2a4Qo7JxM1HGcSCMVCxHYWZM2dh3vvTMG7keLw7dQBJJYMnWQWoNB8sXs4SbYEgVgFyPaZj+dL5WDh3LEk5yU5mLor4rZfvw9Ja2WwrhfIfp4OdMxKghSsGGZGqVJuKpIxMpCXKocdrfUglrkZKQgqS4mJQJOcAN0ct4R3i0ISNuS5xmEhFVVYm/wspzUV6BWsFjGBlqkb+ykFdW/tZxa3LQXxUMdlQgL6hdv0QvrY+2OSAySE9a+IetSt98tCx7QZzDh9l9w9g7bdf4dNl32HrqRBw81t6Pq8GeaFH4XevABzDUfhgRm9okbgEDQZ7Ou8M1n60EAsXLsHqgCRyoAIxibnSPe0kZwa3QWZkowxxSenISssEegzGYOKwMSlJSE2KRXiRKnq42UKdX++oEY8GeWfX4SP2ia5FPyEggzQC/FQkZogZYSlJBTeTzZcmbK0NBHJWsB6HVT5/Y/v344gc5Ij/6Ype5kooCguAz6+/4LsvtiBYnCgUzWBuyJaIApRVn5ZY62jpQIu9lKMP625seVQgq0B0xMAYw6eMRR8rNRRIlKcGuvXpIZj2zn0Qg8zMGDzI1ap3eGSRTVvyIYoUOgoVG/TpyzqSWXgQnYbM6EjkqvVAn24a4As6D2wdSMfZtZ8Ino5btDoAGeQIPyYRGU8Vh3X+JmJCH2vosI5KI2QoN1L2ulqs16YIE2tr0ogTjc4qgpzM9aABDVgYC+tWQ77L05FRkCW7fgpQgoWbG7EIpErHJSEjKw2JcMRrg02JPDOQkJqIuPBc4jC4wlG9VkK9S0Wa1PWyBRvVFhT0oK8tT/RcCSoqz0KSvqzFoGgEY11WuPJEzHpE2xiUJ2aiiMjfqndPmCsVIuzYVvy69jt8sSlYZPahBSTaAsFVAhSM9MG6nhxllWcdXIl1rLYNtpVC+e/S4c4Z5Izg5GZANnIRdu4SworN0cO9l2CKsDY2BOfCMsGxc4aDVhui7ohFte1Mn4L1GCxZ+hbcXcxJr509Ui0Yum825SaEl30D/xwKQxXHHB7vjYOzepNwTTwwb8UKrBD5LR1hIWXBKMHUyQk64JNG9hJJewlsegxAT1t1tqVCyLn7yORYw8VBdASHNLIecxrFt2LFPIywUBaeF0GcvOVVoPa0sRdOdazfg8CwSpi/NgHzP52FQWwL/lzQhaFuk3S3KE8OVLr1Rl92RCrzEa5de4RMocPzDBlk06k0OJLEmXgUgmuPsoQjfKIugAU85i1rnNalI2DxVHFEnL9mtLfcODLXA+mRvQzkTLvDTYdkvCgM586FodimF9x7WpGQyhAbcgVhmXKwc7EhnSIRxOqJ5bN616562dFIKmtZKEbEgU1Yv/c0wirN8dr4efh07iCB090qEm2BtLRcvp2nUxTKy0cn2Bo12PTuRRyGWmSHRyPb0B52Fnbo6UwchuJYhCcxsO7bDfrCq2VC2xiW7LohZCIhnR1BqUN5SSlxTYTIG6NbTx2yQeLOLCT/E0oKkMsuWOAYw8GSXfXVnvTVopj0xNMrDOA+9xts2OaDDT8thoc+6UeWZCGnvElXlpeK4H0nEV2tCLNx3pjq3NA8KMHY1qq+V1kpB21bJzg7d4cVj4vT564jMq+K9PrLkBHDBZcbg8T8lkYNiKkjDdEAtmHKjkZ4th6c7axg39OOFGwBIsPTAGsXOLHpkzOArSPrpNWhkjg1ts7OJE4z8KIu4ty1KOSx67aaomcJR11WRcqQnFFE+t4MqrgH8Tnb6119DhlMMaKv3hVMdVh5TsEUd1dYk/KpEjND2iZKi1HKlh1TgJR4dhJHF3bm4kY0pZAnS8OIFJOA4OBEqDY4PG2RTVuRSkefOZIMaZyCE9TrR/jIGTljGzgKnDRyp7YNSSdJqxUPUafP41pkLmnOpEGWcitDUSk7ckHSm5KCGpI2DTsDcFqtB60pQCVyG0Y/i3KQzgpAwwLm+sZtLwNFC/QewI6dZSM8PB+GzrawsCf3y/FRHBmJJFijrxNboyXpCV86PXpOtKuseYUoKGHtEY+IOZeEwJabGXRLY3A1NJvUZBt4TpsId1dLqJOzEqusRFtQf1mLSKxj1RJsK5+YxAzEcFmb+DK+545CkY1OcM6IrbTsDhd2hILdtrWEoZwWLB1Y48liAldHQ2Iq2oCiJfoIjHAJ7uzbCt9/dmLbuZR6YypAC86vD4e1HIOKmydw4Ox5HPc/Cy5fEfruXnjNvL5/2Pb0cYi/FQTfXduxcfMeBF66jtCr1xFRyIOcrSuc9NjB/gb4KL13GkfZ9StQhWrhHRzz94c/+R2+lQVVF0+8yY7alFzDzs074e/ng3XbziOOOIcWVrrg8NNx1WcjNm70wZHI5itZnqJoCicXXeG2OSwNVaBpaQtTwQEFGLo6wEiQGW24jBuNbsoMSq7uwWbfffAj4W+7EIUknjGsWCPYFDlrDJvoCmXSJCef2IE/9+7A5p3XiPQ10cOzD8w4ClBRFUx0IS3kLM5cOQ//3eeRrtJBapV3ETu27Ib/9r04zU5/aPeEi+Wz0n6GHNQlyVNwXcOIFIveU4enTbIRA0ddkzj9hMQz8CVh+IekkqaoKdLp6LOpTYLoCJ+6M8a96UzKJAdXd/4JX/+98Fm3AxfiMsCzsIC+VBVLlnJLx7kdf2Ovvy92n04m+0bo72IBptV60PSJxWdwNOSRengn/M4Ewm/bv3hMHESzYb1hJS9FGXBUoanDlkU8An13kboUglSBgFVh6dRNWK7qsLXUg5ymORxMheOGht3haMRuS9ITfWhIpUeyI51uNKHNZa0ADfUEHN66H2fO/INtx7hgOFYY1s8C8vLKUFVib0xByKmzuHLxEHY3sqEEcXJmJNmC+ltbRlL5KkmwrfLgp1+Fz0bWJtL3r1H++3SKcwYVa/RyZUc41OHc05KYTkUYWduQPYJuT/S0kDiI3gIacJ78PmYMsoFGeToe5xli9AwPGAvPEqsCZWsvrPhqDkZ2r8GjEwEIyjDA0KmL8elMt2fTGm1OnwIM3Ofgszlj4KL4GOcPH8apsApYeMzCF0s8hE84NcCgpqpK2CMtQcLtqwgODhb8riWWglGwwutLlmHOGDfo5oYhODQFSq5emL/yPQxu5OTJQUmhtWLSgEMvR5IDciXpjdqpcsAxskY3wQijMfr1FD4lRlAwH4Uln83BmL7ayL1DjF+SIly95mPl3EHQE2tc2fy+jy/nv4F+tkDSzVhUmA3AxIUrsNDdmEibGNxJMzCmhxEUMu8jKDQD+uPJvjGb/ipUVbfTgNoOwyjLQtx/kAbGZABmfDgBzo2m9kSQSp4iU5tNpjRll01z5CyH4t1Jg2GvV4mEsGiklot7xkxKHX3qSHKaTGmqwPz1D4gOjkVf3VzcCb6NJKWe8Jq/DHMHS9vpkaXc7OA5yhw598NJA22GfjPex2RnHRnqgShqcJ76Cb6Y5YjSO8G4W26Cfl7vY/F4B9LoS1EGchYY9u6bGGSvjeqEcESkss9bs5BydXCFq6AS2KGnHSlXjh6su7HukBx0+/V4NgUoSU+krpeyIZ1uNKWNZS3XA1M//x9mOZbjTtBDlFv0h9eCeRhvR9xX9Z6YNHcsehDPLpOUQWiqIcbP9qy3ocReCQYoxcpZki2QTOvlK4ttpVD++3AYgnCb0tWoiob/rw/h+uk7cG26Vu0/DPues082BqPG3htrVnqAXSFIec6w7zn7ZCOCa5zhvWYZPAxaHg2jUCgUSsdC+yNdFh7ybt1ExRvjXinHjEKhUCiUVx3a6ndZasC3GINpvYXrjigUCoVCobwS0GlNCoVCoVAolC4EHTmjUCgUCoVC6UJQ54xCoVAoFAqlC0GdMwqFQqFQKJQuBHXOKBQKhUKhULoQ1DmjUCgUCoVC6UJQ54xCoVAoFAqlC0GdMwqFQqFQKJQuBHXOKBQKhUKhULoQ1DmjUCgUCoVC6TIA/w/UB+4+GcfPTQAAAABJRU5ErkJggg==)"
      ],
      "metadata": {
        "id": "qeHnOsauEndG"
      }
    },
    {
      "cell_type": "code",
      "source": [
        "import torch\n",
        "from torch.utils.data import Dataset, DataLoader\n",
        "\n",
        "class GPTDatasetV1(Dataset):\n",
        "  def __init__(self, txt, tokenizer, max_length, stride):\n",
        "    self.input_ids = []\n",
        "    self.target_ids = []\n",
        "    token_ids = tokenizer.encode(txt)\n",
        "    for i in range(0, len(token_ids) - max_length, stride):\n",
        "      input_chunk = token_ids[i:i + max_length]\n",
        "      target_chunk = token_ids[i + 1:i + max_length + 1]\n",
        "      self.input_ids.append(torch.tensor(input_chunk))\n",
        "      self.target_ids.append(torch.tensor(target_chunk))\n",
        "\n",
        "  def __len__(self):\n",
        "    return len(self.input_ids)\n",
        "\n",
        "  def __getitem__(self, idx):\n",
        "    return self.input_ids[idx], self.target_ids[idx]"
      ],
      "metadata": {
        "id": "zFPZKyBppwJt"
      },
      "execution_count": null,
      "outputs": []
    },
    {
      "cell_type": "markdown",
      "source": [
        "Making the dataloader"
      ],
      "metadata": {
        "id": "qQWwD666qzZj"
      }
    },
    {
      "cell_type": "code",
      "source": [
        "def create_dataloader_v1(txt, batch_size = 3, max_length = 256, stride = 128, shuffle = True, drop_last = True, num_workers = 0):\n",
        "  tokenizer = tiktoken.get_encoding(\"gpt2\")\n",
        "  dataset = GPTDatasetV1(txt,tokenizer, max_length, stride)\n",
        "  dataloader = DataLoader(dataset, batch_size = batch_size, shuffle = shuffle, drop_last = drop_last, num_workers = num_workers)\n",
        "\n",
        "  return dataloader"
      ],
      "metadata": {
        "id": "YEWNREDvq1Nn"
      },
      "execution_count": null,
      "outputs": []
    },
    {
      "cell_type": "code",
      "source": [
        "dataloader = create_dataloader_v1(raw_text)\n",
        "print(next(iter(dataloader))[0].shape)"
      ],
      "metadata": {
        "colab": {
          "base_uri": "https://localhost:8080/"
        },
        "id": "M3KuQh7VFS_e",
        "outputId": "95f109c4-216f-41b6-aa50-30cf78cb0b40"
      },
      "execution_count": null,
      "outputs": [
        {
          "output_type": "stream",
          "name": "stdout",
          "text": [
            "torch.Size([3, 256])\n"
          ]
        }
      ]
    },
    {
      "cell_type": "markdown",
      "source": [
        "Change the function values above and see how shape changes"
      ],
      "metadata": {
        "id": "q_TqDHqoHZEH"
      }
    },
    {
      "cell_type": "markdown",
      "source": [
        "Testing the dataloader"
      ],
      "metadata": {
        "id": "SJ5eTm3HrT8n"
      }
    },
    {
      "cell_type": "code",
      "source": [
        "with open(\"verdict.txt\", \"r\", encoding=\"utf-8\") as f:\n",
        "    raw_text = f.read()\n",
        "dataloader = create_dataloader_v1(raw_text, batch_size = 1, max_length = 4, stride = 1, shuffle = False)\n",
        "data_iter = iter(dataloader) # iterating over dataloader\n",
        "first_batch = next(data_iter)\n",
        "print(first_batch)\n",
        "second_batch = next(data_iter)\n",
        "print(second_batch)"
      ],
      "metadata": {
        "colab": {
          "base_uri": "https://localhost:8080/"
        },
        "id": "YvUoglS8rTqC",
        "outputId": "bae86fb6-59a1-48d9-cd56-0408466ce8da"
      },
      "execution_count": null,
      "outputs": [
        {
          "output_type": "stream",
          "name": "stdout",
          "text": [
            "[tensor([[  40,  367, 2885, 1464]]), tensor([[ 367, 2885, 1464, 1807]])]\n",
            "[tensor([[ 367, 2885, 1464, 1807]]), tensor([[2885, 1464, 1807, 3619]])]\n"
          ]
        }
      ]
    },
    {
      "cell_type": "markdown",
      "source": [
        "using batch size > 1\n",
        "\n",
        "Increasing stride to 4 aoids overlap between the batches since more overlap could lead to increased overfitting"
      ],
      "metadata": {
        "id": "zn18IdZmsHwm"
      }
    },
    {
      "cell_type": "code",
      "source": [
        "dataloader = create_dataloader_v1(raw_text, batch_size = 8, max_length = 4, stride = 4, shuffle = False)\n",
        "data_iter = iter(dataloader)\n",
        "inputs, targets = next(data_iter)\n",
        "print(\"Inputs:\\n\", inputs)\n",
        "print(\"\\nTargets:\\n\", targets)"
      ],
      "metadata": {
        "colab": {
          "base_uri": "https://localhost:8080/"
        },
        "id": "2KARnA-dsRlB",
        "outputId": "36b19760-f2af-44eb-85a6-ebff74832d96"
      },
      "execution_count": null,
      "outputs": [
        {
          "output_type": "stream",
          "name": "stdout",
          "text": [
            "Inputs:\n",
            " tensor([[   40,   367,  2885,  1464],\n",
            "        [ 1807,  3619,   402,   271],\n",
            "        [10899,  2138,   257,  7026],\n",
            "        [15632,   438,  2016,   257],\n",
            "        [  922,  5891,  1576,   438],\n",
            "        [  568,   340,   373,   645],\n",
            "        [ 1049,  5975,   284,   502],\n",
            "        [  284,  3285,   326,    11]])\n",
            "\n",
            "Targets:\n",
            " tensor([[  367,  2885,  1464,  1807],\n",
            "        [ 3619,   402,   271, 10899],\n",
            "        [ 2138,   257,  7026, 15632],\n",
            "        [  438,  2016,   257,   922],\n",
            "        [ 5891,  1576,   438,   568],\n",
            "        [  340,   373,   645,  1049],\n",
            "        [ 5975,   284,   502,   284],\n",
            "        [ 3285,   326,    11,   287]])\n"
          ]
        }
      ]
    },
    {
      "cell_type": "markdown",
      "source": [
        "`batch_size` of 8 takes 8 inputs and targets at the same time.\n",
        "\n",
        "Note that we increase the stride to 4 to utilize the data set fully (we don’t skip a single word). This avoids any overlap between the batches since more overlap could lead to\n",
        "increased overfitting."
      ],
      "metadata": {
        "id": "_Po_ue5Ms0vC"
      }
    },
    {
      "cell_type": "markdown",
      "source": [
        "# 2.7 Creating token embeddings"
      ],
      "metadata": {
        "id": "dGuxp_12_N8t"
      }
    },
    {
      "cell_type": "markdown",
      "source": [
        "GPT models train the word embeddings as part of the training process. For this we need to create token embeddings.\n",
        "\n",
        "`embedding_layer` - This object in the code below contains one tensor with random values each of size `output_dim` for each word in the `vocab`. This way the object acts as a giant lookup table to find the embedding for any token given.\n",
        "![{9945C976-534B-4B97-876A-9D5793D8000A}.png](data:image/png;base64,iVBORw0KGgoAAAANSUhEUgAAAocAAAH9CAYAAABoRdbYAAAAAXNSR0IArs4c6QAAAARnQU1BAACxjwv8YQUAAAAJcEhZcwAADsMAAA7DAcdvqGQAAP+lSURBVHhe7N0HWBRHGwfwP1KliRQLxQKKWAAjNiwRexfFigV777FgNLHks4O9xi420IAau7EkNixgQCUKCgooKB3pcDDf7rEgIHB0Ad/f86zezczO7s4t3MvuzowU44AQQgghhBBOFeF/QgghhBBCKDgkhBBCCCFfUHBICCGEEEIyUXBICCGEEEIyUXBICCGEEEIyUXBICCGEEEIyUXBICCGEEEIyUXBICCGEEEIyUXBICCGEEEIyUXBICCGEEEIyUXBICCGEEEIyUXBICCGEEEIyUXBICCGEEEIyUXBICCGEEEIyUXBICCGEEEIyUXBICCGEEEIyUXBICCGEEEIyUXBICCGEEEIyUXBICCGEEEIyUXBICCGEEEIyUXBICCGEEEIyUXBICCGEEEIyUXBICCGEEEIyUXBICCGEEEIyUXBICCGEEEIySTGO8LpEsLCHOHLkHsKhAP0+NrBqopqRg2Sfy9j150uk6XXH1OGmUBZywIJwd78jHn0GVNuMwOSO2pASsrJJ9IbL+u24kNQBC5cNQ1NlaSEjD1HuOHbgNj5BB50nDYOZmoTy5V1hj78oWDR8LjvixF9P8C61O5ZtHQ5DSZupbO1MCCGEfM/44LBEpb5kB3vqMFk5VWa8+gGLE5IZi2Ee2/py6fJMVmMuu/ApRUhnLM3fkVmrculyfdk2jxgh9Wsij23sB359OQtm55Z3uUxBzsxGXH4acw76sr3cpMUEscDI/MuUloJuu9DHX2iJzN9xElMXb4NbDOyYWy679dX+FqKdCSGEEFK+lfxt5Sr10GFYO+5FEl6deYCXScKFyfjnuHjgbvrrmFu49PgT0nOSEej6Fy4mci9b9USnxkri1NxINx2MrfbzMWutLaya5l2u0ETvcdt+BZx8+Z0oY4XYdqkdf4a0t7hx+ApioI9RDl6If7MQZjJCXoZv2VaEEEIIKXWl8MyhAhp06IXO/MuXt3H/VRz3giH+2d9w8k7iUzk+OH35X4Ty0SH7ANfz/yARymg9rCMay325ocwS4xAnynLXW0YHP85eh80LekFfIdcbzxKIEBsVx/2bBYuG17HfMH3dayFYLSCWhNi4rDUxiGKjEZt1fzPxeeEIDostwrZTIcqos9jHLxDFISo2256kS4tDxJsw7kVNNG1QEznjwoK3VS7tnMVXnyshhBBCyo1S6ZBSpUE7DO+syb16iNP/vEEywvHwnAte8QHg7NmwUQFiTpzD7cBksMDHOH8pkCvbCaO7NYQcH0gF38fv83qjYTUNVNfoiPHb/0EwH0wEu2CsvALk5KfDJZgPPVIR+/ZvHFoxA8M6N+LS+Tx+aYixLnydGZIR+ew0lvQzgXpNbTS13g23yFQuPQnBt3dgzjwHvIUrlrbTzGVdQea2J+Lg1cOY3sYA6ur10HqGI7xDnuP0z1Yw0qgJ9aZTcdgrOj14YnEIvHcUy4e1hbqGDurq6MDI0h53Q/l9z2Pbdqu/HGPAKzjP7Myt2w3L74RmP/6AZzg0UJ97rYl29k8Qz0Jxd2VX7r0CVC33wSsxZ/DFt6srDi8ZhAZKGqihUQ8th62Ck2e4EMQFwmXiCCwVHzq/P4uENs5QkLbKq515+XyuhBBCCCk3Sqe3cpX6sBjVBQqIxePLT/Eu6hmuHXvOZXTBhCnTMHCYIZD4D867+iEg45Zy577oYqQEpLyEw/QxmH0YGHLkNI7OUIHzoilY6PwWaeLKv2AR/2B1H0tM2+oN9a7WmNCuJpdqigl2azG2WbX0QmInMH3YbgTpm6OjHvDWZS2WnX2NNPYZIXFVoSvuGWMI6zWH4XjKPse6OXF1zToH2c5d0FwhDB4HZ6FvuyGwD6qHPt31gXcOmLvmKgL5mCf1FZzGrcV99Z74dc3P3P6pIeDqeixz9kZqXts2q8EncOIRcG4bphx4jMREVWhr5riNLNsYI1b9BAuFWLit342Tf57Epi33AYU+WP3bCDTNeWVR3K6jMHXLE6iPWIDV89sh5vw6jOm6GKd847kC1dBs9AxY8zG9eH8GoplKltOjQG2VRzvzWYX4XAkhhBDyDQnPHpa4rJ1Mli23Se/k0PMg805NYZ8uzBW/Vxlqy34d2oAro8N6HHzJUlkaS3SzZ6Z82Y57mJeIq8fPgVny7y0dmN+HrB0fEln41YXievSW32Gx3Lqxd1YyPTkN1nHPC8atmqWjhDmbf/UDVyKOee0ZyL3PWIeT4sbsDPgyEjp5ZNbVk61xDefqCmU3bVuK69Kefpa9T8my7xkdOZL8mdvj9ywhja8gkfk5jBaXN7BzY+JuG7ltO3M7dZiB4QC2/IoX8/d6yQL4SnJ2/EgLYXdWdBHXmb5oMPM1D1i0eHtZcUfuupYZ82XqLGM3o/iGDWZX57UQr5PZXpLaIq98ie0s4XP9an8JIYQQ8q2UzpVDjpRea1j21eNe3cDG9U6IgSY6D2uHBlVkoNW6G4apAInnt2L9ef62ZDsM71APVZCKCP83+I+vIMgJKyeMxTjbQ3jBv3/xCREZdyjFpCAjKwcF7pWciiLkuffyikqQQywCw2NyPO9mig4mNbgScqheo5Y45eO7UHwWvyqs+jCqq8rVpYBqmvxlND1062YGHRlu+9r1uS1lIVcHZi2rI/KpCzbNsET3SWeEjIKIgqLNEtj2aoI6TYygl9szhlJa6DBjEWbpy6e/N52HDdNbQ/WroqmIDgrAK/6lRQs0ribNrauBJm2bcwmxeOjqjRA+r9jyaufCfK6EEEII+ZZKLTiElA7MLTuJgzcxhV6Y0E1fvEGpGm0xdJJxejpHYfBgdGuYWTJd3W6wmT0Hc2zt4fTgPlxPD4ZBtuHzqkDlhx6YZKqMgNN/wNn1DpzPXEIA9NG5sTYXnpQDove4tWooGg0/gc8WK+B4YLSQURCG6G3eEIrCu9wxpCZ+RmSo0NHH7y3eRWR0+imnJH6uhBBCCPmWSi845MIzPfPu6CfEfAp9u8NcLyNkU0fLHj2gJX6th36WraEnvtolDVWtWhBfc3r1GbL6zWFmZiZeWpjoQSXHFTEpNTOMmjsM9T23YIxFfyx7YoSVDsewYYAecrnOljspGcip8lfewuEbHA3GEhEVXRIBVioibm7D0HU3oTF+EZYOawUdJVkhT5DbtiP55/94uqhfK//QECwUd/Zsx4kY4X3MH1i9+SaCv+rjIY1q2nVgxL/81xv+8VwBFo7/HnpwCfJoYlyH+0QKoMhtVbjPlRBCCCHfTikGh1wskXlrOWsAyKsC1ZZdMZrv/KDQCZbmOkIwJwUls/5Y2KkmELYXM20WYfuxkzhkvwjDF1766tZn6svjmDThT+iuuIg34eF4c3MPlg43g5ZMIaINaS3ot9bhXvjg4LzRGNa/N+bfLImbrGmIi4oAH7eF3zgKO7sVWLL+gjgnYO8yLLv2IfdtX3onLgMulKpRPb/rnwzxT4/jl81ugMooHLh1HLP0gbcHNmDb7ZD03tKZpKBo0hOT+Hb13ouff/oNdits8eshL27dIVgwqAkXIhZAkduqcJ8rIYQQQr6dUg0OuegQnUf2hYpKDwzpqJv9ap6qCXqOMc5xRZGjaIoJe/fDbqQxQv7ajYWTJmDe6TCYdGwAFaFIhipaRujSQRp3V/VDAw1lyMk3QuexK3H4YVCeY+x9rSbaj5uC3npceBToimshRuhgkHNLRSEL3S5jsLRDTSQ+OIkj95Qx+JdZsFDg4mH1+jCsxfc+zmXbRuLuwpKlvITj/3bCDcpouWQahrTvg2mL+kGBS9n8yxE8+pzjQT7FHzDjqAPsR+rB/fA6LNtwDhEd5+P3i/+DtYGEK5SZitFWhfhcCSGEEPLtlPjcyjmxxCh8igLUaqohe58KfmDoCISJlFBTTSF74CiWhsSoMESKFKGlqfz1gMz8GIc+F7FtxQY4hDTD8F6GUIn1wdUTTrgb2gPbHxzBtELMIpL3fhZP9nr5Y4pAooI61BS+xOWlte3cCe2aKIfqRdxe8fZX0udKCCGEkG+p1IPDUsPewmlUD4xx/hHH3uzFcD3+eb4UBDpNg4HNHVifuoWjVvwtbUIIIYQQUlCle1u5NEmpQrthbe6FO846nICziwtcnH7Hpr03ABUL9GmZMZg0IYQQQggpqIp75ZDDYl/h8uFjuHD3AW6cfw217l3RwbwbLEdawqI+PxYhIYQQQggpjAodHJLKKyEhAYGBgXj37h1iY2OFVKBZs2YwNDQU3hFCCCGkpFFwSMqFiIgIvHz5Ev/+64EbN25AS0sTpqbNoa1dG/r6+lBUVBQHim5ubnj79i1WrFgBXV1dYW1CCCGElBQKDsk38/79e/z33384cyZ9WsGOHTvCxMQEjRo1QtWqVcVpufHx8cHixbY4depkvuUIIYQQUngVJziMcsexA7fxCTroPGkYzNSKO+daKlflaRy4/QEyxoMxu2d9fF1jjjKdknF+/XZcSOqAhcuGoalyKcz7VuLHWb7wVwgvXrwIF5ez4quDQ4cORcuWLaGuXqA5WjJ5eHhg165d2L59e5kEiPx+h4WFCe++4K9o0hVMQrLj//CLj8+Y7ekLTU3NQv+sE0LKXsUJDoNdMLbeSJzCeDi+2wGr2sUdIU/EVTkbda0Po86a+3i10CyXMfeyl/Hqfh/mrRfjBcyx9sEFLDRTFsqVoBI/zm+PD6z428EZVwiLGhDm5OLiglevXmHp0qVCStHwzzfyS377w29rhPVI9OndG4aNvjzz2KxpU9jY2AjvCCE8BwcHvPDyEt4BkdzvgKMOx+B46iSsrKyEVEJIeVVxh7L5BqSbDsZW+/mYtdYWVoUYYPt7df/+faxduxYTJkwUdyrZsGED9u/fjx49epTI1QP+S0ZVtRoW29qKg7ui4q881qqtjZ07d4lvWefHxmYMNnLHkbFQYEjI1/ifi6w/J4sWLRJyCCEVQakHhywxDnEiCRcnWRJi47JOeMfPnhKN2HzWY4mfEZ2YJrzLLt9tskREhcfmP71eXmVkdPDj7HXYvKAX9HOdGkSE2Ki4/OsuMr5NwhEcJmHf81CgzwGpEEkskz/+dhIfZA0cOEjcuYT/kjh37qw4kCuN20mzZs1Et65dYW09Unx1rzhB4k8LFqCZsYk42JQUJBJCCCGVVSkFh1wgE3wfv8/rjYbVNFBdoyPGb/8HwRmBB3/rVF4BcvITcfDqYUxvY8AFDvXQeoYjvEOe4/TPVjDSqAn1plNx2Cuaqy0rX/y9Zzra1KwBrZo/ZqlXwjbF0+2dx4qBLVBDWwdGlitxxiNIyMsgoUzmfk+HSzAXomU9jmsnsaSfCdRraqPp+KPwis2Y25ir8+3fOLRiBoZ1bsSV5cvzS0OMdQkUyuSDxSHw3lEsH9YW6ho6qKvD75c97oZy249/Avt2mlxdZph/7aO4nViQCyZocvVXG4VDPlygWqDPgTuegFdwntmZ20Y3LL8Tmp5fSPxVwu07duCHH5qLA0I+cCuL5/H4K5F85xQeHyTywR0fKPIBHn9LuyCam5oKr4CtW7eJg8TJkyeLn20khBBCvielExymvITD9DGYfRgYcuQ0js5QgfOiKVjo/BbZr/WdwPRZ5yDbuQuaK4TB4+As9G03BPZB9dCnuz7wzgFz11xFYLbo8A72nnyDej3NUSfRDSe4eheceo0USduM98ShWXOw7qofoNcCLeTvY/uGa+IaMxWkTK644xi2G0H65uioB7w9uQq/nvUTb5dF/IPVfSwxbas31LtaY0K7mlyqKSbYrcXYZtXEa+cr9RWcxq3FffWe+HXNz9z6agi4uh7LnL2RqtgEfWw6cYW84HD6AYJZMgLvXsYfMYBC3wHoVs+/gJ9DPALObcOUA4+RmKgKbc2i3TLnn/3jbyG1b99eSCk7/K1h/uokH5TOmT0bysrKePjwIdZz+8MHi3xAzl/N5F9nXVq3biPOk6ry9ZXg6urqqFOnjvCuqLg/DgKe4No5F7hc/Af/hSUJ6Xnh/5hwxUV+xp9cy+eVz/1xFPYa7u7uuSwe8PmqHv6PKXdcOncfbxOz/YCVscK2T4YkBLvfwN23ccJ7ycdfsPbJsj/nruNRQKz4j65vr6Ta6QsW649H185zf0idx3XPkBx3JApwHhZpfwghFQLfIaVkpbFEN3tmKifPZDvuYV4iLsXPgVny7y0dmF8aVyTImdnw7+V6sjWu4dwaoeymbUvuvTzTnn6WvU/JUoeBHXNLybqONTvoHcclxDHvgyOZCp/WcTdzf5jfNrPUpzGNOfonCOtbi7dpYOfGUrLud15lMvdhGnMO4nYq8317ZnvzE1dDNHOz656lThELv7qQqXPv9ZbfYbFcidg7K5menAbruOcFl5uLnNtI8mduj9+zBL7dWCLzcxidpX7uOP0dmbUqV151DHN4/S872FOHyzdm0y68L8TnUIcZGA5gy694MX+vlywgfWPflUWLF4vbNWNxdnYWctLx73NLz5+IRTzYyLqoqjIDCys21MKQyRpOZodeRHFnQm5imLfDNGYop8PM+lrnUj6//BTu45yW7Ri+LI3Z1AsfxDVkSvZhjhNacHnCefZNFLZ9MohYzIsjbJyhIbNxDhDSJB2/fwHaJ5EF3fwftz98+45kY/q2ZCqqfdiKf4Il7E9pK8l24mWkqzIVs75szFALZiDXgo075MlixBVmnGd5ba/w++Pt7S1u68L9/BBCvpVSuHKYigj/N/iPfxnkhJUTxmKc7SG84N+/+ISIjLutYvVhVJef5k4B1TT5nr966NbNDDoyUpDXro8vN/qyqgY1FTnuf0U06NAV5nzSo0e4eed5PtvMsk/dLdBOT4F7IQcVtaxX7gpSJi/GaN1YnTsORWjrG4hTAp77I5RLkZGV446Oq0lFEfLce3lFJa7WWASGxxTs2UG5OjBrWR2RT12waYYluk9K7/GbQUqvE8ZOaAokXsa2eT9j9+0wQH8IRv6oVYjPIQqKNktg26sJ6jQxgl6uz1NWbmrV0j/nsTZj4Of7pmR6VMY/xcEFO5FgexVPbznj9F83cMHqNeYuc8HrlK+vR7GAS1g56x+0c/gHDy+e5Mpfg2PXx5j76594myYpXwa1rfYgOSnxyxL3Eo4TjaFi9RNmWfBXrDPEw9dxPWYc/9Kb9JsoZPuIsWj4nFuDUZZzcOJd1uvfko5fR3L7cPtzaN5ebn/O4NaFE3C4cA3XbVOxdtZhPIr/htcPS7SdOCneOL1sNR72OYFXDy/A4fQV3HJojT/n2ePs2ySk+Z3Fklm38MP2O/Dgt3frEZ7MisLcyQfxlG+HouwPIaRCKd0OKXW7wWb2HMyxtYfTg/twPT0YBqU9bJ+kbcrJgos981eQMgVSBSo/9MAkU2UEnP4Dzq534HzmEgKgj86NtbkgsQBE73Fr1VA0Gn4Cny1WwPHAaCFDIFUTHYcPgREXcD776zaeQRktJ/aGmWqWj1bi52CI3uYNudD2+2VkZIQD+/eJx00sqeckU1+74qR7C9gMNIUqfz7J6MLCsjs0rvyJW69zdpxhEEnVQb+NqzCrR730YZVkNFFXvzoSn31CZJqkfD4hKy4APLUak0+bYOvqkWiWOSYnQ6LXcfw0PwxjpnYV0r6NwrUPLw6eO0ag2dh70F+xDvN0hORc5XX8GXLJjwtHoL8c6hjUhgq/P1Iq0DHgNuIfjLC4rxq4zJR0O6W+voMjV0y4YK8ztMW/6BSg13chLl9aCIsawCePB7iY2AGD+jSBsrgd1GDSrz+6uP+B8+6RRdgfQkhFUwrBoTRUtWqhFv/y1WfI6jeHmZmZeGlhopf+S7dYohEVk8z9n4j3/z6BG5/UpjV+bFU/n21Ko5p2HS6A4tx4hGfiy2bcl20KX0+GgpQpPCk1M4yaOwz1PbdgjEV/LHtihJUOx7BhgB4kN0UqIm5uw9B1N6ExfhGWDmsFHSVZIS+DFBRb9MakVhljLnaCDfdLXbFQn4Mu6tf6nkPD9GFx+J7VJTegtgghvi/xgvsEalTP+DNACvJ1jfAjvOHhFyWkZZCCrJ45Rk4dCrPqXKAiCoPPbUcccHwPizld0Jj7Es8/X6hGwIJvYvPqO+iwei6GGnz5bNnnx9g1/3dU3fgb5lgU93nK4ihs+/BkoNHGFk/eXMAW6zaokc9vr7yOP0Ou+Zqm6DdaA5f37YfTncdwu3MGu/bdRv3R3WGmmTO4LCsl3U5cfa888VDHFPVS/sGOn2dg7NgZ+Pm4H7SaN4VeRhCtoAQlhZwNHAr/0Ogi7A8hpKIpheBQCkpm/bGwU00gbC9m2izC9mMncch+EYYvvIQQoVTRuWDeyFGYMmUUrKYcRgzqYsjkbmjROr9tcgGUSU9Mysyfj9XLJ2HwlBNCnbyClCm81JfHMWnCn9BdcRFvwsPx5uYeLB1uBq0CXZpMQ1xUBHeMQPiNo7CzW4El6y+IcwL2LsOyax/EryFniG6jO4pfKvQdiB5GfIeSwnwOWX/RkxJVqxa0VHMGFilISM52Xz87kTvsjXTRrNcsHHxnjsFdDJAtZJWUjzi8PH8E+6tYY+6wpuLHGsRYBNz3r8dmzZ+wZkzTHOuUvFQfJ8weO5YLPr5extvfQThfqFDtIw/dNhYw1ZIX3uclj+PPlEe+lDYspk9FH89NsOn+I9p1n4DNnl2wZE4n1Cr2H7Vf5N8udxEplMumxNopCSHv33G/UI5g1uCt8FI2hFkzObywt0bvuX/AL0UaGgZN0DrRDTcffUh/9IVF4dnFC7glXl9QlPOaEFJhlEJwyFE0xYS9+2E30hghf+3GwkkTMO90GEw6NoCKUKTINEfj13E68HC6hGdoiVF2+7DJuiFkJW2Tz9+6ETP53r5/7cPGq4oYMK2buMpMBSlTSFW0jNClgzTuruqHBhrKkJNvhM5jV+Lww6D0X7z5koVulzFY2qEmEh+cxJF7yhj8yyxYcN9mCur1YVhL6FWcFoCH555wL/QxZHQn1M/4VEvzcyAFI0pGSmphn8NqiEmecUgKfw6XmeFYNHgVLgWnCHk8Cfmf3eG47RFaTuyPtuoZX+CpiLy3GzP2aWPz6kEwyHkBuhRIVdWCkbExjHNZmulVS3+sokjtI0Gux59FHvks+DJsB69F6Mw/8Co8o32DMXfAyhztXzz5t4sq91Ofi5Jup0RV9Nx6GHuWzcOcRZtw8vhiaBzfi1Pu0ZAzsYbdCnUcHNwObfuNgk3/nhh2OQ5mWX9plMbnRggpP4SOKaUklSVEfmJBoTHinrUlKS0hmkUlpArvspKwzZQYFhoUxmJS8unnV5AyBSJiMd7n2OoR5sywy2T260Y7tnH5ZNbFQJXJqg5he17ECuXyl5YQyYKDI4Uey/zxhbLIzGNPY0ke21l7vtel9mJ2NTy3PtCl9zl8LwrfW1nEQi7MZio5egOnBTiy4XIt2eKboUJK/tLLN8jR2/SLr/NTWfTNpUxbri/b5hEjpHFEHmzbD9x5Z2DBhtrYMBubMem9TOUMmcXQaczuTohQsKwUs31S3JidQW7tksfxZ8orX+jtrDGXXfiUZX+CnNk41bzbv/SVdDtl9OrO0UtdPHJBlnJp0czvzmm2x347O+h8j/n5nmNTVU3Z3Kvvi7Q/1FuZkIqldK4cZqoCBbUaqK2pnP4AfQmSUlBFta+eieFJ2KaMMjRra0A5v9u6BSlTECwAl1YuxCqXxvjtyC78tmghFq3ahSNrhnB/uXvA1btgAzRLKaihVi01pHci5o9PE2qZxx6Npxdd8BjyMJoxEB1zu1JSip8DyYs0NAybwxy+8AuKF9IY4t+9wgMYoVn9nNduUxF6cQ5U5SfCKTDLVSpRMhIhi6pyTEJ+xucei9dPnyC0cWe0Fz9eIJCqjmYTl2PttL5obcxfpWoGozoaXIYG6jRuBD3VMriUmE1h26eg8jj+TBLyU5KR9c6olIwc95P1LZV0O0lDvW4DNEEg3ockCmlcjaIUJEEJ1ZXkwEIf4sjmy4hoZoVpC2ZjgpU5NN49xgW0hHljrVL63Agh5UkpB4ffOSlVaDeszb1wx1mHE3DmB5R1+h2b9t4AVCzQp2WN9HLF8fkZLh9/yr3oiEn9jL/rHsflTZX6bTG891vs33lWPGMOi32G47tPIm70IHStx4ccUfB02g77XbcQmCYNzRYWGKJyA/sO/i2exYbF+uD874dwWd8Sg1prS8gXziUWgv/ueXOnVzPUl8/yx02VOugycwEWLlwoLD9huiU/WJQpLKfNwnBTtfRyZahw7ZO+jkR5HX+GPPNlUKttd4yWvYpDh++lzyIk+oQnjk44I9sDlm3FXbu+iZJtJynIN+2Oab28sWvrKbiFJnHH+R63Dzpw59EADGilybVRGB6tWwG70y8QyxhEwXewc/NpqE4cgs56cgXYH0JIhSdcQSSlJC3mJbu4fSmbKh5olh9c14bNXe3AbvlFl8DAuiIWfmcrG8/fJpzvxLyTi18jyV3hbyvz0lhK0HW2vEsd8bqy/KDCAzawm0GJQn4Ac7Zp8GWgd34Q5n+2sOGGqkJ5eabSajZzyBxcWFI+R3wb8csg6XnL4/ZimSps+2SR121lScefb/7X7StrOJrZ//NeQluWtpJuJ76+m2zNgMZZjjPrINYZg4ELedzvrVbTj7MXMRmPrEjan6/RbWVCKhYp/h8hTiSE5IGfq3mE9Ug4njpZ+AGyWSwCn3sjRKEuTA01Jd/al1S+sPWVd+XteDL2BzXQyFgvfay/8qDE2ykJYT4v4R+jhLqmDaCZ8zEafrgkT38k1mgEYz1lfNUMhdgffp5zfr7yIv38EELKHAWHhBRAsYJDQr5zFBwSUrHQM4eEEEIIISQTBYeEEEIIISQTBYeEEEIIISQTBYeEEEIIISQTBYeEEEIIISQTBYeEEEIIISQTBYeEEEIIISQTjXNISAEUfZzDVMQGPMX9p4GIk9GAUdu2aKKZ3xRjXPm3j/H3v8FIlsuvfBKC3e/ijbo5Otbn5whmEIW9gaf/5/TsbKShUrcxDMX1ZNkfKEOnRTu0rpPLAMdlJudx5I7FBuK5dwiyzCrNUc0yeHNBjyuv7RX2cyptBWsXyedLQY+rdNuFxjkkpILhg0NCSP6KNn2eiEU82Mi6qKoyAwsrNtTCMMc0ZTnFMG+HacyQn44s3/IiFvPiCBtnaJhlWrSM6fAypjzLujRmUy984MpkTIvGT+M4ko3p25KpqPZhK/4JzmN/Sltux5EbEQu5MJupfHVcGVP/FfS48tpeYT+n0lbQdsk4X/jjts5lvwt6XKXfLjR9HiEVCwWHhBRAkYLDuMfMzrwOM1/zgEXz36YpAezqEgumYnko13mwU30d2CBVQzZ8rweL4bPTIpnH9qFMxXwTc4sTyqdFMe+zq9gAA37+31zmFs4qxY85T2/J1EfsZ8/5eXHjHrDVxjpf9ictnLmu6clkjdcy14z6y0phjoPFMo9tvZhsz4PMO1VIyqogx5Xf9gr5OZWqQrRLmr8js1ZtzMY5vkmf+znlLfd5mzKVQQ7Ml2+nghxXGbULBYeEVCz0zCEhpST1tStOureAzUBTqPL3N2V0YWHZHRpX/sSt1wnphTKJ8MnjAS4mdsCgPk3S5/OVUoNJv/7o4v4HzrtHcglx8NwxAs3G3oP+inWYpyNeMQ/x8D21GpNPm2Dr6pFopizNrR6OQH851DGoDRVx/SrQMeAq8Q9GWFxa+mplojDHwWGheOXqjVptGkInt99YEo8r/+0V7nMqTYVpFwaRVB3027gKs3rUS5/XWEYTdfWrI/HZJ0Ryhy35uCpKuxBCyhoFh4SUChFCfF/iBWqhRnU5IU0K8nWN8CO84eEXJaTloKAEJYWcP5ah8A+N4/6XgUYbWzx5cwFbrNugRj4/vSz4JjavvoMOq+diqIFieqKmKfqN1sDlffvhdOcx3O6cwa59t1F/dHeYaXLBY5kp+HGIJX/Em0efUeOtExZ0bQS5am0wbLkDHgYnpedLPK78tlfEz6lUFKZdpCCrZ46RU4fCrDp3jKIw+Nx2xAHH97CY0wWNZQpyXBWlXQghZU3Sr2VCSHHUqgUt1ZyBVwoSklOF1xmkoWHQBK0T3XDz0Qfuq5nDovDs4gXcEufz5KHbxgKmWpI6BMTh5fkj2F/FGnOHNYWCkAopbVhMn4o+nptg0/1HtOs+AZs9u2DJnE6oxV8ZKjMFPY50LOg1nnxIQUyiBlpNWQfHfWOgffdX9Bi9Ha6RXDtKPK4CbK/An1NpKly7ZBK5w95IF816zcLBd+YY3MUAVYWs/I+rorQLIaSsUXBISGkSJSMltSADAkhBzsQadivUcXBwO7TtNwo2/Xti2OU4mKkIRQrqszsctz1Cy4n90Vb9yxc7C74M28FrETrzD7wKj0NS+HO4zAzG3AErcSk4ez/gckXLAr/d+QdXDy3HxOFWsBo+E3a7lqLtvcM4ev9TyRxXgT+n8qghJnlmHHc4Fg1e9eW4i3tcFbpdCCFFRcEhIaVCCjJyslAIi0BUluf5mCgFSVBDLbXMaztfSGnC/OeT8LyxBZM6t4XFhM24umsKGqUoobpSxq09SdLw2e0aDvo1x4jujSHcUOaI8NH1MvaHD8D8mb2grywNKeWG6DttIgZ/vIAzrh+FcuWPlLIeTNo0R33+ucn0FMgamKKTjh9uvArA+2IdVxE+p/JGRhVqSsJxT7JBn3fpx12846oE7UIIKTIKDgkpFdLQMGwOc/jCLyheSGOIf/cKD2CEZvW/vhzIQh/iyObLiGhmhWkLZmOClTk03j3GBbSEeePqQilJYvH66ROENu6M9ka5jI+XkoysdwSlZORQyJuYZSwVkXf+h9aaM+ASLL7ZLpZ+q1kf3Yy0Ie6MUeTjKvznVD6kIvTiHKjKT4RTYJaro6JkJEIWVeXki3lcFbVdCCElgYJDQkpJlfptMbz3W+zfeRZesalgsc9wfPdJxI0ehK71+NAlCp5O22G/6xYC+YszLAyP1q2A3ekXiGUMouA72Ln5NFQnDkFnvQJeOWQh+O+eN1QsmqG+fNYHCWVQq213jJa9ikOH7yFYxLhA4hOeODrhjGwPWLatJZQrD7K2izSq1TNEQ1zCrt9vi/ebxb7GpSOOuKU/BMPa6RT7uCR/TuVF9nbRbGGBISo3sO/g30K7+OD874dwWd8Sg1rXKPZxVZx2IYSUNAoOCSktso1hs2c3RgQsxw8aSpDX+BF28RNxZnVfaIvjthj4Xt6BpVueIoQLDqVqdMfy02MQurgN1BWqQrHeaJyrsxJ//NYdNQraYSQ1Gp9efEJ1XU2oCkkZpLT7Yo3LHCgftURdpaqQU6qL9juBpS5LMUBbVihVHmRvlyp1BsL+9EwoHx8i3m95DWOMvNMM+50XoLO6dPGPS+LnVF7kOF/Exz0fWqcy2sUENreMcfCPJehRQ6b4x1Vh2oUQUtJo+jxCCsClyNPncVgsAp97I0ShLkwNNdNvg+aHH5bE0x+JNRrBWK8UprbL2B/UQCNjvfQxFSsCSftd3OMq7OdUXkja7+IeVwm0C02fR0jFQsEhIQVQrOCQkO8cBYeEVCx0W5kQQgghhGSi4JAQQgghhGSi4JAQQgghhGSiZw4JKYD8njlMSBLhwF8+uPoqAjdCE4RUQr5vI+qowLJ5LVi1r0fPHBJSwVBwSEgB5BUc8oHh7EPuOPbuM7b3MoCOZi4DTxPyHXJ9GQJ794/Y1FEXPQylKTgkpAKh4JCQAsgrOPzj/luM+vMNDlg2QvOGWkIqIYTnePuNOEC8MKAW+nVpRcEhIRUEBYeEFEBeweH8I+7QrK6IAe3qCSl5SULYM1cEqLVCizr5XV1MRfyHZ/B4/gEJaXJQb2aOH+rwU5UxiCL84PM+Jr1YNtJQ0m2EuupyQNwH+PiG4stEczwVaDfRh5oMP/AfV3+AO9xehCBFrjrqtWgFA369ciPL8csUZP/yaq8MBa0vr8+nsPtTWoq6H/mcd3GBeP7kOULiAcV6rdCqiVaWMQwLsL181/9i5SkPdNaVwU/WHSk4JKSCoOCQkALIKzjsY3cPM3o1RN1aOecjyYr7ovU+jfVTdyFtsRNW99ER0nNgn+HrtAI/rbkLpRYtUR9vcedpGjov24olwxsh/oot+tteFQpnpYG+W07jl25aiLyxDAPmX8gRHPbC6psb0LVGEt79sRxzV/3D1d8COgn/4V5IK9j+vgoDG+W3/2UlFZ/dd2PBxP34aGgGI7zOf//yba+mUJQqaH15fT6F3J9SU9T9yPu40tPX4bZSM/yol4Bn92PxQ4HbTdL66VvJ8OeDd6jGEvDT8HYUHBJSQVBvZUKK4WaYhA4oXADz7uom/Dx5Hf4K5ydQzltawBXsWv8MrTe4wOHoXqw5+idOrzbB3fW7cCsgFZp9NsH1udeX5d/LWN1PFwodJ2OEOX9LOwmh/u8gMvkZjp5Zyj3fxAWGMmAfrmPv6icwXX2Gq38f7E6exGrzZ9hkdwXv89+1spHwDGf/dwxJEw7A0ekwt39O2NTjHTZtvIB3KV//DZt/eyUVrL78Pp9C7k+pKcp+5HdcKW9wbeMOPLewg8v5E1iz1xH7CtNuktbPQUleBr7hycI7QkhFQMEhIaUmHj6HpsB6yRPozpmLYdWE5FylIvZjJJS7DEXv9jrC7Tl51G7VAa1T3yM4LOeXbgLen9uE1dcbYYHtEDRQkuYCgjC8dX8HtR8MUOOrn2yGVCkd/LhgAUZY1EmvX0YDteuoQuQTis/lIDhMffsYV3yN0L+XMZT4q08y2mjZ80eoPr6GJ28T0wtlktxekuvL//Mp3P6UnsLvR/7Hlfb2Af583AgjR3aElvhRA67dus3C9n0z0VJTRuL2JK2fm5ikVOEVIaQioOCQVFr3vT7C5f67ElkeBclDqu8S8f8ZaXz9+ZNBtR9m4cjNE1g00Azq+f60SUO1zTT8tnkaWlTjAj2xJAQ/uYfH0rqorSkvpKVjn/6Bw043mMydiu51q6YnJn9CwLNEVA84h03DO8C8eS8ssnPEsxA+sJTivuNbo88YSzTh6xeF4919F5y9+AmmYztCP/fv9DIkQuQ7H/hDC+pqskKaFOT0GuIHvIN3QLSQlkFSe0kXoL78Pp/C7k9pKcp+5H9cEW9e4FW1xtAW3cPJtQvxy7yF2Obsj+pNjVBLiUnYXriE9TM+C0JIRUbBIam0/nQPwpXnn/DIN6LYi89n7ktPs574/4w034+5dQ7JSg41W3RAI42idGDgn+tywZ4t99Fggg1+rJM1OIyH3zUnXKjSH6MGGCEjh33yg1d0GuKSq6PpSFusXjUYWk82Y+bsffCMznLlRuSBo11+hPW09bj4sTm6dqgPBSGrJKX5ncX6eTO54OHrZfkeV3wWymWjUgPVlXMGGCIkJku68pRHe+VbXwE+nyLvT95Kv13yO65kRAR/AGJdsH7afvgpN0ATQzm8OTAPM5f/ifcpQrE8txcvYf0yvN1OCCk1FBySSm1Rv0bYYNOi2MsYo3iwo9PE/2ek2XRtKGylpCUj0vME1k/dhuB+67F2Rhuo8nfvMsR64NqR52g4tBdM1L58gUtpdMCMoyewe9MiDLLsj66Wk/DT6hlo+t8ZXHgSKpTiGcDq6jO4PvwTG6wjsX3qRtz5lBEVlCAFDdRv1BgNc1kMtFWEW8E5pKVAlFrYACOf9ipSfVkUd/3clFm75CNVCebLt2HZnGkYOeN/WL9lAqpdd8CVZ8KVSEnby3P9XENbQkgFQ8EhIeUJ35Hgsh0Wj92ZHujM6yQ815UhDbGet3Au1BC9Ohlmv+KnpAPDFsbQyby1JwWZuk1hVi0cj15/ROY1JhkVqChyZZQM8OPIYWgXfgvX3UOEzJJTRftHDJ8+C2NzWyybQVEol04K0nKykImLRExClgcgRSlIgQo0q+VxbTPP9ipifZmKu37eyqRd8iQH9dp8r+XmaGNSg6udJw0lPX3UwSf4f4qVsL1qEtcnhFR8FBwSUm7E4Z3zKsy1/Ru1lxzGtgUWOQJDXhwCnnkiRqcdmjfIGkak4vNDe4wyW4ibn74MZJN+q1kDbRpq4vONJehoPAfXgr5cJWSiZCRBBgpyOW8hljVpVNNvhmYIwPuPGT3AGRICffAM+migl3Xswgz5tVdR6suquOuXlJLeD2mo6tbnArlgfMrayUkc/FWFqmJVCdtTk7B+xnOKhJCKjIJDQr6ZaPic/x1Hj9zBxzSGJO8/sGX1X0BfGwxskoJ3zz3w3zN+eQ7/CGEoEBYKPzd/KLRpAh25rIGjNJT1DLgv7TtwPHYPoSLGxU6+uHv6HNy1eqNHy9pQa9YBXeQe4o+T9zPzbx9zxCOtbujSXFOo59upotcKPVp/gMuRi/CNS+X2zwsXj15AYo++aKPHPz9XuPaSXF/+irt+SSlcu6SvkzcpyBl2xpBW7+B0wBle/BAzoiA8PnkaD7jzwKK5hoTtyUtcPzem2tmvhxJCyjcKDgkphq6aQk/hIolF4O2j2HvoGSLSYuB9zRmPU1MRcmk9Zo4ahYmZy1Tsfyg8M5j6GeGv46BcSx3K6SmZquj0wU/bR0PxzzkY8EMzmLcdgGWPG+GXvTPRWk0aUrW6Y9auCVC/+CV/xcNGWLZnHtrlMQRJmZI1RP+1a9HrwxaMbmvC7d9IOCQOw4bF3aEljoML2V4S65OguOuXlEK1i3iN/Ck0waB169E/6gAmWfwA8x+6Y+7FWliwJ/08kbg9SevnQgol/NwmIaRU0QwppNKydXiKiV30YairJqQUXX7T5/Gzo3Q10xVSygEWi48v3yACWqjXWOerGSsy8xX0YKivkXsHiG+ppPevuPWVl/Yq8f1IRpSfN4JiFbNMr5iFxO1JWF+wkqbPI6TCoSuHhBRD+4bqOPzwPT5FxAsp5YCUMmo1aY4mTXIJDHkZ+d8y0MlPSe9fcesrL+1V4vshBzV9YzQxMcg9sJO4PQnrcxxvv8HFD7EwrFn0DjyEkLJHVw5JpVUWVw4TkkSYfcgdTz7FY2EPA1RXyT5YNSHfK9eXIbB3/4hNHXXRw1AazYxN6MohIRUEBYek0iqL4JDHB4gH/vLBYfdP8Ir/0lOYkO9Zd62qmGCuC6v29eDj40PBISEVCAWHpNIqq+CQEJI/Cg4JqVjomUNCCCGEEJKJgkNCCCGEEJKJgkNCCCGEEJKJgkNCCCGEEJKJgkNCvolUxAY8wbVzLnC5+A/+yzpPbb4YRMHuuHTuPt4mZu1LVtD6khDsfgN338YJ79Ox2EA8c3eHe7blNcL4afZKRWGPnyv/1hUXXfIuz2L98ejaebi4nMd1zxDk7Dde3PzyIffPL2+SyhfgfDp3HY8CYvOY46Sw+0MIqRD43sqEVEaLj7oz78BI4V3xODs7M1k5efH/xSdiEQ82si6qqszAwooNtTBksoaT2aEXUSxNKJGnZB/mOKEFty/TmHNQipBY0PpELObFETbO0JDZOAcIaTwRC7kwm6lwx8cf45cl6zZKUmGPP4Z5O0xjhnJ5lc84LlWmYtaXjRlqwQzkWrBxhzxZjLhAcfPLi7w+v7wUoHyu51MiC7r5P+7z0WFmfUeyMX1bMhXVPmzFP8EFPJ++5u3tLT6nSubnhxBS2ig4JJVWuQ0O4x4zO/M6zHzNAxbNf9umBLCrSyyYiuUh5p2cXzQSx944TGDqOQO3gtSXFsW8z65iAwxUuXUb5Pgyj2Ue23ox2Z4HmXeqkFSaCnn8qb4ObJCqIRu+1yM9WEuLZB7bhzIV803MLY5LSPZiBy0bMKN5F9iHFL5AAvN3nMbUVccwB9/E4ueXB/l+frkoUPm8zqcHbLWxzpfPJy2cua7pyWSN1zJXvr15hdwfCg4JqVjotjIhZSz1tStOureAzUBTqPKzjsnowsKyOzSu/IlbrxPSC32FIdHrOH6aH4YxU7sKaekk1xcHzx0j0GzsPeivWId5OuLVvmCheOXqjVptGkKnDH4jFO74Rfjk8QAXEztgUJ8mUObLS6nBpF9/dHH/A+fdI7n67uDIFRPMndwZ2uJp3BSg13chLl9aCIsaMsXO//YkfH5fKUj5vM8nxIUj0F8OdQxqQ0Xc3irQMeAq8Q9GWFwaX6CQ+0MIqWgoOCSkTIkQ4vsSL1ALNarLCWlSkK9rhB/hDQ+/KCEtO/b5MXbN/x1VN/6GORZ1hFReQeqTgUYbWzx5cwFbrNugRs6f+uSPePPoM2q8dcKCro0gV60Nhi13wMPggj4HWRhFO34oKEFJIeeOh8I/NBohrzzxUMcU9VL+wY6fZ2Ds2Bn4+bgftJo3hZ4yK2a+tLCtb0nC5/cVyeXzPp84mqboN1oDl/fth9Odx3C7cwa79t1G/dHdYabJt0dh94cQUtHQjzUhxZTq44TZY8dyQcXXy3j7u4gUymVTqxa0VHMGHilISE4VXmfBIuC+fz02a/6ENWOaoqqQnE2+9clDt40FTLVyn/eZBb3Gkw8piEnUQKsp6+C4bwy07/6KHqO3wzUyl/0pCQU+fmloGDRB60Q33Hz0Ib2TCIvCs4sXcEucn4iQ9++A8COYNXgrvJQNYdZMDi/srdF77h/wS0kqZn7Jd8gp/PmS/+f3NQnlJZ1PUtqwmD4VfTw3wab7j2jXfQI2e3bBkjmdUIu/kljo/SGEVDQUHBJSTFJVtWBkbAzjXJZmeqqQFcplI0pGSmpBAo9URN7bjRn7tLF59SAY5FoZp8D15ULLAr/d+QdXDy3HxOFWsBo+E3a7lqLtvcM4ev+TUKiEFXh/pSBnYg27Feo4OLgd2vYbBZv+PTHschzMVIQivERV9Nx6GHuWzcOcRZtw8vhiaBzfi1PuwpXIIudHp+eXoCKdLyVG8vnEgi/DdvBahM78A6/C45AU/hwuM4Mxd8BKXApOEUoRQiozCg4JKaYqel0wc+FCLMxlWTDcFMpCuXRSkJGThUJYBKLEz2+lY6IUJEENtdRyXMdJfYFjc+3gkfofnFdNx9ixEzB3B3/N7BZ2zJ0N+7uhhasvF1LKejBp0xz1M2+hSkHWwBSddPxw41Vw+tW6ElPI4+dJacL855PwvLEFkzq3hcWEzbi6awoapSihupIqaujW4wqZo6tZTa52njRU6zZAQ7yHT1ByMfNjxCklqXDnSwmTeD4F46PrZewPH4D5M3tBnzsnpJQbou+0iRj88QLOuH5Mr4cQUqlRcEhImZKGhmFzLhTxhV9QvJDGEP/uFR7ACM3qZ70cxpGqjmYTl2PttL5oLb661AxGdTS4DA3UadwIeqpVC1ffV1IReed/aK05Ay7BX8LA9FvN+uhmVBsl2yWjkMfPYaEPcWTzZUQ0s8K0BbMxwcocGu8e4wJawryxJtS5QK4JAvE+JFFYg1tHHGzywWPVYuZnPBdZSUg8n4RLiSnJyHqHX0pGDnQTmZDvRykEh+FwP7YV9vb2uSxbccw9XCiXhyh3HBOXPQX3qFJ63imbLPt7zB3im0ypb3Fta9b9tsemvadwzf0Dso0TW1mUeJunclWeErfb1mtvuXckqyr122J477fYv/MsvGJTwWKf4fjuk4gbPQhd6/FfwVHwdNoO+123uJClDrrMXJDl6tJPmG5pypUxheW0WRhuqlaA+vIjjWr1DNEQl7Dr99sIFjFu/de4dMQRt/SHYFi7mkK5klOo4+cvLrIwPFq3AnanXyCW8YM238HOzaehOnEIOuvJQ75pd0zr5Y1dW0/BLTQJEL3H7YMOuKw/AANaaRUzX1O8z+VbjvbKTxVJ55MmarXtjtGyV3Ho8D3x+QDRJzxxdMIZ2R6wbFsrvR5CSOUmDGlTggKYs00D8ZhWXy8FGJ8ryJnZiMuW1gC8OWXZXxtnFsQnpbgxO4Os+52xNGYD1v7NQoShvooiLSaIBUaWxXEVQom3eQpX5TRxmxnYuXHvvo3yOwh2GksJus6Wd6kjnFeqzGDABnYzKGNMPeGcNLBjbl81XkbbZv2sJNWXhfjczvlzyA96vEEYsy79XFexWMwcvQowKHeRFPb4MwZlTt83WTkd1mr6cfYiRiQunV7fTbZmQGMhn1uyDZJd3PxyJNfPL5/zJdfyWeV2PnHt/c8WNtzwy/kgazia2f/z/uufZYn1p6NxDgmpWEohOIxjQV7uzM3tIbtqZyX8crFidlcfcmnuzCsoTiiXh3IWHGrb2LEzzifZ7rndhRkkWrIZFwKK9qWREshurpjM7N1ihIRygoJDiUo2OBSkxbAATzfm5h1aMm1U3Poy1vcMKJuZQQq7vymhzNvNjXkGxOTx85fIQr3/5X7P+LBQ8WDWORU3/ztTgucDBYeEVCylcFtZEbWbtICZmRlM9GsIaTWgb2LGpbVAk9qK6UmiOETFFu9Rd5YYh7h8534VITYqrlgP1Fc17oyBVtaYbr8Tu6z0uJTn2L/zL7zOevtGFIvwqETke8eZRcPr2G+Yvu513uWK0CYS24AlITYua52M291oxOazDkv8jOjEvO9P5blNloio8NgS7sBQiUkpQ4//uTDULJnn+opbX8b6Jnrpg02XtsLur4wmDPnfK3rKQseRnOShadic+z3TEJriwaxzKm7+d6aszwdCSLlRxh1S+OeFXHF4ySA0UNJADY16aDlsFZw8w/MOKFL+w6GB+pCTb4LxTr5cOb6O+/h9Xm80rKaB6hodMX77P+nPxgS7YKy8Ald2Ig5eO4kl/UygXlMbTccfFT/bVCwyddGhT9v017dv45F/Enc40fjv9C/oZ6SD2jXVUK31eKx29kJseqkskhB8ewfmzHPAW7hiaTtNbh8bYqxLIJdXhDYpaBtcPYzpbQygrl4PrWc4wjvkOU7/bAUjjZpQbzoVh72iuZqy8sXfe6ajTc0a0Kr545c6xfLZJlIR63MeKwa2QA1tHRhZrsQZj6D01QghhBBSoZRtcJjyEg7TR2HqlidQH7EAq+e3Q8z5dRjTdTFO+Wb0XMwqGUEXdmHRlSAo9F6En630ISOuYwxmHwaGHDmNozNU4LxoChY6v8WXa10nMH3YbgTpm6OjHvD25Cr8etYvS35RyEG7YWOkzxT1Hp8iUpD29k/8MnkvQvqtw6lTR7DFUgG3/3qNrwa/YJ8RElcVuuIxKgxhveYwHE/ZY2yzakVoE05B22DWOch27oLmCmHwODgLfdsNgX1QPfTprg+8c8DcNVcRmC06vIO9J9+gXk9z1El0wwmuzgWnXkM8sll+24z3xKFZc7Duqh+g1wIt5O9j+4Zr4hoJIYQQUrGUYXDIEO9+Hlu5QA+1xmH99t+weN12bJ/RFFw0hP1/fd2rlYXfwfZlx7lgywJLlliioSyQ9OwKtvN1mFrCZtgAjJgyEl3gjzOn7sM/M9BpiZ/OuuDo9i3YOK0N9z4Izz59LmZwKAVpWTlkndMhLfITniWmICZZEXXNB2DCst24Zt8d6kJ+JiktmPa2gLF4CDcNGHfuDysrS3QxVCl0m/DtWLA2sMDK44exbcNmrJ9uzL2PRUKPDTh7cDPsVk1EEy4l8XEgQrNtwAp7L1/C6dOXcHnPYChwdf6x/xZep+a/TW+v2zj0zydAZTyO3boirG8l1EkIIYSQiqQMg8NURAcF4BX/0qIFGlfjwiwpDTRp25xLiMVDV2+E8HmZfPGn3Vps9gMMflqMaW3UufAsFRH+b/Afnx3khJUTxmKc7SG84N+/+ISIzEDHGK0b8+UVoa1vIE4JeO6PUPGrohIh1N8XAeLXWlBXkYG0XjMM0Of29OA0tKvXEgNX/gk/LqQq+HhghW0TXkHboD6M6qpybaCAapr8JUs9dOtmBh0ZKchr1wc/eMXXqkFNhR/XTRENOnSFOZ/0yBOvQpLy2WYAXvoJed0t0E5PgXshBxW1anwKIYQQQiqYMn7msDBkUa16dS60ScKH/94gOCnb/U+gbjfYzJ6DObb2cHpwH66nB8Mg51StJYmF4dndx+mvG/2AJrrykKrRExvv3MThJVYwUfDDlXXDYT73PIJy7GqpKes24H21zaEwyuhNICcLeo6fEEIIqdjKMDiURjXtOjDiX/7rDf94LoJi4fjvoQeXII8mxnVy3I6tg07TF2NFp5pIvLoJa87wz75JQ1WrFsTDsL76DFl9vmehmXhpYaIHlVIITFJjwvAx2Bdup3dg4yEvLkUbfeZZwkxRCiw6FOEqLTBq1TH8fWczenC5MVfd8SomlxvYUjKQU+WvKYbDNzgajO/ZGy0qZJvwSrMNohEVk8z9n4j3/z6BG5/UxhRGNeTz2WZ96OoIx3DjEZ6JL10yiFL4egghhBBS0ZRhcCgFRZOemMQFe/Dei59/+g12K2zxKx9wqQzBgkFNvrodK6XaEhN+nYzm/LNv87fAJSAJSmb9sZCvI2wvZtoswvZjJ3HIfhGGL7yUyy3Y4vuw3hL69Zqinc0m3E2UR/2RK7BmWCPx5PipbxzwY4dRWLx2Bw4638VrfgUDPdRSyqVZpbWg35rvzuKDg/NGY1j/3ph/M7TQbcK3Y+m1gQvmjRyFKVNGwWrKYcSgLoZM7oKG0vlt8zLiMo5BnDcfq5dPwuApJ4Q6CSGEEFKRlO1tZcUfMOOoA+xH6sH98Dos23AOER3n4/eL/4O1gTD+YTbSqN5hAv43swUQcxLL119GgJwpJuzdD7uRxgj5azcWTpqAeafDYNKxASTNIlt0mjDpboMle87j6o7RaKqcfu+2So1msNb3w95VS7Bow2Wkdl+I43ut0TjXW7s10X7cFPTW48K9QFdcCzFCBwNujwvdJhzFUmoDzdH4dZwOPJwu4RlaYpTdPmyybigOhPPdJp+3dSNmtlNDwF/7sPGqIgZM6yaukkiShGD3G7j7Nk54L0nu5VlsIJ65u8M92/IaYZlDEaUiNuAJrp1zgcu563gUEJtjGCMu/60rLrpw+Rf/wX9hSUJ6acmyPwXanqT9y1Kfy2Xce/s52/FJah/J7fetFba9+GPyx6Nr57n2OI/rniE5hsYq6Odd1PONEFKhCYNhl7FUlhD5iQUFR7KEIo+8L9QRGvPNZuBIV7j9SEuIZMG5HndR2qR02iAtIZpFJaQK73LKZ5spMSw0KIzFlJPZJcr9DClMxGJeHGHjDA0lTysplld5EQu5MFuYwSfrkjHjTcb0czrMrO9INqZvS6ai2oet+CdYmGkkhnk7TGOG/DR2FlZsqIVhKU8fJ2IRDzZy+1PQ7WXsH7//1l+XT4tiLw5NFvKF45NrwcYd8hRm9pDUPpLyv7XCtlfGeaLKVMz6sjFDLZhBtvaQ0J6Zinq+fY1mSCGkYvlGwSEhpa9cB4dcQON9dpUwn3EB5hzPt3ws89jWi8n2PMi8c4vp4x6w1cY6zHzNAxbNf/unhTPXNT2ZrPFa5hqXxlJ9HdggVUM2fK9HevCQFsk8tg9lKuabmBuXX+LiHjM78zpf9iclgF1dYsFULA8x7+Svt5fm78isVRuzcY5v0v8gSXnLnKebMpVBDsyXO970/Tdl05zfCn+wJDB/x2lMXXUMc/Dl52uW0D4S87+xQrYXS/ZiBy0bMKN5F9gH8R9q2dtDUnuKFed8ywUFh4RULOW4tzIhlVUcPHeMQLOx96C/Yh3mpY+sng8J5VkoXrl6o1abhtDJ7Sc6LhyB/nKoY1A7vcOSlAp0DLhK/IMRFpeMTx4PcDGxAwb1aZI+TZqUGkz69UcX9z9w3j1SXEVJSn3tipPuLWAz0BSq/PZkdGFh2R0aV/7ErdcJ6YUyMYik6qDfxlWY1aNe+jR7Mpqoq18dic8+ITItFdEfwlHNahxGdtYTpuFTgF47C3RPfIeAkETJ7SMp/xsrXHvx5e/gyBUTzJ3cGdri4QO49ui7EJcvLYRFDRkJ7cknFPN8I4RUePSjTUiZk4FGG1s8eXMBW6zboIbEn0IJ5ZM/4s2jz6jx1gkLujaCXLU2GLbcAQ+DhefINE3Rb7QGLu/bD6c7j+F25wx27buN+qO7w0xTeEBWQQlKCjkrDoV/aEGfhSwoEUJ8X+IFaqFGdX5MTZ4U5Osa4Ud4w8MvSkjLIAVZPXOMnDoUZtW5fRWFwee2Iw44vofFnC5oLCON6h3n4fDheejI54slIvDB3/hLoR7q1FCQ3D6S8r+pwrYXV/6VJx7qmKJeyj/Y8fMMjB07Az8f94NW86bQU5aW0J58HcU83yoIHx8fuPDPXOZY+HRJcluPXwipLCg4JKSYUn2cMHvsWO5L+OtlvP1dfH3tTR66bSxgqlXQ4dLzL8+CXuPJhxTEJGqg1ZR1cNw3Btp3f0WP0dvhGpnKxRLasJg+FX08N8Gm+49o130CNnt2wZI5nVBLShoaBk3QOtENNx99SO+0wKLw7OIF3BLXXkpq1YKWas6eWylISM42ZU92InfYG+miWa9ZOPjOHIO7GEA86VA2qYj1csKK5dfQ3HYq+tWXl9g+EtuvhBX+fOEUuL2SEPL+HRB+BLMGb4WXsiHMmsnhhb01es/9A34pWTqM5NmexTzfKogXL15ghPVIPHz0SEgpOgeHY+K6CKksKDgkpJikqmrByNgYxrkszfRU03t7lyYtC/x25x9cPbQcE4dbwWr4TNjtWoq29w7j6P1PYMGXYTt4LUJn/oFX4XFICn8Ol5nBmDtgJS4FiyBnYg27Feo4OLgd2vYbBZv+PTHschzMSq/7PxeYJCMltbA9WxtikmfG/odj0eBV3P6LZ/4WJCHU7RBmW61CgPXvOL64Harzd1UltI/E/BJWpPOlsO2VqIqeWw9jz7J5mLNoE04eXwyN43txyj1aKMCT1J55KOP2Km1t27SBlRV3HMJiaGgo5OQta3nxOo0kr0NIRULBISHFVEWvC2YuXIiFuSwLhpuCn7ywNEkp68GkTXPUF4ZY4m87yhqYopOOH268CsB718vYHz4A82f2gj5XRkq5IfpOm4jBHy/gjOtHrrgmzH8+Cc8bWzCpc1tYTNiMq7umoFGKEqorZdzKLClSkJGThUJYBKLivgwWz0QpXGinhlpqX18LzCSjCjUlYf8n2aDPO2H/eSwaPi7/w4iuq9MDw1+6obYwXU/+7ROMVAn52YeAKb7CnS+FbS951NCtx/1vjq5mNbm1edJQrduACwXfwycoRpwill975kNSe5Z0e31LLDYA7rcuwcXlEm65ByCWRuoh3wkKDgmp0FIReed/aK05Ay7BX76W02/96aObkXZ6p4OUZGS9AyklI5c5wDoLfYgjmy8jopkVpi2YjQlW5tB49xgX0BLmjasLpUqKNDQMm3Ohiy/8guKFNIb4d6/wAEZoVj/n5cpUhF6cA1X5iXAKzHJVS5SMRMiiqhwfoMTC5/gS9Le+gjpbL+D8iu6ZgaHk9qmBmHzza6e33zdT2PaShjoXCDZBIN7znXEE6cEkH+xXKUB75kdSe37r9iop/OMJRzHBzBjmvQdjhPVg9GpnjOYDN+JWBXu2kpCioOCwHJs8eXKBHo4mlU0UPJ22w37XLQTmMhNjdtKoVs8QDXEJu36/jWARA4t9jUtHHHFLfwiGtdNBrbbdMVr2Kg4dvifOh+gTnjg64YxsD1i2rcV9s4fh0boVsDv9ArGMQRR8Bzs3n4bqxCHorFfSVw65Xzr122J477fYv/MsvGJTuf19huO7TyJu9CB0rceHrFmPXxqaLSwwROUG9h38Wzg+H5z//RAu61tiUGtNJHqdxKJZJ4HxMzDeJAXeTzMGZfaAT5hIQvtoS8ivmb7T31Dh2ksK8k27Y1ovb+zaegpuoVwgI3qP2wcduPYagAGtaklozxrpG82TpPPt27dXifh8HxuHLMCDdtvxb3gckpPiEPF0Ozq+2oiZ2+8jgq4gkspOGNKGlEOBgYHM0nIgi4+PF1JIYZT/QbA5KW7MziDnOHIBzNmmAZM1sGNuOccUzrU8P8j1BmFMuvQBiVUsFjNHr4xBjbn8f7aw4YZf8mUNRzP7f94L4wJmDJKdMZixDms1/Th7ESMS55a8NJYSdJ0t71JH2J4qMxiwgd0M4sck5OU8/q/3X6XVbOYgHrQ5irmu7piZnn3JaKcCtE+++d9aYduLL3+TrRnQOPN4sg9ynV975lCk8+1r5XGcw7x/ptNYousaVk/OnP16J1xI44WzO8vNc/25XLR4sbiuiiWFhT7Zz6a20uGOaRxz8E4Q0gmhQbDLvWvXrrE1a9YI70hhVIjgsCSlxbAATzfm5hkgzISRg6T8lFDm7ebGPANi8vySL1EZ++MdKgSpEhS2fE7FbZ9vrdDHn8hCvf9lbm4+LDS3WYtKuz2zqFjBYR7S/JnzBC7g7riHeeX4u6lCBoepL9nBnnWY0dSt7I+z95hf0acrI5UQ3VYu53r06CH+n8bQIhJJKUPPxAxmJnrpg1nnJClfRhOGZmYw0VMWOjKUsoz9MdQs2HNqhS2fU3Hb51sr9PHLQ9OwOczMGkIz8xnMLEq7PSuVVETec8D644noM+5HNJT0aGZFkBaHiDdyaN3DCoMHtkd9BeFD5Me+dHfHs8Cc86+T7wkFhxXA/PnzceXKFdy/f19IIYQQUjb4zinH8dOkrYge+T9sHNm49IenKm2pntjeuguWBgbilHVDqE67iFC+Y5fzEnTW0EWzdu3RsoER2sw4Aa/YWPg5zUQjzYk45st3ikpEgMs8NKo2DDs8oyiArKQoOKwAqlatiu3bt8POzp4CREIIKTNJCL61Dpbt5uBBu01w2TEChhlX2CoyaVPMeXwLa/X0YH3qNT7v7QsVvmPXhEdoffQZIhITEP/eCcM/rMSQNY+hZrUQ64Y9w7xfnfHq1Tms/Pk6ftiyApNN1crmLgMpcxQcVhB8gLhz5w7Mn/8TBYiEEFLaWDS8Ds+GRe/9wPw/8Pd+GzTNHNuxskmA390ruGI6HGP7G0JZSgoyWm0wcmx3fHC4CY+EOhjwywrY/DsLJqZTcb/DCqwd0wQKwtqk8pHiHzwUXpMK4P3797CyGowtWzajffv2QirJja3DU0zsog9DXTUhpej4Zz756bEcT50Uz4iQkyghATHcZ0PI966qhgYU1NWFd+n4IbmaGZvk+fPzLeT/Mx0Ln2OL0H/SY7Tbexg7xpnk+1zlYltbbN26DclJX8aWLPfE0yeOwPONt3DUqjrc7fvD/Pls+B+1Qu3MIvYwaueLje92wKp2LB6uGYQff/uMmX9ewuaeteiqYSVGwWEFFBERAVvul9G4ceMoQMxHWQSHfFD4xtkFb35ZKaQQQrSsh8Fs+S+QqZo+g0vFCg4ZUnyOYGir6bjVch62zGidPg1jhio18UOvdl86cHAqfnCogf/2jkLzkz3hcXsamogvkIoQ7DIHjWZXx7mXK9HSZxeGdD0E2Y6quBvSC5eu/YyO1SvrlVRCwWEFlcAFJStWrkQdvTqYNWumkEqyKovg8OlGOwTt3oeGS+dDu01LIZWQ71fIsxd4+es6qPXugQ57donTKlZwGAfP7UPQatFt4X1O4+EovpL2pY93xQ8OdZHstQ/92zmi+dHf8atlQyiEPcC2SeNwoMnvuL9IHnuHjsO5Nntw0VYFx4aOhlPLPbi0phu06PJhpUTPHFZQ/DOIGzdsgKqqingmFf5qIilbiVyb84Fh4//9XITAMA1xH1/i9u2/cenWAzz6ECeh11+W8rcfwf1jfJ7lRWGv8NdtT/gnZS2RZf27/8I7KsvUaWKS8stKwfdDFBWIZ/+9gudXiw98M9crgXb78Bx/3frW7ZIhGZ/+e4KHHxKE95IV+XyQcNws/iPcXe9w5+8d/O0TkTmncg2TZuKfiagr1xHi6SmkViRKMJ1zRRzo5b7syRYYVg5SkGs6GntOdMGrha2grlAVirrD4aSzEn8s1scTu1+wMmYsNi3qjBrVWmLy2plQ27Ucay8FVKq5tMkXFBxWcDY2Npg5cyYmTJiI69evC6mkLHwODETVpo3EX4aFEwvv8xswYIgtNp27jWvn92PW8Jn46fwbxAklsuMCgsdHMXGEUP7cXkwb8Qs2PQ3/OtARBeLSrvVY8utVvIjJmHsvFVHPTnLrz8Vvp67hz2PrMXK8PU75ZoxjJim/rBRmP1IR/vQkxk+ZgQlfLSuw73k0V6a47ZYA30t2GDB8AdY6fst2ycAFbL5/Yf0ybh+8PwtpEhTpfJB03Px+XMJPo2wwbdd5XLvqhFUTfsKiLOcv/zNRvUcnxLx9J6SQckfGDAvfvMZRKz0hQQn6/X7F+Ve+ePHgIV588MXj3aPQtHo99Fx3G8mPfxFuI0tDteU8XI9+gC396lSSubRJThQcVgLNmzfHqVMn4ebmJr69QVcRywb/xaegU0t4V3Bp7+/CbstLtPrtd5zbtgrbt/2Os782xoMtJ3DlfbJQKotEbzhuOoukMWvgKC6/DXvHpOHUhot4mpg1TEnEu2sOWPtXgPBekOiDk5udufU34cK+dfh993bYd36Pzbv+hh//Z7+k/LJSqP2QRs0utnC/d+vL8vdx/NanLmQ6WmO8mXqx2y3t/d9YZ/cUjebtwkV+f/YdgMOwWGz+3594lm39shAL39uHMfunbbgTKnHCbUHRzgeJxy3yx5+7juB5+xW4cGQTtm/cgmP5nb+kYhEPht8chpr8vN3ke0XBYSXB32ZeunQpRlpbi68iOjg4iJ9LJOVNGj6HRkPFog8Gtqwp/NUtBx1TM5iJgvEhMpcv14TPCPoki9q6mtzf9jxF1NLVAj6FIyIhI1BgSPS9it82R6PngOZCWrrUgOe49MYQAzs3hDKfIFMT7Tq3huLju7gXkCgxv6wUbz/4QOgwfrvZAItm9oCRIverrVjtlopQn2f4V2SCnh3qC+uroMmPHWDy5jauv4wRp5SNRHid+hXDVj2D3pSpGFRdSM5XUc+HOInHnRrwL5wfN8AYKzPUEp/A3PnbcRR2bxkFc3W6jkRIZUDBYSWTcRVRWVkZ1tYjxQ9dU5BYnlSB2g8jsGXlCLRVzfjxS8YHT3e4y9SGTnU5IS0LtQbo1lMVT1zO4fzT/+Dx9CaOuDyFWs9WMFFL7y3I4v7D4U3noDB7MiZyQecXqQh7/xYfoQ5N1S/zOsjXrovmCMB/H6Ik5McKKaVN0n7mvx8s9Al+P+CBptOHo5+uMPpasdpNIFMVivI5n7iPwvvIsvyZkkb1ZmPgcNYeq3o1hXoBfmsX/XwQgt48jzsWYe9e4231BtATPcXB7Rsxd/lGrL0cBM1G+tDhg3JCSIVHP8mVEH8Vke99xweJPAoSS1eq/w0sW/4b9yX59TLfwYP7Ss1P+nNkm/Y+Rv0xA9FNN5fgUEoL7YYNQqs3Z/C/ObMwcc4GuLwxwyTrFqgh/v7+DE9nBxxXs8bifvVzH5i2mgY0lHL+uIuQmCJcQcszP1V4XXhFapci7UcifP65jOtVumNCjyzHX6x24wIy3fqoK3qJey9ChYfuY/DfnXt4Jn5ddIVvF1loG7dA0+oFnbStOOeDlITjTkbYp49c0mX8b5ETfJTqwNhAFj7HVmCC3S34l+VjCISQUkPBYSWWM0js1MkCO3fuEg+kTUqOlLwaGjQwQKNcFsOaSvnMw5qC8P8u4JeFhxDc0xbbxpoit0F3WOh9rF54FBFD/geX6zfgdv0o1g8Jw+b5B3AjNAlR/zpj+VlNLJ7RCfVk8hhXIi0FotR8npOTlF8ERWqXouxH3Cv8ecoLdSw7wkz1y7hrxW03OcMeWDpeFZd/noKBc1dgztx5mHM/AfWL+ShW0c+Xgkgt9vlQoOMWKaHtwl+wfuIITBo7F7tWj4TqX2dxLsft9rAnT+B77jwibt7CIjV1SD9xE78vqSXy9WthS4SQkkTB4XcgI0h8/PgRfvihObbv2CEe/oafho+uJhZflVotMd5mFGbkskzv2VB4biunWPjeOoiZM46kB4aTWqNmro9rpSLk+QNc/9wBE4e3RV3FKpBS1EO3IQPQIfIeLv77AH/YncKHtHe4vI+/xbcayx2fcus9xdGN9tj9bxRkZGVRJeYzorN0omAiEReaKkNLRV5iflEVtl2Kth9piPnPFec+NUTftvWQPuQyr7jtFsm9VkPLib/hjx1zMdSsKcwt5+LQkoGon1oV1aoWPYQr2vlSQKl+xT4f8j9uJWjW5DthNUWHxurCDBlVoFxbD3UQAr/QeHFKhvg3fuIAMf75c9SVlUMV3/T3JbG82boNEV7/CVsqHSw2AO63LsHl3HU8CvhWvdQJKXsUHH5n+BlV+PERV6xYAV9f38yriR4eHkIJUvr4oUJ2Ycryh6g93w4Hp+UVGGaRmoLkLFd6pGRkIb4BLaUGo4HjMHFwO5iKrz7po0EtVS5DFbXr14WOkhyq12kIQwTBPySjUwdDQvA7cF/XMNJWlZBfrFClEKSLuB8J8Hv5Col6ZmhV/0tomKnI7SYDFvkCTsceIMrAAmNthsG6SzOoB3vhHoxgVl+Fr6X8kVIt5vmgJOG41VC9lh5qcIFgcMSXzlPpweXXQXMd6+Fos2Y1dOfNxazQj0gZMUz8viQWtfbthK2UhlTEeh3FBDNjmPcejBHDB6Bjww6w3vQ3gkUUIpLKj4LD75Surq54jET+amKHDu1x+fJlDBw4SNzLmW47lya+F+k1rLG7CfS2wvCGIrz5avDmGHhdO43dp93wIU0aNYzboJP0I5z+8xk+8c90iSLgcfUv/C3dGj2aG6PDsJFZrj6NhI1FA65QA/QYOhSWhiqootMM/VoHwfn03/COTwOLf4M/Tv+F5O4W6KAtKzG/rEjej6ztkr4OF8ngtUcAZMwMUDfbrha/3cCi8e+RA/j9up94/D5RmAcOHb+Fqv07o33NsmsXybK0C2oW+3yQdNxyBq0xolUATp28Do9I7nwVheDeuct4UrMDejStJt6jCi/+KfZOXoA/W2zC0/A4JCdF451zT3guXY49rpVjqLBUHyfMHr8VdyOL/lwxqbwoOCTiHs78MDj8s4kGBgZYtWqV+LYzP6g23XYuaXHw+vsqPEUiRF3ZipnZBm9ehu1P+S+eeLy7fwYHT3gjjAFSWu1gazcUSheXoI9FF5hZDMHE08A4u3HoqVWAoUNk6mPoz4vQO/gARvbohpY9ZuJwYj9smtEOtfj7gpLyy4rE/cjeLmJpsQjxjYZijWrpw7JkUdx2k1JvhfnreiFi51T82KEL2gxciZs1J2HX9DbQLMt2kSiXdsmPhHaWeNzyDTBqqS0GRDtiYv+eXLuOwLxrWvhp40i0z/LMZ0WW9ikQQeqdMGvGIDRT5o9JHtpmbdAaj3Hy0Tuhow4hlRfNrUxyxQ+kffHiRfEtZ/4K48CBluKrjRVJac+t7H/jBt6fdoTJzCni96UvHh9eByAM1dGgYc0iPJuWvn64XC00qauWy8wGkvLLSknvRzHbTRQF39cfkVS9DhrXUhSes6sMJLSzxONOQYT/WwTGV4VeQz3kHOLw2a59qNWnPwy43x2lMbfyo2W/QLNVK3H9RZH33Mq5ScXnh5vQq9NxmDpfwe5+Otnao0LOrVwkqYgNfAXvhJowNdTkzhkGUdgbeAYpoJGxHpSznSRJCPN5CX/oCmUzCHWEyKGuaQNo5tVpinxTdOWQ5EpdXT3ztjPfiYW/msj/AuR/yZN0qnXrIvL6P4gLCRVSSpsidBoawbRIgSEvfX2TPAMuSfllpaT3o5jtJqMGg8ZGaFKpAkOehHaWeNyyUK9rCNPGXweGoqQkJL4Phoxy0c7U8iMJgbd2wXZsD7TodARaK7ZieS/tSnEeiNzt0UB+OlyCRdlepwuEy9iGaGDvLr5Kmp5vARuuHbQbmMHc2ABNJ+7FnwemoqmOMcxbNYR2Nzu4RqZmKdsH+sZt08uOPwqv2FSw2Gc4PL411Pk62hlDW6MfVtx6T1diyyEKDolEfCeW/fv3Y9LEiThw8CBN0Seo3rAhFFv9AI9f15RhgEhI+cYHhs+27oYoNh41W7QQUiuqFESGJkKzWXt065CKK0cP4+STEHyft9te4JX2InjHxSHsn2XQOG4L2xc9cDk8DvF+jhj16jCO3v+Uo2wCksJvYVbEWozfdh9+fx/A3Fu9cTWEf44zCq921sCWn5zgmUQ3MMsbuq1MCo0fAsfOzh4zZkxHjx49hNTyp7RvK/NiPnzAA+vRYMlJ0LMeLKQS8v36eO0WEv7zQYtTDtA2NxenVfzbypzEZ9g7fCDmhM6C6435MFP8cv2wIt5W5q/wGbXzxcZ3OzAgaGvma6va/GVg/sphFyw2dsSrhWaAuOwlTHtwAQvNlIFgF4yt9xuq/3kNW3vW5CuDvdEIPN94CwfrOnFlH2PpcwdMMOSHYE9BoNM0GCxriMv7kjF70HW0XjQOlu3b4ceOjem2cjlFwSEpEr6jypYtW6CqWg0TJ04Qj6VY3pRGcJjTvHlz8Rv3xfD+738Q9tBVSCXk+1WtmTEc3d2xbu9eIeWLihMcJiHs9Qegfv0swUssFyP1h/kyIzhmBlHpvo/g8CXWvNmL4XqyQnC4A8YZweJXwWHWukRc8dmoa819/u9Ww8j1ILbvOohD9/wBhZYY9b81WDvjR9SmILF84YNDQopqx46dbNKkSSw+Pl5IKT8WH3Vn3oGRwjtCSGXycOky9ubsOeFd4Tk7OzNZOXnx/9mlsuibS5m2XEu2+GaokMYLZ3eWmzNZ7aXsZnSqkJZu0eLF4roqkhQ3O2YgN405B6UIrycwx4Dk9My0t8xxRH1mYOfGUnKUFQtyZjZyFszOLSb9fYobszNowGycA4SyQ9lB74T0PJbI/BxGM1mDteymnye76/aOJbA0lhLqxW4enMdayfVi2zxihbKkvKBnDkmxzJo1E6amzXHw4CEhhRBCKrIqUG07GLadQrBnzS5c9PsMJgqBp9MmrNz6ARa2g9FWtXJ9dUpr6aG1gjv+fvIBIiQh9OE5nLwcJOQWxSM4/vEQISIGUYgrTh17iJbT2kPrnj36jN6NG0HJkNFshNamdaECBcjJ0lXD8oaCQ1JsfID4+XO0eFxEQgip8BRNMWHndsxXdoJV4xqQV6qDVjZnoWx7GEdn/ABFoVhlIaXXFXOWG+IvayMoyleDwS/+MB3eVMgtCk3IPrBFA6WqUNQbjXMNVmI/Fxw2G7QIuzq7YmT9apCTV4J6FxcYHvgNoxtXthat+OiZQ1Ii+GcQra1HigfSLi/PH5bkM4eEkPKlbDqkCGP1xciiRiMj6IkHxP5aRX/mMP3ZwPzGLCy4L/Xa48eYNwiqagBjPeUsw/8I2/FPzrdNybdVSlcOw+F+bCvs7e1hf8wdUUIqqbz4gNDGZgzOnDkjpBBCSEUnD03D5jAza1qJgphUxL7lbyG/QoKKMpTkM8I2KchoNoSZSdEDw+z4tjOFSbbAkCdsp1K1aeVTSlcO03s6jXAMBEachP9RK9QWcsoKiw3GB5EWdNW+9CjLTUHLFVRJ11eRlLerh3TlkJDKqyhXDkXc76gYYe74O4cO4/GhI2g9YRyatWkjTiuqv06cQOCde5hywkE8OD5PRVcXMsX4PciPJctPRlDyPsPdfgjM90pj5qqN+N9I4xIKBtPxczbPWxeMYZtno2N1Cv4qqsoZHIre49bq3/Bv/81YwHezz0tByxVUSddXAfHT7XXo0F48X/O3RsEhIZVXYYPDIFdXPF+8BCmBQVBp1woR4REI83oFzaZGqFGvjlCqaHwfuSEpLAJN+vbgvlWlEHn1ljjd+MAe1O3WTfxaEj4YfPnyJf791wMODg6w6GyBjRs2CLmElK1vGByKEBuVBAU1pVynbmKJ0YgQKUFDuZBX4Fg0vI4sgtW015icMQZTbiSUY4lxiJdRhFJBx14q6HYrOQ8PD9y7d1/cSeVbo+CQkMqrMMFh5OvXuN+9D1TMW8JkwWzIyMvjzJXrWLd6DX7+ZRmG9i7eYP6zfl2FB7du4en9f4QUwOfMWQQ7OKH1+T9Qw9RUSP2Cv9Pi7e2NZ8+e4e7duzjqcEzIScePoUrBIflWyq63Mj9oprwC5OQn4uC1k1jSzwTqNbUz51zMzK82FMu3zkeXmjVRW6c9RtjfQrBIiF8z68iYA5IflLQz915BmAMyCcG3d2DOPAe8hSuWttPk8hpirAsXpGaTV7kAiILv4/d5vdGwmgaqa3TE+O3/pG8/5T8cGqjPldNEO/sniGehuLuyq3jbqpZbcOXitgJst/Jr1KgRPD09hHeEEPLt+Z05ky0wLAuGQwehts1wvPhttZCSjp9hiu/AUk2tOlq3aYtJk6d8FRjy+A4u/PdLSS+EFMQ3GMrmBKYP240gfXN01APenlyFX8/6IU3IReIFbD3+AcZjB8AEnnBZNgnTHV4iRcjOF/uMkLiq0BVftDOE9ZrDcDxlj7HNqomzM+VVzvA9HKaPwezDwJAjp3F0hgqcF03BQue3SJNtjBGrfoKFQizc1u/GyT9PYtOW+4BCH6xe2Q/aUJK83e8A/6xhaGiY8I4QQr694H2HUW+IZZkFhhlqtWmJePfsfyzzc9XPmT0bFy/8Kb46SEh59A2Cw5b46awLjm7fgo3T+IeAg/Ds0+cvwSFGYf/ZE9i+3QEu+8ZDhcu/fOQOXqcK2fmR0oJpbwsYi58B1oBx5/6wsrJEF0NVcXamXMsNQPskV2y/EgSYWsJm2ACMmDISXeCPM6fuw59JQdFkOH6d3x6IOYUZw2xxOVEZLW0XYVzzhgXb7nfCsJGh+PkZQggpL2QUCnnVTBQF35cv4flf9uWZfxT4+1bFoaurK56Xnr9tzA9/8/jRQxzYvw9jbcYIJdJvK/N5Jb0QUhDfIDg0RuvG6uBCLWjrG4hTAp77I1T8iicHWfFzfgrQ/aEVF0pyHnniVUhxfxwlSUWE/xv8x78McsLKCWMxzvYQXvDvX3xCBB+cckFlhxmLMEtf+OvTdB42TG8N1RLs6VVZhIXR1UNCSMWV6n8TiydNw/jJ2ZdxB/5FuFBGEukCBqR8Bz4bGxvs378f0VGRuH3rJiwHDBByCSl73yA4rADqdoPN7DmYY2sPpwf34Xp6MAzEPfIZUhM/IzI0SVwMfm/xLkJ4TTK1LeawEIQQ8m2lIvLDW/ijLSbZ7cLh/XszlyOTfoCGUEoSpRpawquC4x/N4W898wsh30o5DA7jEZfIXyVMxLtHd+HKJ7UxhVGNrL2Wk5HCdxIRfcIbr09CmkBKBnKq/JW9cPgGR4OxRERF5xLAfVUuGWlVFFGLz3v1GbL6/MCnZuKlhYkeVPirgywUd/Zsx4kYvhAn5g+s3nwTwXx/mYJulxBCSDmXjE/vA5FW3QhtWjaDaZPGmYtJXbVcR9ggpDIph8GhE2YOHQIbmyEYNusUFyJqo8+4H9GQv3KnXgfGjfkA7Bo2/bIC/5s1BZNP+onXyiStBf3WOtwLHxycNxrD+vfG/Jsh6XlZfVWuL36JboOFnWoCYXsx02YRth87iUP2izB84SWEgCH+6XH8stkNUBmFA7eOY5Y+8PbABmy7zeUWdLuV1Nq1a8U98Pj/r1y5Kp5n2cfHR7zwQzYQQkjFEYnXnv6o0lwF8R43cNThJI5e84B//Jen4ysNURh83N3xLDCW+5YrBEnr8fnPAxFbqEpJeVEOg8NumDZQD6/O38CzRH30/nk3to9pDFk+S94YozYvQkeFMHg4nsOj6sOxcV4L8Vpf1ET7cVPQW48LIgNdcS3ECB0MVIS8rHIp17wrJuzdD7uRxgj5azcWTpqAeafDYNKxAVRSXsLxfzvhBmW0XDINQ9r3wbRF/aDApWz+5QgefdYs4HYrp06dOomHXli56jfuF6kDflqwEM2MTcQLP5YXIYRUGMnheOcVibTbOzB3/v+w7fffse23uRg0cj1O+RYyiCq3YuHjvASdNXTRrF17tGxghDYzTqQPLcc+4OIME+jMv4aIjINN9sD2DvrosfcJ/G9thKWRwdfrcfi5lRvIN0fn7j+iWcuGaLLyLuLEOaRC4QfBLheCnJmNnDyTlZvGnINSWEpMGAsKjWEpQvYXafnkfZGWEMmCgyNZQpqQkIfcy6WyhMhPEreRm4JutzKytBzIfX78Z/hlOXr0qJBb9hYfdWfegZHCO0JIZfJw6TL25uw54V3+LtRtwN5fPMs+P3PLXA5uWMsaqCiJ/8+azi/Rt3Yw2zaNWe/pu9jrp3zaYxZ8eQOb16AaM+y6nP0rTvuy2Fj2F9eVNS1j4bdd/qSxhBe/swGqFmzxWW8Wk8Z9r4bcY/YDGjCjJTdZeJqIhV9dzLQ15rILn/hvwTQW57aJmatOZCduH2YjNczZXKdXWdYzZOZ2j1kcVzLFzY4ZyGmwVraO7ImHO/MIiBVvkVQs5bZDioyyBmprKufybIdUPnlfSCmooVYtNShI6Emce7kqUFCrIXEbuSnodisjmyzDMPD4YRn4HniEEFKRSGmaY9n+Y3Ca3gY1xV8CVaCk2x6jrFsg7bEbnn4q0Mi75VgC/O5ewRXT4Rjb3xDKUtz3qlYbjBzbHR8cbsIjRgrq5n0xUetvXHr8CQzReHb1ArxH9US9wJs4I98cJjox8H76FJ4BVVC/eV24nXTNMuScMYYN7YuWpi1gqqckpJGKhHorkxLTu3dv4RXQ3NQUG2jqJ0JIpSELNXV17v8ExCcWZODd8iwNCbFRQP0aqC4eiYMnA626+qgRFoGouDRA1QR9RlfHiZP3EBj9DJePx8LGsjnkPr0Hwg5hWpcOMG/Xnls6Y8T6O0BAID5GZ7SLEfS1aTaWiqz8BIeyajAcMRzWI/ShJksDB1ZE/BAMmzdtEr/et+93qIt/kRJCSEWShpjHu9G+/VisfswFUJni8Nb7DaBcHwY15YS0iqoKqiqrAW9DEJkZ54oQ6u+HEE11qCnxoUE1tOhnBZNLl3HhpAsOoj+szHWgqq4FNF4D188JwsDaCfj85gnu3pqD9l8iTVLBlZ/gULMLlh09iqNHF6GLJp1gFdXIkdbiAJEf1JUQQiqeKlBp1gFD6wfj3IEz+Ot9HJgoAl7XjmOLUzhMJ3VHS+WCfXUmRX8WXpU3VdGgYy909nTC0Qs+iGUMotBHOHn0L+jYdEVzFf74pCBn3B0TzG9i/rzD0BjdHWaqVVG/Q2/0eeuMY+f59QAW+wxHFw9Bn21PUF6PlhRe+QkOC8DDwwMuLi7CO1Ie8VcLZ82aKbwjhJAKSLEZJq9ahL7sAmyH94FZp0EY89t9qE/8FesHNURBb5gmRUcLr8obLvBrOhp7TnTBq4WtoK5QFYq6w+GksxJ/LOsE9Yybd1X00W18L+54O2JSP2MocuvJGo7EnrMD8XZpa249Bchr/Ai7+Ik4s7ovtOmmX6VRoYLDe/fuQ19fX3hHCCGESKbYwhRRvm+FdwVRBUoG3bFqvzNunNyPw/sP4cJfx7DHxkzooFIwosTyPJexEvT7/Yrzr3zx4sFDvPjgi8e7R6GpctY7d3KoM/wAPiddxBxTZSFNHrW7LBbWuw+3Nx/w+vxidKnNj0EMyJgtxJukPbCqXdjunKQ8qVDBoaenBxo1aiS8I4QQQiSrM3oU3m7ejRDP50JKQclCva4hTJsYQEexcF+XcSGheGm/E3UW/ySklFMymjA0aw5DzfTgrsDE65nBRE8ZdMGw8pHix7MRXpd7AwcOwrlzZ4V3pKxFfE5EGLeUBUNdNeFV0dk6PMXELvolUhchpHx5tOwXaLZqBYOBlkJK3kQJCXj400JEXbkOvWnjodZQH3cfu+PKwSPoPXEcOv9YvHmMd27fjQD3f7Hx6H7x1cLYD8EIPOUMOT1d/Hj0MGSqVhVKElIxVKjgkJ+ebSMNj/JNONx8jcnX34lfj26ghtI6awKjEnEnPBE9tapi99jm0NXKuJVReBQcElJ5FSY45PEB4rsrVxH28CGYSISwt2/x8clT1GrVApr16gqlisbfzR3xwZ/QuH8f7lu1CqRkZKDZti3q9e5FgSGpkOjKIZEoIzBcaFYLIzo3EFK5X4h+vsKr7OrqGwivchcdGYmoyAjh3Rdq1dVRrXp1fIqIx0+nnkG+CnBtnjnUVYs2XhYFh4RUXoUNDnPiOzeOsB4Jx1MnYWVlJaQWDX/hgp8+lB/ahZDKoEI9c6ilpYmIiK+DClJ6EpJEuQaGvBGWAzB11Agc2GqXuRzdvV3IzZuvt1e2dTb/9qu4rge3rovza6orYrO1CZLSgFvPg8VphBBCCCkbFSo4HDp0KE6ePCW8I2UhMDRW/H/OwDBDq1Zm+N/2vZnLcvttQk7eWrTtkG2dn5b/T8j5gg8QJ7TVxf3X9McAIeTbYrE+uH3ZE2EV5j4bIcVToYLDHj16iHss8+Mdkgog7j3+u38dNy9fx+Nn7xFPv1gJIRWNKBDX10xFzzl/wb+iz5pHSAFVqOCQt2LFCqxcuQr3798XUr4VEcLcDmBaa13INRiPYz70rMkXqYj3PoXlfftg4rT5+MV2PuaO6oPhE7fj8ackoQwhhJRvLNYLTosmYuhmVyGlMgvFXfuZmO3kw/0GJ9+7Chcc6urqYufOHThy5Aj3/y4kJCQIOWUs7Q3+/OV/+KfFIpyyn4QOdQo5RlRlFvsIR6ZvgGeLn3H84TO4Pn+Gm3/8jB/8DmHdwUeIpiuIhJByLQ2x7jsxsHk7TL5fEyMGfA+TLyQi9Pl1XAmMAf2KJhUuOOTxAeL+/fuhrV0b1tYjxb3OyryjSlocIt7IoXUPKwwe2B71FYRhQEVh8HF3x7PA2O/0B4wh2fsRLoXqoOfwXjBQ4kfbl4Zio14Y2E8HH68+wwf6s5QQUq4xJHwMh8a0k3C7tRNT29QU0isfFhuIZ+6vESbK4xsrn+80ieuSCqtCBocZ+OEHTp06CWVlZUyYMBFr164V324u9auJqZ7Y3roLlgYG4pR1Q6hOu4hQxMLHeQk6a+iiWbv2aNnACG1mnIBXbCz8nGaikeZEHPON51ZORIDLPDSqNgw7PKMqYQApBTmz+bj0/BJmtKkupHFYHCKDYwAtJcjTcPqEkHJNGlp9V+DQwr4wzDadXCXCouF1bA7a6DREy3bG0G83FQefRwqZvLy+07i/7nOsq910CMYObQK5sS6g8SUqhwodHPKqVq0q7qjCj384ZMgQ/PuvBzp1sihUoFjoYFLaFHMe38JaPT1Yn3qNz3v7QsXrJBZNeITWR58hIjEB8e+dMPzDSgxZ8xhqVguxbtgzzPvVGa9encPKn6/jhy0rMNlU7TuZdigVnx874dD1ZLQZ0g51K+nvWkIIqRgYkp85YOqk5+hy+jXik6Lhu60nZHzTR6fg8xPz/E77Gx+9HPHTrIx14xDh3BtJt/2EdUllUOGDw6wMDQ0xa9ZMPH78CH369IGvr6/4tnN+geL169dx5swZ4V1RJcDv7hVcMR2Osf0NoSwlBRmtNhg5tjs+ONyER0IdDPhlBWz+nQUT06m432EF1o5pgqIN7VzR8J1TTsPe9hhiuy/AvEGGoOnYCSHkW0rAG9dbeNx5DCZ01+N+J8tDq+1AjOyjnZmf93faHzjo/Cdum2esKw3lZv0xfrSRsC6pDCpVcJhV8+bNYWNjI76iyP+fNVDMGAqHDxj79R8AF5fizrqShoTYKKB+DVTPvComA626+qgRFoGoOAYZ7Q4YProFl94AfYZ1Qn3Z7+GaYRJC723F3OHr4NnCFpv/Z4V6Gc9mEkII+UaE76yaalDJiAKkqqNuM13hTX7faR/g4xeSfV0oQVM3y2NEpMKrtMFhVnwHloxAkb/1fO/efXTr1h2du3QV51++cgXv378Xvy6aKqiqrAa8DUFkZmcLEUL9/RCiqQ41JYbPbkewfGM4unevioO/HsC9LwUrJ/YZvo5LMGm6EzB6Ow5sHCF0TiGEEPJt5fKdxSLh/yLjezC/7zQdGOrXyLFuBPy9goQ3pDL4LoLDrPhbzwMHWiIyx9y+t27dEl4VRVU06NgLnT2dcPSCD2IZgyj0EU4e/Qs6Nl3RXPQYO213IWrmZhw+sQkr1I5igd1thFbaDl5xeOe8Cj+teQHTZYexbYEFtGToiiEhhJQPVdGwywD04b6zHG4EcmFfKmK9buDsXxkBXn7faUMwafRIDPnvMHY4uCM05TP8Lh3GLhd/YV1SGXx3wSE/5I2V1WA8f+ElpKQr3q1lKcg1HY09J7rg1cJWUFeoCkXd4XDSWYk/Fuvjid0vWBkzFpsWdUaNai0xee1MqO1ajrWXArgfysqG+yXiew5bV19FRJMO+EH1LVyvXMTNy8Jy9SE+JH5Hwx6kvsW1rfawt/962XrtbdEHm41yxzFxPafgHlUSV6FTuSpP5bNfueQnesNl5UyM//lUeg9GUngsGj6XfseKeZMwdrYTfKgZSZmQgqzhSOw52xVPhjWEorwS1Ac74FMd5cz8PL/TllmgpsEQbHKxRuT6LtBR1kOP/QHQba4JlepKoBF/Kwn2nbl37x5btHgxk5WT/2oJDAwUShVDSijzdvuXeYcmCgkVm3dgJJNbfJ09C4n/alGqWZ9ZjrDJkR7G/lg3QJyX+zKdbXnxOds6Fx4+F+dt2HM4W/qWKz5s3mE3YU8Kb/FRd/H+f1MpbszO4OtzjV8M7NxYilCs0IKcmY24nmnMOajItWSRwlU5LZ/9+jpf5LGN/SDeBwtm5xaTXqwCSYsJYoGRJdF2RZXI/B0nMXVxG3KLgR1z+5a7U8E8XLqMvTl7TnhXeM7OzuJ25/8vrozvlIooLSaAebr5sNCUNCElh6++01JZjNd15nTJg4VmrJL2ljmOqF+832mkXPnurhy2b98eGzdsQHJSIvx83+D2rZs4sH8f5s2bi8ePHwulikFGE4ZmzWGoWTn+flKUT+9bHB1b0GnvFGE40RGuz73yWDaha42C9Vd+GxKLuupVhXcVX63p+3H3wX24CsvpwQaoyE9hSjcdjK328zFrrS2smioJqRWE6D1u26+Ak+83nPYy7S1uHL6CGOhjlIMX4t8shBl15SdlTEpZDyZmDaGZ16M/X32nSUEu5RW2D5qLNcdvw83dFdcObcfev5pjTveGNBpFJfHdBYdZ8R1V+GCR76zCB4z8oNokO10tZfTUqoptF14iKfnre17cX8vCq+KrUuXL6eh4+w32eoWhlYG6kFLxyek2gZmZWebSon4e41yyJMTGZX3ggEEUG43YfGYhYImfEZ2YJrzLjiXGIS6vdVkiosJj8368Ib98GR38OHsdNi/oBf1ce6GLEBsVVyaPTuR7jByWGIWPYcJxiAfw/Q3T173OexB6URyiYiXteSpEBZkZIq+6xLMshXEvaqJpg5r0pUoqCC44NLHBIeeBYH8sRpd2Q7HsmjxGnN2BGaaqQhlS0X3XwSEpmN1jm+NdVCI2OD/HgxfB8P/4WbywBu0RWUUr831Rl6CIZHFdIfGyeBUQiQNXXsHe/SM2deSC96a1hL2oxIJdMFZeAXLyE3Hw6mFMb2MAdfV6aD3DEd4hz3H6ZysYadSEetOpOOwVnSOg8cXfe6ajTc0a0Kr5I8Zv/wfB4oCFCyiD7+P3eb3RsJoGqmt0zJLHS0Wsz3msGNgCNbR1YGS5Emc8svY2lJTPydzv6XAJ5oKfrMdx7SSW9DOBek1tNB1/NMsziVy9b//GoRUzMKxzI64sX55fGmKsS6BQRhD/BPbtNLm8VrC9xQdR3FGFXMR0Ta68ji2uRYgkHCPXBpGecFoxEq1q1kIdHe44uk7Hxm1rMWeeA97CFUvF9Wdsm28zVxxeMggNlDRQQ6MeWg5bBSfP8PSgMuvxBryC88zOUNfohuV3QvncHCTUhUC4TByBpeJD5vdjUXobkjLn4HAMi21tMxd+iDNJspbnl79v/y3kfCekqsGw3zxsPf8En5Pew+30OkztqEN/4FQmwu1lQvIVHp3Atv3pxeYdcmO9N94VP4dYGsvsg27i5wzvvQgWtlx05fuZwyzP6WU+P8gtBgPY7MVjWCtV/r0GMzAwZK1s5rHZfRuL81WsHZk//5xPtnUs2NChFsxA/N6QWTt4s+RkL3bQsj6TVe3FbE+eZyeX9GIqXN5IR1+Wym8zzp1t614nl/WFZwol5Wfbb+G5x6z7pNqejZk9gXUxUOXe12eDHHzE200Lv8lsjbg01S5s6v9WsKkW/DZas6nbTrOb3tF8rVnEMq89VuL61KdfYJ/SktkH5xlMXU6VGa9+wOIkHWOyD3Oc0ELYn5as75gxbGhHbv8nL2E22vx+GjMbu5PM2flc+rYz6pPT4dp8KdtgO5QZ8utqTGAOb+KyHJ8N27JtmvCs4EC2x4vLy0lSXSyaeV/fnGU/rjLvGPFekwIq7jOH4eHhzNvb+6uFT5ckt/X4hZDKgoJDUmT8ly7/IHZx8b9U+bpK4sHwrCpecNiTrXENZ2kslN20bSkupz39LHufksYS3eyZKV8mo9NC5jrW7KA3H2zEMe+DI7ngiEvruJu5PxTKd9zDvERcUObnwCz595YOzC8tS30a05ijf4KwvrV4mwZ2T1hsvvmSgsP2zPbmJ+44opmbXfcs64hY+NWF4qBKb/kdLvRLY7F3VjI9LgjuuOcFl/u1VF8HNogPlDXmsgsfvZmjdQOuvl5c20V9OQZJx6g6lG33iOS2xkmJYZGRD4XPJGtHmjQW57qWGfPl6yxjN6P4CoPZ1Xl8cCnsX+bx1WEGhgPY8itezN/rJQtIyPkgfwHq4otlnhsVs0PPt1bc4JAQkje6rUxIGamz5j7ikxLFnaGSk25joVnGsBEZ6sOoriqkoIBqmnyeHrp1M4OOjBTktevDNL1QDtWgpiLH/a+IBh26wpxPevQIN+88x3/86yAnrJwwFuNsD+EF//7FJ0SkpiLC/016fncLtNPjJ3KUg4paNT6FI5KQL4kxWjdW545DEdr6BuKUgOf+COVSZGTlxNNGyqkoQp57L6+oxNUci8DwmFyfTaxSvxNGD9EHYu7jzsWruHopEGjVB92Nlb7so6RjNO+FnsbC850yylBTzu3mVyqigwLwin9p0QKNq0kDUhpo0rY5lxCLh67eCOHzxKKgaLMEtr2aoE4TI+h99bxlYeoihJDyh4JDQiqzut1gM3sO5tjaw4nvJX16MAyydpGWk0W+45NLyi+UKlD5oQcmmSoj4PQfcHa9A+czlxAAfXRurM0FibmQ0oHFsP7Qgg/OrNsK50Rt9JvaC8ZZC0s6RgVZlOxslYbobd6QC30JIaRyouCQlBoWGwD3W5fgcu46HgXE5uhI8f1JjQnDx+BgBGcsGb1niyUaUTHJ3P+JeP/vE7jxSW1a48dW9SHuyvPqM2T1m3/pIW2iBxUpaVTTrgPxNPk3HuFZBN9ZhEGUwtfDk5RfdFJqZhg1dxjqe27BGIv+WPbECCsdjmHDAL30K3tfkYa6eV9M1Ac+BAYhUaELhneqy/3ikoaqVq18j1G9bgM04fNvX8DFZ1Hp55+4J3ga5FT5Xvbh8A2OBuN7ZEeLvhzzv97wj+dKs3D895Cfh10eTYzr4Eu/eV3Ur5VfaJil/STWRQgh5c93Fxym+jhh9vituFvZ5zb+plIR63UUE8yMYd57MEYMH4CODTvAetPfWXqSfn8+rLeEfr36qJuxLLiO3Pq5Fo4L5o0chSlTRsFqymHEoC6GTO6GFq37Y2GnmkDYXsy0WYTtx07ikP0iDF94CSH8DV+TnpiUmT8fq5dPwuApJ4Q6q0jIL7rUl8cxacKf0F1xEW/Cw/Hm5h4sHW6W//SKqqawnNhO/FJl1EB01uMvG0pBySz/Y5Q36Y8Fg+tycfOf3P+DMHysDYZ1GYa9b1Sh31qHq8MHB+eNxrD+vTH/ZuiXY/bei59/+g12K2zx6yEvbqNDsGBQkywzP9RCjeq5XucUZGlfiXURQkj5Q1cOScmLf4q9kxfgzxab8DQ8DslJ0Xjn3BOeS5djj2v2Oa1JMWmOxq/jdODhdAnP0BKj7PZhk3VDyCqaYsLe/bAbaYyQv3Zj4aQJmHc6DCYdG0CFX4/P37oRM9upIeCvfdh4VREDpnUTVykmKb+IqmgZoUsHadxd1Q8NNJQhJ98InceuxOGHQflcRVWFSZ+BsEBT2Fi2hFZGHCnpGGUbcn+QHMHv83ujTqArzjmextUYHeiq6KD9uCnorceFaFz6tRAjdDDg1lD8ATOOOsB+pB7cD6/Dsg3nENFxPn6/+D9YGxTyJnJJ1kUIIWVMiu+VIrwmuUpFbOAreCfUhKmhJmT422thb+AZpIBGxnpQ/uqCRxLCfF7CH7pC+QxCPSFyqGvaIO/R6CsQfnw6fmYZfgDxrNLeumDh7BNQsd2HVR010hP5MeLqjcT9NffxaqFZtvGwfHx80MzYBI6nTpboQOS2Dk8xsYs+DHXVhJTKix8E+zOUUU0h5997aUiMCkOkSBFamspfj0MmikVYaBIUtNShnNs5KSm/ULifAZ+L2LZiAxxCmmF4L0OoxPrg6gkn3A3tge0PjmBaXjOt8Ld+P8VBRjO3/ZBwjPzPbGwEQmOlUb2mGjL6j/ADY3+KAtSypKUT6kuUy1a+aEqyLpLVo2W/QLNVKxgMtBRSCCEl5bu7cihyt0cDYdDerK/TBcJlbEM0sHdHojjPAjZje0C7gRnMjQ3QdOJe/HlgKprqGMO8VUNod7ODq3B7Or0uvnwf6Bu3TS8vDP7LYp/h8PjWUOfraWcMbY1+WHHrfQk8b1Y+Valvhc0Xnb8EhlxQ8Nn/DV7DEN2NalXoKePKKykF1VwCQ14VKKjVQO1cgyaOjDI0a2vkHfhJyi8MFoBLKxdilUtj/HZkF35btBCLVu3CkTVDgEQPuHrnc1VZSgFqtfLaDwnHCCnuMDRQu1b24ExKQQ21cqSlE+rLNa+wSrIuQggpG3RbOV8v8Ep7Ebzj4hD2zzJoHLeF7YseuBweh3g/R4x6dRhH738SyvIyyicgKfwWZkWsxfht9+H39wHMvdUbV0P4W6xReLWzBrb85ATPpMp+0TYJgbd2wZYLsFt0OgKtFVuxvJc291VNvktSqtBuWJt74Y6zDifg7OICF6ffsWnvDUDFAn1a1kgvRwgh5Jui4DBfxhg2pANqy0hDtW4DNER99OzdEQbK0pCpqQeDqilIyDbfcBdMG2/BlZeClLIJBo7sAI/DD/BWURM6UX/j6I7DcLntB1XrQ/jssQBm8pU9TEpBZGgiNJu1R7cOqbhy9DBOPglJ7zVKvkMa6LBoH87a94Wa51HYWs/B2mNPgG6rce3JJgyrQ900CCGkPKDgMF/60KuR9QurOnQ183gmSkwDaioZN7bSB/xFoD8+N54J58MDUPW2HUb0agHtr+aArayUYTJ8ARYt+g17L53BdqP7+HnBCTzlh/Yg3yUpZSP0nb0Ge0/fxht+TtaLR7F12Rh0rs8P/k0IIaQ8oOAQyUjJCNJYKlKyXQmUg2yhnrUKR1RMxpOEqUiMiwX06kAt8QMi6g7H1puvEP/hKa5uaQWvRetxxiteKFvZJCHstR/Csga/Cvpo1bEu4P4a/tE0jBAhhBBSXn3XwaG0lh5aK7jj7ycfIOICmtCH53DycpCQWxSP4PjHQ4RwQZEoxBWnjj1Ey2ntoXXPHn1G78aNoGTIaDZCa9O6UIEC5Ep22oZyIg2fb/0G02bDYXcnXEjjJSM+JgnQVIeaEv1Ngih3HLO3h739KbhHlVCwLAqB57mdWDJtPKYc80Sw6++YP3ERdrp+Kr+38kujHSQKh/uxrdw2ue0ec0cUn5T6Fte28vvxZdm09xSuuX9AIl3oJoR8Z77rb2kpva6Ys9wQf1kbQVG+Ggx+8Yfp8KZCblFoQvaBLRooVYWi3mica7AS+7ngsNmgRdjV2RUj61eDnLwS1Lu4wPDAbxjduDKOd1YFqm0Hw7ZTCPas2YWLfp/B+KDFaRNWbv0AC9vBaKv6/Z12LDYY76Oy9E9P8MeNZb9g6bI78E8oiegjHr6nfkaX4Qux+fAp3Pr0Bq5Ht2HX8R1YevQJwoRSRfXV/uehoOUylXg7FEQ8/G/s4rbJbfeGPxL4JBaB5zv5/fiy/Dx3PPq3647h6/9BKAWIhJDvyPd9CUdKE20XOOHVh+dwffIaQTe24Ld97niz0AwKZgvxJmkPrGoLzxDWtsLRpNtYaKac/l7GDAvfvMZRK73092KtMXH/Lfg9fwS3N6/waPcoNFWWhpSyMcbs/gcR/HYeuMP3w23sGWOcyxiJZSMiIkK8lBp+cOKd2zFf2QlWjWtAXqkOWtmchbLtYRyd8cP3Nyet6D1u26+Ak2+ikFAK0gLwz4lriIERJp56hVcLB6LHT5uwY+1OnPqpI/dnSzEUdP/L4jjLgNaI1Th56jC2Tf8RCvDDlZULsfJSIHWkIoR8N76j4DAVsW/5W8ivkKCiDKXMnsJSkNFsCDOT3Aa0Lgp5aBqawkRPOccD9sJ2zJpCjwsYv6W///4btWprY+DAQdi5cxfu37+PhATx9ZMSIg1lQ0usOv8vgp4/TA+Iw5/j/NIu4p7c3xUWDa9jv2H6utcSggsRYqPi8hz7kiXGIS6/DkxpcYh4w18frA6Duvzg6/xn0BtTF0xCX8NqeXT2SIUoa52iWIRHJWbfz4Luf0HKieIQFVuIq4o5SGwDsfzbsSCqGnfGQCtrTLffiV3iP/6eY//Ov/A6LT2fEEIqu+8oOIyDt/PP6GP/AcO22aB99ZIN0KRU9NB7ZCNoVaCRbi9fuYKfFixA5y5dUU2tOiZPngwHBwd4eHgIJYqLD5Sbl4uA+NtIQvDtHZgzzwFv4Yql7TQhJ98QY10ChXxeMiKfncaSfiZQr6mNpta74ZY57zeDKPg+fp/XGw2raaB6nr3cA+EycQSWiqvlt/MDt43/4G7fWTyLDT+ouzhY4mep4d7L8QO/B7yC88zOUNfohuV3fPDf6V/Qz0gHtWuqoVrr8Vjt7IXYAu0/L79y/DG44vCSQWigpIEaGvXQctgqOHmG5x7ApfyHQwP1ufWbYLyTL1dGQhtkHtNEHLx28ks7CgPQF4tMXXTo0zb99e3beOSflP6aEEIque8oOFSF2cLrSH5zBVtGlfwtXWnD4dhxeB46lnDQyeO/4EtyGWE9Uqg5u6MOxzBp8hS0btNWXI4PFEkxsM8IiasKXfGTCIawXnMYjqfsMbZZNXF2uhOYPmw3gvTN0VEPeOuyFsvOvob4IlXKSzhMH4PZh4EhR07j6AwVOC+agoXOb9PzM1VDs9EzYC2+d8xvZ3WObeQUj4Bz2zDlwGMkJqqiRuhf+GXyXoT0W4dTp45gi6UCbv/1GjEF2n9OfuXExzAKU7c8gfqIBVg9vx1izq/DmK6Lcco3Z2/9ZARd2IVFV4Kg0HsRfrbSh0yB2yBHO55chV/P+uUoU1hy0G7YGDri1+/xKSJF/IoQQiq77/uZQ5JNn969sXnTJjx+9BDRUZGwsbERckiRSGnBtLcFjKvybzRg3Lk/rKws0cVQVZydrgVmneaCnu07sGNhF+59GF76hyIBDEnPrmA7FyjB1BI2wwZgxJSR6AJ/nDl1H/7ZLh6qwrDzj1m205fbRn7B4d/YuSsIs84/xZt/16GvVhyeJaYgJlkRdc0HYMKy3bhm3x3qBdp/Tp7lVBDvfh5b+WOoNQ7rt/+Gxeu2Y/uMpuAiROz/6y2yXttj4XewfdlxxMACS5ZYoqEsCtEGLfHTWReuHbdg47Q23PsgPPv0uZjBoRSkZeVoukdCyHeHgsMKIDkpsUQXx1MnxfU2NzXFyhXLcfvWTXwMDsK5c2cxa9ZMNG/eHFWrir/pSakzRQeTGlwYIofqNWqJUz6+C8VnLmyK8H+D//iEICesnDAW42wP4QX//sUnRBTrjmkUFG2WwLZXE9RpYoR6RiYYoA/4HpyGdvVaYuDKP+EHBRR/vpJURAcF4BX/0qIFGlfjwiwpDTRp25xLiMVDV2+E8HlivvjTbi02+wEGPy3GtDbqXJsUpg2M0boxv44itPUNxCkBz/0RKn5VVCKE+vsiQPxaC+qZA9wTQkjlRsHhd6hZs2bw832Dx48fYenSpWjfvj3U1dWFXFLu1O0Gm9lzMMfWHk4P7sP19GAYFOtyliF6mzfM7DUuVaMnNt65icNLrGCi4Icr64bDfO55BEnq+1GiZFGtenUuJE3Ch//eIDjnvOMl3gYFwMLw7O7j9NeNfkATXZrejxDyfaDg8DtkaGgIXV1d4R0pVVIykFPlg4pw+AZHg7FEREUXpGODNFS1akF8LfHVZ8jq8x17zMRLCxM9qBTrmVld1K/1ZUAhFh2KcJUWGLXqGP6+sxk9uLSYq+54FZNW8P3PtZwI1bTrwIjP/9cb/vy0iSwc/z3kOzzJo4lxHXz5k6QOOk1fjBWdaiLx6iasOfMaKaXaBnlLjQnDx2BfuJ3egY2HvLgUbfSZZwkzxYrT2YwQQoqDgkNSOkRh8HF3h3vOxSesWMOMVDjSWtBvzXdp8MHBeaMxrH9vzL/55WZq3qSgZNYfC7lgCWF7MdNmEbYfO4lD9oswfOGlLLdji6IWalSXE15zwdAbB/zYYRQWr92Bg8538ZpPNNBDLX4mm4Luf67lQqFo0hOT+GPw3ouff/oNdits8SsfcKkMwYJBTbLdupZSbYkJv05Gc/jjj/lb4BKQVIptkLcP6y2hX68p2tlswt1EedQfuQJrhjWCrJBPCCGVHQWHpFSk+vyBSe3awzznsuZOMZ8Dq2hqov24Keitx4VBga64FmKEDgYqQp4E/GDie/fDbqQxQv7ajYWTJmDe6TCYdGyAAtZQIFVqNIO1vh/2rlqCRRsuI7X7Qhzfa43G4tu2Bd3/PMop/oAZRx1gP1IP7ofXYdmGc4joOB+/X/wfrA1yDocujeodJuB/M1sAMSexfP1lBMiVTRt8TRMm3W2wZM95XN0xWjyYPSGEfC+kGEd4TXLir355+iOxRiMYfzWotQT5rcvnvUyAdrOSGnj72+CHu5k3by42btggpGRIRejF+TAY/AHL/1yMzppZHuRXqQtTQ36Q5i98fHzQzNhE3FHGyspKSC0+W4enmNhFH4a6akLKt8MSo/ApClCrqYbCD4WZhsSoMESKFKGlqZyt7UpO/tso6P7nXU6oP1EO1cttG5CK5NGyX6DZqhUMBloKKYSQkkJXDnMVCx/nJeisoYtm7dqjZQMjtJlxIn1QXfYBF2eYQGf+NURkhNXJHtjeQR899r5ACj8g8K2NsDQy+Gpdkbs9Gsg3R+fuP6JZy4ZosvIu4oQqKpdEBPm9RqKOGTpYtM58Tky85AgMvxdSCmqoVasoQRGvChTUaqB2qQZF+W+joPufdzmh/nLdBoQQQngUHH6FIdHrJBZNePR/9s4DrKmrjeP/sGVPQfZQFBUcqLjFLXVvpRU/R6272traalu1tda9rRsVLCoqDtwTB26UPRRQ9t6gjMD9zk0CRgxJWCp6fs8TSM4594z3rPeeiU6HApFZ+Aav449hfMJyjPn7FjJhgK7DnQD3i7iXxq6eY/A66AaOBvXBtK+sIRt7GovGnYbFqkdCz/6Jb3c9Bf/I33gUOCzDvUf34D29PVR4Zp8ZTBrC70dAqbsWXvsex64Nm7Dr2F28rO2NFRQKhUKhUOodqhy+xxtE37mIi23GY/JQa6hyOJDTc4Dz5P5IcLsO/zwOtLsMxjQ9H5x/lEJUwxwEXvJGxNcj0NuEQcytcziu2BZ2RnmIePoUAbEysGhrhice9/GCtxPDFuPGDkaHNu3RxuSzVA2B4mREPkxE4bGFGOTkgvlLfsV8l35obj8LB0JyiMwonzN1e083hUKhUD40VDl8jzK8yc8GLBrj7U14ctAzs0Tj9ExkF5QB6nb46hst/OdxF3E5gbhwOB8uwztAj1OCzJR4IN0VM/t0F2zC6I0Jq28DsXFI4l2/1QKWhkp8bz9TmMxs5Jm1Qo9fvRFT8AbFRQXIDD2M2TLH8P1SL7wooerh58zFixexffsOwS8KhUKhNDSocvgeMmikqgm8TEVWxSwoe1NCNFJ1taHJHu8BDbQfMgp25y/A28ML+zEUo7qwt1zIQU1bD7D5G/dzWaWIvZHkDXIjH+POjfnorvdlHIbBaTIIq2/64fry/mgixy4wk4Wq1VeY8X0fFF68gYfxxXyHlM+S8k1FVEGkUCiUhglVDt+jEZr2GITeAcdwyPs58hkG3LSH8Dh0FUYufdFWjRUZBwq2/TG1y3UsXHAAOt/0h706a64Ii+5O+OrlSbifYZ8FmPxAHPp5DL7a8hi5X/SAWfn1cPkoeEPXHn7usNcwslAFkUKhUBoeVDl8D6L4tfoGO//rg/BFHaGt1AjKxuNxzGg5TiztBe3ynZYylug3ZRCU0APTh9gKriLjQN7aGTtPjcDLJZ3Is0pQ1OmJda+n4fjKwTD8IqRdhtwbS2Gk2BGLb6QLzFhyERkQAOi2hLXx5z2tTuFDFUQKhUJpmFDlUCQqsBzyO86ERyH43gMEJ0Th0b9fVzoIVwGm4/cht+gc5rdRFZixKKJJn58Fz/riSWQCXpz5GX2aKELOfhEii3ZiVJPP+TAOGah3GoLZbV5i5987cC46Fww3FQHHNmD55mQ4/T4eXXmjrJQvAaogUigUSsOD9tLikNOFtX1bWOsKX/IlJbxn7WFX3cOzPwdUO+H7gzswrcwVo2waQ1HFFB1dzkPvD1fsmm4LOm74ZUEVRAqFQmlYUOWQUg/IQrXleGy6+RyJQQ9w/54fojL8cPRHR8EGFcqXBlUQKRQKpeFAlUNKPaIIXeu2sLdvBRN6N+0XD6sgBgT448qVKwITCoVCoXyKUOWQQqF8MLZu3Yp//93Ju0+bQqFQKJ8mVDmkUCgfjEaNGmH79m345ptJAhMKhUKhfGpQ5ZBCodQL7Ohg5Q+LsbExXFxc4Ovry/tNoVAolE8LqhxSKJQ6xd/fHyNGjMSVK1cRHBxc8dm3fz9+XrwYnTo58NYe2tjYCJ6gUCgUyqcEVQ4pFEqdkZmZieXLV/CmjtkNKOxVeuWftWvW8D6PHj3E3r17oa2tLXiKQqFQKJ8SVDmsEWm4s34O5h17DnoRnGSY/Oe4eSEA6V/09YFfBmFhYUQRHMmbOqZQKBRKw4QqhzWiEGlBV3AxLg9U35EANw5X/v4OA+dfRQzVpD97UlJSYGdnJ/hFoVAolIYIVQ6rAZMfh0C/F0jnVqESctPx3M8PgXH57ymNEp/9DGHyQ3Dsp2kYu/G+wITyJRAdHS34RqFQKJSGCFUOpYHJQYj7fDgYNUOHrraw7Pod9gdlCSxZ8vH85C/orWOM1l27oUPTFnCY/R9C8kvfe9aw1RhMHtsSCpO9kCR4+vOjDPl+2zGibVd866uPCcMsBeaUz53WrVsjPz9f8ItCoVAoDRGqHEqEQXGgG76bHoQ+ni/wuigHUVsGQi6qvANkUBjigZ+mPkSnQ4HILHyD1/HHMD5hOcb87YPkkKP4YW75swXIPOmEopuf+8gKgzfJGdCZ6YEnN7bjOwd9gTnlc8fExAReXqcEvygUCoXSEKHKoUTeIPL+DTzqPQlT+5tADorQ6zwCzl8ZVthH37mIi23GY/JQa6hyOJDTc4Dz5P5IcDuB/SfP4maX8mdlodp6KKZ800Lw7OeKLPQGL4ProsGwptfmfVGwh1zr6enydi2zH/YuZS8vL4EthUKhUBoCVDmUSBne5GcD+ppQK5cWRwtmrct3YwrsLRpDq0IPkoOemSUapyfgeXTqu89CBbrGWoLvFMrnR9euXTFv3nwYNDHEDz/+CFVVVYENhUKhUBoCVDmUiAwaqWoCL1ORVb7blslCTHC84IcIe3CRFhONVF0jWFs2rvRsJmJCEgU/KJTPB/bGk2+//RbfzZyF4ydOCEwBc3NzwTcKhUKhNASociiRRmjWZxi+CjgGt2txRO0rRX7INZy6Wq7gNULTHoPQm9gf8n6OfIYBN+0hPA5dhZHLGEz/xhljQg9gm5sf0kpyEX3+AHZ4xQiepVA+D968eYODBw/ikJu7wIRCoVAoDRWqHEqEA3lrZ+w81RePxzWDsqIKtEe7IcW0fKqMA4VW32Dnf30QvqgjtJUaQdl4PI4ZLceJpY7QtxqDDV4TkbW6D4xUTTBgbyyM2+pCTUsFigIfKJSGDrvWkL31ZN/ePQKTt7CbVCgUCoXScKDKoVQookmf33At4QWe3AtCYsgt3HyajshF9pDj2avAcsjvOBMeheB7DxCcEIVH/36NVqoc5Ifexp383tgenoPiohxEnv4dXxkqQMtYF+q8ZymUzwcXFxcEBwWibZs2AhO+4kihUCiUhgNVDqsBR9UEdvbNoCvHEZhUQk4X1vZtYa1bPibIgUJJOLaO/B5/H76JJ373cdl1K3ZdbYv5/ZsJFEtKQ+D58+e8XbeVP+w6O8q7WFtb49YtHyxf9ofAhPKlwdYLUfWFrUcUCuXThyqH9QpRDu1c4HpyBJgTP6NP17FYelkRE05tw+w2X8q4oSrsF91EceQi2DdgbTg4OBgTJjrjwcOHAhOKONjRwiVLlvBGESmUxMQkXv1h6xGFQvn04TAEwXcKpVooKCphwYLvsXbNGoFJzWBHE1rb2uHoEQ+MGjVKYFp7Frs9xbQ+lrA21hSY1Bx21IPt3CrH8U0RF7eCk3A5KFVgQqF82Wg0kkfXptro0doAjRT5b4T1UccfLv0Nuh07wmrEcIEJhUKpK6hySKkxrHL4lZMTXFwmCUz4SGr82Y5CeASBHVVgz8NraMphfFo+Ru58jKIyYGrn8nMvKZQvmwLywvTnvXhMMlfHtqn2PAWRKocUSsOCKoeUGsMqTKKornJYDnsvL7tera6ob+Vw2Pq7eJVfgo0T7aCvrcwzo1AogP+LNEw/E4H1PYwwb0hLqhxSKA0MqhxSPlvqUzl8Hp8N222PcX5qeykVwyKkB95HrGZHtDdVEZiJohSvEwLhH5SAN2UK0G7dBe1M1Yg5A25mNAk3j+/sHWShYtwcZtoKQEECnkelgSuw4aMGw5aW0ORtpCL+x/rhSXAqShS0YN6edK7sc58MQumXkyZ+VcmrHGn9qyp/qhuf+qKm8RBT7griEPQ4CKmvAWXzjujYUk9ok5wU4Yl9HrgXnIT5l6JQtKY/VQ4plAYG3ZBCodSQnjpKUiqGpKON8MLW+b/BKzhbYCYCJhdRRxdh4qBvsf3IOdw4tgHzB4/CH0dD8JopRfaDfzHt669FfObA/Wkm8aAUWfe3ibD/F36Z7BU9BXh14mdMHDwbu46dxaU9i/HNqMU4HZHLC/7jU4pcv3/x/eDJ+Mf1pOT4iZUX60Ba/6rKn2rGp96oaTyqTtfriCP4Y/BgzF53GDfO7sWq8c74U2q5SXqej711Y97/zNxC3n8KhdJwoMohhVIJaTszE00lwTcxEAXm1aUN+PXbf3A1o0xgKJqy2IvYsToQndZ4we3QLvx96Cw8V9rhzuoduBFbCt2vNuB+UMjbz7MLWDnEGEo9vsWELnrEhyKkxbwC1+5XHA0Qche0AX0by4FJuIJdKx+jzcrjxP89WOfhgZVdArFh3UXEi4/ah+FNIE795Y6iqftw9NgBEr9j2DDgFTas9carkvcnOMTLq0g6/8TlTzXjU2/UJB7i0lUSictrtyHIcR28zvyHv3cdxZ7qyE3S8wIUFfiXzadT5ZBCaXBQ5ZBCqcSa06Ho9KcPVh0PhG9Ici1GPl7juesMTPzlMYznf49xGgJjkZQiPzkLqn3GwqmbkWB6ThFNOnZHp9J4JKW/7XT5vEH86Q1YeaU5flw8Bk1VSEfMpOOl3ytotrNC4/dqNoNSjhF6/vgjJjia8v2X00ETU3Vwn6ch9xNQDktfPsLFqBYYOsgWKuwMuJwhOgzsCfVHl/H4ZeU8kCwvyf6Jz5/qxaf+qH48xKer7OU9nH3UHM7OPaDHW2pA5NZvLrbumYMOunISw5P0PIVCafhQ5ZBCEUFAQQlWPElBH7cgNPn7DtYEqIAzdg1eZsvxjq+RDjlotJuLg9f/w08j7KEttrbJQt1hJv7cOBPtNfgjLuxIYNLju3gka4wmFQer82FSbsFt+xPYff8d+psJbiApTkFsYCG0Yk9jw/ju6NJ2EH5adxSBqaxiySF9fCd8NWk4WrL+czPwytcLp86loM3kHrD86H06F1mvniMGetDWlBeYcaBg0gzt8AoRsTkCs3IkyUtWCv/E5U9141Nf1CQe4tOVGRmMcA0bGHLvwmPVIvy2YBG2nIyBVqsWMFBhJISXIeH58rygUCgNGaocUj5r2E0jiouvVuuzOSRD8PRb/AtJVTFqiSURjaD5x038diIUma9LBLZVoQD99t3RXKcmGxj468V2bvJF06ku6GkqrBy+RvTlY/CWGYqvh7VAuQ2TEo2QnDIUFGuhlfNirFwxGnqPN2LOvD0IyGHXHArg+uNQn56YOHM1ziW3Rd/uFpBigrzalEWfwuoFc4jy8P7nj533IXLFnFpjaKlWVjC4KCwWir9IqpCXWP+kyJ8ax6dq6l8u4tJVjMykBCDfC6tn7kW0alO0tFZA5L4FmPPHWcSXF+kqw3st4fkPON1OoVDqDaocUj5b5jlZI2hex2p/XCyquL2GWwwX/RLccLHFIqem0FYuH1mpa4qRFfAfVn+3BUlDVmPVbAeos7N35eT74/LBIDQbOwh2mm87cI5Od8w+9B/+3fATRg4fir7Dp+OHlbPRKvQ4vB+nCVyxWGHUpUDcf3AWayZmYet3a3E7RZKiWwOUdGDR3AbNRHysDNUEU8GVKCsBt7S6CoYYedXIPyFq+7woPphcxFCqgi5/bMHS+TPhPPsvrN40FRpX3HAxUDASKSm8Kp//0Jt1KBRKfUCVQ8pni7GeKu8Ym+p+hJW+ZR304T3OBtvtXoPZPhpO5oXo1soAmio1GQ2UAnYjwYV1+Hnydr6is6CXYF1XOWXID7iB02nWGNTL+t0RPxUjWLe3hVHF1B4HcmatYK+RgYcvklExxiSnBjVl4kbFCj2dx6Frxg1c8av7G15kDHti/Ky5mCzqM7w13t3nzYGsgjzkCrKQ90ZoASS3BCVQg65GFWObVcqrhv5VUNvnq+aDyKVKFKDdxIj8bwsHu8bEdxZZqJhYwhQpiEnJlxCehsTnKRRKw4cqhxRKJYbZG/JGENnz2ZaMtcMAe2PoNKr5NKL0FODVyRX4frEPmvxyAFt+dKykGLIUIDYwAHlGXdG2qbAaUYrcB+vxtf0iXE95uyaSP9WsA4dmusi99gt62M7H5cS3o4QMtxhFkIOSYGfpx0MWGpat0RqxiE9+IzBj8CbuOQJhiaYmwmcXliNOXjXxT5jaPl9X1HU8ZKFubEEUuSSkCG9y4il/jaCu3EhCeJoSnq+v0XQKhfIhocohhVIJdmSQHUGsf3Lw/MxuHDp4G8llDIoiTmDTyqvAYBeMaFmCV0H+CA1kP0GIySzmP8KkIfpJDJQcWsJIQVhxlIWqiRXptG/jqPtdpHEZojtF4Y7nafjpOWFAhybQbN0dfRQe4ISHb4X9TfejeKjXD33a6gr8+XjImHTEgE4J8Dp4DlEFRBkvCMG5Q94oHDAYDibsSG315CXZP/HU9vm6onpy4T9TNRwoWPfGmI6vcGzfSYRkkHLFTcQjD0/cI+XAsa2OhPAUJT5PoVAaPlQ5pFBqCKfyoF61yUfczUPY5RqIzLI8RFw+iUelpUg9vxpz3jnE+jvsfSBYM1iai4wXBVA10IYq36QCGaOv8MPWb6B8dj6GtWuNLp2HYemj5vht1xx00pQFx6A/5u6YCu1zb+2XPWiOpTsXoOuncASJvDWGrlqFQQmb8E1nOxI/Z7gVjsOan/tDjyfraspLon8SqO3zdUW15MJ7QjxKLTHyn9UYmr0P0x3boUu7/vj+nAF+3MkvJxLDk/Q8hUJp8NDr8yhfPJmZmVi9Zo3g1/v8sngxfHx8RF6f92RRd4GrTwgmH8lhkciEHsxtjKBcWZEpt1cygbWljugNEB+Tuo5fbf37VORV5/EoRnZ0BBLzlYWuVxRCYnjin0/JfI3Brk/p9XkUSgOEjhxSvni0tbXRulUrbN685b1PuX1ldNX5GwGO3ozk/f+k4KjCoGVbtGwpQjFkKbf/mIqOOOo6frX171ORV53HQwGalrZoaWf1vmLIIjE88c/fDEhEfz3BGZwUCqVBQZVDCoUwduxYtG3TRvDrLeyooSi0iXK4d4A51vslf5oKIoXykSgqLuXVCbZu/OrUVGBKoVAaEnRamUIR8MMPP2L7jh2CX8DGDRswd+4c3ncvL693ppXLcbv+At9eeSX4RaFQWGxV5LBltA1vcxcLnVamUBoWVDmkUAjbt/OVwti4WN50MjuKeOnSxYop5aqUQxb2Or24NHq+G4VSTuXd/lQ5pFAaFlQ5pHzxsIpfeHg4lixZgvj4eFhaNX2vExOnHFIoFPFQ5ZBCaVjQNYeULxp/f39cvHgRCxcu5P02NjbGOe+zcHJy4v2mUCgUCuVLgyqHlC8WdpRw+fIVWLNmDRo1erurcsCAAe/8plAoFArlS4Iqh5Qvkjdv3mDFihVEOVwm8qgaCoVCoVC+VKhySPkiOX78OHr06IG2bdsKTD40pciPfYzLp73gde4WQoXvqRULA26SH86f9sXLQuHlwtL6V4Qkv2u487JA8JsPkx+HQD8/+L3zeYF09pq9eqG66SfuX97HOa+q3TP5MXh4+Qy8vM7gSkAq3t4wzae29p8GovOvaiS5l6I8nb6Ch7H5xKUoqhsfCoXSIGA3pFAoXxLPnj1jpk+fLvglHSdPnmTkFRR5/2sPl8m8t5bpo67OWDmOYsY6WjPy1t8yrsHZTJnARZUUP2eOTm1P4jKTOZlYIjCU1j8ukxd8kPmftTXjcjJWYMbCZVK95zFqJH1sGt9+hMOoS6qb/jwmwm0mY61QlfvydKkzavaDmUljHRkrhfbM/1wDmDyeg9rafypUlX9VIYV7keWpkEm8/hfJHyPGfrAzM2lwB0ZN/Stm2a0kKcvT+0RERPDKVN3UHz4PlixlIk+dFvyiUCh1CVUOKV8Ur1+/ZoYPH8HExcUJTKSjTpXDgkfMui6mTJe/7zE5bG9bEstc+sWRURvuykQUi9NGCphIt6mMdmXFTRr/yrKZiFMrmGFW6uTZppU683zGf8sgRn7gfiaiVGBUn1Qz/aVRbsxIdWtm/C5/vrJWlsX4bx3LqHXZwDwpIAbFIcz+4U2ZFgu8mYQS1sEbJuboTEZbfRLjFlVYe/tPAbH5JwKp3FdVnu4xK22N3uZPWQZz/++BjLztKuY+K2+WasaHKocUSsOCTitTviiWLV+O2bNn8XYlfyxKX9yHh197uIxoA3X21jE5YzgO7w+di2dx48UbvqP3YFAYchg/LEzHpO/6Csz4SPavAAHbJqD15LuwXPYPFhjxHnsLk4bw+xEwcGgGow/QIlQv/Vyk+N/DucLuGPlVS6iy7jmasBsyFH38TuCMXxbx7zYOXrTD99/2hiHvGjclmAxehAvnF8GxsVyt7T8+EvLvPaRxX3V5QkEG4mIUYGrVBGo8eavByIp4EpOE9IIy1kE140OhUBoaVDmkfDFcuXIFmhoavN3IHw8uUqPCEAwDNNZSEJhxoGjWAj0RAf/obIHZuzC5j7Bj4W40Wvsn5juaCkxZpPFPDjoOi/E40hubJjqgceVaX5yMyIe5aPzyGH7s2xwKGg4Y94cbHiRJuw6yOtQs/VBSgYpS5YinISYtB6nhAXhg1AbmJbew7dfZmDx5Nn49HA29tq1gosrU0l5WENbHREL+vYdk91WXJ4JuGwz5RgcX9uzFsduP8OT2cezYcxMW3/SHvS4rj+rGh0KhNDRotaZ8EbDH1vz7786K8wzrktLnxzBv8mSiVLz/mbL+DrIE7t7BwAB66pUVjxK8KS4VfBeCyYTf3tXYqPsD/p7UCiIP2RHrnyKMHRzRRk+Rb1wJJvEFHieUIK9QBx1n/IOjeybB8M7vGPDNVtzPEhGfukDq9MtCx6olOhU+wfWHCfxNIkw2As954wbPvhCp8a+AjIOYO3ozQlStYd9aAcHrJ8Lp+xOILimqpX3db8ipfnkRn3/vI8G9pPLEMYTjrO/wVcAGuPTvia79p2JjQB/8Mr8XDNiRxGrHh0KhNDSockj5Iig/tqY+zi/kNNJDC1tb2Ir4tDZRh7zA3Ttwi1FSKo3iUYqsu/9i9h5DbFw5ElYiPSNI7Z8I9Bzx5+1buOT6B6aNH4VR4+dg3Y4l6Hz3AA75pggc1TFSx5cDBbuJWLdMG/tHd0XnIV/DZehAjLtQAHs1gROWQnUM3HwAO5cuwPyfNsDj8M/QObwLR/wEI5E1ts/h29chNSovdYbk8sQkXcDi0auQNucEwjMKUJQRBK85Sfh+2HKcTyoRuKJQKJ8zVDmkfPawV9/V57E1MiZ9MGfRIiwS8flxfBuoCtzx4UBOQR5K6ZnI5q3f4sNwS1AETRhoVlJeS4Ph/v06+JeG4uSKWZg8eSq+38aOmd3Atu/nYf2dtOr5JwKOqgnsHNrComIKlQN5qzboZRSNa+FJ/NG6OqOa6Wfh6KLLrx4IuLYJ03t3huPUjbi0Ywaal6hAS0UdjY3NiaMu6GuvT3xnkYW6WVM0QzyeJxbX0j6PZ1KXVK+81DESy1MSku9fwN6MYVg4ZxAsSZngqDbD4JnTMDrZG8fvJ/P9oVAonzVUOaR81rB3urq5uWPs2LECk4+NLHSs2xJVJArRia8FZgxevwrHPbRAawvh4TACRwutp/2BVTMHoxNvdKk1WpjqEAsdmNo0h4l6o+r59x6lyLr9FzrpzoZX0ls1kD/VbIl+LZqgbrdkVDP9BCbtAQ5uvIDM1qMw88d5mDqqC3RePYI3OqCLjS60iSLXEnGITy0UPEGe4SmbrPLYqJb25esiPxMklifBUGJJMYRn+DlyCqCTyBTKlwNVDimfLewtKD//vBjbt2/7pK7Dk7HojPFOL7F3+ymE5JeCyQ/E4X89UPDNSPQ1Z7vgbAQc24r1O24QlcUUfeb8KDS69ANmDW9D3LTB8JlzMb6NphT+iUMWGubWaIbz2LH7JpK4DHn+Bc4fPIoblmMwrqu+wF3dUa30s4OLTDoe/rMM6zyDkc+whzbfxvaNnlCfNga9TRSh2Ko/Zg6KwI7NR/AkrQjgxuPmfjdcsByGYR31ammvy4vzp00leYlDRlJ50oVB5/74Rv4SXA/c5ZUHcFPw+OgxHJcfgOGdDfj+UCiUzxqqHFI+WzZt2gQXl0kf9dgakcjbwGXnv5gQ+wfa6ahAUacn1r2ehuMrB8OQN6+Zh6gL27Bk01OkSursWST6Jx4Z0xFY7zkHqofHwEylEXneFs63W2PvyR/RW7vyppE6oJrp5zTujz88JyHtZwdoKzWCsvk3OG26HCf+7I/GrHslW0zftRuTMzehq7EGFFSaYtARI2w5IYh/be0/eapZXiTAMRyMv73mQ/XQcF55UFAxQ7ftwBKvJRhmWL8rIikUyqcBhz3sUPCdQvls8PX1xZmzZ7F2zRqBSe1g1y1OmOiMo0c8MGrUKIFpLWHyERcUgVQlM7Sx1q399G1t/St/Ho3R3NaEf6ZgfVLd+HLT8TwgBoWNm8PWRFWwPlCYIqQ/D0NMngrM2jSFLu/MQmFqa/+FUYflgV3e0drWrk7rz8Olv0G3Y0dYjRguMKFQKHUFVQ4pnx3ssTVz587DEdIR1dV0cr0ohxTKFwJVDimUhgWdVqZ8VrDrDNlja9auXfNJrTOkUCgUCqWhQJVDymcFu87QyckJ1tbWAhMKhUKhUCjVoX6mlUtf4vK2kwgScUCanO1ozBtogWov8872g/u+m0iBEXpPHwd7zdouFC8lXnpi380EMXGSxo04avu8GOpcHtKQAT93d9xMIRmr3xvTJ9lDU0Rec1SN0LpjT/RqbwSlD7hsi536DQ8Px5IlSwQmdQedVqZQag6dVqZQGhiscljnlDxh1lkpMvIK73+s1j1hSgTOqkXiScaF58dM5mRijXyoRAnxcqaEOEnjRhzSP1+Wl8jEZVUjhDqXhzTEMiddmvLSI+9ykklkjarMaxtm2CofJrWM92C9c/fuXWb69OnM69evBSZ1y8mTJ3npYv9TKJTqERERUef158GSpUzkqdOCXxQKpS6pn5FDrh/Wt+iGJXGAway9OD6pZcVORI62FdpZaIrYaSiBJC9MNnfGEUzB0VfbMKpJbfd2comX82A28QBM//ZF+CJ7EbslpXEjDimf58bjxso/8WzoRvxoL+X9CHUuD2mIg9fkPphwlGTsBA/EHBqFJkJ5rTdhJbYMN0La7QNYvPM2CmGLb096YfsQk+rndzVgRyW++WYSbt3yqbd1huJGDqNOn0Hk+o0oiU8UmFAoXy7yxoZouuiHd0b06MghhdKwqHflUCqliilC/mtZqKqUu2LAzc9FoZI6VMuPk6ikDI3Ueo1cqEJDSfSySaawAK/llKFS+TgKphDZmVyo6ighrSrFTRo3hFqFUQ6Tg5CDP2HUzBf49p43FolSDrkFyC5UhKaq0NPVUA6rjOc7cJGfXQQlTRUxeSVeOaxII/c53CcNxjQvYtj7XwRfmArr8mzi5iMjXw7amkp1ojCW70xmD7quz/MMq1IOg3buQsyaDWgyaSyMenaDSmM9gQ2F8uVRkJqGhNu+SHI/jqYrl6PFN1/zzKlySKE0LD7OhhRWsVFUgoLiNOy/dACzHKygrW2OTrOPIiI1CJ6/jkILHX1ot/oOB0JyiKooTBR8ds6Cg35j6On3xJStt/in+PNgb0/wxe4FTmimoQMtnR5C9qXIf34Gy0a0R2NDI7QYvhzH/SuP9EjjprZhCFOEpJvbMH+BG17iPpZ01SUyaYbJrFLFC+c+DvwyEk1VdNBYxxwdxq3AsYAM0XfdloTCdYQleb4lphyLIm7ExZMgnAeXPfDLEDto6xui1ZRDvFsraoWcGbp/1Zn//eZNPIwp4inBoZ6/YUgLIzTR14RGpylYeTIE+XxXNYLtcD6EYlgVeQkJFYqh9ZgR1VQMy1CQHEbE44PzN+7hYUJBpXJeGSH3Nx/CL/l1le656eG4ejMAMUXCLoSev/MMEdklAvNyJNl/KKSPBzc7DoGh4Qh47/McURXP1YHcEoJw9cbHlks5xUgJfYwHCW8EvyVT4/IgId3M62T43b9Nyu9t+DzP5LVLbB1g6wJbJyJ/W47CzEy+YwqF0qCod+Uwdmk3KPOUEPbTG+v9hNWB/zBr7mnI9+6Dtkrp8N8/F4O7jsH6RHN81d8SeOWG7/++hLh3WvPb2OURCfOBXWBa+AT//TQDPx55AV7TVRIGt1mTMO8AMOagJw7NVsNJYr/o5EuUvQ6A69z5+OdSNGDSHu0VfbF1zWWejxVI46a2YQjD5CK1oBGMeYOF1pj49wHyZr0ek1trCML5Gt9tegztCT9i5cKuyDvzDyb1/RlHosrvpC2nGIneO/DTxUQoOf2EX0dZQk5cPAVP8SF5MO5fJFp2QQ8T4KXHCvx+KrqSm+qiAMNmNjDifY9HSmYJyl6exW/f7kLqkH9w5MhBbBquhJtXXyCP56b6sIdcl1+N97FuQMkMC4NaF3teZ1g98hFxZg2GjVmMDadv4vKZvZg7fg5+OBOJAoGLdyEKwaNDmDZB4P70Lsyc8Bs2PM14X9HhxuH8jtX45fdLCM4rz8VSZAd6kOe/x59HLuOs+2o4T1lPylG+4HlJ9h+K6sSjFBlPPTBlxmxMfe+zDHuCcoib2srtDaLOr8Ow8T9i1dGPKZdyiMIWdRWrl5I4ROQKzCRQo/IgKd1sPM7jh69dMHPHGVy+dAwrpv6An4TKL1snGrW0RsrTpwITCoXSkPjIR9k4YvnhA9iyZiNWz7Ilv/PxZsAanNq/EetWTENLYlL4KA5p7wxkjcKuC+fh6XkeF3aOhhJicGLvDbwoZVAUeBFbiYKENsPhMm4YJsxwRh9if/yILyJCbsL1VgqgNgXuNy4Knhee3iDPh0nhplZhVIKjhzZOjrDlLZPTgW3voRg1ajj6WKvhtd8ZbGbDMfgfVm/9Ez//sxVbZ7cC0RCx9+pL0ry/hcm4ja1LDxNFyxG//DIczeQhNp4x7/RsHfDDKS8c2roJa2c6kN+JCEzJraVyyIGsvMI7O7PLslIQWFiCvGJlmHUZhqlL/8Xl9f2hLbAvh52+9ff3F/x6H/Ycw1WrVvFuP2EPuf6YV+Nx8wsgpyblGlEhyuLvYN2mMHT8czdOb1mBrVt249TvNri36T9cjC8WuBKiMAJHN5xC0aS/cZTnfgt2TSrDkTXn8LRQODML8eqyG1ZdjRX8FlD4HB4bT5LnN8B7zz/Y/e9WrO8dj407fBDNDvdIsv9QVCsestDvsxh+d2+8/fgcxp9fmUGux0RMsSclq5ZyK4v3wT/rnqL5gh04x8Znzz64jcvHxr/OkrL8TiX6AOQj6uYBzPthC26nSVs7a1YeJKabG4OzOw4iqNsyeB/cgK1rN8FdRPlVMm7CqyMUCqXhUe/KIbsO7XVRIYp5n5uV1tRZoIWZOlEllKChy5qboF8/exjJcaBoaAH2Ovj30YCmmgL5r4ym3fuiC2v0MADhqUXIjIlEKPs78RiWT52M/y12RTD7OzgWYdECu/6O6GqiRL4oQE1TgzURUPr2eWnc1CgMaSlFTmIswtmvju1ho0HULI4OWnZuSwzy8eA+e6VVOVE4u24VNkYDVj/8jJkO2kSe4uKZgsx3lG1bdLJhn1GGoaUVzyQ2KAZpvG81hYu0mCjwuyQ9aKvJQdakNYZZktjun4mu5h0wYvlZRJN8V+S5eUunTp2wY8cObN++g7eesBz2u5ubGyZOdEaHDh141+I1zEOuy5CblgM1x68wooO+YH2nAoza2MOem4SELBHK4ZtcJKbIo4mxLlR4BsowMNYDUjKQ+aZcUWBQGHUJf27MwcBhbDl5S2lsEM5HWmNE72bg1T45fXTt3QnKj+7gbmyhRPsPRe3iwSpCB/Dn9ab4ac4AtFAmTVut5FaKtOeBeMa1w8DuFoLn1dCyZ3fYRd7ElbCajnnXhEKEHPkd41YEwmTGdxipJTAWS03LQ4HEdJfGPsPJR00xaZQ9DHgFmJTfHl/j301fo4t21SuWRcFOOyfev4+sFy8EJhQK5VPgI48c1hNm/eAybz7mL16PY/d8cd9zLFqUt1kK8hC7L4NFGje1DaPOkIeGlhZRs4qQEBqJpHfWFRHei+doWNX3kYhMOgLvPOJ/b94OLY0VwWk8EGtvX8eBX0bBTikaF/8Zjy7fn0FipeiyI4F79+5Fu3Ztecrgz4sX8z7sdysrK95o4YABAwSuGyIy0Gw3AZuWT0Bn9fLqV4yEAD/4yTWBkRb74lMJzaboN1Adj71O48zTUPg/vY6DXk+hObAj7ATnWzIFoTiw4TSU5n2LaUTpfEsp0uNfIhna0FWXF5gBik3M0Jao76EJ2RLsa7MqtDpIiqf4eDBpj7F7nz9azRqPIcbsixmhVnITINcIyoqVK3M24rOkX/NXe2Sh1XoS3E6tx4pBraAtRatd8/IgUHqrTHc+0l+9wEutpjDhPsX+rWvx/R9rsepCInSbW8KIVcrFUVyM1ADyMn/4P9wcPxHX2jvg6UQXZIbwXmUpFMonQr0rh6V56UhOSkJS+Sc9X/SGCqnJQXYeO7pSiPhnj/GENXJogxaNFaGuZwAD9nd4LuQt28Le3p73aW9nAWMjU7Rg7a49RCBv6IwBt0R4lEYWGoaS3dQuDBFw5KCgzo6fZSAqKQcMu9M5h/s2Ls8iEPOaaFBMBkIfsNOtimhpayo0HWuKXrN+xrJe+ii8tAF/H2fXX4qLpwnU6klx5ed1FJ54bsNa1xBiYoivFgyHvTIHTE4aMtTa4+sV7vC5vRGsepd3yQ/hFeug3qVbt268w6zZEUL2w35nzT7F0cLSmGtY+sefpJN8/7PQzZ90qeLgryPbsOsRLCaNQD9jEcohRw9dx41Ex8jj+Gv+XEybvwZekfaYPrE9GvPyMhcBJ91wWHMifh5iQV4URKChAx2VytWdi8ISgfyrtH9nmLla1EguNYpHIZ7fuoArMv0xdYBQ+mslN6KQGVvAjBuGu8FpgjYrD6G37yKQ973mVF8u8jC0bY9WWm+VOfHUpjxwJKS7GOkpycToAv766Rieq5jC1koez92XYeq6G4gR0bizo4KZ129gO2mTFH75HY+Gj+FtVil4yGu9ebwmfQPrrjqfkizxNYtCodScelcOE1YPh6U5aWzKPz9eqeWUpRcWOH+NGTO+xqgZB0izZYYx3/ZBM1kOVOyHYhFRkpC+C3NcfsJWdw+4rv8J4xddQIHdQEyvsFuIlX9Mx+gZ/wn8ZOFAWQo3tQtDBLJ6sOzEbt14jv0LvsG4oU5YeD3tbVwiduHXH/7EumWL8TurcKmNwY8jW74zHctR74Cpv39L3vxjcGLhJnjFFomJ53mhKem6hZ/XrdDVZQPuFCrCwnkZ/h7XnHRtpEOMdEPP7l/j51XbsP/kHfAmkaxMYPBeB9Xw4ChqomlTKzQX8bHWV+GlXzQlyAj1xm+LXJE0cDG2TG4DTYGNMEyaL1YuOoTMMX/B68o1PLlyCKvHpGPjwn24llaE7Gcn8ccpXfw8uxfMqxqyLisBt1TMOjlJ9jWgRnKpSTwKwnH2SAhMh/eAvfrbYfHayk3BegCWTFHHhV9nYMT3yzD/+wWY7/sGFpXXQlSTmpcXaSitdXmQKt1cFXRe9BtWT5uA6ZO/x46VzlC/egqnK023p965A//f/kD6mg0wlKs6Zeyuf9/+X1Xrk31BzGY/CoVSKxpez6z7DX7/nxH8j50nb7Id8PW6PdgwsRm/QVVug6m79mKdsy1Sr/6LRdOnYoFnOux6NIUaa7d5LeZ01UTs1T1Ye0kZw2b243lZgbRuahPGe+ij2/9mwMmEtLxx93E5tQW6W6mRcNph9iE3rHc2gd+Bf7B0zWlk9liI3ef+wkQrZcGz5chCq/tU/DWnPXmj98Afqy8gVkFMPAVP1Q+6sOvvgl92nsGlbd+glSq/s5Zp3BoTLaOxa8Uv+GnNBZT2X4TDuybCpr6nuD8AMgYdMMXla8wW8Zk1sJlg3VZl8hF1Yz/mzD7IVwynd4K+yOVapUgNuocrud0xbXxnmCnLgKNsgn5jhqF71l2ce3YPJ9YdQULZK1zYw07xrcQfR9kdok9xaO16/PssG3Ly8pDJy0WO0CYKhsslqqkq9NQUJdrXlOrKpWbxKENe6H2cTmmGwZ3N8XZcubZyyyLfNdFh2p84se17jLVvhS7Dv4frLyNgUdoIGo1qrsLVrLxISWl0rcuD+HSrQFefnZNohe68tcosMlBtYgJT8toZnfbuSQqNe/RA72NHYHncA+fzc1Hm2APy5iYC27fYbF6PIa9eVPtDzzikUOqH+jkE+wPAFOaKOQS7DIXZ6cjiKkNPV/XdQ525+UhPK4KSnvbbA7YrI42b2oZRCaYwGynZpFnW16x0H7EgnEIFaL1nJw1i4vnB+ZTiUj1EHYLN3oySfMEbdnNm8H5LD3tUyFbM+CcMdj/9hpXDm4pRCEqRcmM9vvqTgz+P/4DBegKpZfli8cjNKFy6BGOzwoR2z5ahIPI2jt4Aun/dF336DsZQRR9M+voauu1Zhdkt2ZAYvH62HwPnxeP7Y0sxintJrP0Yo9qNZUlLWYx3DeJRgAC3JZh60QGubs5oU+Gk9nIbphcDz3NJaDG8D9rwRiSJIvp4Nwb9lIWfj/6E4QYfRi7vUBqOf0f9jojvt2NLH32BoRBlKbh74nqtysNo5Qix6XbKPI7hM/ww2nUlplvz1XEm+RrmjHGD7rrN+LMLf9FL4I49MPhqKE+Bq3wINntGKHsUVPJNH6T9d4ynHFJFj0L5dGiwc3ocJfUqb0dhk6Wk2RhNRCkgcqrQbaIjXmmTxk1tw6gER0kTBgailD9BOCLtpEFMPD84n1JcPhbsLtLL+HvddcBpFMY34yLyvcOb8xBy2RP/ej5BQpksGts6oJfsQ3ieDUQKu6aLmwn/S1fhI9sJA9raovs4Z6HRJ2e4ODYljppiwNixGG6tBhmj1hjSKREnPX0Q8boMzOtInPC8iuL+juhuKC/R/kMhOR7CcuE/AyYLL/xjIWdvBbN3olp7ubEHtz87uA+7r0Tzzu/jpvvD9fANNBraG930P4JiWCVCcoF+rcuDpHQrWHXChI6xOOJxBf5ZpLxyU3H39AU81u+OAa2kO51BzcgIZv36weHvlbwRQKOePQQ2FArlU6DhL/iiUBoUBQjxuYQALhfZFzdjzjuHNy/F1qfsjRKv8cr3OPb/F4F0hrw46HXF4nVjoXLuF3zl2Af2jmMwzRP437r/YWD5iJg45Cww9tef4JS0D84D+qHDgDk4UDgEG2Z3hQH7wiHJ/kMhMR7vyoVHWT5So3Kg3FgDvGNZhKit3DjaHbHwn0HI3P4denbvA4cRy3Fdfzp2zHKA7oeUi0REyEUcEuQsMd2KTfH1ksUYlnMU04YOJHKdgAWX9fDDWmd0E1rzWR2UtCufePppkpmZyRsFFf4IH7lFoXwuNNhpZQrlQ1K308o15TUSXsQiHVpo2ky/BmvT+M9nKBigpZmmiNFbSfYfirqORy3lxs1G1ItkFGmZwsZAWbDO7nNAgpwlprsEmTEvEfe6EUyamaDyEYfippU/ddjD9iMiIhAdHY0HDx/iecRz6OnpQososaYmpjA0bMJzl5iYhNg4/omuPjd94NjbEZ0dHHjntX7MA/oplNpClUMKRQpEKYcx164hcuMmtF/+C+QUa75xg0L53OAWFeHpijWw+W0pDLt0aRDKITsq+OTJE1y7fp2nDPbr14933qqZmZnUih47ihgaGsrz59GjxyStIzFkyBBoN5CRUQqlHDqtTKHUEP327fEm9DkCN+3gdYYUCoWvGLJ14k1IBLSbNxeYiqd8uvZDT9Gy4V65cgXffvstFi9ezDP7hfw/ffoU5s6dwztbtTojgKxb9pB+9lxW9sB+9uD+qVOn8Q7yZ9NHoTQU6MghhSIFokYOWdirv9gbHtS62MN81DDIKYk8cphC+SLgFhbilddZ5N33Q/sjbrxRQxbhkUN2KvaHH3/kmVfmnPfZer8BiZ0yfvr0KQ4ePMj7PXbsWN6VnPU5usemf9/+/bzvrPJJRxIpnzpUOaRQpKAq5ZCFvQ4s7vx55Dz2w+tntb0/g0JpuCi3s4NGR3tYEoVLq1kzgem7yqGTkxN69XKEP6k3wnxFzNkRu/rC398fFy5cqJju7dOnzwdfF8jGYfnyFbzwWaW0Yd4PT/kSoMohhSIF4pRDCoUiHmHlkK0/rJLUyaGzwJbPGaIYsopjXcKGc/euL65du8ZbQ9i9eze0bdtWYPtxYEcuL168CDc3d6xduwbW1tYCGwrl04GuOaRQKBTKB4VV0BYs+F7wC+js0In3Asau/WPXANZ07SH7HPv8qlWr0KmTA08xZBXC8jWEH1sxZGFHC1kFefv2bQgODhaYUiifFnTkkEKRAjpySKHUnMojhyzsZpBBg5x408s3b1znbf4Q3jEsfDSMqqoqzM3Nec+V8/r1a95RM/n5+QgOCaFHyVAodQhVDikUKaDKIYVSc0QphyzsKN+//+6scq0hOxKYnp7OUwJFUa406urq0k0eFEodQpVDCkUKaq4cliI/9il8n8ahQE4HLTp3RktdRYGdKIj7l4/g8ywJxQri3Bchye8OIrW7oIcF/35cbnokAmJy+dbvIAs1MxtY8/wRig9UYdS+KzqZqn7Eg50rp0M0TH4cgiJSwV4u+BZ1mLVpCl3eNZXSpquq8KqbT/WNdHKRXF6kTVf9yqUq5ZCFtaPr7iiUTwxWOaRQKOI5efIkI6+gyPsvPVwm895apo+6OmPlOIoZ62jNyFt/y7gGZzNlAhfvksdEuM1krBUkuecyecEHmf9ZWzMuJ2MFZiVM4smZvDi+/7FhvvNOIG4KmcTrf5H4GDH2g52ZSYM7MGrqXzHLbiVVEZ/6RlQ6RMFlUr3nMWrvpWsmczKxhNhLm66qwqtuPtU30sqlvLyw6Z4oIt7Spqv+5RIREcHLs+rVHwqF8rGgyiGFIgU1Ug4LHjHrupgyXf6+x+SwvWlJLHPpF0dGbbgrE1H8fvdaGuXGjFS3Zsbv8mfyWOuyLMZ/61hGrcsG5kmBwH1ZNhNxagUzzEqdxKepeOWhJJo5OasDoz1hLxOUxyXxucestDV6G5+yDOb+3wMZedtVzP1y/z8U1UkHk8/4bxnEyA/cz0SUCoyEkSZd4sKrZj7VK9WQS1nMUWaiug3zv6OR5NWAUPKS5HcbRm2kGxPFykmadH0guVDlkEJpWNDdyhRKPVH64j48/NrDZUQbqLPzm3LGcBzeHzoXz+LGizd8RxVwkeJ/D+cKu2PkVy2hyrrnaMJuyFD08TuBM35ZxKAAAdsmoPXku7Bc9g8WGPEerILXiDqyEt962mHzSme0VpUlj2cgLkYBplZNoMbzXw1GVsSTmCSkF5TxH/sgVCcdBCYN4fcjYODQDEaiWiyJ6RIfXvXyqT6pjlwYcDmmGLJ2BeYOMOffiyynCzNLLRQGpiCLJFtyuhqKXCgUyoeGKocUSr3ARWpUGIJhgMZaCgIzDhTNWqAnIuAfnS0wq4SSClSUKlfLNMSkFZD/ctBxWIzHkd7YNNEBjcXUXibpOjauvI3uK7/HWCtlvqFuGwz5RgcX9uzFsduP8OT2cezYcxMW3/SHvS5RHj8Y0qeDR3EyIh/movHLY/ixb3MoaDhg3B9ueJAkuLJQYrrEhVfDfKoXqiMXDuRNusD5u7Gw1yJp5Kbj+c2j2Hc0Ho7z+8BGTpp0NRS5UCiUD42kZplCodQGAwPoqVdWvErwprhU8L0cWehYtUSnwie4/jCBdM0EJhuB57xxg2fPoghjB0e00ZO0IaAAYWcOYq/MRHw/rhUqLvTjGMJx1nf4KmADXPr3RNf+U7ExoA9+md8LBuzI0AdD2nTwYRJf4HFCCfIKddBxxj84umcSDO/8jgHfbMX9LCJHiemSIjyp86k+qZ5cKuD6YX0LY7QeNBf7X3XB6D5WqLh3Q2y6Gopc6ojSl7i8eT3Wr3//s/nyS9QoRdl+cOf5cQR+2XUhk1Li5REJcRLhpjACXsvnYMqvRxCS3wDz5mPD5OD5+d1YtmA6Js87hudUhFQ5pFDqFW4xSkqlORCAAwW7iVi3TBv7R3dF5yFfw2XoQIy7UAB7NYETacn1w9EtD9Fh2lB01n7bsTNJF7B49CqkzTmB8IwCFGUEwWtOEr4fthznk97dB/xJoeeIP2/fwiXXPzBt/CiMGj8H63YsQee7B3DIN6Vu0iV1Pn2KNMP0gPJ0Z+Cn0Svepru26WrQcqkEk4mg7b9hydL3P9uDMlGjVL6JwTWeH7cR86Yu5MQQL29LiNP7bkojLmPlP/vx38Y9uBjR8Kb8mfwkxGfzXok/AkWI9VyELqO+xz87D+PIxTjkfSZFvjZQ5ZBCqRc4kFOQh1J6JrKF1vMx3BLSFGnCQFPEnaocXXT51QMB1zZheu/OcJy6EZd2zEDzEhVoqZRP7UmiDLlPLmN/dFtM6G8DwYQygYvk+xewN2MYFs4ZBEtVWXBUm2HwzGkYneyN4/eTBe4+PTiqJrBzaAsLdt0k3wTyVm3Qyyga18JjEV+rdNUgnz415NShqSJI93QXfPWKn+7apeszkIsYDGbtxZ17vrgv+HiOtkLl8dGGhGyr0di8fiHmrlqMUa3EHX30CcKNx831y3AsqlBg8IEpe4lrBy4iD5b42i0EryMXwZ63iPfLhiqHFEq9IAsd67bogihEJ74WmDF4/Soc99ACrS3eHw5k0h7g4MYLyGw9CjN/nIepo7pA59UjeKMDuthoCVxJIh8vnj5Gmk1vdGshopMoKYbwjCBHTgHVnMT8wJQi6/Zf6KQ7G15Jb0cW+FPNlujXwhC8drzG6ap+Pn0alCLt3HyoK07DsTih0VFuMQohj0YKirVMV0OVi3QoGLeEvb19xae9hSZRhyvBFCG/QHg0iwE3Pwf53KqHlZjCXOQUvlWmK8MUFqBA1PNMIbIz8vnLSapCnBs5I/Sc9w82/khekJRErRHhIj+7QLz/dUSVaSQwhdlIThdKA5ODEPc/MeufF0S6VcAtQHa+pJiXgismXyoQ5VdZATIj08kXfbRqqs9vTyhUOaRQ6gsZi84Y7/QSe7ef4q0DYvIDcfhfDxR8MxJ9zVnVJRsBx7Zi/Y4biGP7EyYdD/9ZhnWewchnSEeUdBvbN3pCfdoY9DaRcuSQSUXo3QioObaGhaJwJyEHg8798Y38JbgeuIsktiHlpuDx0WM4Lj8AwzsbCNx9CgjLRRYa5tZohvPYsfsmL95M/gucP3gUNyzHYFxXo1qnS3I+fSq8Kxfd9o4Yo3YNe/b7COTyHGd2u+KC5XCM7NS41ulqOHKpI5K8MFlRCQpE4d5/6QBmOVhBW9scnWYfRURqEDx/HYUWOvrQbvUdDoTkVFJmouCzcxYc9BtDT78npmy9xS+LPNi67IvdC5zQTEMHWjo9hOxLkf/8DJaNaI/GhkZoMXw5jvsn8h+rQAo3FXGfxX+JEk7LZQ/8MsQO2vqGaDXlkGBNInt4ug9cl83GuN7NiTvWLftphslecXw/y3n9GOu76hK7jlh8g1Wi2GbmHGbpEvdGi3E5k/VPXBqJXVYAji1zRkd9A5gakTT0XQyv6Bwk3dyG+Qvc8BL3sYQXRnn4rH/3ceCXkWiqooPGOuboMG4FjgVk8BVL4fTGhuPknN7Q1umHP26nsbaVEOdXHLymTcASXpLZOPz0zkvoF43gSBsKhSKGGp1zyJQxJYlXmD/6mPKelWcPtx62hrmeWCiwj2VOujRl5K3WMU94B9WVH+ZcfsizEdNx1mEmmD2jsDIlT5h1ViLOweOZKzJW657wz757B+L/rU3MeGv2TDtBGNbfMOtvxYtw+4EQmQ5RclkjOIuPH281x5+ZoyHlhzFXI10iw5OUTx8BaeVSKd1qHecxbhWHVFcjXfUsl0/inENB3SiX1duPI7PuSR7DJJ5kXMrNrIYx836exHTk1UUdxsrKmunosoCZN9iGZ6828SgTwwr5nWccmbFjHRkr3m9rZqJbBFPMhlscwuwfbsHIqw9iFnucYTx+GcSoEXvno1FMaYEfs6W/QL7vPC9Uh6VxUxEPwcHwwvFS78ZMmjeV6cOrPxbMSLfnDDfjOrO4Bfmt3of57q9lzHeOrP+dmO+2eDLXI3JYH4XIZ0J2juL5pT3Lm0kpK2YSTs5mtEl5sF15jylgnYhLY/Fz5ujU9oK4dGAGT5rEjHUcxqx7FMX4n13PuBiy8bRlXNZ5kPJxmh9+uX9sG+iyhFmzeCxjzT6vM5VxiyQhVqTPhdm0ZSaJC/t9BLMzhBebdxHrVxITcWWjUBwuMRF5og5T/fKgyiGFIgU1Uw4FlOUxsQFPmCcRadIpYSVpTMSTJ0xAbJ6gk69jyuMTEMs/bLuhICnetU1XdfPpU0FSvGubrjqQS8NSDgcyf9/PIHUvjbm+uAPPjeGsU0x8SRlT+GQ904Z1U66gVzwzkdkfwSomBUzEfmf+bT49djIhXKFneL+JOKPdmOHs7+FuTOgjgZ3OTOZozBvB8xN5YfIVP6Hnq3QjHI/KymE3ZvH1FOJLDvNkXX/BMw+YlEuLeAqVyR+3iepXxuTfXs6YECW4x85gRsSrqOCAfjYO3zPeyRHM0YnkJUVhEJFbNrGVMo3qY5mt/lnENaEkj8liX3or8kSQBzzKmIL7qxhb9hnTpcz1bNbDJObSAlbBFMSxIn2mjJX1MOaPiyFMTEgYE/umcsWXwi+RcaDQaWUKpb7hqMLEzh721rrSrWeR04W1vT3sTOrpzuPy+NiZ8A/bbihIindt01XdfPpUkBTv2qarocpFDKZ/++J1USGKeZ+bWGSvKrBhsUALM3VS95Sgocuam6BfP3sYyXGgaGiBNnxHldCAphq79EMZTbv3RRfW6GEAwlOLkBkTiVD2d+IxLJ86Gf9b7Ipg9ndwLMKiBXb9HdHVhD10SgFqmhqsiYDSt89X6UYctuhko03SogxDSyueSWxQLDLlFXhHXCmoKUOR2CoqqxBf8xGXkSdyXaKMRS98M8YSyPPF7XOXcOl8HNDxK/S3VSe2QnEUl8YugzDQVrC2U04VmhUbzCpTipzEWISzXx3bw0aDuOPooGXntsQgHw/uRyCVteORDWWXX7B4UEuYtmwBk/fWW1bHL4owVDmkUCgUCqW+MesHl3nzMX/xehxjd0l7jkWLcm1bQR5E9xSPNG6kQhYa7QZgehtVxHqewMn7t3Hy+HnEwhK9bQyJkigCjhEcxw2FHp7j+D+bcbLQEEO+GwRbhUoREpdGJXnI10n8hbGGU5dmQqcyUOoKqhxSKNXgwcOH8PLyqvj4+voKbCgUSjlsvRCuJ1euXBXYfBqU5qUjOSkJSeUf4R20NSIH2XnF5H8h4p89xhPWyKENWjRWhLqeAXjbosJzIW/Z9u0OaTsLGBuZogVrd+0hAss3dpSw/pRDFDlDSW5qgKY9vv5+HCwCNmGS41AsfdwCy93csWaYSRWzFbLQ7jIY0yyBhLhEFCr1wfheZgIFQlZMGi1hbt4ULVm7m944F5hNYk8o3wnOkYOCOru5KQNRSTlg2B3ZOdy3aX4WgZjX5AkmA6EP/ImBIlramkKbteNhDAsDcaqhkPwk+kURhiqHFIoUtG7dGkePeKCzg4PAhEKhSIuhYRNe/WHr0adAwurhsDS3gFn558crELXPVXq8sMD5a8yY8TVGzTiAPJhhzLd90EyWAxX7oVjUSx9I34U5Lj9hq7sHXNf/hPGLLqDAbiCmV9gtxMo/pmP0jP8EfrJwoCzRTfUpDTuM6VPPwnjZOURmZCDy+k4sGW8PPXFDk+ptMHxaV95Xta9HCJ2gIC6N55FjNxQ/jjYjevNZ8n8kxk92wbg+47ArvJDobnqw7MRe6v0c+xd8g3FDnbDwetrbNEfswq8//Il1yxbjd9cQEvAY/DiypdAxVcLXO4pCSH4S/aK8g2DtIYVCoVAony9VbkghH5eTTGLlTR1MHvNknSP5LbSLu9xN5Q0phtOYtdvm8Hc3q3dj/rfFh0ksKd8cwWXyoi4zm//Xjb9RhXzUOv6P+etEMAmB2IUcZRbwdguz5jOZv34ezPv+9sQBKdxUjvt7aSkhRjN5z7BpTUi9ySyr2IXOfqwZR5dljOv9BEGYoihjikN2Mf0V2jMLLiXxN5ZUIC6N7K73e4zr4hEVu6zV7GcxRyLYzTVcJvP+poqTCNi07fPPIubsMz7Mlgr/1Bmrwb+8jd976ROHBL/ohhSRcNg/Aj2RQqFQKBRKDWEPwc6FKjSURE3KlaEwOx1ZXGXo6aq+u7mHm4/0tCIo6WlDtarRO2ncSEUp8p+fw5Zla+CW2hrjB1lDLf85Lv13DHfSBmDrvYOYWdUtK+y0b0oB5HSrioOYNLLT4fmZSMuXhZa+JoT3jrCHY6dkA5qVzCv8K1R475nqU5d+ff5Q5ZBCoVAolC8F5iWOfT0Ak072hHvkLow3kSeGJYg7NhNWLrcx8cgNHBplwndL+WKhaw4pFAqFQvlS4KjDsFkT8sUPp9z+w0l209Cx3diw6xqg5oivOjTmu6N80dCRQwqFQqFQviCY/HBcOOAO7zv3cO3MC2j274vuXfphuPNwOFqwZzxSvnSockihUCgUCoVCqYBOK1MoFAqFQqFQKqAjhxQKhUL5Msn2g/u+m0iBEXpPHwd7zaqudKsDJIVVGAGv1VvhXdQdi5aOQ6sqr5cTRSnx3hP7biZAznY05g20QJ2l5EPKiEcG/NzdcTOFC+j3xvRJ9tAsfYnL204iSOikco6qEVp37Ile7Y3ozuP6gFUOKRQKhUL5EijLS2TisgRn41XrvLzq8U44LBLC4vpvYdrx7Gty3t7bcwzfno8omvfiJYl6lJFoYpmTLk15aeGdP8kaVXlGpQ0zbJUPk/ruoYuUOoBOK1MoFArly4Abj5vrl+FYVKHAoJ6oQTiyrUZj8/qFmLtqMUZVdc5gbflQ6a9H9CashMeRA9gyqyeUEI2Lyxdh+fk4/rV8lDqDKocUCoVC+fxhchDi/idm/fNCjCLBRX52QZX3LDOFBSjgSlBDpAqHpVJYckboOe8fbPxxECxFzpOWgls5bPZQ6gwp74WWJl7cAmTnS+WbSCTLR7x8paGRbW+MGDURs9Zvxw7eeYxB2Lv9Kl6U8e0pdQNVDikUCoXymVOEpJvbMH+BG17iPpZ01YWCYjNMPhwqsC9GVqAnfhliB219Q7Sa+C+eZJUK7Bhwk3yxe4ETmmnoQEunB6ZsvYUkkUpQFeF4xQnsWaoIK8kLkxWViPtZ8Eoi6pPw79hwnJzTG9o6/fDHbfYWaPaWkzNYNqI9GhsaocXw5Tjun8j3XiTi4sWm7z4O/DISTVV00FjHHB3GrcCxgAzRSlxJKFxHWJLnW2LKsSjiRox8KtIwDfsve7xN85RDCMkvl28NkTND968687/fvImHMUX875Q6gSqHFAqFQvm8YXKRWtAIxqrsD2tM/PsAjh5Zj8n25Qc+/4dZ4/5FomUX9DABXnqtwtJTL8AbjCoJg9usSZh3ABhz0BOHZqvh5E8zsOjkS769MFWF01qDZ81HTFgieY3Y01swY98jFBaqw1BXhRgFwHXufPxzKRowaY/2ir7YuuaywL0IxMWLl76v8d2mx9Ce8CNWLuyKvDP/YFLfn3Ek6jXv8bcUI9F7B366mAglp5/w6yhLyEkln0pp9liB309Fi0mzNCjAsJkNjHjf45GSWcL7RqkbqHJIoVAolM8bjh7aODnCthH7Qwe2vYdi1Kjh6GOjy7MG2mOuJ1Fstm7DtkV9yO90hMWk4Q0YFAVexFaiDKHNcLiMG4YJM5zRBzE4fsQXMZUHD6sKx1qdZ82nqrCqwgfbdyRi7pmniHz2DwZbKqEo7CZcb6UAalPgfuMiPD3P48LOUQL3IqgyXmp47XcGm9n0GfwPq7f+iZ//2Yqts1uBaIjYe/UlhMf3mIzb2Lr0MPLgiF9+GY5m8pBSPh3wwykvkuZNWDvTgfxORGBKbi2VQw5k5RXqblc25R2ockihUCiUL5w26G7XmKgbCtBqbMAzSX6VhlyiGmXGRII3+Zx4DMunTsb/FrsimP0dnILMGs2MVhVWVWRD2eUXLB7UEqYtW8BEqextnPo7oquJEvmiADVN4dFJaSlFTmIswtmvju1ho0FULY4OWnZuSwzy8eB+BFJZOx5ROLtuFTZGA1Y//IyZDtokDdLKxxadbFj3yjC0tOKZxAbFgJ0grzlcpMVEIZb3XQ/aanK8b5S6gSqHFAqFQqFIwqwfXObNx/zF63Hsni/ue46G1QcZtrKGU5dmRK0SgYI85D7YGX/y0NDSghKKkBAaiaSiSsOmH1o+TDoC7zzif2/eDi2NFfnfKXUCVQ4pFAqF8vnDkYOCOqtAZCAqKQcMu9M3q/KausrIQl3PALzxvfBcyFu2hb29Pe/T3s4EaqIUM1Hh5NRms4QxLAyEVUNZaBiaogX79dpDBPKG5xhwS4pZk6oRGS/uW7+eRSDmNVH4mAyEPvAnBopoaWsKbdaOhyl6zfoZy3rpo/DSBvx9/AVKaiKfWlKal47kpCg88dyGta4hxMQQXy0YDntlehJ2XUKVQwqFQqF8/sjqwbITu33hOfYv+Abjhjph4flXfLsq4UDFfigWEYUI6bswx+UnbHX3gOv6nzB+0XmhKVchRIVzXaRLKTFAYy0FwXcWDpTtBmJ6RZwWYuUf0zF6xn8C+yoQGa+0t35F7MKvP/yJdcsW43dW6VIbgx9HtiQq4ls46h0w9fdv0RYxOLFwE7xii6ovn1qSsHo4LM1boavLBtwpVISF8zL8Pa455AX2lLqBKocUCoVC+QLQR7f/zYCTCVF34u7jcmoLdG9RviFFDMptMHXXXqxztkXq1X+xaPpULPBMh12PplATOHkXEeFYiXZZY9g4bV6LOV01EXt1D9ZeUsawmf0EllVRRbyU22H2ITesdzaB34F/sHTNaWT2WIjd5/7CRKvKk9my0Oo+FX/NaQ/keeCP1RcQq1Bd+dQFurDr74Jfdp7BpW3fVPOqQYo00LuVKRQKhfLFwBRmIyUb0NTXrOadvGUozE5HFlcZerqqkLT9oebhVANuPtLTiqCkpw1VKRcfVh0vQfoKFaBVozhXTz6UTxuqHFIoFAqFQqFQKqDTyhQKhUKhUCiUCqhySKFQKBQKhUKpgCqHFAqFQqFQKJQKqHJIoVAoFAqFQqmAKocUCoVCoVAolAqockihUCgUCoVCqYAqhxQKhUKhUCiUCqhySKFQKBQKhUKpgCqHFAqFQqFQKJQKqHJIoVAoFAqFQqmAKocUCoVCoVAolAqockihUCgUCoVCqYAqhxQKhUKhUCiUCqhySKFQKBQKhUKpgCqHFAqFQqFQKJQKqHJIoVAoFAqFQqmAKocUCoVCoVAolAqockihUCgUCoVCqYAqhxQKhUKhUCiUCqhySKFQKBQKhUKpgCqHFAqFQqFQKJQKqHJIoVAoFAqFQqmAKocUCoVCoVAolAqockihUCgUCoVCqYAqhxQKhUKhUCiUCqhySKFQKBQKhUKpgMMQBN/rhnQfrFnigSjBz3fRgePCb2F4diM8otTI99/hbKMssPtEeB2Hh5cvwedRIKIySqFm2BId+jphcFcrqMsK3FQFNxWP3bZh34MsWDr/jsWO+gILPtys57h76Sp8A8MRW6wDa2tbdB40EN3MVAUuaoFEuddE1inwWfNX3eZVaRg8vt8En2IbOK+aD0fdykJ9jTCPv7DJJw9WPBmi7uNQmXLZKThi4RZn2EjK588ZbhqCLnnjgu8zUv4tq8ijT5FSko1bscQjDAqOC7HF2Qa1jjUtF5UoRPrLGKQxOrCy1IUCa9SgZFSGovRYvEwDdK3MoKvAEZhXpo7L0oeSUVE6Xr5MB6NrDktdJWJQD3WiPqgP+UjqZyrb4w6t65WgI4fCcBPgs2cz9l98TDrGItYAeYmBuOm+A7tvxpJfVUEazRf3cHzDaux9kAKR2nZuAI6s3QKPm4FIkm+GThbAS7/LOLR+H64lFAocUSgfl5IX1+B69gGi8vVh79ga+opVdaCUL46sJ3BfvQGbjgcjV2DUsMjAY/eN2LjpFIJzywRmnwulyHrsgdUbt+N4cI7AjEKpOfWoHLKjVZuxZ88eoc8/cLYxRafvVmDVqp8w1Ip9uxEFF1n+Hlg+dx7W+KQIzOobBoVhN3A6NA9Qc8DUVduxZ+daLOxvCg7y8eK8L16UCJy+QzoebF+KJesO4mpUvsCsMsVIuHcRdzNKINN0HH77Yz6mzV2I73o0Jm97YTh/6yVEel0jqpL7JzZCKzU6UpQXyTBZT+G+fD5mrPEhOUYRTSlyUpJRQL4pdByOKc79YaNG3x8pAkq5KK785qvVCd+tWoVVK4bC6pMfbSkDt1gapVCWJGsKaXNWYcVQq9qPttWRjCS1YaXcUtEDExTJfKA8akjILicIvtcNr1/B93oQsqAM8y69YKsnL7AoJw2+W1Zg84knKG7ejdjL4nXCM1w7fRKeR91x+PQdhMbFIfzhK+gM+RqDWxug9NEOLFh1AJfzmmKgrR5k2GHoBavgdjkPTQfaQo8Jg8f8pdh2IRu6hhHYvy4Q+v2IeWEcHp47ioP7XHHY+y5Ck4qhYWoGfWVRuc9FRuwLJGfkQ85hDJzb6YAjowRtmXhcefAKpSWNYNm9E8yVK3eWeYi8eR8ZzUdg+oweUPJ9glelstC27YXu5oLpYiYZj45fQEi2HKwGjcZAS9ZcCToGhjDp8BXG9zCHUm37YIlyZ6cYthA5/odQJSOoPPOCq7snLvolQc7EEJzg8/jP/TCOXXyKBI4BmltqQ56oCa98byMoSwFGFqqIPLMX/x6+iqBkGRg2N4OWPDuqVEby7zHOHTmIfXv/g/e9MCQVqsPUUh98UeUj5u4pHNy5B4evhyCDmOWHv0BSqR5s+zoQeZKox9zDiYN7sJv4HZzBQDY/Gs+TuAIZvqlUXjLhs+YXrHILg1LTRgg7644DB7xwN/o1NCyt0ITN29fxeHLtDLw8j8Lt8BncCY1DQvhThOkMxPTBtjDSUn63wS+Xnaw5ujiRckPiyM0Kw40Tx3CELZOe5+Dj9xKZco1hZaoJvDiBX3/djOMXk9HEsR0MFTgoCTuCRUs9kGrugDb68uJlwk5pvFdem4MTchlHDrrC1c0TZ3yeIiZPHZbWTQRyrESFH5nQMonFybVbcMD7CRIVTdCSl3cEdolEleWfnb7/A0u3XUeerjKC97vCv5CL537+iMsqAlNciPy0MujYGEMlLwq+Xm7YtfsAPC/ck+hPkL49moT8W82y9j7i8uB99wzJxoe4HpQOWfMucGLbidIcRPuewaFdu+HqeRH3QpNRqGEMS30VwVsxF7nRvvA6tBe7XY/hQuV8eq9cFCLh2nYsXe0O33wzdLbVQS6vTlXdNmlHeGD+0m24kKsJk+hTWLvpALwfJ0PRrDkstXgTs+9RmiudvHO11BB9chs2HfDG40QFmLU0l6pOloYJ4pSnBcNgN6wL0kM/EveyKuWtgEg2zP2PSPtCyArCde/LCFWzR3f1AGxZshkn7hSjOdsWs/6LjT+7VEVC/ZWEyPrDhl2AhIcXSB3ai72Hz72T3wwvzQfgn1VKPEhH0PXz8A5VQ5fujREjovwaPXfFks3HcKe4OT9fSVtYld8yJc9x/Nel2HL8PvKadiZtFMnXEhLHRcvgntcMjgbh2C4so0xBGQlVQFON5zhL6vyBU76IFq7v1WnDePL4Dfv9WXWklGTPTXh7R0KtSwc0Tn3MrxNGRP6RF7F3/xFc9k8Bx7Dp2/Intp0QhRhZvJO/cnjmeQjuxy7BL0EOJmYMgk97wN3jOK8tqIhDRT0zgIX+S5zZvpP0FUFIfqdtEBcmi6R+5rV4+8L775bjus6jBghfrh+TggAcWbMbp+7lwXrsD1j2w3CYpPkjMKUY8jrlayekpCwIZz18kFhE3p+4sbi2YxP2XwwHp81gTBzRDgqhZ7F901k8LxT1fiUP/Y7jMHfpX/jtK1OBYAoQHfwCxexXLXOYaovKanW0/t/v+H1qX9joNRKYVaIwDTEJrC+qMNZhEP34Kk4dOQZv/xyo6WpDmvaw7uAi+dIpXMtRga4KUYijfHFkyxrsvJYMJQ1FFGVE4sGxI7gey0u1gEzS2N9Hcavu6GpShKgHJ7H//HOwk+HchBvYsXo/LgbLoM2IcRjRXgGhZ3dh06lwnn1J9DXsdb+O0Ew1tOhkA9WwR3gm7HVJNC7v9cDN0CyotbCHnepL3HsmzbRIPG64eSGkTAOaCm+QGHgJbleiUIIc+B/Zhj2nHiHHejR+WrYAI00ycD8wCcXyum/XSomjMByn1m+H590EqLT7ChNHOkA7Iwg33XbjRFAe5M3t0FGTlBBuNEKj2XG2QsSFP0eBcku0a6YqUSYVCJXXsnjyzPYz8IcthjtPwIg2Coi44oodF1+KWc5A4Prj1KloaNvbwZSTCL9jB3E6LL8a5T8PQWdP4mZiIZjMaDyO4su+LDkQt25HI7cwGhe2bYb7zRiodhqKsX2Nkf3oNLZvOIGgXLajLeetP2+pSVkTICEPJEM6gwu7sNb9BqJUO2Dk2F4wyvbD2e3bcCQom9gzKIq5jG1r3XEzSgWdRo5CX6McPCL5tOFIgIhp01LkBnlh+/EwoNlIzB7bGioCG2ngPj2HUy81YN/eBJzkxzi28xzCRLVDRdLKOxdPT13CS+3WaG8qi2S/49h5ml++pC1/ZUHn4XEzFuwCGvHyfg11y07oZWfAbxfVrODg2JO8BIlom6WOf1X1txoIt/ckZQnX9mL1/osI5thhxMShaK8QTvL7X5x6XgCOuiV69rKDAS8BGrBy6AXHNvpQZH/yEFV+yxHvN+SN0LqtDnGXgYDwZKKak6jFhSOgQAOtWzQR+eLDI+Um3I4Go0xbEwr5CQi8chJXXrDtSTXbMA5RWHp2h50BaypDsqcjHCstCSkmL0neyUpookViSeqh59EHSGbFVu1+UoIsKojBpWN3kKOpDZXidNJnHMOWv3fjWoY8NOSLeHE45noTscIDucUP4XWjEK36dIZJfhQeeB7GeZ6fksMU388wkvuhqqirPGqA1KNymAGfTQswY8YMwedXeIS9Fti9pTQ2DM/YQmjRBb3bW8DIsiMGdLckNml4FJRAmuRqwM1Bvm5/zPp5EAyf38K5F6ST1OuFic6D0bvfSIzrbwYmzRdX/DMFD4iCA1lZVizFSH98Aq7XEsh3NbR06gRTkdJqBF19dfFvCAXZSOe1enkI9FiPNXvJm9PN67h4cj/W/bEdl2Lel0vNkST3MhRZD8HsaZMxY8pAGBETprAZRiycg2lzZ2CEGVukC5BXIKySKKLpaBc49x8E529HoaVMCdLuByGuNA9h16/jRZEs9PqMg7NTX/QbMxr9iadp12/CP7cAr/z8kMpwoNxtAqaPHIyRLkNhKyTH0lfPcCeVCEe5M5ynj8agkRMw3FaabrcEan1n4udvZ2D+pI6kAWZQEJeCnNJEhD5jxzcs0a13O5gZWaHTgK6wIOnOexSMGGkKVJkyLAaMxUSXqfjfOCf0dhqLUV20iUUekjKILOWN0bZjY/I7E8+C4lFSlowQvxTI2djAUilfgkyEWsOK8joAmtFhSCByUtBsAiubNug+biZ++n4hvu1lBDmBc5GUaaH7N99hsvM0TBlsTgxScO8xUerCpC3/xcjIN4TTrJkYNmYqljvb8EzZBew7t0+AKalHV2OI+qDZDeMmDkH/keMw2EYZTMY9eN1L4HWEfN7681XF9H9NypoASXkgiYIIXLsaTWKgj57jxsKp/0g4D7aBDJOMu14PkFCWi7BrtxFTJgPNnqMx0WkgRjo7wYaU7Yy7F3GP9zL3lpL4m9i95xYyFNvj62mOMBKbKe9TptQF38ybAucZkzHYiKgLOc/wmNfJCFOGApJv0smbgVL3bzBv8iSBbMuQc88PL4ol1cm3PnAziqDr9B1+/soSMmLlXQqjziMxoW8Lflls7EBeYMZhkI0G+0uI6sS/ivorsJWKivrjBKviF7h+LowoukboM3EcnHoPwJhxfWDEJOD6lSDkG3XGuAl90YKXAEM4DJ8A50E2pGUvR1T5FVAo3u9cENnZtiB/y5DlF4r4smLEh4QgS/CyWCUFuug7j9Txb2dhUidWljmISyF1trptmIwROo8bg74t2NTIkewZBudKS0JkWo7DgrnT3tbDxFRklbFLqarZT0qURTnysB4yDdO+Lm+XuCi0HIGFpN7PnTMMZqyT7DwUCOufHBuMnjYO/fuPx7fjbUldTcT9AKIDSAzzjYR+plBiP1QldZVHDRBpxFOvyBpYwIZ9w4n3w/2wRKQnBMLHN5rYqMHGUq+aw7KkIxg5EO1MlZERGQ1eF5J2Aatns0rSHKzwekkMChAenSpB6cxH9DVXbNjniwxGCYY9JuCb7hI6aXEoKEGFJ+kSFGj1xo/rd2Dn+oVwMiPvrUVhOO0dKGKkov6QUVMB2/xxFJV4/yGjDg1VVtKykBOZSFUYEwWYh4YOGrNu8uORkJGEyBC2gnCRdnENZrPK6Hd/wSuBKHtlsYhOSEdKPNvcy6OJaWN+WCoa0K4IoxS5KUkkRwhNTNBEiX3TbQQN7UqNs0jUYG6kRVR5olApKpK/AmT1YGnDNpJxeHQ/DMnpcQj0uY+XxIWijQUMpClQyqZoa2cEhaxnOLl9PVb/8Ts2+2QILFmUYd7WDppsh+YfgpcJLxCU1ght7JtCpSxVgkyERybKy6su9C2bwYhDGha/I1j9+6/4cf4f2HnuLsLSJb3eqkFLnVWy5GFgZsZ7Wy1Oikeo1OWfVY6GYkg7M2gqVG4OipD4Ipo0rQQdXWjxhkBUoNOYHSEvRlJkIqkp5Yj2p/plTYDEPBBPaWIkQngjH1rQ02LHh2RJ0dXm1WEm6SXicpLwIoQdQZSDjp4GkR6hvGwzKYiMExqdLAvD2YNniMJF/CvKRFqe2LFc0ahrQp31m6MDs2ZsXSogSldl5bB68lbXUuWlh2Nghma8jE9HRrakOilU/jS7YuQQe5hqkvpTS3nzqU78q6i/1aK8/mhBLonk92s2v+NxcfX3vBfj71Z4gX21LwuPRoLEzrrqelDGliWxfnOg1Kwt2iuTVKQGIzQxDqFPk6Hcvi2a8dq0KpA3hBFv+Y8cFBsJVYa6aMMqIddYB6xqU1EPeZD8qmY/KVkWPGcEBaipsIVSBopK/BBltDRIT0KQlRPdl8o3hr4Wa1NeVxnkRyciQ2KY+RL6GUn2YviAefSpUY/KYeWNEVVsitDqiPHj7aBYHAefvSuxZIUr/NACvV3mYUpnXYEjaSnvCIQwcMTUhQuxUOgzt5dx1QkvSsRD903Y6PkUGaTxsXf+AT+TN1tdaQpSVajqwUiDDVERll0dYK0uD1l1a/Toxo6QVq5UtUVKudcpRDFxnPyOjBcunIpexnISF4DX/SJqXTiMH4GWikVI9tmHZUtWYo8fA9veLlg0xYGUECng7SzfjEPeAXhj5IDB00hZdNAUWPKpmFrODsStK08Ry7FAK8u34xBVy0S4fL4tr3JmAzBn7mh0b20ENV5/Iph6qWr6UVokln8h5ahW1JU/AqTIgw8GNwWxGWawb03CZ17h6rUw/gvNJ40U5a9CgSN8SvKWGhHtPYzhOHX+u+me2wvGEns6acqvGL+VzNGuPTvSmoiA23cRkKiG9u3MhRSx6lAHbVh1qW4/WWM514aqwpS00ahUyo1I1eEj5NEHpl6zUhq4CT44cCwQZZ3+h5Ub/yXKzDb8s3QOJnY3x3sqDZfLe5Ph5mZLGGlTgL6FKb9ivpGBhkUL2Ng0hyk3DOcv3UFwmvDozVu46QE4sXk99t+JB8esN6b+8Qu+c3w3HkxeAsLDwhAW9grp723dqwKZJmjdgZ2G5CI1LpX/pkZSEE/ezFhkWljC6JN+03iD1PJRjqwUxLNT5KrGMNLRh4U1+z5aSlxowcLGhsjZENyQq7h0OwRpRarQN2HtixEblUTcEPJzkFVRT0ne6Bvw127FvkT8G1aeb5CTxVsFVTO4sbh+4BRCyzrAZeUm7N6zG9v/WYI5E7vBTOTOjsqUITf0HnwzSCJNe2PsyB6wNSNKX2Gl0aKKqeVkPH4YBbRoi5bsmlQZXQkyEVVmSpAdG434Al10n/IbNuzejg1/zYSjDnkjyUlCSr64hi0PWbns6GIJkmNiiKQ5ULW0RMsalP/3UYRhM0u+P8lJSGPznahFGalsTiqgSVND/khAnSNlHohB1rApWvFGbdKRyEtvKXIyMkkNBDhNLGCi0QTNWrHKD5FbYib5S8jJQCrPgT6amggp+hwj9J71LaYO7wkjDoPCx7fwOK1SXCS1Taw5+wiTgZgXrAstWBoJRuMrqI68iYyy8nnpYZJj8IItAlLVSVHlr/by5lMX5aUUeQkvSPtK2tjodFKepUNG3xzWvPwmgWqYkzSTdJtyEXL+Mm4Hp5JXrZojnd+qaNauJekrihDl44uoRhKmlMVR6zZMWqrfT9annMHNREYOrxaRbiaVhMC2ZYbQkRimpH5GTYJ9DfhgefTxqM14WB1QhryXoYgkDRbzyB0bSgJgqU7e3eTV0LhxY+g3tUFLIzWokjdcVkF7/egk9jD3URAZiUKx8peBSuu+GNYsCJ4vbmPfljzYN3mD8EchSJZpj+6T2emMyrzGiytHcUVwHE1RzE24riAf3i8WUwz97Wd8VXAL2zf5kGImODxT7hncdl9HEuuEKQC7fI4txHGX92DNQ3ZYXQ1txk7FoIGj0ePpHty5uRurM9rCrCQaz8IyeB1P3wG2qNxN1Bz+mkMfwS8+7GjiEgwQ/KouHFVZxHrug1tua+DZDUQyCjDs0RamshqQHdQfzfyP48Wtg9jyxhZN3kThUWASZNp0xGQddSi3s4WGzw3kPPLAVgRAM+MV4tmt2TwxcyBv0QYdNW7BJ+cx3LeSCq+ZjRfxtRgpy4tFUCTxnCH+bXiDQEtNUsgVoNZYD3r6VmjV0hhqEhRxWSUl8gTpG+N8ce4CB6bZwfB9L06CqeWrycgmrk1bWwjeFjXQWqxMSJV7r1HikLbmOva7BZJi1gkDOptDPjMYQZlcyFjYooXIjVDlxOPS3l3ItW2EuPuvyO/G6NDaGOrNJJV/abpdUo9seqG/2VN4xzyC1xE1dFKLwY2w1+DoOGJUVyPiolbdQZVIlwdiUGmOfv0t8dg7Gve9TkCrkwqiboShjGOAHqM6w0hGHbr9esLs8RnE3D+NI1qxUIu6jbAyeej0cEJXIxJ6+VkU8s3Qlihc8rIO6GtzDW6h4Th/9Tk6O9tI3zalXcXebVmwVU7AfXaKV6MVWpvwumUhqiNvLtIu7cO2XKKQxD1FArHR6NAKJqROykkqf2kCL4SQRt4cFTWw6nRq9AXs3x8Hk+a9ML4F346PNPGXdMBHEeJvuWITO6Vt5YxVix0h1fyRig0GDbOBv2cobu3bgTf2BngT7ofAZEW06W4MHbbB5zSCmiZJf+oLeO93RaKJDbqPb89/XhzS+E1qFH9q+S7ukrd/iVPK4qhRGyYHFTX2NTsD0d4HsT/RCs27O+Gd7HmPGvSTEmVRU41LDqoqUfDceRi57Ug3czEMDMcUPeyNIasiIyFMZaiK7WeUYSHWvgbUQT/zqSNWxap/ZKDVrh/6G5FGkslD7FNf+Pj4wOeqNzz/249tf27B2ehCKNkMxDe9m5NCkIfUdEV0cBkNe0lqrZwp+s2Zj8kD2kAr9Rl8fGOgYOuEaYu/QWepFhtURgVqorYVc/ORFBWFKPYTnYw8XnvKoDgjjm8WFYfMIlJh1NvA+dcfMImkQzHhGR7Fy8HCfiBcFi/AKOvq7Hv80CjDZtT3+HmSNXIf+eBxvgHsnf6HmYObgp3QkTPqgzmLJmNAew2kProD35fysHWahsVTHKDNIQ2mzRDMGt8FpqoFiIvMhk7/EeijLyR/pRYYMWscHEwbIT8uBmk6pMPpYyywrAFadhjU35xUUy6pv/64y5Ynnyvw9vwPrtv+wZqzkez7pxjYBnMwpgxoBR25RDy6/hCxOv3hMsCU2DEoLCyumAaXt2iHLnpsWozQ3qZxRUMqXiYCR+8gB93uk7Fo8gC0lo/EZU9PnHtWAGPHSfh5jqNgh2VVWKJvHyOk+AUiljGE/fj/YYSNat2Vf0VLDF34I1x6W6Ek4AKOX09C426jMffHMbCVeGVQTZE+D6pGGWZD5+BXl75oXhKI08dvIaFxZ4yaOw8TbVkVhwNFMycs/HUyejcvRsBpL1xP0EW3UTPx48Q2Vbys6aLDwM5E/S9Dzu0reJBWKn3bZNEDfUwy4fc0DoxBR4yfNQQ2opQHqeWtAIu+PWCSEoSnsaUwsB+LWSNa8EaBql/+pJO3jEk3fD28M6y03yDqWShi80WMLNZheeEoyFVjzbkSjPpNJ3VoINprpeKRz0O8VGgFp2nzMaWzHr9uyhijx9fD4GClgaKoQATF5vFGXiUjhd8sFVPL2rWYUibUqA1TgEmPURju0BTaRS95G+VEZc97VLudkFIW1UWmJUb9RPpH63xS/vyRb9wBTt9OxWBL9tVLUpiS+hkp+qHqUut+5tOn7q/Pqw5MCu5uWQu3Fy0wY800dCB9WnFeNnKLMuF/eAc8Q0th4/I7FnbXEzxAoYiDi/S7u7HCLRqtZ/yG7zposQUKGblvkOd/FGs9g1Fq44LVC7sLRvlqSwYe7Pgbrkm98dufQ6vYzV5PVL7+qUFccfflwZ4p+D0701CdUTCxVL5e8t0rOj8P8kka9+GJ7RRMsmWnA78kPnQbRqk+X0YefdyRQ+YNsjIKiaxf4cFVX/iHRSAqPgnx4UEITykmb6HN0bEFrQIUaSlFQVY2itmjCx744K5/CMKi4pEaH4Fn4SnEVg02HZvxpsZqRekr+Bw6DI/dO/FfABfN+nWEyUceg6dQPheYND9cLeiG4V+cYsjygdowSi34MvKo7m9IqQ4cdZg0N0Qjbg7iQ+/j6rVbuP/AH9FZpVBv2h3DXYajs0GNB+cpXxxy0DSxRJNGXOTGh+D+1eu4df8hnkZnolS9KXoNn4jRnQ3Brq2qFUwS7u33xL03WrDpMQbfDGgmOKroA8KkI+jSA7yquAGAaqefIkx6EC6xNyxp26KvqE121aYE6UG38eBV8bu3MH02lOFNPgemdtZorPQljoZ/oDaMUgu+jDz6uNPKFAqFQqFQKJRPCjrcQKFQKBQKhUKpgCqHFAqFQqFQKJQKqHJIoVAoFAqFQqmAKocUCoVCoVAolAoa4IaUMhSlx+JlGqBrZQZdhRofu0mpNpXPWAN81vwFjyg1OC78vR7vcK7DPC9Kx8uX6WB0zWGpK9gJn+6DNUs8EKXgiIVbnGFTV5skRYUlifqKiwQqzuMrv/lHN12Qt0I3qSjowKxFS9h374/ebQ14h6BXBZfdpXvmInyfRSHDZGIdnfFXQz5kntcppSSaW7HEIwwKjguxxdmmGodCV43EsxffOUNzDloH76jzOLzHJ5Efn9oZkjXIf6nkWIj0lzFIY3RgZan7gXfVSht2Sj30LW/lKZJPui348DTAkcMMPHbfiI2bTiE4tzaXI1IaDnWV56XIeuyB1Ru343hwjsCsvviQYX0gijMQE3gHXv+uxdZrsaj6AoYC3lWUZx9GId+gHRzb6ItVJOuXzzAfKJTakPUE7qs3YNPxYNH3gNcnHzNsSrVogMphGbjFVCn8NNBBp+9WYNWqnzDUqubnUTJZT+G+fD5mrPGp4ubVusvzUm6pFFev1Q0fMqz6hB212LlnD/ZsW46pnfXBQT5enPDC3bSq1MN8pMSxipgmOg7/Bs6DbKDGt/gofC758HGQgVanKaSOr8KKoVa1GDXkIsvfA8vnzsManxSB2aeGEqyGTIKThS26tdYRmH1MZKWSveT2sxKlXBR/rAohddh107dUCTtKuJO0aWy7Vv7ZTkcNhanjQ7Bf48Xxv/DrlqO4kdcUfW31SIEuQJjHCix1z0ILx5bQkS1AwsMLOHJwL/YePod7ocko1DCGpb5KhabKzQrDjRPHcOToYXheD0LSGyXomxhAJfII5i89AP+sUuIqHUHXz8M7VA1deIfLcpEb7QuvQ3ux2/UYLtwLQ1KhOkwt9cGeD8xOpcxfug0X8rRgGOyGdUF66EfiJ0o7rip8dXl2OlN8OLwpmflLse1CNnQNI7B/XSD0+1kh/egfWLrtOvJ0lRG83xVB+p1gq1csXhbcNARdOIaDB1zh5nkOPn6vkKdhDusmrD07BcL3M1dLDdEnt2HTAW88TlSAWUtzaEmMKzvEvgULVu7xOooAAHjBSURBVP2HUCVjaISdJ+G44dTdKKEwyvA65h5OHNyD3YevIjiDgWx+NJ4ncQUH8L6B75YV2HziCYqbdyPpyYTPml+wyi0MSk0bIeysOw4cIEpE9GtoWFqhCXs39et4PLl2Bl6eR+F2+AzuhMYhIfwpwnQGYvpgWxhpKb/TCPLzrYo8L81BtO8ZHNq1G66eF0WWpQp4+fIb9vuzzWcpsoJuwts7EmpdOsEcsfAl+ZwlawAL/Vc4v3cf3C8HIJljgOaW2pDneSC53FYgLixSSEpzo+Dr5YZduw/A88I9hCYVQ8PUDPo8+bwSxMUcXZxsoSdTiIRr27F0tTt8883Q2bYxFNh8SXiMc0cOYt/e/+BduQyyU0sLVsEtVAFNNZ7j7EFXHDjli+g8dVhaN+G7qUTFYc0oP1T7NV753kYQkbuseRc4sXVFTg3G1lpIu+OH+OIcUpbbobuleqX7VEmZfnAOFx+/QlZxKYoLc5FWpgvrvHP4/r36p4V8cXVJOB0qQfB0dcOxi0+RINcEZpxQnP7vMDyOXYJfAgeGzc0EZV6ID5nn5byOw8NzR3FwnysOe999N295U2Xl9UMOzzwPwZ0XfzmYmDEIPu0Bd4/juOiXBI5hU1hqyZPi8BDXg9Iha0T8iPTG9n89yO9Ugb1gUk5smKz9K9w9cRA7d5NngzMgI5uN8OcpQgdz5yPm7ikcJJ3l4eshyCCJyw9/gSTeAesdof5sD5ZsPoY7xc0x0FYbmdK0GwnPcO30SXgedcfh03cQGheH8IevoDPkawxubQQt5Ur32r5X7oXbYeIHr/17iUy5xrAy1QR5O8Gvv27G8YvJaOLYDoYKHJSEHcGipR5INXdAG30iO3F1RGQ7bQfdVD/chgOGt9Xh57HYNrgyyfBZ+ytWHTqPp/J26NVUA0ysN37/aQOOXkqHSZ+2MJDPwZPdS7H8v0w07UvSKbY/LEWm724h2ZM6KKn9VEzFgyrLtRIi2T5j/yNksdHNCsJ178sIVbMXcZi6cP9gBJVnXnB19+SVTTkTQ3CCz+M/98P8+ihUZ6rOMwUxYctU9GVv+0dz5Hr887Zv0UrEpdW/Y637WdzOs0RPUg5fPzmAn5YfRFAjWziQduj9/KgMU1GfSKNWUc4qI7Z9Fup33+3L+S3G54RkeVYLZZi3toEKyYSCgHDEsYM9ZckID8iCcuvmMJFnO7q9WL3/IoI5dhgxcSjaK4Tj7PZ/cep5Ad+L3AAcWbsdnndCkanZCm000/HIew9W7/FFuhopFL3sYMCLtQasHHoJpqwYFMVcxra17rgZpYJOI0ehr1EOHp3dhQ1HAt4Zvi4LOg+Pm7EoEvx+D3HhM9KHQwLCWQ8fJBYJvyblIejsSdxMLCTfJcmCdLLX9mP72WDAdgicJw5GG/lIXNm1Hxdj2OfLycXTU5fwUrs12pvKItnvOHaeDie+SxtXLlJuHMHRkBJoa8ojPzEAV9yu4wV7a3hJNC7v9cDN0CyotbCHnepL3HsmzdRcPG64eSGkTAOaCm+QGHgJbleiUIIc+B/Zhj2nHiHHejR+WrYAI00ycD8wCcXyuiLXoHDUq8rz14i5sIs0FjcQpdoBI8f2glG2H5HfNhwJyuY9+w4cohj17A47AzYEGahZdYSjY2voKwopFMUPcdI7DmpNtICMSDzwPIV7yawgpCi3wogLqygaF7ZthvvNGKh2GoqxfY2R/eg0tm84gaBcVgEWphS5QV7YfjwMaDYSs8e2JnWL5FjCDexYTcpBsAzajBiHEe0VEEryddMpNt+FSLkJt6PBKNPWhEJ+AgKvnMSVFyLiWx1ULGBnw3YkpHzGpL0bHg/2hSQYUXls5S9GcuBd3I7OrRi5e1v/qlGXkq/j2LV0aOqqoJjNlyNb8ffO68hQUoV8UTqiHpyA6/VYopJU4kPmOQs3Ftd2bML+i+HgtBmMiSPaQSH0LLZvOovnhcLtQAwuHbuDHE1tqBSz8T+GLX/vxrUMeWjIFyEjyhfHXG8iVihBxb7ncYMoCH26GiOf2Hvuv8T3U2KYbxB92Z2UN9KeqTVHJzslhN0LJTnzlpLoa9jrfh2hmWpo0ckGqmGP8EzYgUjEtBsFpA1dsxun7uXBeuwPWPbDcJik+SMwpRjyOlKuvy0Mx6n1pB2+mwCVdl9h4kgHaGcE4abbbpwIyoO8uR06apJGgRuN0Gg2PwoRF/4cBcot0a6ZqvR15J12ugzFSq0wqo8Z+KqrtG1wOTpo0d6MvCyVICkygbT2XGRGRyGNtSpJQFwaEU5hHELDCqDcrjUspOkP36Ea7afIcs1A3bITetkZ8Dt+NSs4OPYkirS4/OAi+dIpXMtRga4Kl1c2j2xZg53XkqGkoYgi1u9jR3A9lhQYsXn2WoqwhfvHSsiZwnFkN9IDlCHn9nn4vHqOW+efociwL8b0MBLkVx0gdfssJq6fCbx8qkvkLVqjnTJpfLNCEBJfjLL4UPhlaaB9O3MoFb7A9XNhpGMwQp+J4+DUewDGjOsDIyYB168EkQ6BVMZ7F3E3owQcs+H44cfv8C35DNKTRVHoXTzj2GPchL5owSsJhnAYPkEwZZWLsGu3EVMmA82eozHRaSBGOjvBRqYEGXcv4l7C25aOm1EEXafv8PNXliKG6cWH/yQxXepwwM1Bvm5/zPrZCVYVARUjI98QTrNm4ivDOAmyyMKLgHjShSpC09ASNnY9MW7OQny/+H/o1aSiCSAwUOr+DeZNnoQZUwYS30jlueeHF8U5Usa1DAVqfTHvZ5LW+c7oxL4AFSQjJacUpa+e4U4qadCUO8N5+mgMGjkBw21Z9UQSJVDrOxM/fzsD8yd1JG+U5GUhLgU5pYkIfca+N1qiW+92MDOyQqcBXWFB4pD3KBgxlXUjgoxRZ9F5XhCBa1ejyZP66DluLJz6j4TzYBvIMMm46/UACZU1BRkjdB43Bn1bsBOccmjsMAzOzv1hoyZUBWRsMWHBHEyeMRmDjYggmAykZrENuqRyW4kqwyKiDbuFqzHk1USzG8ZNHIL+I8dhsI0yCeoevO4lkPS8pST+JnbvuYUMxfb4epojjHgyyEPYddIJF8lCr884ODv1Rb8xo9HfCEi7fhP+wmsyC3TRd95CfPvtLEzqxN5Tm4O4lHy+XY1RgIoav/yVpGfj/S5MGTbOC+BsxbrRgePCzdgutJD+bf3TRYS0damoGYbMnoavK/JFBpYj5mDutNmYM6IpccBFdt6bCgW0gg+Z5yT0QpK3514Q+er1wkTnwejdbyTG9TcDk+aLK/6ZAncs8rAeMg3Tvp6GKYPNyW8uCi1HYOHcGZg7ZxjMWCfZeSgQShCn6TBMcx6E/s5TML4lKS9pAQiIeyM5zNI4+N1h2xEddHN2wchBo+AyvLVQw/8Gr/z8kMpwoNxtAqaPHIyRLkNhK7FnENNuxIbhGauYWnRB7/YWMLLsiAHdLYmDNDwKSiCvPFJQpgyLAWMx0WUq/jfOCb2dxmJUF21ikYekjNdEhMZo27Ex+Z2JZ0HxKClLRohfCuRsbGCplC99HXmnnZaBsr4J9CuG1qVtg8uRR2Pr5tAj38rCwhD9JhevIuIgr6BAFMYUhLHXqyVGIuS1CmxamkjRH1aiOu2nyHLNgVHnkZjQtwVfmWrsgOHO4zDIRtwd1mUosh6C2dMmC/oX4lVhM4xYOAfTSHkdYcbKoQB5BVwJeVYqRdhC/aNVI4FZORwo2QzAeHtNEk4kzm3bi8sJymg/pAcshV/2pKXYB5tmzcCMGYLPXA+ElZIyLXX7LBzXepj2/gSQ2ARUGyVztGvPFogkPA2NQ2JoMFIFb3NlvIrBtnjxuLj6e16mfLfCCwnEpCw8GgmlOXgZlshr5OUtTGHAliI5Mwxauhl79vyKQWwhF0VpCl6EsKNFctDR0+BPCWnooDH7PJOCyLg81oSPZleMHGIPU01RS+QlhG9AGgtpw2GVlpED0c5US2g0jO0Ih2JIOzOoZ0RLkIUGLFoakSqRAT+Pdfj91x8x/7edOOcThvR3lnrJQF1LlVfhOAZmaMYGVpyOjKwkqeMqb24EPbZ+KSiiUUU9K0VuShK/829igiZKrEUjaGhLUxHUYG6kReLOIV4qkr8CZPVgyWpIiMOj+2FITo9DoM99vCQuFG0sYPC+tl4lvEaWNzKiBT0tNi9lSfK0eXJgkl4iLr+ydigFctrQ0SCR4ChAiZdePpLLLc+ZFBQh8UU0f+RCRxdavExRgU5jtiEsRlJkIipUt7IwnD14hnRwJNyiTKTlCTK9LBWRIWwHwUXaxTWYzTZs3/0FrwSi0JTFIjpB6E1W3hBGvOkOOSg2YiVTFxSjII+vuMnravJGMqtFef1TyybpkLIuyahARYk0VRX5oggtDVZmHMjK1TJddZbnJG8jo0HUFqKBXMDq2WynMwcrvF4SgwKER6cKKUUKUFNhK6oMFJX49UlGSwO8iT1ZOV4Zroy8sT4p6Szl5SWL5HWq5DBzUxHP0zIbw7QJu+NTBioaGkJh5CMlnp0NkEcT08bgxUZFA9pSiFV0u0GSYGABG7bDjvfDfdKepicEwsc3mtiowcaSXWokBcqmaGtnBIWsZzi5fT1W//E7NvtkCCxZlGHe1g6apLUu8A/By4QXCEprhDb2TaFSnToisp0uR9o2+C0yxrZwYAtxSSyJUyLiomXQsms7ojAWISYqBi+fhyNLpinaWKtXv4xVp/2solzXBBk1FV654Cgq8cuHjDo0VNnAZPFO9ZOYZ5J42z9qKohSTbTRdlBPGHEYFOflg9vsK4yyZ3WNuqIa7bPEuDZ86iFVqmjWriWpuiVIDLiL2wFJUG7fFs3eKaDGcJw6HwsXLnz7mdsLxjKiNh7IoZHy+9W2xlRkuijqMvxypUUYoY6wgqpkoQQzp+mYO6oHWhuq8RWs4gxEPfAUTBvXP3W/kF8XDuNHoKViEZJ99mHZkpXY48fAtrcLFk1xEHR+nzJV5ZXAui7hpiA2wwz2rcmbMvMKV6+FVRqlk4eB4+R347JwKnoZ1/O+4NwX8Athm0hFmFkZkNeFaiK2/n2K1CDPDRwxVdg9+cztZVwfje1bqgpT4gaAetjgp9UR48fbQbE4Dj57V2LJClf4oQV6u8zDlM5SHmjEW96zGYe8A/DGyAGDp5FnHUhdEKJiajk7ELeuPEUsxwKtLFnlqRxp6oiodrqcGrTBMo3Rog2bxlQ8u3QNz7KN0LK7HSxImS+JuItLzxLBsbRBU3Xh0iBtGfvE208p8kw8ovpHYRiUlgr1SSVFKJL6xbwSlTekVHsziqS4Nnzqob3iQKlZW7RX5oCJ8oVPlAp/SpnYyOibw5qnJJI3OA1z2NjYwMaUi5Dzl3E7OJXo7RowtWYH5YmLVwlIY0tBYSg8fppJ3qr+wSX2zU8Usvpo1oothCVITsxkfQdyMpDKvt1x9NHURLjBEIeE8JO16igcKWTBzUbsiwQUaHXDlOUbsJu8if01uzd0SGOeE5cq9AZThtws8hZFvjHJMXjBDuqoGsNI17CWcZWBhr4Bf2Qo9iXi37DCeIOcrCpXa0qGG4vrB04htKwDXFZuwu49u7H9nyWYM7EbzETtkhCDrGFTtOLJLx2JaWwzXUqSl8mTA6eJBUxU665oSy630qIIw2aW/Lfv5CSwS5DYEZ6M1DfkvwKaNDXkjx6xcIzQe9a3mDqc/6Zc+PgWHrO7g2V0YWHNTsWUktzQggUbFxtDcEOu4tLtEKS9s8a1binNe4U7x8/iKTtiq9gaPdvw60qNqLM6Wz9UP88VoG9hys/bN6TuWLQgzzSHKTcM5y/dQTCvjNYcbmoG+Kt9c5ESz9Z+LVga6UkOU0MfJipsOhIRFc++XpQiPydXaHpMFfombHkqRmxUEilThPwcZNVYX2TATfDBgWOBKOv0P6zc+C/pfLfhn6VzMJG3+UUaSJsWeg++GUT2pr0xdmQP2JqR8lDIFg4hKqaWk/H4YRTQoi1aapMevq7qiNRtsDDlI5qkXAeGIlnPCpbGlmhlQ1rS7AgEvmRg1r4Z8aMGZawO28+6R8o8qw3cV7jifhVJ+i3R2kABZa/Owe1aDK/NZ2HyEhAeFoawsFdIr9F27Gq0z18A9VOiKqaWCYIpZR4qNhg0zIZkQQpu7duB/R6HsH3NXlx5ngCusTF0OEqw6NGHvBkRxfLVWfy7wxX7txzErRwGii27o4Mh0dM5jaCmyY5lv4D3fld4eNxFbKk6bPr1hJkMg4L7p3Hk4mWc8riIsDJ56HR3QlcjaUf+JIWvW0fhECTJQq4IsZfd4bp/G7bsP4Nrvr645ROITPKEhX0zvB1M5yLt0j5sO+SOPQcuI4FV6jq0golsbWXCgbxFG3TUIEWk5DHct+7Df7tdcSm+FspHXiyCIkmTyvq3YSfcPDxI/p2A97VbeBAUj7yq3gJF5blSc/Trb0lSm477Xidw8eopeJwPQxnHAN1HdYaRyJItBxU1Vt0tRrT3QSLzE7gbK0WnLbHcCty9g6iwiolXvdDfTJG0OY/gdeQcrp7yxPmw1+DodMWorkZvK6R8M7QlHZy8mQP6sgfAloXj/NXnKCQvMK0H9UczRQY5tw6SsuEOt+2ko7gSgpdcfZjqSDEfWE2KfTZh1owZmPXjKrg/TCHdvxpajh6CDlrVetWuRF3VWUl8qDyXgUrrvhjGtnU5t7Fvyz54uG3Hmt2X8ZwoBMam7DKLGsJRhkrsKex088YFtwM4GVkEjmEH2JsSc0lhypugHU+BysEj953Y/98+7L4Uw+8AeSjDop0tKVWkWj7ywNb9h7CbPB/PTuPXiDLkvQxFJFHASh65Y8OuQ6S+knp+3BvXbj1EUEKu0PR61cgqKfGneeN8ce7CdVz1OCyi7SlXxFgUYNraQjB6Vkd1RFbaNvhd5E2aozW77p79bmECPRl1mDRl84DFALbWevyyUN0yVtP2sxIcFTW+zKIvYD+RjcfdWKnyRDwcqfKs5mEXIv7aCZxP0ET3sZMxbWJP6HGK8Oq0J67F8+tzWfwtbN+0CZtqfB4uqcPSts9fAPWU1vKpZU6lKWUlGPWbjkWTB6K9Vioe+TzES4VWcJo2H1M68ysMR7cbZvwyDU72ZsDLpwgt0EenoTPwy4xu0GUdyBijx9fD4GClgaKoQATFsnvCOFA0c8LCXyejd/NiBJz2wvUEXXQbNRM/TmxDuiHpER9+3YUjURYcfXSfMQ+TB9hAPvIaPI9cwLMCYzhOWoA5vYULqQIs+vaASUoQnsaWwsB+LGaNaEF8r4O4KrXAiFnj4GDaCPlxMUjT6YXxfYwFljVAyw6D+puTGHNJO+ePuz4+8PG5Am/P/+C67R+sORvJH0GqjMg8V4bZ0Dn41aUvmpcE4vTxW0ho3Bmj5s7DRFt+d/E+CjDpMQrDHZpCu+glbyF7vlQvtpLL7ftUEZaiJYYu/BEuva1QEnABx68noXG30Zj74xjYqotStnTRYWBn0t2xu/Su4EEaF3JGfTBn0WQMaK+B1Ed34PtSHrZO07B4igO0RUembmBvSGnTF86LlmKuY213CNZlXRLHB8xzOVP0mzOf1Nk20Ep9Bh/fGCjYOmHa4m/QWZpFfFUgYzMaP/08Ada5T3H9cS6M7Qfj25kD+QvxJYapCpsR/8N4B3Oo5scjMk0P/cc74u3dH+xC/yGYNb4LTFULEBeZDZ3+I9BHv6bxlYVWu37ob0TUTyYPsU99SR0n9fyqNzz/249tf27B2Wje+KQYWEV7MKYMaEVekhPx6PpDxOr0h8sAU2LHoLCwuGJqUd6iHbrosXE1QnubxhX5Uid1ROo2uBJKZrCzZUuwCmxamaAR5NHYzJw/C6PVCq2My198qlnGatp+VkLGpBu+Ht4ZVtpvEPUsFLHSVQgJcKTKs5qGzU32hcfpKKh0JnXZVosocf0x1kGHaISROH/iAZLrIgks1W6fP18a4PV5FD6f2lVPkuAi/e5urHCLRusZv+G7DuQdvzgPGblvkOd/FGs9g1Fq44LVC7sL3v4pFEqDg0nB3S1r4faiBWasmYYOqmw1z0ZuUSb8D++AZ2gpbFx+x8LutViS8A4ZeLDjb7gm9cZvfw6F6Wc7tEPbT8qH5UsaJaV8VEpRkJWNYhTi1QMf3PUPQVhUPFLjI/AsPIXYqsGmYzPBFBGFQmmQMG+QlVHIWx/24Kov/MMiEBWfhPjwIISnFAOKzdGxRR2oL6Wv4HPoMDx278R/AVw069cRJp91b0bbT8qHhY4cNlga2sghgT3d/9ZNPAh8gZfRychjOFDQMYapkTlsO/dGrw7GqIvr1SkUyseCvR3FH7eu30dgZDSik/PAnhOoY2oKI9PW6Ny3JzoY8SZYawd7w8n3m3FPzQw29oMwfkR76NZuncOnD20/KR8QqhxSKBQKhUKhUCqg08oUCoVCoVAolAqockihUCgUCoVCqYAqhxQKhUKhUCiUCqhySKFQKBQKhUKpQHY5QfC9bkj3wZoFq+B2OQ9NB9pCr9bqZxmK0mMQGZMNaGhAWVbaE0w/FUTFPwU+a37BKrc7yGvaFbZ6n+oNjfURT3aX9R9Yuu00QtXs0d288oVEle0LGoisJPGxy3Ex0oMu48hBV7i6nUaQSNkTitLxMjIWWVCFljK7/bOUVOktWLDqAC7nNcVAW706eqOsiTzqKy6SKC+TnvAOVUMX9hq48nbO2xvevM85XL4XhOjE11AwMIKBqphyWvAEuxcsx54z5c+Wfy5XUSdY6qIufiJtUY36iEKkv4xCTBaJupYyeMcR13lf8xHhpiHowjEcPOAKN88IqHXpBPP3rsSjfck7sDvW5y/FttORVcjrc+1LPgwNoDpl4LH7Rmys8ZU4H5uGHn9K3fCRy0FJFK64nsHDqEIY2HdFG/23F6i9pRRZjz2weuN2HA/m3+Rbf3xu9YJBccYrBN49iX9X7sa1BDFX9L3JR7bIGx3UYKJfn3dKN2CZZz2B++oN2HQ8GLkCo8+JkhfX4Hr2AaLy9WHv2Br67O0370H7EsqHo+6VQ61O+G7VKqxaMRRWdXLbTBm4xQ25IjT0+H9sdNDpuxVYteonDLUSpdBICZMBf/e/MHfGJvik1/4m0erzkctBTgriChhAoT2GT3HGIBv2Nt33KeWWVlxNVr98LvVCB44LN2PPnl3Y9ucUdNaRB4pCccLjAdIkCFLBYSpWsm1lxUdcGa+LevCJyLwmfUQpF8Wf7aFrpaR6JqOAfFPoOBxTnPvDRk1U10z7ktpRN30Jk/UU7svnY8YaH6QLzD5H6n5aOdMXW5Zsxok7xWjODvVnCob+QxXQVOM5zh50xYFTvojOU4eldRMoywhPd3nijM9TxAjsFCM8MH/pAfhnsZ15OoKun387rYMSZIX54MSxozjqdhieZ3zgF5MDOX0zmGrKCqaf/kOokjE0ws7j4AE3nLobhTwNc1g3UeFrxdwMhN04hWNHjsDN8zqCkgqhpG8EQ/Xyuy8LkPDwAonbXuw9fA73QpNRqGEMS33B8xIoDasq/npI9b2NoCwFGFmoIvL8Qex3vwz/ZBkYNjeDljz71sgeJvsY544cxL69/8H7XhiSCtVhaqlPZMbzXgTinimfkmNlYgSVZ15wdffERb8kyJkYghN8Hv+5H8axi0+RwDFAc0ttyJP0vxKO55m9+PfwVQRVK57EPuYeThzcg93k2eAMBrL50XiexIW2bS90N1eWYP8GvltWYPOJJyhu3g22epmCqYEwKDVthLCz7jhwwAt3o19Dw9IKTZTZ3obk25PrOO11nJSN/3D6TgjiEsLwMEwXQ6Y7obWR1rvTmCXPcfzXpdhy/D7ymnYmYZD8LwmDx6JlcM9rBsdWOpB9HYeH547i4D5XHPa+i9CkYmiYmkGfFx7PE6HyeBzXg5LwRkkPJobqkKmyHJByXJqDaN8zOLRrN1w9L75XxvhlaBsu5GnBMNgN64L00E/UdKo4f8oS8ODERTyOyyIdbDEK87NRpmMFY+G7QnlTNL9hvz/b3JUiK+gmvL3Z6ZoOaJz6mKQnHbJGJL2RF7F3/xFc9k8Bx7ApLLUEdUWifN5Sdb1g6zUXudG+8Dq0F7tdj+HCO+WJwetXD/lxMe8CJ1YO3Fhc27ACq90eIL9pe5J3isRPcfVWuB6IaRveoYS0Ubfx4NUbkEKJvmw8X7+C7/UgZJEYm3fpxSszcqpGsNbNwJ3HcSjOKoJux46wVBWRflJfTt2LRmkzR4xyMIOqsjKUeZ9GUKxyej2tUj2QBzc9CBeOHMIBVzdB+ydcB97lQ7dFYuNWqY/QSryM1T+vhfvZR6T+dSJpy8eT3cuwfF8wGnWwQdHZFVi6/xGRNSErCNfLp98bp/PzQNYAFvqvcH7vPrhfDkByRfslgvKpyAvZ0DWMwP51gdDvZwvt/Cj4erlh1+4D8LxwT6j8MqS8bMXCVa7wfiqP9r2aQp15Be/fl2DDUR+kmnRGewPSUj7ZhwXLvZBT3n5UojS3Kv9lUZbwACcuPkYcKTNMcSHy08qgY2MMdaGi8OH7Emnr0IfsS/IRc/cUDu7cg8PXQ5BBzPLDXyCpVA+2fR1AupLq9SUcXwm6CQmSPXj82hl4eR6F2+EzuBMah4TwpwjTGYjpg21hVL7E4TOkyqJR56TchNvRYJRpa0IhPwGBV07iyosCUjFuYMf2M/CHLYY7T8CINgqIuOKKHRdfolTdEj172cGAF0sNWDn0gmMbfSiyF3k/P4P1m4/hboIK2g0Zi5HddJEReA1um04hqLD8FZOLlBtHcDSkBNqa8shPDMAVt+t4wbudPBtBR7Zgs+ctBGVqok0bTaQ+Oos9qw/ibjo751OIhGt7sXr/RQRz7DBi4lC0VwjH2e3/4tRz9h1PMpwq419OJnxPXkeyWmNoke9RD7xw9F4Sb+SGy8pl9X5cDJZBmxHjMKK9AkLP7sKmU+EkZqKR7hkuki+dwrUcFeiqcJER5YsjW9Zg57VkKGkooigjEg+OHcH12GKBexYST6/7KG7VHV1Nikg8T2L/+ec8PyWGWRKNy3s9cDM0C2ot7GGn+hL3nglNWUqyr5J43HDzQkiZBjQV3iAx8BLcrkSRbrwMBf6eWLPnFO7lWGPsT7/hh5FmSLsfjJRiBehYmUFXoVIHLG+E1m11yJcMBIQnEx9IMxUXjoACDbRu0QTyrAKyYxP2XwwHp81gTBzRDgqhZ7F901k855W1UuQGHcdaUh7vBGVDs00raKY+gfeeTdhzNwWoshy8RsyFXVjrfgNRqh0wcmwvGGX7kTK2DUeIP8KUBZ2Hx81YFAl+v4sEf5hcRD8myg/rtCwZgbceITq30rwmhzSIPbvDzoDt2GSgZtURjpWmt4qJ8umdrIQmWkRS/2/vTOCqqvIH/n3sggjIKjuIylPQ3E0pMdxIzaW0pEkzyxatybFs36aZRvvnmCNl7lthLqmJu5KoYKYZKgoq+76DCCj7+5/7QER9+B6Ett1vH/It9517lt92zu/ce4XcbPr2ONlqYdXWPzfTtF6oqEjZx+JP13MowYx+4ycQ4FTMCSFPCzac0ZBOlHR4BZvjoNPEaUxUthOf6aq3d7INLUUPs07dUEpbNVU5pGSLYFIT1VVUYoRDm8tE7VlP8KefsnCpFHBnNzG+GqiV+nwpO06D79gnRJ93x/DiXr76Yj8pGlLW99QWNbNuBs6DGP+g9ISnHI5siyBZyNauX67iOGI0DziYCvXpx+DuDnXOyrwj/f0fvHlbROVPfBeahrlaMIX92iR0P1vLQNZGsyMknMwK0cKKRHYv/pz1h1Jo228MEwOcuXxiO8ELthB9RYG1tw9ukhpkJZFWIqxDYTKxeVJDykhKK5QsDokxiVSbeuProeEZJXcsv0aoZzInE+psXm32WQ4fSeTKLWpzb32J7jp0L31JVeJBlq8PI6bQHO9+StrGniCqcdEt9SVNxCZQzOkNi1m27QTFnR/l9Q9eZbxLAT+ezaLS0IaOnjZCi/+8qEXtnlBmQ8DLs3nuuRd5qp+U0iomLecyhXGxZEiPAbLsQEdlD/wmvcDrfxfHDXbCyGkAk54IwFv9WCRH+gtDEzRSibkQ+VoTT4ZPDmLKM1OZNHIogU+O435ppK7mU1B6feldqK15AC/PfZ7nXgminzSVLMsmp7hGPVvbGpGNSuHF+H+8Kur1CjNHOqtTQmE/C6UqjyNsZ6ww1k48NHkSgUOG89ikh3BSZRC2P1qnfS96Tdb/OqZ0fWIms6Y+y7RR7uJ9JZm5V0StS4gNE46qQh/bhyYRFBjA0MceZZgT5IUd4rTG/Sa6/qaWis6jeWn6VGZMGyFaJ/xYeSfGzZ7J9FkzGOcmdWIZJWWNrbgxXo9OIWjYSIKem0BXvSoRbEWTVqP9nDXJURzNFYbadABBzz7KyPFPMNb3xuOztH3fNFWYB7zA3Odm8MpTfcXMVEVZWo6QqnJSYyRjY4THoAfo5SZmu/2G4Och2lVynugUTebQFA9fb/H/WopOxZBeW0n6+fMUmXalZyczymMPszOuFGwHMzloFEOGjmfSMDdUeZHsP10oujSDY1uPUaAywm38LOY89zxzZg7HVoxJTFgU2Y5NyEHZRQ4eSBRntefBSRMJHDaeoFFK9FTZRGw9TkajYa4uqMAm8HnmPux5+0xVWzkKJUEfBtFROtbIn9lL/kOQ8hYnpufEgEmPEeAtSacBdv0fIeiW9JZe10m8Omv6DbnJzKWoVkzUtPXPLTStF1eIPXiElFo9LB98lMmBIxgfFIhSyFtBxB6OZTT2BNdIP7iGZUdzMO4xkekBrqLWAp31tmnb8KswMaOuy66Rf1lzcCil7iVdT92zWjieo5yNjyf21CG++/JT/ncwVbhcHShM5IzUH0aWOHZU0t1vIjNfn8Mbzz1AB3VH3Mw9tUXNrBu0RTn6EXqbKKhN3sniL/eRYdyT0QGewvIY4TRgPE8EeNeNr11/xgZNunlbhJ4vT7w6k6kzpjLKSQykqoDcIi3BYXUxpTbDeHHuCOwvHuZAigjLLQcxafJoho2fxCihH6qCY2w9loHKzgtfW3H22kTOJ16hLDmOZEMjjBTV5MUmU1iTS/z5IgyUSjxFG25GyJnQjzuVr1A+zodBSvXRRv6zWRIchPIWJb+n49cMHbp3vqSM5FOnyBWxgumgJ3h2/CjGTxmDb6MIpsW+RGNsIuxZTSYxUdJ6tSeDhvTEzakj/YYPxEPq1RPnSPmVpuL3zr0LDg0dcVJfHWSAcZvrFkIfS49OOClEZ5/awLz33mLOK++zZGcEsfmNHcGt6GHq6kt3JyOKoraKmfd/eH/uYsI1/MTQ3QlbSV+NjGnToLc1FCddIlOaVhk64+Ygzb/a4DbydYKXfcEHI12E44vn/FXpgHT2zPs7M2bM4PmPtpIhPqm9kEhGqwhGG+ysJeHVw9ik0Uy4ts7YSDOzvD3zeUmce8bzH7M1Qwi+mJUnatrs3ozf6JmbIZ1NYWyi/he9dlio01/6GDRhvJ3tpVUZgYU1dtIxpelkFGRpOedVruRkCfMg6OBCB7XhbINF++ttrdHy/Z0wx93JCoX4z8jYWPz/OsY4eLqL/1eRfuIEsdm5ZJyNIDJJCIexO57qsb4VBSad7qOXqSgl9xwxmWnE/JKNaa/76GQijGx8Ilelw/J2M+8l0cYZM/loa5L4oIwLibnUFKcSmykJnzkebjZqJ2bgNpJ3gr9i2QcjhXxLP76dGknG1CtrVthaSfXSF93bXv17lbRK0TDJEVgOZPzo3rha3l7/ZpXzKzCws0YynQ1yo6ZCe/9I3+lCTQ5x56UVUwOsbS3q0oLX5U2VQ3yaeu1TTW38btZsiRFnV1GRX0BJ/Ulqm6G3mm3Dr6RcOEN1d7fBxrKN+qObEQ7VwI6e3T1w7DqW1z77giWf/YMxXtIVyqXE7YrUbfXS0o2uwv5R8jMh897nrTmzeXfJdsJj83ULLm+jFW1RS+rWzpeRw9yFJlZSUqJHpwmj6N1428OdMGiPtYU4VmGEyW3BWVOIidT4EfR0NaVAyK+6FdY2WKmFzgxrO2nsKsmKz6RUz5Ee/R3F+xIuJaWTlZYJXQcwQASMqpQkUpMucraoDV17eIhf3orQjzgt5Usf/Wpab/yao0P3zpfkk5MurQIa0sHVru5cZha0bzjHr/AlGmMTgb4tnkop/E7jxI+xZOencTb8R5KElBorPXDQUTz/qNy74FAjCuFEhzNz1qP4+ThhrtbrCvXy9MYlO4nVkJKqoz6N99kaQqOu4TRwNNPnPEV/aaKiI5o23uu3aaNhmdgZ/2deYfbs2Tf+Zg3G+Z70nCEO/lNvPvfsZxjsrCnAuU5LfvNraeqcRloucFDdhQsg9LHqP47Hu7alMjuc5R+8y0fLfgbfoUx57UkGWDWh0Sbu9OzVXrzI5MyRCM5kmtOrp3ujIEjg4M8zN7VxNrMGO6OnabO8vgmmRq0oJA2O5XdMU/1T/3VrUp2eRoGyJz4ioFdlHOXgbVdX/xZ6K+xS7BnOSxGQwomOzhpSjKI3zJUjmD7rNd5+KZDO7QzRb+fNiMCedbZH19VLAw8CZz7PBD8fHM3V0TOV6jTeGrbHtk64cTPNsCstqlutsAXXJzEqqsordJ9UtIjrEyldMKKDtzeWoo5FUQfZG1WMe9e+dPMQwVjVJSL2niJT4YaPl+aLvH4ftMQv/BY61FQ9DbRejNP6vsSG/o+Po6txBdnhK/jg7X+x7JQK3yFTeG1afyFBf27uSYjTNJVcTk0kvcwGv2nvsmBpMAs+fgF/a2FQirPIaXLF4zIxh0+q03iuAeMZ7+eLm5mCcp0XSPRp7+peN7hVmWTkSVP1UmJD3qtb9dibhsLenc7q2Yf4zsIdpVKJ0rWa87v2ceRcrghhayjJiCM2NpbYxHzRklZEzwaPzpKhqeGaqKWHdG6lI9XnD7D3yHnyKjSoQEt+ozPXyC2o32tSlEO61F1tnXGyttdyTgUW9g51s+nUJNKvSXW4RnHR9Z1V+lq+bwnlZIRtYGOMHv2mfMB/ly5jWfB/eGfmJPzcNN0/7jpt6dSzK6ZiZBPCI0loI6WUpeONsPdwrQsSr+lh4eEt2tgF1+pYdu09yrk8MfNu70JnK0mVSkjOKBIGSkq1fsvr0uz3o71kNNH1+o5edFPLWD6ZUjmiH4sLCtWrK4oOHri01U09W6uclqFD/+iKvj2dulmKF1VkZxZKmifsQAG56obY4+VyI4mmsA3gxWenMjZAWm0q4uSBKPXVwXpa9fZuUU1JyjE2f/eLkEAFxt3708Om0SrEdVRZHP18Ls/PmM0n38dwRYqAqgu4eC65rr2WLjhJq2BaqL6cSlz6Vaz8nubDBcEEL/iIl/yl1a0i0nLqdbU1aIFdaUndqlN+YP3eLOx9uuKgqCB5+yYOpjdDdlqMMY6dPOvkNzsLtSugjIJcaUuACAq9HIVlECGLe3f6Wgo9yo7hbHZ7lJ6udOzmKRxoAefOpoGbD96S37oN3cq/a7Rg/O6uDrXUl7TF3kX6vpLUhCxxjKC0mKIGny9sT2v7kupUwlZvI6a2D1P+tZCly5YS/J+3mTl5EG5NX8nzp+E3bqFC9H8YK1ctY+GiNYQePErk4aNEF1aj5+GLd3spVdAGc0tJ6eIIXbmKkJAIUmsMMGkjzbMrSYvYw+5D+whZvY90E92bo+cxkDFdhbNRxbH9yyWsXfkFKw7nCF3uSkCfDijMlIx8RClUO4fDK75gZchagucvZ/+lDKqdnbEWBiz98CoWLlx453tvaax/3VdNY4HPyGF0MlZRfHgNi1auZ12wEM7950mqtsdVoxFqyW90Q9FWn9RNK1i3O5R1S78nXgTljg/ch6u+tnMaYujRg74WYlyqTrL+fyv4Zukq9qZfN0gKLd+3hBKSohOFASvmxPrFfLUuRPT5BjaHHuDw8XNklDSV2GqUWhav61LK0ms9zHwCeEQKFIuPsGLRCkLWBTN/6T4uJalwdrVCoefGA2N8haxUCqe2nC/WLmfRiiOiBuZ0DeiJo7pIDXJg0oWhwyQHk8+PW7ew58A2QnbFUqtwwG/CAJx0FWezVioHA8zMJfNaSWLoGiHzW4hI1eagdeif+iNvQqNetEM59EHc9FSU/bidDXv2sS1kD7G1hlj7BTJQSlXWY9jNl85mprgNegClaF9tXBgHLpSKvtCmt/UFtBoFhC98VUwqX2LOv9fzU4Hwdsa+PPpob+HiNKCwo0fAfbRXVJJ54H+89qKYQLz0FosPpYkphQU9JgzGS4cVYv3qFPaJflu5cDErQ8OIjDxMeHSeZNjo7S2tgGvgHtmiZtdNHH/wm31ktLufidOfZrK/E4paYZfXHSa9Xl0VZuZI0wYSd7NS1CEkIlWEEa2BkF/lYIa5GYuY7QRbN+zkwLZN7Iq9isJ6IBMGOokjBIYd8PapH1FDJ1xsTTB38aCD+gMDbH29sNMoWzqWrwv3ypfcRR1quS9ph0dPX9Ea4SpOhPC/lWtZKmzMDZ9/F3xJSSrR8cKmSOUtWMK6EMmXbBFxymGOR6c3bGX5s6KzXN4dDLHxm8prU4fjYxjPvk2b2BlVhrP/U8yd6V93ZZaeMw88+Qj9O1pQkXCW6NQSMUcXgjT2cYZ3tcMg8xRhkRlYjxLv7SVBL6e8QodRU9jjN+NVpgf2wYMUfoy5hmO/R5jx5tP4qWf8JjgNfVbUbQS9rHI5Ef4TSUbdCJz+CtMG2N7k8BRGBjQ519dYf+0YOD3EzNemMryXBbknRNCcZIhv4HTemNZfOJb6g26hJb/RjinKCX9n7lOduXIinJOlDvQOfJoXRnkJ46HDOU28GffiJPq7tqE0LYU868E8/pCzumQ12r5vNtb0HDkYJyMFqpIUfokIJzz8EAdCN/PNqv/xz/k7SVTP3jXQkFpuf3NK2cCVoTNfYerwHljlRhEemYKRbyDT3/gbA9SbXgyEHD/Nm9MfprcHJP14kTLHvoyZMZsZfvZ1sqJRDkRwM2Ymb00JoEvVWbZvPkyG3QAmzHqZyb5qV6gjrVWOES4PTGBsfy/aVyQRJQxgqU7Cqq1/NKCxPxQYuwUy+62pDOlSyZntWwnLsGHQhBeYM7kH9TuVbqb9fYy4fqXrzp/JU+mut62LAiNrd3oMeZLX/vk8/uqrvjWhTzvficyd8zeG9+6ItXTlvMIchy7388hLc3hWxzoqbAYxQ9I7HwPi921hw84zlDkP5qm5zzLEoYno8h7ZoubVrZLs8K1sT27LgCcfxtfMEuWoMfQ316M2eT9bIkRAIo7ScxnEk2MH0LH9NRKiYkjVSTB1xNiTMbPnMGVIR6rO7GZzWBZ2gx5l1pzH8G3Y99gWr+6dhccSdVEq8WyjEHG+G53MpA6wp3e3+qupNaFT+Tpwz3zJ3dKhX+NLxORdOZoXH78f17ZlpMVfxnrYOB5S+/x6WtuXWHVX74M1Er1cknqaiHDJl+wndNM3rFr8H+bviK9b7f+TolAJ6l/LNBspFb2Cn32n8ZSvNKeR+a1R5R9l0UdfE+fzHPOf7yNMeiUlBVeoKDnN159uIqbGhynzZuLX1N5DGRkZGZm/ONXkRyzlo3WJ+Mx4l+f7WIl5TAkFV65RcvpbPt10jhrlFObN9tOcIfgT8BuvHP6xUeWd4kDZIMbKgeHvBlXZZQoqVVQn/8SBiChiYxNIz03jQtRFcmqkq8x64m0pB4YyMjIyMk1RQ1nRZSopJ/l4OBGnzxObkE5u+kWiLuSIb81R9u1Ut9XhT4q8cthiarmak0q+sROulr/3y0j/SkhPRzlC2PGzxCelkC3tMTSyxtXVGVff+wkYfB9Of4HNxDIyMjIyvwLp6SiHD3H8bBxJidmUSPdjthZ+xMkd3wFDGNzHGU33I/izIAeHMjIyMjIyMjIyDchLKDIyMjIyMjIyMg3IwaGMjIyMjIyMjEwDcnAoIyMjIyMjIyPTgBwcysjIyMjIyMjINKD/oaD+deuQH878Vz9h3b4SvEb4YvtnDD+b3cYa8ZNFvPrJavaVeDHC11ZzVF6RT1J8KkW0xcq0iZsH3y10PXerjW856XsXMvezE5j06Y1nW6noW/uoVlQrhfiUy2Bhgal+E7dfbY06aWr/PZdlHeXkVm6re0vKySF8/pt8su4oJV4D8VU/iP7XUk5+UgIpRWL4rEybvlH8r6UmlpBX3mHx9njM7++He4uuRq8kP3ofG9asYtW67USb98bPXcODzVqlr3Xh1vp0oHrjv28en+o8ondvZM3qVazbdLGu7fqF96h+d4G/gu+4jet6t53Q0ND6v/0cO3OJlGJD7F0caGeoy22nNeja77U/W9XP3SMb8xfkL6F+fwxqKDoZwrz/BrP5XHH9Z/eKe39uVd5xNghnbjJwKH5NPk2igJPr/8t/F27j3BWdH5zdAn7Lvv+1/I7rXvQz6+ctuPPjJX8vVCWwf9X3/JRQjkPvgfSwb3g+TiPuYV/fVp829V/coCruIKt2HCeh1J7e/j7YG9f+geVYRmHugGfHjngKe1iYGsNPocuYv/onCnW5n8gfRtdaWYf+SDbmD4YcHLYEq348/8knfPLRGDo2OVWppuh0CB/Oepn54dn1n92Zmuoafqv7Cul8bp3aro1rJEUcIa628WPq9EXR0/hElP3RmI71M8Baqit1CApboU6/Zd/fQFMfaKd16m5Nv+c/Eud+nTEdNQVGLaCmmsrfvlN1oziHtDJRWaNejJ0WxEil5hvb3zM5ua0+XreMT404JJsy8cqo71imBQ1Daa73O5FjmZZg2Hsyr7/xBm/+8z/8a0ovYRdVlJ8J50SmDg9p+wPpWqvK6B/JxvzBaP208tVkIsOiKdJ35/7AuqXs6qJYftiykQ3frufrTTsJP5VEoYEdHV2NSN78MW8t2sCezA7493HESJi72JCPeGdlJu7+3bE3uErGT7vZsGY5y7/eybGYbMotnPG0N1NHtjWxIbzyzmJ2l1jheG4d/xdty9CbUifV5If/j9mfrCL0F0N6DfainSqZ0PfeZsG34eS6DKCXgyFlP6/g1Q+3Uuw1AF9bA65mnGTnhjWsWP4NocdiySpvh6unPeqMVWEki97+nC1HK+miXq6vFcdHcXD7d2yS2rj9KDFpaVz4KRnr0U8yyscR49xThEXno+/khn38Hpav3MC+0zkoHL3wbJdAyCvvsvJ0vihczKyiDxEa2lSK7HoaIhYTLwOiNq1l/ca9nMowwMVNxbntIawP2cyeU1l1ZVtJq3JVFMWGs2Xjt3y77ms2fR/OqZRiDOzdcDW/w7mNL9al63ZfxsbxIiv/7yz2Pa8Q8u6Ntltl7mPe3E9Zv+MEJV79RN+V8vPSD/hwxTnaqNPFGkKc2lTC1+4jvqYHo5/oh4M6bVIjunUpb3++kaOVXRhqcIC/v7Oa00XSc7LziQ7bRWiMOff7ud9+49HbxqNxSm4T34f/QkpJOzw7d6gbv8aoU5JNtJ/Uell2wMM+mV3LV7B+3xmyFQ508Wyvfs6q+qbbd5DP27lT3W7ugxG+5mRKqfdP17LjSBleD3bD9urPLH39n6yINqVPnwp2vKqp7n2wyz3ZtLypZeJW8ohc9BGfb/mZyi6DxDgWNpKzNsTuWM/q1VuJSLyKhWdHOpiKcb0prSnpdTIlFu507qDgYsj7QodPUCQVXRRNWOg+Yq6naq+m8dPOb1mzYhVfh0YQk1WJhauop1SmRHUBsT9sY+OGDaz7ur6PCg2x7+iMpVpWSkmJ2MaaJcv4Ouw8BaKjSy/EkVVji29Af81p5ZpiEiO/Z+1XS1m1ac/N41SbwfEteziZViQcTSXlpZepte6Ic+Pn3jYpJzr2tbY2N0ZjfcxJWf3vhvHpVnmKLXtOklZUgaqynNLME2z5chXfn20NWZCaq8muWlGaGMnWtctZumoju2+yi9mEf/oWn6zdxS+G3RnsZYEqNZT3Xl/At3vzcXnoPqHnxcI2vMOH3xTiFSD09NamN/gOSd+S+D54iRjf6Jv1TWs/NrZ1m0W7s7hmYouLY7t6fb2DLbTUvz0Ff1tqVpttkXzBHXzHbZSRHHmEaGHn9N3vJ1Dtu/QxMy3lrNQX4rV9LxEohs9rwk9eoCjtO75Yf/J2XbPL126/7qQXQo7q+uMbYkycsYjdJXR9HdsiEur1XLONq86PZveGtaxeta6+f+tthvGlO/g58b7JcREyen3rSIMviiAz5zsWr9ZkY4x0t/8yTXL3u6r8Ats+C2ZTRAZmPR9m8vj+tC+I5tC6pWyJrsH9vu7qR9BUx8aSWC6mALXZXDhThGmv++hkUkHGweXMW7mHc4rujJs8hl5GF9gR/CXbLklz5hvURu8i5FAqFfXvb2CAtbcPbpJPyUoiraRWBBPJxOZJjywvIymtUKhzGYkxiVSbeuPrYUp1xg98MW8le87p0WPcJMb1MiJmx1cs3HaBcnWZt1B2hg3zl7LtWAmdJ/6DD/4xFpe805zNqcTQ2h1PmxsrMZVCEUOzTehgBQUJkSKYPE42QnAf9KO7Or2qh3nHvvir00R32muSwt6NRym2bI9ZZT4Jxzey6N9LOVhgiIVhhbrsjasOkVorZp+XvuczEXBEZJjRc/RExg+yoeDsQdYt3EZ0ubn2c9dGsyMknMyK26doBs6DGP+gvXiVw5FtESSL8+765SqOI0bzQBPpYlVWHGeLxDg4utChjeY2Ktp58uDg7jioJdSCjv0H49/DXv2Adm3USuMX/D2n8WVs0BOM62HExf2r+GJP0u0Pqlfo0PeVP/FdaBrm6kGL5/imbRzLlmbz5TrL53WaVTdMcPYfxYMWohOKI9kWfpGEwwf5pcKVEY/dL5yt9rprlLdmzbTT+WHdVs7XWmBpdI3Ms3tZtz9BuNhK0faVBO84B76jCZo8ih6G8ez/SuhNShXtPPsxuLtDnYEx70h//wfrUrXVqRz8YiEr91xA0WMUk8f1xChmB8ELd3BJ0n+hi5e2BfP5pmNkmInJw+SxDGp/mbOH1rFwy3m1/lUlHmT5+jBiCs3x7qekbewJoiqlEzXFVVJ2f8Wn638goW0fxk8cjNPlU2KcFrMh+rIQyCsknhQOTzpU2J+zh0+QeOWW0dBBTprsa61tvgUd6qO6kszJhLq0XG32WQ4fzcXugdaXhRt2VUVFyj4Wf7qeQwlm9Bs/gQCnYk4Iu7hgwxmuYI13LzcUQjKy4jNE3aspTEwQUw5BVQZpeUJfytOIiS3DtKcPHnWRmmaEvm39oZxuDw3ApTRB6NvX7JL0SWs/1nAlejOfSpMrMa6WPbphmfszocsWsiwiR7RAmy3U0hkCbfrbbN+hkUryLlwgQ3qpsMbOyuIOfrIfA30HaNa16zRpv7ToRQPV5PywgW/PV9He0lBMRM6wf10YcZoWNMXE/+AXS9lxWpiFsU+IMeqO4cW9fPXFflJqmtIhIRq6jkuDLzKgfRM2pnk2VqYp1P16V6k1xWP4RCZPeYanJwUyJHAiE+5vL74oIavgKobu3elrKapx9QLRSVepTY/hVFEblF1dMCmPI2xnrDBMTjw0eRKBQ4bz2KSHcFJlELY/+qY9BtUFFdgEPs/chz1vS8cp7LzUq4HUJnI+8QplyXEkGxphpKgmLzaZwppc4s8XYaBU4mlSSmyYEPwKfWwfmkRQYABDH3uUYU6QF3aI0xr2vtWkxhIlCbDH/Qzp5YGTZ1+G+3mKb/I4EZ0hTNYN9LpO4tVZ05kxbYRolTDymbli5uPEgEmPEeBtLj4xwK7/IwTVp4maxpDOo6cz/cnpTBvlLt5XU+45jtmzZjBr5iO4SYdcLqFMpaLWxJPhk4OY8sxUJo0cSuCT47hf0s+r+RRc66D93NXFlNoM48W5gRrStm1Rjn6E3iYKapN3svjLfWQY92R0gGeTgVxVYZ7aaRi52Df50HI9pwFMeiIAb/V+ZUf6C0MTNFKJVMs7U0NhXCwZ0qOOLDvQUdkDv0kv8PrfZ/PcYCfRwlvQ06Hv9Xx54tWZTJ0xlVFOwqupCsgtkpyd7vJZRzPrJmHShdGP9xVhYgXJO5fx5b4UjHsNJ8DTVKe6a5S3Zm3frMI84AXmPjeDV57qK6RORVlaDsVCauPOpIt3xlg6eqLs/iCTZs7m7288zeAO5jgNGM8TAd51bbLrL4z0JEYq21Eee5idcaVgO5jJQaMYMnQ8k4a5ocqLZP/pQnGwChOPh5g8+SmeeXoiI4eM4skJfTESn1/NKqCUaySfOkWu6EPTQU/w7PhRjJ8yBt87qUrZRQ4eSBSTQHsenDSRwGHjCRqlRE+VTcTW42QolAR9GERH6Vgjf2Yv+Q9BylvWp1vc1yIg0drmW9DXVB8z9VfX0Vc+zodBSvVrI//ZLPnqn8x6svVl4YZdteHiwSOk1Oph+eCjTA4cwfigQJR6VRRE7OFYhgq7zl2wFb+plQKYa1dIvpiGoZGRCBhziE0spCYznvNXzepse13xmhHj8ej0SQwb9jjPPe4rximTH4WslWnrx9oMjm09RoHKCLfxs5jz3PPMmTlc1KmEmLAoMrXZwlJtiqFNf0ua7TsaU3VqA/83fz7z//UBH637RQST0rPg+3OfveEd/GQnvDTqWqNtEU3ZL2160VDdWsrMA3h57vM890oQ/aTAviybnOLGnq2ewkTOZIiZmpEljh2VdPebyMzX5/DGcw/QwagpHRK+Q9dxafBFE3jIT1O72zbfxspo5E4mtXUwdeW+7k4YFUXxXfBnzHv/PT4PL6j/UmDozH197cSLAk6fSyLj0kXyDLzpLRxJrdqYSLOGdPbM+zszZszg+Y+2qmdUtRcSyWgsm5YDGT+6N66WGkISPUd69HcUL0q4lJROVlomdB3AABEwqlKSSE26yFmhaF17eGBWWxcoSsFW3p75vCTOOeP5j9maIZRJzIoSM26f/+k7eKCUZujpp/gxNpP8jLOERyaKb8xRetreFKwa2Fkjqa3C2OTOBlIrRpib1c3AjE3qStITM0z19ZX6Bo2UQE8MgS/dnYwoitpK8Kf/4f25iwm/40rLrQjjMX4EPV2txFk10M6XkcPchSmrpKREj04TRtG7cUruJsTsviBfHCkwMNB5X53u6GPp0QknRS0lwtjOe+8t5rzyPkt2RhCb36xG38CgPdYWoqYKI0xEEHydZsmnmpbUTZ929z0kHIzo+cpSSqq9mTChJ+3qv9XGr5c3c9ydrMTYCmNrbCz+fx0LPLo6ifcFnAr5P957aw6vvLuEneGx5Dc5Pa8gMz6Rq9LLvN3Me0no1oyZfLQ1SXxQxoXEXCEdbXG9rxtORoVEfbeET+e9z9zPw+vkRU0pOenSipkhHVzt6tpkZkH7O1h9dVCiXn2wwtZKsg/6WFi3V+uISsomaA0KdENzX+vS5ntDi2Thul01vyzsorSaZIC1rUVdStLCGjt1J+YQn1aCnrMv/aUPqlJJysgkLVGPrgN7iuCsgpSEFJIuXaBIz4senbVIr6Ed9lZSwdfHSUVpYgLR2vqxOJXYTElSzPFws1GPr4HbSN4J/oplH4wUevdrbaEW/W2B72iMqiSbxIQEElILqDJ3ovuQKbw2YxA2ktLdwU9qpQn71Ry9MHR3wlb6qZExTSR76rB0o6tkq0p+JkTo7ltzZvPuku2Ex+bfYdWuOeOixRdpGyMZnbn7weGVM2z49HPWhp7hmlN/Rk1/mWn9pQXy65jWL5nXcvn0EfaLGaKisxJPs8ZVc8b/mVeYPXv2jb9Zg3FufIi1DVZNpiqM6ODtrT5HUdRB9kYV4961L908xGy86hIRe0+RqXDDx6vRbEuYPwf/qTefc/YzDHbWEHxa9eXxx7tjXJlG+PJ/8fZHqziFN0OmiLYOsKk/6LeiPtXy2RpCo67hNHA00+c8RX/NmtUE141HU9RSU33dkKioKq+4Zw5PEwZuw5k561H8fJwQk1JBfZp9yU5iG6coWg0d5LOeFtWtpprqhq+qKK/4PSRHTHALfJZZEx7Ax9G8LmisLCDh+CaWbNchhebgzzON+0v8zRrsLAzSZaI3fM5na3cRdc2JgaOeYc60/o0cgY4XKf0eabLNv2PuaFdvQc8O7x6Svcslau9Boi470dWvuzqFXHUxQtjdTBSeSrza/coWN9WPmi5O0DfB1Oj6+X69LdRNf5vhOxqhXgFetoxl4m/pgg+YNXkQbg2b5HTxk78DDDwInPk8E/x8cDRXh5nCLMRzfOMatseW1h1zG80ZF22+6Lew/39O7rJk1XIl5hiRBWLm5DqEieMfwNfNHMpvdm4NS+Z5p/npInj36YKUeNazd6ezeqYjfm/hjlKpROlazfld+zhyLlcMue40nCM7hrPZ7VF6utKxm6fogALOnU0DNx+8rYUw69ng0VkKEmu4JgTRQzqn0pHq8wfYe+Q8eRr23VVnhLN641lq+z3Nv/77pVDuxfznnZlM1nTxxD3nMjGHT6pTLa4B4xnv54ubmYLyVvSv1Sk/sH5vFvY+XXFQVJC8fRMH05sKD/RpJxyOWu+rq+9CEFnF5dRE0sts8Jv2LguWBrPg4xfwl8a2OIucVlolkmi+fLakbuWk7N/C3qz2+Pg4oKiNY/u6w6T/1vFh9WVS4zIosxrEtA8XsDT4Mz5+aQjWQueL03LR7AaMsPdwrVu1uqaHhYe36LMuuFbHsmvvUc7lCZm5coHDkdnCpbgTMHEMfr4umIl+u9EzbbF3kfSzktSELKGjgtLiO6ZH9R296KYep3wypXMIqSsuKFSvZCg6eODS9m6aQR3a/EdA355O3aRJfRXZmYWSxAuZLSBX3Yn2eLlIqcLrAYw45mwM2bYd8XT2pJuUEr98kbNJKtx6dRIyooXqQgrUKctqinJyRWkK2np60lVbP7Z3obOVNJYlJGcUCRmSUvrf8rq0gvfRXjJUzbCF9bap+srlRttDtOjvVeEvmuk7mkNTfrKl3A29qL6cSlz6Vaz8nubDBcEEL/iIl/ylrF0RaTma92G3ro+6d/b/z87dtIpq9E1M6gKBtEh27g7jQMjX7E2/RUkalswFCmd8vOpXFs2UjHxEiTE5HF7xBStD1hI8fzn7L2VQ7eyMtXpWoCOGHfD2qd/hZuiEi60J5i4edFB/YICtrxd26vIs8Bk5jE7GKooPr2HRyvWsC17I0v3nSaq2x1USspuooSQphnih+FUn1rPgq7WEhIQQsjmUg4d/IjrjitrIaMcAM3NpX1EliaFrRFu3EJHaGo7DAJM20ghUkhaxh92H9hGyeh/pJo2H/lecuzqFg9/sI6Pd/Uyc/jST/Z20BjCG7W3Ve5Mq03LqrjRrCkUbzC2l/o4jdOUq0a8RpGrtTAXVqWGsXLWMhYvETPTgUSIPHyW6sBo9D1+822tKZLew/c2Wz+bXrTr9MN/sSqGd32NMnz4Jf1tD9d7OdQdT6tM0d0tutKBfQeq+9axauVjoyPccjIzkcPhZCkVvePTupHZaCjNz9SZ6EnezUuhRSEQ6Jj4BPNKprTDUR1ixaAUh64KZv3Qfl0Tg4OxqhULfmDZGUselELFzD4cObGT13pRGaVBTPHr6qtOjVSdC+N/KtSwVv79Znm/BrAtDh0kTwXx+3LqFPQe2EbIrllqFA34TBuCksxVsSV/rYaatzfVH/nrupiy0Qzn0Qdz0VJT9uJ0Ne/axLWQPsbWGWPsFMlBKJQoMXbrgY1rXIkMPF2z12uHiVW/bccC3s62W9hrQ1iyBTUu+Zvfub1j6XSwqhSsP9HalnbZ+1HPjgTG+QgIrxQR1OV+sXc6iFUcoxpyuAT1xVGizhXq0FRNXaUJfeeI7lq1dxoLVxyhvkA9t+mvdTN/RTJryk4LbdS1Vu99pNb24gb7wB/uErV65cDErQ8OIjDxMeHSe6FoPentLVkGTjFbr4KM0c3u706hotv2X0UQLhr85SIZxFNOGd8PaIJMTYT+Raj2MKcNdxXdiVldeKf4vIQx+717qgAFHH5T21/MYJjgNfZbXpo6gl1UuJ8J/IsmoG4HTX2HaAG1G5lba4tW9s3qvjJ504UkbBQo7NzqJGYq0j6F3t/qrngQGTg8x87WpDO9lQe4JIVxJhvgGTueNaf1pf9tJ9bHqOZRhTsJ9qUpI/SWS8PBwwg+EsumblSz+5yJ2JKrXN7RghMsDExjb34v2FUlERadT2kRw1TxEsDv2cYZ3tcMg8xRhkRlYjxLv7SVDVU55hTSTaum5K8kO38r25LYMePJhfM0sUY4aQ39zPRHA7GdLhAiS6o9sjKJDJ7pLM/zMNLKu3WE2refMA08+Qv+OFlQknCU6VboGUhsG2PhNFTIzHB/DePZt2sTOqDKc/Z9i7kz/+qufb6Wl7W+ufDazbtXphIfsItnsfp4c2w0zEYyOmthPuLoKkneFEpEt7aG5W3KjBYU9fjNeZupwJYbxB9m0YTdRZc74P/UqM4c4qXVJz2WQqPcAOra/RkJUDKlSxQxcGTrzFfG7HljlRhEemYKRbyDT3/gbA6SNg2bdGDttBF1FZJ15IpzIVFtGTQkQGiooL6dCpcBEOZoXH78f17ZlpMVfxnrYOB5Sy3NTmOI2ZiZviXK6VJ1l++bDZNgNYMKsl5nse8PBaqeFfa2tza3G3ZQFBcZugcx+aypDulRyZvtWwjJsGDThBeZM7nFjD6yJG919pXdmKLu50EZYXDs3d/FOYNWNbs51QWST6HVlwuv/4KnOpcJfnKbUuQ+Bzz3DKOkCLK39KOnX07w5/WF6e0DSjxcpc+zLmBmzmeFnL1qgzRaqhGyN4G9DuoiJXQm5+cb0mfIovRuGSLv+Ns93NJem/GQTuqaV1tKLGyhsBjFDar+PAfH7trBh5xnKnAfz1NxnGeIg1VeTjLbTwUdp5vZ20wL7L6MJhUpQ//q3pfg4X7y1jqzAufxzjPvdjlpbD1UOEYs+ZV2cNzPmT6ePmNhWllzmSkUhp7/+gk0xNSinvMdsP7VKy6ipJDX0U/4Veg3/2W/fdiWmjIyMjIwG/qh+UuYPx28uWzVJ4awNWc/SxRs5U9uZoQN+5xu0b0V1jaKCcqhO5viBSE7HXiQhPYv0C9FcyKkE4y709W7qhi1/VcTscYAfnfTyOXEyUfvFCzIyMjJ/Yf7wflLmD8dvvnIo3Yn/7wt/xNxNSe+HH2NcTztaM9Fy95HuiH+aw2E/cjY+kcTsEqR7v1m7uuLk6sOAgAfp4ySvjN1OOSmhC/lkVxsmfzwLf+k+lDIyMjIyt/HH95MyfzR+P2llGRkZGRkZGRmZ3xx5ZVpGRkZGRkZGRqYBOTiUkZGRkZGRkZFpQA4OZWRkZGRkZGRkGpCDQxkZGRkZGRkZmQbk4FBGRkZGRkZGRqYB/Q8F9a//XFTkkxSfShFtsTKVLvqvIT98Ea9+spp9JV6M8LX9jSLjWlG1FOJTLoOFBab6d7htfnUBsT9sY8O6tazaEk5MViVtnZxxaCvdab6WsugQ3nlvA+kuvenp0KbuN1qpImPvp7z26XpCI6rpFqDESqpCbQLb3nybhZv38IthdwZ7Waif8FGbuI0331jI9lwXHurloH7CjExjNI1nDuHz3+STdUcp8RqIr20Le+02GdaEpvPfJVnXqT63kB/O/Fc/Yd2+ErxG+GJ7L5SuJpaQV95h8fZ9xJj3xs+9TUN/hIaG1v/t59jZRDKvGuPgYkdbgzvooYwGrhIb8j7vLN5e38dt6z+/l2irQyvpYWN+t37l13BrG9pT+LtuU2v0+V2QjT8Zfzw51okaik6GMO+/wWw+V1z/2e+FAk6u/y//XbiNc1fu9BDwy0RvWMTnm45wqdaNgT0tyT2xnS//tZJw9WPTpEcT+jPCvYTj3+wjtlzXOxIZ0qGzN+rbcl9OIbWw/jFLeUnEFEn1qSInJUeYXYlq8hLjhSG8/igsmdvRdTybi64yfLfOfyu/Z51qCRUUpJwlYuuX/Ot/P5DRao+Zk/nz8mfTARmZpvmTBodCjatr6p/bfB19rPpN45NPPuGjMR3Fu5ZSTdHpED6c9TLzw3PqP2sOtVRXanfitRnH2RqRjcp0IM++MYup01/lH+O9UFREs3XXecqkgxR2+PRzR1F8gh9OF6p/pwt6HTzoLE2UVBkkpEthYC1laUlkqL8VLbwQR2qV9KqUtIRs8a8dXi4NT0+VuQndxrMl3C7Dmrh7578V3erzO8fIn9lLlrFs2SL++cwgrBUqKuJ2ECLpWv0hMjJN8afQARkZHbg7aeX6dOjGDRtYtymM6KxyTOydcGxX/9D1mmISI79n7VdLWbVpD8disim3cMbT3kxEq7cu9+o1seT9DTEmzljE7mLN6nVsi0igxMKdznapfPvKu6w8nS+diKLoQ4SGxmN+f2/aRS3j7c83crSyi/ZyOkh1kZ5+EsXB7d+x6dv1fL39KDFpaVz4KRnr0U8yysdJQ3qtiqLYcLZs/JZv133Npu/DOZVSjIG9G45ZW3jlndWcLqoRx+UTHbaL0Bhz7vdzx7Tux/VUknZ4M7suit91D+SJ+50wwoC2erlERsRRmqPAzb8njkYGmBlf4ZfDZ0iocePBfs4Y15dwRwwNqUw6TlTONaoceuHfpQ0ZP+3lSGIt5qY1VJbVYNtrAF3Ms/lpSzjx+vcxclwPbKWI+moaP+38ljUrVvF1aIQ61W3h6oa9qeZwu7oolh+2bGSD1H+bdhJ+KolCAzs6ulqqU9TV+dHs3rCW1avW1ffVVSw8O9JBXV4l+dH72LBmFavWbeL78F9IKWmHZ+cOmOppSC3cmsIsrH8fY4SXWTSbxDk27vmFDIMOuCli2P7N14Rs3MupDAWOXdywMpRSi2WiL3aLcy5n+dc7b5HNm5GeWqB5PG3JjTxCdJERTh5tid+1hpXr93E6W6/ReZqWE1fzBEI0ynA/3E1v1KLp87tB8k+EReej7yTGJn4Py1duYN/pHBSOXnhaSXooyfZJdm5Yw4rl3xB6LJas8na4etqLvlUXfwN1mrap+tRyJTGSrWuXs3TVRnbfWs7VZCLDoinSd+f+QCmtXE7GwWDembeeyFI3BvjaCdm+U12uj/Od9PQWVKIv9h4nuUaf9r6D8XM3FdWo6w8a6mFIW2d3bPJOcTK9hKISW/r6edK2Jo/o3RvFOVYJ2yXJa3IT56kW9fofsz9ZRegvhvQa7EU7VTKh773Ngm/DyXUZQC8HQ8p+XsGrH26l2GuAsGUGd+7z6+nw3ZexcbzIyv87i/1QUdfy5ujc9VRrGFeszEn8bjELV4dyMtMIt67uatmrk5vF7C6xwvHcOv4v2pahvlaU3mkcpTFKOcaWNctY+vUBzhWo0C9N5FJWdX0fl2mx23Wpvxv2QMi8kIusaybYuzjQTq0TgjvaF211uDWtXEZyYz38fjlfit9FX9dD4tj81jss2nyIzA796eNoItRSjMFr77Ey1w3/HvY3nkLSpA70wS73pBZdEzTXbt7JLl63c82xa4198tf1trTQEPuOzlgKQ3xdP/Td7yfQ15rym97fkratulTfbz+KsZbkWrRR3W8fsL6kE/7drOFKApFb1/HV0tVs2n1MQ3sb27/N4lxZXDOxxcWxXd3WJV3rq+7zUIK/DBHvc2/0+W3bWW6NKyrrZcMY9/sHi/eGWnzVDb0qsTHl3MpVRFtZcOG/H+kmP39AbrZ3rcL1dOhhogst6dFDSofuYNm8NUTkS7mbq6Ts/opP1/9AQts+jJ84GKfLp9gRvJgN0ZfritCJanJ+2MC356toL6SlNPMM+9eFEVclgocH/ejuICmlHuYd++Lv74O9cVN7ipoqR3xVdoYN85ey7VgJnSf+gw/+MRaXvNOczanE0NodTxshDDehovzS93wmAtCIDDN6jp7I+EE2FJw9yLqF2zhv6MGDg7vjoO51Czr2H6wWoNsDuqvkZhapX+mZm3H9LHrtrGgvvajOIaugLg+msHXCQzS19kIcKVK2WSfa4eJlJ/6tJi8+nWJVHpfO5kKHPvh1NRef5xKfWtyQajbw7oSrOpJL5eAXC1m55wKKHqOYPK4nRjE7CF64g0ua0trlF9j2WTCbIjIw6/kwk8f3p31BNIfWLWVLdImotFTeUnacBt+xT4jyumN4cS9ffbGfFNG82owf+CL4e07jy9igJxjXw4iL+1fxxZ4kUfNmkB3GxoP5WNqYUVkQz/EN/+PfS8IoMGmLYUU+Cce3sCosVbgeKXBZzryVezin6M64yWPoZXRByOaXbLukXqu9CUU7Ty3jWUjkd2Fkm9sJR1QozrOVb49lCSm5s5xEl5vrJMPazy/CazEJC802oYMVFCREiknOcbLFUFVLfTtvJXvO6dFj3CTG9TIiZsdXLNx24fZnXSua0imoSNnH4k/XcyjBjH7jJxDgVMwJUc6CDWe4UvfrRtRwJXorwZtjodN4Xprog/RgSd3qcgc9bTHt6NS9o9qAqzLSyC6vEOO/kuAd54RAjiZo8ih6GMaz/ytRt5Rbe8UAa28f4YzFy6wk0kpqxXAnE5snSWYZSWmFQp7KSIxJpNrUG18PU937vDaaHSHhZFZIA9VMnWtATBq37SWpvQ+9XPXJPrWZJdtvPk9t9C5CDqVSIeRR6zhWJbJveQiHYoow9+5N97ZJHItqZmr1irCnnwp7cDSGQstu9LDM50ToMuYtiyRfaoq2tra4DkIPt/5IZTc/BrpUCD38jpW7LlFu6Mx9fSU7WEpsTJq6b2rTLnCmzIpePd0b7K6aJnXghk42pWvNHkMtdrEBne1aGZe2BQuffIwMsx6MnjyWQe0vc/bQOhZuOX+7vmvD0Amf+0QASAFnLmSL8q/3mwU+3h3EuRPZvfhz1h9KoW2/MUwMcObyie0EL9hC9BVpIivZgc18Ki3UCJ9v2aMblrk/E7psIcsicoQ06l7fyshd/FDZhYcGOlMq9fnKvVr0ogm0+aoGSoje8R2HMkUtjFx0l58/IK0eHDakQxVejP/Hqzz33CvMHOksvEgMYT8Lx1h2kYMHEoVA2fPgpIkEDhtP0CgleqpsIrYeJ0PnDJkQefMAXp77PM+9EkQ/KXgpyyan1IEBkx4jwFsKcgyw6/8IQUHDUJo31dQmyimuoSY1lihJ0DzuZ0gvD5w8+zLcz1MckMeJ6Awh4reiotbEk+GTg5jyzFQmjRxK4JPjuF+yJ1fzKbLsx6QnAvBWTycc6S8UP2ikEqmmN1NB6eWK+teaKKOkrN5KGFnj2EGcoDKfArXi6cKNfYeqhCTSi7JJyanGrJMv/Ts5oRBiHn8xjcKsNDJFqOHexVk4cRHQxB5mZ1wp2A5mctAohgwdz6RhbqjyItmvKa1da4rH8IlMnvIMT08KZEjgRCbcL4W3JSK4vSpsdiJnMkREa2SJY0cl3f0mMvP1Obzx3AN0MKihMC6WDJVCfN2Bjsoe+E16gdf/PpvnBjs1b0ZW0YnRL03nyRlTGeUkBlilh+e4mcya/hIzx3mJA6q5XHINVXkcYTtjRe878dDkSQQOGc5jkx7CSZVB2P7o24IdPacBWsbTlK5PiPNMfZZpo9zF+0oyc68IibuznBRc66CTDGs/vzim6yRenTWdGdNGiFaJpmfmUlRbQmyYCKwq9LF9aBJBgQEMfexRhokD8sIOcfrWvYt6Tk3URxjFg0dIqdXD8sFHmRw4gvFBgSj1qiiI2MMxaWwbUZV+iKXLDlNg3Isnp/vjpK63rnVpWk9bjh4mZvUrglWXuVyWT9yZdDE6xlg6eqLs/iCTZs7m7288zWBJx25BYeeFtBpIbSLnE69QlhxHsqERRgox6YpNprBGTLLOF2GgVOJpIvpK1z6vLqbUZhgvzh2J46Vm6lwDKkz8/sbLU5+qH/taio+dIq7RkFQXVGAT+DxzH7bhopZxrEmO4miuiMRNBxD07KOMHP8EY32b88z4SjKO7SGioAqF21j+MUeMo/gbaasvXEMEP2dWarUvLa+DMV6PTiFo2EiCnptAV9GuvB+jSasxxf2+7liKvroadY6kqgrSz5+nyMCTrp63lNukDtzQSc261gK7eUe7WH+MhK52TZIFj4eYPPkpnnl6IiOHjOLJCX0xktqdVSBCm+Yi7Lqvt/h/LUWnYkivrazrN9Ou9OxkSplo74EU4b8sBzFp8miGjZ/EKKUpqoJjbD2WQW1tBse2HqNAZYTb+FnMee555swcjq2wBTFhUWSqdK+vwusRpgeNZFjQNB7vKs6Rd4Yzac0Od7X7qgYqKSh1JPDFF3i4Y3vd5ecPSCsHhzUUJ10SgyteilmZm4O0htEGt5GvE7zsCz4Y6UJtZjzn1ZG9FbZW0vf6WFi3Vzt7lTQDL9Xd2Bu6O2ErTdyMjGnT1MKgDjRVjr6DB0ppZph+ih9jM8nPOEt4ZKL4xhylp62GfYt6mLr60t3JiKKorQR/+h/en7uYcJ1X9K5jTFvLxus/t2KGudl1K6GPgfplLpl5dwoob6Zh32FlMhcjo7lQ3Rbvzq44eHYUSip85aVYTsSnUoUNnVwtxScVZMYn1l2okrebeS/NYMaMmXy0NUl8UMaFxNzbg2VTV+7r7oRRURTfBX/GvPff4/PwgvovBZZudBV9RcnPhMx7n7fmzObdJdsJj80XZk0fS49OOClqKTm1gXnvvcWcV95nyc4IYvOb2aF6ZpiZCFFXGGFiIg2wMVYW0uU1CvTrOk+NWjavSrKZzp55fxftm8HzH21V78WsvZBIRrPjkDbYWUtGQg9jk8bzyNaSE+0Y2FljIf5VGJvcmMnW1gUtkvPI2zOfl0Q7Zzz/MVszhOOtTSUxQ0fjWpND3Hlptd8Aa1uLunSQhTV2amXOIT6t0Yy7NpYda74XwZHo34pC8krqJzfNqEtr6fsNaikvKxP/FxhaYmnWHo+u0uSogFMh/8d7b83hlXeXsDM8FnXS41b0HOnR31G8KOFSUjpZaZnQdQADRMCoSkkiNekiZ4va0LWHB2bN6nMxcR4/gp6uphQ0V+ca0KOdVVu1XVU4uNFJim1vnUBaDmT86N64ml8WdbvTOBZzJSdLnFHQwYUOah1qg0X75qyNFJMkbKjaNXgIOyOVbeDGyHc+Z9mytxjpVKvFvmRR1OI6tMXZvn7P9PV2laaTUVQjZKo7fS2FbSiL5VxSKpeiszHo0ROlWfNdo0Zda4ndvKNdbISOdk1qv+t93XAyKiTquyV8Ksqc+3m4CHNaigKTTvfRy1ScM/ccMZlpxPySjWmv++hkIibAcYl1q3vWNliphckMazupXpVkxWdSWpxKrJgMSH7Uw81GLaMGbiN5J/grln0wUth83etr6Gxfd3FlwzmKhC7dnrPQijZf1YA0gRrD6J5uWBrptar8/N5o9RZo2rCr36aNiPr/gFj15fHHu2NcmUb48n/x9kerOIU3Q6a8zLQBNvUHNaZ+ufyzNYRGXcNp4Gimz3mK/s1uvCl2jnUiX1tS1rCMXlOUh/oSGAN7Olg3Vv4W0MaBjm5SAJrNj+GnhZmywU3aV+XgTmepvkXHhFPMEtrnikeHWwJVB3+emT2b2Y3+Zg12vl2Y1Gmkz1kbeoZrTv0ZNV30W38p0KzHwIPAmc8zwc8HR3OpPaq69MjGNWyPLRUGYzgzZz2Kn48T5upgoEKdrtm4ZGczrs5uCc74P/PKTe2bPWswzq2mLa0lJ78WQzGUU29u5+xnGOx8p4lJC6nOIbXAjd4+YvxVyRw4GFvn6Bu4h3Vp4DKxp+LUDlfh5oGzsFNugc8ya8ID+DiaCxcoqCwg4fim21KydRjRwdsbS2kFJeoge6OKce/al24eYkJQdYmIvafIVLjh4yWFDNfRpZ3XJ86N0FXnmkOD89aGqhUuxNB04ZQBbUw1CH0TbVXdjYtBGlLL+Zw+HM6ZVAM6d3NTb3dodXQdQy12sflIW70+57O1u4i65sTAUc8wZ1r/X+eTTdzp2UtaWcvkzJEIzmSa655Kramm8rYgwQRTEWzVcRfqqw1tvqqBRhMoiXspP/eYVnN3dejT3tW9LpKvyiQjT8yKpXx8yHt1s6W9aWKy7UU39Swnn8w8ydzWUFxQWGegO3jg0vb6epwwJtWSMankSlHjnP+9QkV1RjirN56ltt/T/Ou/X4oZ7mL+885MJt92Acl1LhNz+KR6udw1YDzj/XxxM1NQfqtN1IoRzr36iBmU8Kmx54krkwooJ/1CvHCoYtbWu0+jmUmN6Cfp3/bYta9TH1VJBhdiY4mNTSb/Ni28Tns8lfbi3ypKSsQ4tPWio4MQeSNHOntLol1FpTDmelJKTL1MY4S9mPGrlf+aHhYe3iiVXXCtjmXX3qOcU49lY2q5EnOMyAIhA65DmDj+AXzdzEUzrs99Rf9eTiUu/SpWfk/z4YJgghd8xEv+0kpMEWk5RVxOTSS9zAa/ae+yYGkwCz5+AX8pKC7OIqe0UaeKDpBm39VXLmvY56Y7evYiMFbLpqizhbtonxKlazXnd+3jyLlcEZq2Fq0lJy1EzwaPzlLAUsM1oa0eUjuVjlSfP8DeI+fJk1b3dEHfnk7dJANaRXZmodRrYmwKyFUrsz1eLo0S3Aonhrz4HM+MfVDItYryk4c5Ke3Pa626NJeaK6Qc/Z7vfpFWzMzp/qAPNtWXSY3LoMxqENM+XMDS4M/4+KUhWAtZLk7L1Zh+a1g5yI7hbHZ7lJ6udOzmKQxrAefOpoGbD96SzLaonc3VucYI/SsqVdtVVXZKXTq5rTNOVhougNA6jpZY2DvUObzUJNKvSXW9RnGRJo1oym5b4NpZykmIsyRnkCcVUR5DyOsvCN/wH/ZmKLS0taoZdbiVa+QW1E9FinJIlxrY0BfXU8vV5J08yUW86NNVvbO7lWj+GN7ZLt48pdKJKxc4HCldje9OwMQx+Pm6iH6sEiP1a2hLp55dRe9VkBAeSUIbKaUsXRBkjGMnz7r2ZmehDgGE1yrIvSb+FZMpL0fatnehs5Xkv0pIzigS9ZJS79/yurSa/tFeMop1r291bgF1u06vkJMuaagVnk6N76wh/KPaOZRS1OStvrT5qjtxt+Xnt6OVg0NRoMdAxkgXNaji2P7lEtau/IIVh3OEzHQloE8HFGZdGDpMMp75/Lh1C3sObCNkVyy1Cgf8JgzASc8U6w6SU7nMic2rxO+DWR1R1MyKGmBmLpmRShJD17AyZAsRqXcypJqopSQphnhhtKtOrGfBV2sJCQkhZHMoBw//RHTGFXVAcjMGmLSRArRK0iL2sPvQPkJW7yNdWvq/jqIN5pbSbDCO0JWrRJkRpN5ekHo/2QQ/BxRXj7FifrDoh0X8b2cSKmMlj4xU3piZVBaQmSUsv6ENNu3qDH9t+mGCFy5k4R3vfScpaseGcgy6eOCo/vn1i1UkDMUxTvV72KT7KgbwiGQAio+wYtEKQtYFM3/pPi4lqXB2tapbaWmEvomJOIsgLZKdu8M4EPI1e9OvO0EF+tUp7BN9sHLhYlaGhhEZeZjw6DxJiOjtbU11ahgrVy1j4aI1hB48SuTho0QXVouvffFub0hbaxt1kF554juWrV3GgtXHKP81Em2mZOQjSmHecji84gshN2sJnr+c/ZcyqHZ2xvrWBkroOJ43o4Oc6CrDLTq/BT4jh9HJWEXx4TUsWrmedcELWbr/PEnV9rhqXJXWVB8jlEMfxE1PRdmP29mwZx/bQvYQW2uItV8gA6XU2HUMO3GfCI4M3foToBSjVnuBXQcuiSlPS+ryK6gMZ+GLwgm9+Br/Xv+jCNAVwjSN4dE+NkJgK0jdt55VKxeLenzPwchIDoefpVBIhEfvTnUXg92KYQe8fepW+aWN+i62Jpi7eNBB/YEBtr5e2KnlpiXtbL7O3UA4q70rWLx2PcuEbGWIsiz6dMNFQ2wo6by2cTT06EFfCyGfVSdZ/78VfLN0VSNdltBmt03weOAhuhorUCXv4MsvhN4LvT5crBL970cfR2OtbTXSWgfNKNrqk7ppBet2h7Ju6ffEi0mZ4wP34VrfFw0BvkDh6o2XpgBaTUv8Sgvs5h3tYgsCD31j2hhJZ0khYuceDh3YyOq9KXUBXItplFoWr+tSytJr0V7lYIZJWamyE2zdsJMD2zaxK/YqCuuBTBjohJ6eGw+M8RVaVUny9uV8sXY5i1YcEUGeOV0DeuJooGN9FaaYpW5jybpQdq9bzXfxFSgc+9DbVRzZ1poOUt0qT7J5mejLBWuIKJfK1ITwRXf0VXdGd/n5Y3FDd1sLMdP0m/Eq0wP74CEG98eYazj2e4QZbz6Nn41kAE1xGzOTt6YE0KXqLNs3HybDTgRCs15msq80ezVH+fCjDPFqj6KskHxFb6Y80UuoZXMwwuWBCYzt70X7iiSiotMp1WUScBP6WPUcyjAnIWiqElJ/iSQ8PJzwA6Fs+mYli/+5iB2J0myoMcIBjH2c4V3tMMg8RVhkBtajxHt7qfbllFeIQE3PmQeefIT+HS2oSDhLdGqJenZ/O5b4Tn6ZWRP86KyXwrGoy9j1epjpbz7HUKlO9ajyMkgSseGNFT7dMXTtRN3FDEY4dXSsDxQNcejoJeaFEpZ0chPjoH4tMHBl6MxXmDq8B1a5UYRHpmDkG8j0N/7GgPa3jpBkFEcxbXg3rA0yORH2E6nWw5gy3FV8J2aK5aLSNoOY8dpUhvsYEL9vCxt2nqHMeTBPzX2WIQ6m2PhN5bWpw/ExjGffpk3sjCrD2f8p5s70x0FPGCflCP42pIsI2krIzTemz5RH6d08QbkFE5yGPivOOYJeVrmcCP+JJKNuBE5/hWkDbG8z4mp0Hs/G6CAnuspwi84vhtLpIWZKfd/LgtwTIvBOMsQ3cDpvTOtPe40N1VQfEVi5BTL7rakM6VLJme1bCcuwYdCEF5gzuYcIOTRhQ58RA0QP1ApfuZ/jedUtqEtrYIy1Ww+GBM3hn7OEPEldr7ZdLwv5VmIYf5BNG3YTVeaM/1OvMnOIcGp1P7yFtnh176xOM13XQYWdG53MpIrb07ubQ8PvWtTOZulcY4zwCHgAl5xofhGzBYfeE3lxnHcTAYEO42jizbgXJ9HftQ2laSnkWQ/m8Yec1b+uQ7vdVkj6/uZ0Anu7QdIvxJTZ02/MDN6cMQgbqf3a2qq1DpowRTnh78x9qjNXToRzstSB3oFP88IoLyEB9Ri60Pt+aWXOEMdeXbBvUuZa6FeaOYbqfmrSLuq0D+BmzLoxdtoIuorZbabog8hUW0YJ/yvljYQhpsWL8w2p5fY3p5SNPRkzew5ThnSk6sxuNodlYTfoUWbNeQxf9QKGgbDtT/Pm9Ifp7SFE4ceLlDn2ZcyM2czws0ehY331lI/y+twn6HzlF8JOXsG59yiee2EEntJ1AiZdePhvAXhZ61OWW4Siz0Se6N3UvXoVWn3VHbtIZ/n5Y6FQCepfyzRGlUPEok9ZF+fNjPnT6SOipcqSy1ypKOT011+wKaYG5ZT3mO1Xlyr5bZDutRbMOyFZ9Hvpbabf13hvk4yMzF8P6X5sH7MwvISOQe/xhr/apcrckRqKjy/nrVX5BL47lzGujVa8ZWS08ueUn9ZfOfyzoLpGUUG5iL+SOX4gktOxF0lIzyL9QjQXcirF7KgLfb3r00m/FSKAPX0sHpVFTwZ6NzUrkpGRkZG5nXKSwjcSErKcxd9EUdvJjwEucmAooyt/bvmRg8Om0HMl4IXpjB/kSFnUdpao9/B9xcbweFCObpQm/61QUX7hKPuSTen9+HCU6v0eMjIyMjK6UUt55mnCj6Wg8B7J89MG1t0qSUZGJ/7c8iOnlWVkZGRkZGRkZBqQVw5lZGRkZGRkZGQakINDGRkZGRkZGRmZBuTgUEZGRkZGRkZGpgE5OJSRkZGRkZGRkWngrlyQUp0fzd7v9xAZlUCBy2Q+ecMfTU8i/nNQTn5SCnkqazp62qC+kD0/nPlvh5Bg5M/sRUEo79oN08vI+OkAO8N/IjqhgCpzJ3z7PMTDo+7Hs13TV1JXF10iMuwwP5+9wKVCI1y9u9JrwBAG93FWP3FERkZGRkZG5q/LXVg5LCNu/7fs+CmBUoee+Pewv3En+j8jRT+zft4CFm4+96ue69t8KskOX828lbs5JQJD6dGp0jOVzx76moVLw8lo6s79ZefY/NkivtkfRaZZFwZ6G5N19ijblv2XL8MzaephezIyMjIyMjJ/De5CcFhKTpr0KGxL+o79G0EjlfXP5v2TUlNN5a1rr1b9eP6TT/jkozF0vFurhuUX2b89mgqs6f3Mx3y57Es+mz0cR4WKirhDHI7T9ID2avJPHiQ8rwo9r0d5fc4Mps76O88OsBbflXLp8Fmy5BsbycjIyMjI/KXR/1BQ/7oVqCTj+E72nEymqLKGyvIr5NXa0LlkJ39/ZzG7S6xwPLeO/4u2ZaivFaWJkWxdu5ylqzay+1gsWeXtcPW0x1QKWaXU7KufsC7GCC+zaDatWsfGPb+QYdABN0UM27/5mpCNezmVocCxixtWhpruPllJfvQ+NqxZxap1m/g+/BdSStrh2blD3Tmo5WrGSXZuWMOK5d8QemsdJKoLiP1hGxs3bGDdpjCis8oxsXfCsV01sSHv887KExRJxxVFExa6jxjz3vi1O8Oitz9ny9FKuozwxVaUVXMlgcit6/hq6Wo27T5GTFYlFq5u2JtK0WMO4fPf5JN1sZh4tSF2x3pWr95KROJVLDw70kF9zM3UFqRwLruQUoO+TA7qhZVCD+P2CjL3HydZBKz6nvfj5173hOQb6GHq2JX+vXzo5uONp5W0pmuEQfE5wqLzwcCd+wOUoqy6o2VkZGRkZGT+erTyymE1VxLPkVAiJScryT4bwZHEKw0Pra6N3kXIoVQqxCcVKftY/Ol6DiWY0W/8BAKcijmx4ysWbDhzc3o2O4yNB/OxtDGjsiCe4xv+x7+XhFFg0hbDinwSjm9hVViqxnRobcYPfBH8PafxZWzQE4zrYcTF/av4Yk+SqKmorfT9vJXsOadHj3GTGNfLiBhRh4XbLlCuLuEy0RsW8fmmw0QXWtKjhyW5J3awbN4aIvJVtPPsx+Du9Q/WN+9If/8H6WGv4dH2FYnsXvw56w+l0LbfGCYGOHP5xHaCF2wh+kpN/UES6fywbivnay2wNLpG5tm9rNufQFX9t43Rs+/H32a9zX/eDcRJXQHRp4nniZbyy9jS2bWJ5ywbtcPO1Rsf1/rH7VWkc+pEknihh0WPLji2skTIyMjIyMjI/LFo5VDAFGXQqwR1lC7LsMZ/9ucEBym5vu5VXVCBTeDzzH3YhosHj5BSq4flg48yOXAE44MCUepVURCxh2MZ6ginjopOjH5pOk/OmMooJ0MRA+nhOW4ms6a/xMxxXuKAai6XXGsIQG9QQ2FcLBkqBUaWHeio7IHfpBd4/e+zeW6wEwaUEBsWRlyFPrYPTSIoMIChjz3KMCfICzvE6Su1Irg8ztaIbFQKL8b/41Wee+4VZo50FnWKIeznQhwHjOeJAG9RlsCuvwhAJzFSeWtQVktZ7GEOpFSA5SAmTR7NsPGTGKU0RVVwjK3HMhoFtlWYB7zA3Odm8MpTfTEUrSpLy0FK0jeJvr66f6vzT/LNqkMUoMC462Dud9UQpDZGWpmdMYMZL/+b7xKM6Th0Gq+O80bLr2RkZGRkZGT+5NzbdSLLgYwf3RtX88vEn78sPjDA2tZCBEECC2vspChLlUN8Won0SR16ZpiZiGoqjDBRPz/YGCuLNuJfBfoGd3q2sT6WHp1wUtRScmoD8957izmvvM+SnRHE5ovgszZX1EFKCFeTt2c+L0mB0vMfszWjSnyXSmLGVYqTLpEpRZ2Gzrg5SCnYNriNfJ3gZV/wwUgXUQNdqCAzLrFuJdLaBit1Y82wtpPaUElWfCal0kdqzHF3shLlioDW2FjH8mu5mniQpQvWcrygGiPHB5n6t4E4aHvss7E9Pfz98ffzwcHwCglhO9h+KlO9oiojIyMjIyPz1+XeBocNwdG9wcBtODNnPYqfjxPm6kirgoKESDYu2Uls+fW1RkMc/Kcye/bsRn/PMNjZiJrqmttWJPXbtKm7Xc3vgmtk/xTCp//dzJkC0b29J/P63Mn0sWmqhrVUlhSSn5FOrn4XRgYFETRlFnOf7oOhKo8zG/Zwuky+XllGRkZGRuavzG+zw0zfnk7dLMWLKrIzC+v21BUXkCstWyns8XJpjeubq7icmkh6mQ1+095lwdJgFnz8Av7WBuJcWeRctcKjs5QCrhEhlnitVKJUOlJ9/gB7j5wnr0KP9q7u4hupqEwy8qRalhIb8h4zZszko71pGlLZmjDGsZNnXbo2Owt1MZRRkHtN/GtEBy9Hbr1sRCeq84jeEsy/Vx4hU+GO/zNv8t7z/rg1XEkjUUNJRhyxsbHEJuZTqcriyOL3efuj+Szfd5G67Y4VXC64Io5shKqEjAviN7EXSMyv230pIyMjIyMj89fgtwkOaYdy6IO46ako+3E7G/bsY1vIHmJrDbH2C2SgU2uszSmoTg1j5aplLFy0htCDR4k8fJTowmr0PHzxbm+Nz8hhdDJWUXx4DYtWrmdd8EKW7j9PUrU9riKI1PMYyJiuIlBVxbH9yyWsXfkFKw7niHivKwF9OqjTvgozc6Qwl8TdrBRlhESk3hxoiS42Uw5mmJuxiAlPsHXDTg5s28Su2KsorAcyYaBTiwahJu6AqGucCO0EFUmEr/qYV6XUuPrvJd4NTaZWfJt+eBULFy6suw+jogMDJw7HzaiSlD2f8/a7HzPv/Xf5+LuL4lhDbIc8gI+ZqE1tOodFXyxcGMzmc3fc8SgjIyMjIyPzJ+M3Cg4VGLsFMvutqQzpUsmZ7VsJy7Bh0IQXmDO5hwgdWwMDbPym8trU4fgYxrNv0yZ2RpXh7P8Uc2f64yBabuD0EDNfm8rwXhbknhDBY5IhvoHTeWNaf9qrIz97/Ga8yvTAPniQwo8x13Ds9wgz3nwaP5u6TX16LoN4cuwAOra/RkJUDKmlGnbtGXsyZvYcpgzpSNWZ3WwOy8Ju0KPMmvMYvu3uxo0Q9TA3b6NhcPUw7TRa9Pt0Ant3pn1lFoki1rXv0pfhU/7BGxPkC1JkZGRkZGT+6tyVx+fJyMjIyMjIyMj8MfmNVg5lZGRkZGRkZGR+j8jBoYyMjIyMjIyMTANycCgjIyMjIyMjI9OAHBzKyMjIyMjIyMg0IAeHMjIyMjIyMjIyDcjBoYyMjIyMjIyMTANycCgjIyMjIyMjI9OAHBzKyMjIyMjIyMg0IAeHMjIyMjIyMjIyDcjBoYyMjIyMjIyMTANycCgjIyMjIyMjI9OAHBzKyMjIyMjIyMg0IAeHMjIyMjIyMjIy9cD/A4fgwAxKDDpJAAAAAElFTkSuQmCC)"
      ],
      "metadata": {
        "id": "eD7YvvSkItlp"
      }
    },
    {
      "cell_type": "code",
      "source": [
        "input_ids = torch.tensor([2,3,5,1])\n",
        "vocab_size = 6\n",
        "output_dim = 3"
      ],
      "metadata": {
        "id": "jvWNYUnj_ZKE"
      },
      "execution_count": null,
      "outputs": []
    },
    {
      "cell_type": "code",
      "source": [
        "torch.manual_seed(123)\n",
        "embedding_layer = torch.nn.Embedding(vocab_size, output_dim)\n",
        "print(embedding_layer.weight)"
      ],
      "metadata": {
        "colab": {
          "base_uri": "https://localhost:8080/"
        },
        "id": "4LSneZkR_ozk",
        "outputId": "23f8eb28-c597-4fcf-c745-d3af2e7ffdfd"
      },
      "execution_count": null,
      "outputs": [
        {
          "output_type": "stream",
          "name": "stdout",
          "text": [
            "Parameter containing:\n",
            "tensor([[ 0.3374, -0.1778, -0.1690],\n",
            "        [ 0.9178,  1.5810,  1.3010],\n",
            "        [ 1.2753, -0.2010, -0.1606],\n",
            "        [-0.4015,  0.9666, -1.1481],\n",
            "        [-1.1589,  0.3255, -0.6315],\n",
            "        [-2.8400, -0.7849, -1.4096]], requires_grad=True)\n"
          ]
        }
      ]
    },
    {
      "cell_type": "markdown",
      "source": [
        "Looking up embedding for token 3"
      ],
      "metadata": {
        "id": "9cXvxklAJQib"
      }
    },
    {
      "cell_type": "code",
      "source": [
        "print(embedding_layer(torch.tensor([3])))"
      ],
      "metadata": {
        "colab": {
          "base_uri": "https://localhost:8080/"
        },
        "id": "AQBN7ajo_1RL",
        "outputId": "b3fb516b-9ce7-4174-b476-358e8cc19791"
      },
      "execution_count": null,
      "outputs": [
        {
          "output_type": "stream",
          "name": "stdout",
          "text": [
            "tensor([[-0.4015,  0.9666, -1.1481]], grad_fn=<EmbeddingBackward0>)\n"
          ]
        }
      ]
    },
    {
      "cell_type": "code",
      "source": [
        "print(embedding_layer(input_ids))"
      ],
      "metadata": {
        "colab": {
          "base_uri": "https://localhost:8080/"
        },
        "id": "u56aDY9nAWtu",
        "outputId": "be4a9bc1-78fe-4e3a-d7eb-ccafdc19fc82"
      },
      "execution_count": null,
      "outputs": [
        {
          "output_type": "stream",
          "name": "stdout",
          "text": [
            "tensor([[ 1.2753, -0.2010, -0.1606],\n",
            "        [-0.4015,  0.9666, -1.1481],\n",
            "        [-2.8400, -0.7849, -1.4096],\n",
            "        [ 0.9178,  1.5810,  1.3010]], grad_fn=<EmbeddingBackward0>)\n"
          ]
        }
      ]
    },
    {
      "cell_type": "markdown",
      "source": [
        "# 2.8 Encoding word positions"
      ],
      "metadata": {
        "id": "PnU_NceHAoS6"
      }
    },
    {
      "cell_type": "markdown",
      "source": [
        "The self-attention mechanism used by LLMs does not encode the postion or order of the tokens within a sequence. This means that the same token ID gets encoded into the same vector representation regardless of its position. (Since the position of words can influence their meaning in drastic ways this is an issue that needs to be rectified)\n",
        "\n",
        "*Relative Positional Embeddings*\n",
        "It emphasises the distance between tokens. The advantage being the model generalises better to sequences of varying length.\n",
        "\n",
        "*Absolute Positional Embeddings*\n",
        "\n",
        "For each position in the sequence a unique embedding is aded to the token's embeddding to convey its exact location. Each position has a distinct embedding that is added\n",
        "\n",
        "\n",
        "GPT Models use aboslute positional embeddings that are optimized during training instead of being fixed or predefined."
      ],
      "metadata": {
        "id": "JwpVSVJ_KCai"
      }
    },
    {
      "cell_type": "code",
      "source": [
        "vocab_size = 50257\n",
        "output_dim = 256\n",
        "token_embedding_layer = torch.nn.Embedding(vocab_size, output_dim)"
      ],
      "metadata": {
        "id": "AhyLHmr8Aq6K"
      },
      "execution_count": null,
      "outputs": []
    },
    {
      "cell_type": "markdown",
      "source": [
        "Tokenization"
      ],
      "metadata": {
        "id": "h3g0mdJzMOIM"
      }
    },
    {
      "cell_type": "code",
      "source": [
        "max_length = 4\n",
        "batch_size = 8\n",
        "dataloader = create_dataloader_v1(\n",
        "    raw_text,\n",
        "    batch_size = batch_size,\n",
        "    max_length = max_length,\n",
        "    stride = max_length,\n",
        "    shuffle = False\n",
        "  )\n",
        "data_iter = iter(dataloader)\n",
        "inputs, targets = next(data_iter)\n",
        "print(\"Token IDs: \\n\", inputs)\n",
        "print(\"\\nInputs shape: \\n\", inputs.shape)\n"
      ],
      "metadata": {
        "colab": {
          "base_uri": "https://localhost:8080/"
        },
        "id": "yr0SIY4nBF7a",
        "outputId": "80d229d8-c89e-423a-cf80-161b53c994f5"
      },
      "execution_count": null,
      "outputs": [
        {
          "output_type": "stream",
          "name": "stdout",
          "text": [
            "Token IDs: \n",
            " tensor([[   40,   367,  2885,  1464],\n",
            "        [ 1807,  3619,   402,   271],\n",
            "        [10899,  2138,   257,  7026],\n",
            "        [15632,   438,  2016,   257],\n",
            "        [  922,  5891,  1576,   438],\n",
            "        [  568,   340,   373,   645],\n",
            "        [ 1049,  5975,   284,   502],\n",
            "        [  284,  3285,   326,    11]])\n",
            "\n",
            "Inputs shape: \n",
            " torch.Size([8, 4])\n"
          ]
        }
      ]
    },
    {
      "cell_type": "markdown",
      "source": [
        "Embedding"
      ],
      "metadata": {
        "id": "Tmbvd6NCMQT1"
      }
    },
    {
      "cell_type": "code",
      "source": [
        "token_embeddings = token_embedding_layer(inputs)\n",
        "print(token_embeddings.shape)"
      ],
      "metadata": {
        "colab": {
          "base_uri": "https://localhost:8080/"
        },
        "id": "CNyOgEz3Bw2z",
        "outputId": "0279a8e8-de7c-436b-ad7e-e926b51e7272"
      },
      "execution_count": null,
      "outputs": [
        {
          "output_type": "stream",
          "name": "stdout",
          "text": [
            "torch.Size([8, 4, 256])\n"
          ]
        }
      ]
    },
    {
      "cell_type": "markdown",
      "source": [
        "Creating Positional Embedding layer\n",
        "\n",
        "The input to positional embeddings is `torch.arange(context_length)` which makes a sequence of $0,1,2, … context \\ length -1$\n",
        "- `context_length`  - represents the supported input size of the LLM. Since we are encoding positional data the `context_length` makes a good choice for this purpose\n"
      ],
      "metadata": {
        "id": "SJaNuRdoMaoA"
      }
    },
    {
      "cell_type": "code",
      "source": [
        "context_length = max_length\n",
        "pos_embedding_layer = torch.nn.Embedding(context_length, output_dim)\n",
        "pos_embeddings = pos_embedding_layer(torch.arange(context_length))\n",
        "print(pos_embeddings.shape)"
      ],
      "metadata": {
        "colab": {
          "base_uri": "https://localhost:8080/"
        },
        "id": "1NhkV7OsB50C",
        "outputId": "dc42ae69-f4d5-4423-a1dc-e35e2ed22f17"
      },
      "execution_count": null,
      "outputs": [
        {
          "output_type": "stream",
          "name": "stdout",
          "text": [
            "torch.Size([4, 256])\n"
          ]
        }
      ]
    },
    {
      "cell_type": "markdown",
      "source": [
        "The final input embeddings that are input into the LLM"
      ],
      "metadata": {
        "id": "rL1sdTyHOLia"
      }
    },
    {
      "cell_type": "code",
      "source": [
        "input_embeddings = token_embeddings + pos_embeddings\n",
        "print(input_embeddings.shape)"
      ],
      "metadata": {
        "colab": {
          "base_uri": "https://localhost:8080/"
        },
        "id": "owZ7riEiCV0Z",
        "outputId": "8882dd26-db35-4c6a-9a5b-5fa7f4da7230"
      },
      "execution_count": null,
      "outputs": [
        {
          "output_type": "stream",
          "name": "stdout",
          "text": [
            "torch.Size([8, 4, 256])\n"
          ]
        }
      ]
    },
    {
      "cell_type": "markdown",
      "source": [
        "![{9FE70856-BFDF-4566-9D04-B84920BC5C43}.png](data:image/png;base64,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)"
      ],
      "metadata": {
        "id": "FSV8sYS3Nz8s"
      }
    },
    {
      "cell_type": "markdown",
      "source": [
        "# TODO: Implement BPE from scratch"
      ],
      "metadata": {
        "id": "oC5ZP6i3mzta"
      }
    },
    {
      "cell_type": "code",
      "source": [
        "from transformers import AutoTokenizer\n",
        "tokenizer = AutoTokenizer.from_pretrained(\"gpt2\")"
      ],
      "metadata": {
        "id": "0N5PI7zoDd8A",
        "colab": {
          "base_uri": "https://localhost:8080/",
          "height": 286,
          "referenced_widgets": [
            "b71a676b772f4429aead938429fe2986",
            "d9016d2dab0f47c293628537b7c8da7e",
            "63977819457348e3ada3df7410c23b58",
            "fcdb35c34eda416093292357f58c4fcd",
            "a73440022ce24d77b3c1c89863b806e4",
            "68de86a49ce844828cf31ce28c5c9cbb",
            "5883eb0048d7483aba9667004d571d43",
            "cc8f7606590e426388cff89d8d5e1350",
            "af9b93cd1e7a4deeaba5be90337335fd",
            "0518fbe588fd4a489f3820d19c40fee0",
            "896880fa6ef043a68d5e4ef69c5a0948",
            "9e5047c71eba4d1eaee3f58f4d58d62d",
            "33d268bf4dd9428da0dbb8fbac4d8bf6",
            "0951ea6f3f98409982089b8f241e0b32",
            "6b5defbac0fb4887a5a62bddf890f1d9",
            "c8a1ae71d87f476faa531fa9500e9629",
            "fd0d1e90bbe54b26a56d1eb3e7f2c278",
            "d1f4e48db8f941009534e0747143427e",
            "58ca74149cbc4515b12df9ba7d640895",
            "72893fb81e474185bb033d6b24d13a49",
            "94924b80cfef4a72917f95eab4bcd88a",
            "9b20a43d62ad406fa55cea977b491d74",
            "36c9fe7ad1d7448d8fb8ee2bdab55b32",
            "c3dceabbe87645a6937363c943d0f684",
            "b49c34fe5eb4481c990ccf3f30ae7dd9",
            "be951333a6674d2889f8ce18448877b3",
            "5802bfba6aea44e8becbd8c1bcd863ab",
            "ce5b53f3d20246e7828022e0ec555d2b",
            "239120fdc9524e72b86d89c2858c4a4f",
            "3bcafa1f5ff44583b8e47b478e06af2b",
            "a672eb2bf69a477994e4996a24a189bd",
            "3c0ee1e7247a4d30b1225236cddd0257",
            "536e2b3f0f29473193634f291b811147",
            "927e983b0a5e410e8e20ef6126911763",
            "4eecab3d50ad4d049df086aa3648025c",
            "36f4c0cdcf014e068ae0dfbede26231d",
            "9e505a4373a140149e8cecb7ec34758a",
            "798a68af7abf47e2b2d471b9482aeca8",
            "aa20898123314c4b8a874aa866e05a97",
            "595e40c0380240718c8a12607a8278fb",
            "bfb215b77a08423db7c8ad90bbaddfa9",
            "99fce6d675f2444c83b8bccef89792cc",
            "1d97a61fa1964f4a9b28cdeb4d1882e8",
            "7e0dc61ae9e9485da40f37d767c0b85b",
            "fe762c160f8d459ea7e537a899ea1c7c",
            "0c8d7a32474c4cd2a3c36a58959ab94f",
            "d2ea10b90c9a4351a41643d7918eb2ce",
            "5814dcbaa32a4f77818dfbbdfd3795ca",
            "2a6e2e99c6bc42cbbe9cd2623ffb400a",
            "b6c753282cec44c289db73cf3a01fd07",
            "9ef32763a7504c2d87e92f231b0d6092",
            "b2956a95450e4eb59b8b846653fabd7a",
            "dcb1fb171a6741a798d87a4ca4afaf9e",
            "4fc862f5f41a47b0a75672f5b5fe1b49",
            "6cece1acd63b4e7480a6bca061f8798c"
          ]
        },
        "outputId": "3a6d1989-eeac-446f-d6fa-b7455ff070a6"
      },
      "execution_count": null,
      "outputs": [
        {
          "output_type": "stream",
          "name": "stderr",
          "text": [
            "/usr/local/lib/python3.11/dist-packages/huggingface_hub/utils/_auth.py:94: UserWarning: \n",
            "The secret `HF_TOKEN` does not exist in your Colab secrets.\n",
            "To authenticate with the Hugging Face Hub, create a token in your settings tab (https://huggingface.co/settings/tokens), set it as secret in your Google Colab and restart your session.\n",
            "You will be able to reuse this secret in all of your notebooks.\n",
            "Please note that authentication is recommended but still optional to access public models or datasets.\n",
            "  warnings.warn(\n"
          ]
        },
        {
          "output_type": "display_data",
          "data": {
            "text/plain": [
              "tokenizer_config.json:   0%|          | 0.00/26.0 [00:00<?, ?B/s]"
            ],
            "application/vnd.jupyter.widget-view+json": {
              "version_major": 2,
              "version_minor": 0,
              "model_id": "b71a676b772f4429aead938429fe2986"
            }
          },
          "metadata": {}
        },
        {
          "output_type": "display_data",
          "data": {
            "text/plain": [
              "config.json:   0%|          | 0.00/665 [00:00<?, ?B/s]"
            ],
            "application/vnd.jupyter.widget-view+json": {
              "version_major": 2,
              "version_minor": 0,
              "model_id": "9e5047c71eba4d1eaee3f58f4d58d62d"
            }
          },
          "metadata": {}
        },
        {
          "output_type": "display_data",
          "data": {
            "text/plain": [
              "vocab.json:   0%|          | 0.00/1.04M [00:00<?, ?B/s]"
            ],
            "application/vnd.jupyter.widget-view+json": {
              "version_major": 2,
              "version_minor": 0,
              "model_id": "36c9fe7ad1d7448d8fb8ee2bdab55b32"
            }
          },
          "metadata": {}
        },
        {
          "output_type": "display_data",
          "data": {
            "text/plain": [
              "merges.txt:   0%|          | 0.00/456k [00:00<?, ?B/s]"
            ],
            "application/vnd.jupyter.widget-view+json": {
              "version_major": 2,
              "version_minor": 0,
              "model_id": "927e983b0a5e410e8e20ef6126911763"
            }
          },
          "metadata": {}
        },
        {
          "output_type": "display_data",
          "data": {
            "text/plain": [
              "tokenizer.json:   0%|          | 0.00/1.36M [00:00<?, ?B/s]"
            ],
            "application/vnd.jupyter.widget-view+json": {
              "version_major": 2,
              "version_minor": 0,
              "model_id": "fe762c160f8d459ea7e537a899ea1c7c"
            }
          },
          "metadata": {}
        }
      ]
    },
    {
      "cell_type": "code",
      "source": [
        "corpus = [\n",
        "    \"This is the Hugging Face Course.\",\n",
        "    \"This chapter is about tokenization.\",\n",
        "    \"This section shows several tokenizer algorithms.\",\n",
        "    \"Hopefully, you will be able to understand how they are trained and generate tokens.\",\n",
        "]"
      ],
      "metadata": {
        "id": "JOcusKvdENCg"
      },
      "execution_count": null,
      "outputs": []
    },
    {
      "cell_type": "code",
      "source": [
        "from collections import defaultdict\n",
        "\n",
        "word_freqs = defaultdict(int)\n",
        "\n",
        "for text in corpus:\n",
        "  words_with_offsets = tokenizer.backend_tokenizer.pre_tokenizer.pre_tokenize_str(text)\n",
        "  new_words = [word for word, offset in words_with_offsets]\n",
        "  for word in new_words:\n",
        "    word_freqs[word] += 1\n",
        "\n",
        "print(word_freqs)"
      ],
      "metadata": {
        "colab": {
          "base_uri": "https://localhost:8080/"
        },
        "id": "QX61C0A3C9GI",
        "outputId": "ec10f243-b94e-487d-b7aa-39708a2a7d6c"
      },
      "execution_count": null,
      "outputs": [
        {
          "output_type": "stream",
          "name": "stdout",
          "text": [
            "defaultdict(<class 'int'>, {'This': 3, 'Ġis': 2, 'Ġthe': 1, 'ĠHugging': 1, 'ĠFace': 1, 'ĠCourse': 1, '.': 4, 'Ġchapter': 1, 'Ġabout': 1, 'Ġtokenization': 1, 'Ġsection': 1, 'Ġshows': 1, 'Ġseveral': 1, 'Ġtokenizer': 1, 'Ġalgorithms': 1, 'Hopefully': 1, ',': 1, 'Ġyou': 1, 'Ġwill': 1, 'Ġbe': 1, 'Ġable': 1, 'Ġto': 1, 'Ġunderstand': 1, 'Ġhow': 1, 'Ġthey': 1, 'Ġare': 1, 'Ġtrained': 1, 'Ġand': 1, 'Ġgenerate': 1, 'Ġtokens': 1})\n"
          ]
        }
      ]
    },
    {
      "cell_type": "code",
      "source": [
        "alphabet = []\n",
        "\n",
        "for word in word_freqs.keys():\n",
        "  for letter in word:\n",
        "    if letter not in alphabet:\n",
        "      alphabet.append(letter)\n",
        "alphabet.sort()\n",
        "\n",
        "print(alphabet)"
      ],
      "metadata": {
        "colab": {
          "base_uri": "https://localhost:8080/"
        },
        "id": "InDsmJ_FDwQ5",
        "outputId": "de636dc9-8c82-4649-91c4-6f328e646d55"
      },
      "execution_count": null,
      "outputs": [
        {
          "output_type": "stream",
          "name": "stdout",
          "text": [
            "[',', '.', 'C', 'F', 'H', 'T', 'a', 'b', 'c', 'd', 'e', 'f', 'g', 'h', 'i', 'k', 'l', 'm', 'n', 'o', 'p', 'r', 's', 't', 'u', 'v', 'w', 'y', 'z', 'Ġ']\n"
          ]
        }
      ]
    },
    {
      "cell_type": "code",
      "source": [
        "vocab = [\"<|endoftext|>\"]+alphabet.copy()\n",
        "splits = {word: [c for c in word] for word in word_freqs.keys()}"
      ],
      "metadata": {
        "id": "FpEFIwJkEplo"
      },
      "execution_count": null,
      "outputs": []
    },
    {
      "cell_type": "code",
      "source": [
        "def compute_pair_freqs(splits):\n",
        "  pair_freqs = defaultdict(int)\n",
        "  for word, freq in word_freqs.items():\n",
        "    split = splits[word]\n",
        "    if len(split) == 1:\n",
        "      continue\n",
        "    for i in range(len(split) - 1):\n",
        "      pair = (split[i], split[i+1])\n",
        "      pair_freqs[pair] += freq\n",
        "  return pair_freqs\n"
      ],
      "metadata": {
        "id": "SCmln2ogE54P"
      },
      "execution_count": null,
      "outputs": []
    },
    {
      "cell_type": "code",
      "source": [
        "pair_freqs = compute_pair_freqs(splits)\n",
        "\n",
        "for i, key in enumerate(pair_freqs.keys()):\n",
        "  print(f\"{key}: {pair_freqs[key]}\")\n",
        "  if i >= 5:\n",
        "    break"
      ],
      "metadata": {
        "colab": {
          "base_uri": "https://localhost:8080/"
        },
        "id": "GCw_yzZYFT--",
        "outputId": "2d6588f1-6383-4157-cd5a-252ea765b264"
      },
      "execution_count": null,
      "outputs": [
        {
          "output_type": "stream",
          "name": "stdout",
          "text": [
            "('T', 'h'): 3\n",
            "('h', 'i'): 3\n",
            "('i', 's'): 5\n",
            "('Ġ', 'i'): 2\n",
            "('Ġ', 't'): 7\n",
            "('t', 'h'): 3\n"
          ]
        }
      ]
    },
    {
      "cell_type": "code",
      "source": [
        "best_pair = \"\"\n",
        "max_freq = None\n",
        "\n",
        "for pair, freq in pair_freqs.items():\n",
        "  if max_freq is None or max_freq < freq:\n",
        "    best_pair = pair\n",
        "    max_freq = freq\n",
        "\n",
        "print(best_pair, max_freq)"
      ],
      "metadata": {
        "colab": {
          "base_uri": "https://localhost:8080/"
        },
        "id": "0CCxKJiQFiYy",
        "outputId": "88ebb931-845c-4d1f-bfdd-19c6570900ba"
      },
      "execution_count": null,
      "outputs": [
        {
          "output_type": "stream",
          "name": "stdout",
          "text": [
            "('Ġ', 't') 7\n"
          ]
        }
      ]
    },
    {
      "cell_type": "code",
      "source": [
        "merges = {(\"Ġ\", \"t\"): \"Ġt\"}\n",
        "vocab.append(\"Ġt\")"
      ],
      "metadata": {
        "id": "frYDavv1GEGT"
      },
      "execution_count": null,
      "outputs": []
    },
    {
      "cell_type": "code",
      "source": [
        "def merge_pair(a,b,splits):\n",
        "  for word in word_freqs:\n",
        "    split = splits[word]\n",
        "    if len(split) == 1:\n",
        "      continue\n",
        "\n",
        "    i = 0\n",
        "    while i < len(split) - 1:\n",
        "      if split[i] == a and split[i + 1] == b:\n",
        "        split = split[:i] + [a+b] + split[i+2:]\n",
        "      else:\n",
        "        i += 1\n",
        "    splits[word] = split\n",
        "  return splits"
      ],
      "metadata": {
        "id": "jZr7mBhVGIs2"
      },
      "execution_count": null,
      "outputs": []
    },
    {
      "cell_type": "code",
      "source": [
        "splits = merge_pair(\"Ġ\", \"t\", splits)\n",
        "print(splits[\"Ġtrained\"])"
      ],
      "metadata": {
        "colab": {
          "base_uri": "https://localhost:8080/"
        },
        "id": "YgSTNZAlGgS1",
        "outputId": "de93bde8-e821-4633-c523-72db6b35dc10"
      },
      "execution_count": null,
      "outputs": [
        {
          "output_type": "stream",
          "name": "stdout",
          "text": [
            "['Ġt', 'r', 'a', 'i', 'n', 'e', 'd']\n"
          ]
        }
      ]
    },
    {
      "cell_type": "code",
      "source": [
        "vocab_size = 50\n",
        "\n",
        "while len(vocab) < vocab_size:\n",
        "  pair_freqs = compute_pair_freqs(splits)\n",
        "  best_pair= \"\"\n",
        "  max_freq = None\n",
        "  for pair, freq in pair_freqs.items():\n",
        "    if max_freq is None or max_freq < freq:\n",
        "      best_pair = pair\n",
        "      max_freq = freq\n",
        "  splits = merge_pair(*best_pair, splits)\n",
        "  merges[best_pair] = best_pair[0] + best_pair[1]\n",
        "  vocab.append(merges[best_pair])"
      ],
      "metadata": {
        "id": "npsJtG5JGmza"
      },
      "execution_count": null,
      "outputs": []
    },
    {
      "cell_type": "code",
      "source": [
        "print(merges)"
      ],
      "metadata": {
        "colab": {
          "base_uri": "https://localhost:8080/"
        },
        "id": "W3lSd2RYHD9p",
        "outputId": "e2d312c1-c1ea-4f78-ac03-899ac7dd5f56"
      },
      "execution_count": null,
      "outputs": [
        {
          "output_type": "stream",
          "name": "stdout",
          "text": [
            "{('Ġ', 't'): 'Ġt', ('i', 's'): 'is', ('e', 'r'): 'er', ('Ġ', 'a'): 'Ġa', ('Ġt', 'o'): 'Ġto', ('e', 'n'): 'en', ('T', 'h'): 'Th', ('Th', 'is'): 'This', ('o', 'u'): 'ou', ('s', 'e'): 'se', ('Ġto', 'k'): 'Ġtok', ('Ġtok', 'en'): 'Ġtoken', ('n', 'd'): 'nd', ('Ġ', 'is'): 'Ġis', ('Ġt', 'h'): 'Ġth', ('Ġth', 'e'): 'Ġthe', ('i', 'n'): 'in', ('Ġa', 'b'): 'Ġab', ('Ġtoken', 'i'): 'Ġtokeni'}\n"
          ]
        }
      ]
    },
    {
      "cell_type": "code",
      "source": [
        "print(vocab)"
      ],
      "metadata": {
        "colab": {
          "base_uri": "https://localhost:8080/"
        },
        "id": "B9ntclLmHE-x",
        "outputId": "e9862143-f4e0-43b6-9658-75cf73584fea"
      },
      "execution_count": null,
      "outputs": [
        {
          "output_type": "stream",
          "name": "stdout",
          "text": [
            "['<|endoftext|>', ',', '.', 'C', 'F', 'H', 'T', 'a', 'b', 'c', 'd', 'e', 'f', 'g', 'h', 'i', 'k', 'l', 'm', 'n', 'o', 'p', 'r', 's', 't', 'u', 'v', 'w', 'y', 'z', 'Ġ', 'Ġt', 'is', 'er', 'Ġa', 'Ġto', 'en', 'Th', 'This', 'ou', 'se', 'Ġtok', 'Ġtoken', 'nd', 'Ġis', 'Ġth', 'Ġthe', 'in', 'Ġab', 'Ġtokeni']\n"
          ]
        }
      ]
    }
  ]
}