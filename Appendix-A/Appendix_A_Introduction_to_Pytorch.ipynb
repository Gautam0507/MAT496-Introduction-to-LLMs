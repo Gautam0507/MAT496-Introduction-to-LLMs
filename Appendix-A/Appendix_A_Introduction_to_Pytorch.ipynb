{
  "nbformat": 4,
  "nbformat_minor": 0,
  "metadata": {
    "colab": {
      "provenance": [],
      "gpuType": "T4",
      "collapsed_sections": [
        "GKih4QB5VYvW"
      ],
      "authorship_tag": "ABX9TyPOhPs2OFphXEDUaq9Pn4kr",
      "include_colab_link": true
    },
    "kernelspec": {
      "name": "python3",
      "display_name": "Python 3"
    },
    "language_info": {
      "name": "python"
    },
    "accelerator": "GPU"
  },
  "cells": [
    {
      "cell_type": "markdown",
      "metadata": {
        "id": "view-in-github",
        "colab_type": "text"
      },
      "source": [
        "<a href=\"https://colab.research.google.com/github/Gautam0507/MAT496-Introduction-to-LLMs/blob/main/Appendix-A/Appendix_A_Introduction_to_Pytorch.ipynb\" target=\"_parent\"><img src=\"https://colab.research.google.com/assets/colab-badge.svg\" alt=\"Open In Colab\"/></a>"
      ]
    },
    {
      "cell_type": "markdown",
      "source": [
        "# A.1.3 Installing Pytorch\n",
        "\n",
        "Making sure torch, torchaudio and torchvision is installed.\n",
        "\n",
        "Remove and run the command for the runtime selected"
      ],
      "metadata": {
        "id": "bhr_99jsQPyr"
      }
    },
    {
      "cell_type": "code",
      "source": [
        "%%capture\n",
        "# Comment %%capture if there are install errors\n",
        "# CPU Install\n",
        "# !pip3 install torch==2.4.0 torchvision torchaudio\n",
        "# GPU install\n",
        "!pip3 install torch==2.4.0 torchvision torchaudio --index-url https://download.pytorch.org/whl/cu118"
      ],
      "metadata": {
        "id": "RWRAqeqsQNwZ"
      },
      "execution_count": null,
      "outputs": []
    },
    {
      "cell_type": "code",
      "source": [
        "import torch\n",
        "torch.cuda.is_available()"
      ],
      "metadata": {
        "colab": {
          "base_uri": "https://localhost:8080/"
        },
        "id": "vUnrHo-OSB4K",
        "outputId": "cd99b502-4a72-412f-8ed6-818ddf8200c5"
      },
      "execution_count": null,
      "outputs": [
        {
          "output_type": "execute_result",
          "data": {
            "text/plain": [
              "True"
            ]
          },
          "metadata": {},
          "execution_count": 2
        }
      ]
    },
    {
      "cell_type": "markdown",
      "source": [
        "## Inatalling Other libraries for the notebook to work"
      ],
      "metadata": {
        "id": "GKih4QB5VYvW"
      }
    },
    {
      "cell_type": "code",
      "source": [
        "%%capture\n",
        "!pip install numpy matplotlib"
      ],
      "metadata": {
        "id": "X3DB5kCtVOmI"
      },
      "execution_count": null,
      "outputs": []
    },
    {
      "cell_type": "markdown",
      "source": [
        "# A.2 Understanding Tensors\n",
        "Tensors are containers to store multidimensional data"
      ],
      "metadata": {
        "id": "34sljCRIUv9e"
      }
    },
    {
      "cell_type": "markdown",
      "source": [
        "## A.2.1 Scalars, Vecotrs, Matrices and Tensors"
      ],
      "metadata": {
        "id": "S9U_AF-vVZ6H"
      }
    },
    {
      "cell_type": "code",
      "source": [
        "tensor0d = torch.tensor(1)\n",
        "\n",
        "tensor1d = torch.tensor([1, 2, 3])\n",
        "\n",
        "tensor2d = torch.tensor([[1, 2, 3], [4, 5, 6]])\n",
        "\n",
        "tensor3d = torch.tensor([[[1, 2, 3], [4, 5, 6]], [[7, 8, 9], [10, 11, 12]]])"
      ],
      "metadata": {
        "id": "ZMRzBozSUtsf"
      },
      "execution_count": null,
      "outputs": []
    },
    {
      "cell_type": "markdown",
      "source": [
        "## A.2.2 Tensor Data Types"
      ],
      "metadata": {
        "id": "d1_o9W-bVggP"
      }
    },
    {
      "cell_type": "markdown",
      "source": [
        "Default tensor datatype is `int64`\n",
        "\n",
        "`.dtype` attribute gives type"
      ],
      "metadata": {
        "id": "huJ-TBwhWete"
      }
    },
    {
      "cell_type": "code",
      "source": [
        "print(tensor1d.dtype)"
      ],
      "metadata": {
        "colab": {
          "base_uri": "https://localhost:8080/"
        },
        "id": "qmjCtQmBVlEN",
        "outputId": "36139dc4-103e-42eb-961e-c13f1ddad46f"
      },
      "execution_count": null,
      "outputs": [
        {
          "output_type": "stream",
          "name": "stdout",
          "text": [
            "torch.int64\n"
          ]
        }
      ]
    },
    {
      "cell_type": "markdown",
      "source": [
        "The default float precision is 32 bits\n",
        "\n",
        "Most  GPU architectures are optimized for 32 bit operations"
      ],
      "metadata": {
        "id": "mauZuOBgW1TV"
      }
    },
    {
      "cell_type": "code",
      "source": [
        "tensorfloat = torch.tensor([1, 2, 3], dtype=torch.float)\n",
        "print(tensorfloat.dtype)"
      ],
      "metadata": {
        "colab": {
          "base_uri": "https://localhost:8080/"
        },
        "id": "dCJ39JSEWPse",
        "outputId": "13126f91-b42f-40a1-debc-ee9ee71e2ec0"
      },
      "execution_count": null,
      "outputs": [
        {
          "output_type": "stream",
          "name": "stdout",
          "text": [
            "torch.float32\n"
          ]
        }
      ]
    },
    {
      "cell_type": "markdown",
      "source": [
        "Converting tensor datatypes"
      ],
      "metadata": {
        "id": "ik-KtAdFW_ge"
      }
    },
    {
      "cell_type": "code",
      "source": [
        "floattensor = tensor1d.to(torch.float)\n",
        "print(floattensor.dtype)"
      ],
      "metadata": {
        "colab": {
          "base_uri": "https://localhost:8080/"
        },
        "id": "6VtClZKBWqge",
        "outputId": "09c81473-3c5f-4cb8-f1ce-c07af8eaccbd"
      },
      "execution_count": null,
      "outputs": [
        {
          "output_type": "stream",
          "name": "stdout",
          "text": [
            "torch.float32\n"
          ]
        }
      ]
    },
    {
      "cell_type": "markdown",
      "source": [
        "## A.2.3 Common PyTorch tensor operations\n",
        "\n",
        "Most operations return the value as a copy and do not change them in place."
      ],
      "metadata": {
        "id": "qHVOlCFWXfv3"
      }
    },
    {
      "cell_type": "markdown",
      "source": [
        "Creating a tensor"
      ],
      "metadata": {
        "id": "D1eYrAwtXpnN"
      }
    },
    {
      "cell_type": "code",
      "source": [
        "tensor2d = torch.tensor([[1, 2, 3], [4, 5, 6]])\n",
        "print(tensor2d)"
      ],
      "metadata": {
        "colab": {
          "base_uri": "https://localhost:8080/"
        },
        "id": "YtydBtw3XmSa",
        "outputId": "f284d1d6-7fd0-40b4-ec62-a7ad3f79da26"
      },
      "execution_count": null,
      "outputs": [
        {
          "output_type": "stream",
          "name": "stdout",
          "text": [
            "tensor([[1, 2, 3],\n",
            "        [4, 5, 6]])\n"
          ]
        }
      ]
    },
    {
      "cell_type": "markdown",
      "source": [
        "Getting the dimensions of a tensor using `.shape` attribute"
      ],
      "metadata": {
        "id": "97y8y9e3X5Jt"
      }
    },
    {
      "cell_type": "code",
      "source": [
        "print(tensor2d.shape)"
      ],
      "metadata": {
        "colab": {
          "base_uri": "https://localhost:8080/"
        },
        "id": "YdGUz9gSXx5H",
        "outputId": "175787a0-c535-4f05-84db-d4bd032bfc2e"
      },
      "execution_count": null,
      "outputs": [
        {
          "output_type": "stream",
          "name": "stdout",
          "text": [
            "torch.Size([2, 3])\n"
          ]
        }
      ]
    },
    {
      "cell_type": "markdown",
      "source": [
        "Resize the tensor to wanted dimensions using `tensor.reshape()` or `tensor.view()` functions\n",
        "\n",
        "- `view()` only works when the memory is contiguous\n",
        "- The total elements must match for reshape to work i.e `reshape(3,1)` has only 3 elements and thus returns an error"
      ],
      "metadata": {
        "id": "KxZGZOSkYVU0"
      }
    },
    {
      "cell_type": "code",
      "source": [
        "print(\"Tensor using reshape\")\n",
        "print(tensor2d.reshape(3,2))\n",
        "print(\"Tensor using view\")\n",
        "print(tensor2d.view(1,6))"
      ],
      "metadata": {
        "colab": {
          "base_uri": "https://localhost:8080/"
        },
        "id": "epAsVrzgYBgc",
        "outputId": "fdb80acf-07de-4439-fa38-0ed742a8cb94"
      },
      "execution_count": null,
      "outputs": [
        {
          "output_type": "stream",
          "name": "stdout",
          "text": [
            "Tensor using reshape\n",
            "tensor([[1, 2],\n",
            "        [3, 4],\n",
            "        [5, 6]])\n",
            "Tensor using view\n",
            "tensor([[1, 2, 3, 4, 5, 6]])\n"
          ]
        }
      ]
    },
    {
      "cell_type": "markdown",
      "source": [
        "Matrix Transpose using `tensor.T`"
      ],
      "metadata": {
        "id": "4puMN_DTZ8tV"
      }
    },
    {
      "cell_type": "code",
      "source": [
        "print(tensor2d.T)"
      ],
      "metadata": {
        "colab": {
          "base_uri": "https://localhost:8080/"
        },
        "id": "WQzANPkJYjaM",
        "outputId": "beb1f6ae-63fd-4672-8205-7ebed8150d4f"
      },
      "execution_count": null,
      "outputs": [
        {
          "output_type": "stream",
          "name": "stdout",
          "text": [
            "tensor([[1, 4],\n",
            "        [2, 5],\n",
            "        [3, 6]])\n"
          ]
        }
      ]
    },
    {
      "cell_type": "markdown",
      "source": [
        "Matrix multipilication using `matmul()` function\n",
        "\n",
        "A * B = `A.matmul(B)` given the dimensions align\n",
        "\n",
        "Can also be done using `A @ B`"
      ],
      "metadata": {
        "id": "87VwQTGWa5WE"
      }
    },
    {
      "cell_type": "code",
      "source": [
        "print(\"Using matmul function\")\n",
        "print(tensor2d.matmul(tensor2d.T))\n",
        "print(\"Using @ operator\")\n",
        "print(tensor2d @ tensor2d.T)"
      ],
      "metadata": {
        "colab": {
          "base_uri": "https://localhost:8080/"
        },
        "id": "KHG87ldsaJ4J",
        "outputId": "3f221b94-c463-4880-d385-b6ea31d9ae7c"
      },
      "execution_count": null,
      "outputs": [
        {
          "output_type": "stream",
          "name": "stdout",
          "text": [
            "Using matmul function\n",
            "tensor([[14, 32],\n",
            "        [32, 77]])\n",
            "Using @ operator\n",
            "tensor([[14, 32],\n",
            "        [32, 77]])\n"
          ]
        }
      ]
    },
    {
      "cell_type": "markdown",
      "source": [
        "# A.3 Seeing Models as Computation Graphs\n",
        "\n",
        "PyTorch's automatic differentiation engine - PyTorch's autograd\n",
        "\n",
        "A computation graph is a directed graph that allows us to express and visualisze mathematical expresions.\n",
        "![{1B34359D-3DB0-4B8D-A20F-A3F5B9499F5C}.png](data:image/png;base64,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)\n"
      ],
      "metadata": {
        "id": "55RRNcXLKKzR"
      }
    },
    {
      "cell_type": "markdown",
      "source": [
        "### Forward pass of Logistic regression"
      ],
      "metadata": {
        "id": "sqzwRNN0K1FO"
      }
    },
    {
      "cell_type": "code",
      "source": [
        "import torch.nn.functional as F\n",
        "\n",
        "y = torch.tensor([1.0])\n",
        "x1 = torch.tensor([1.1])\n",
        "w1 = torch.tensor([2.2])\n",
        "b = torch.tensor([0.0])\n",
        "z = x1 * w1 + b\n",
        "a = torch.sigmoid(z)\n",
        "loss = F.binary_cross_entropy(a, y)\n",
        "print(loss)"
      ],
      "metadata": {
        "colab": {
          "base_uri": "https://localhost:8080/"
        },
        "id": "KI3TcQbfK0Ea",
        "outputId": "47a066ca-b975-4714-a192-c16c06a7c6e0"
      },
      "execution_count": null,
      "outputs": [
        {
          "output_type": "stream",
          "name": "stdout",
          "text": [
            "tensor(0.0852)\n"
          ]
        }
      ]
    },
    {
      "cell_type": "markdown",
      "source": [
        "The computational graph for the above is:\n",
        "\n",
        "TODO: Figure out inserting photos here (Image A.7)\n",
        "\n",
        "Pytorch builds something like this in the background"
      ],
      "metadata": {
        "id": "eQp5dWuOMj0z"
      }
    },
    {
      "cell_type": "markdown",
      "source": [
        "# A.4 Automatic differentiation made easy\n",
        "\n",
        "Pytorch builds a computation graph by default if one of the nodes has the `requires_grad` attribute set to `True`\n",
        "\n",
        "This is used in Backpropogation\n",
        "![{8B825678-0985-4353-A669-8878EE811E0C}.png](data:image/png;base64,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)"
      ],
      "metadata": {
        "id": "kAcCuQnsNBsv"
      }
    },
    {
      "cell_type": "markdown",
      "source": [
        "### Computing Gradients Via autograd"
      ],
      "metadata": {
        "id": "QAQD_RI1OIqq"
      }
    },
    {
      "cell_type": "code",
      "source": [
        "import torch.nn.functional as F\n",
        "from torch.autograd import grad\n",
        "\n",
        "y = torch.tensor([1.0])\n",
        "x1 = torch.tensor([1.1])\n",
        "w1 = torch.tensor([2.2], requires_grad=True)\n",
        "b = torch.tensor([0.0], requires_grad=True)\n",
        "\n",
        "z = x1 * w1 + b\n",
        "a = torch.sigmoid(z)\n",
        "\n",
        "loss = F.binary_cross_entropy(a, y)"
      ],
      "metadata": {
        "id": "KlweUN9OLtGD"
      },
      "execution_count": null,
      "outputs": []
    },
    {
      "cell_type": "markdown",
      "source": [
        "#### Computing grdients manually"
      ],
      "metadata": {
        "id": "P7tt-8rAPC4p"
      }
    },
    {
      "cell_type": "code",
      "source": [
        "grad_L_w1 = grad(loss, w1, retain_graph = True)\n",
        "grad_L_b = grad(loss, b, retain_graph = True)\n",
        "\n",
        "print(grad_L_w1)\n",
        "print(grad_L_b)"
      ],
      "metadata": {
        "colab": {
          "base_uri": "https://localhost:8080/"
        },
        "id": "abg48l5jPHa3",
        "outputId": "e034c26c-8058-4779-ad58-459796207e29"
      },
      "execution_count": null,
      "outputs": [
        {
          "output_type": "stream",
          "name": "stdout",
          "text": [
            "(tensor([-0.0898]),)\n",
            "(tensor([-0.0817]),)\n"
          ]
        }
      ]
    },
    {
      "cell_type": "markdown",
      "source": [
        "#### Computing gradients automatically (at a higher abstarction level)\n",
        "\n",
        "`.backward()` function called on the loss automatically calulates the gradients of all leaf nodes in the computational graph and stores in the tensors `.grad` attributes\n",
        "\n",
        "- it calculates these for tensors where `requires_grad` is enabled."
      ],
      "metadata": {
        "id": "lXcbFKyQPRDZ"
      }
    },
    {
      "cell_type": "code",
      "source": [
        "loss.backward()\n",
        "print(w1.grad)\n",
        "print(b.grad)"
      ],
      "metadata": {
        "colab": {
          "base_uri": "https://localhost:8080/"
        },
        "id": "Qalc7fsoPWBG",
        "outputId": "7d9cf6a4-8d5f-4ad1-852e-63508dd120b5"
      },
      "execution_count": null,
      "outputs": [
        {
          "output_type": "stream",
          "name": "stdout",
          "text": [
            "tensor([-0.0898])\n",
            "tensor([-0.0817])\n"
          ]
        }
      ]
    },
    {
      "cell_type": "markdown",
      "source": [
        "# A.5 Impementing multilayer neural netowrks\n",
        "\n",
        "A multilayer perceptron with two hidden layers.\n",
        "\n",
        "- `torch.nn.Module` - base class that has a lot of the neural netowrk operations built in\n",
        "- `__init__()` - the defines the the network layers\n",
        "- `forward()` - the method specifies how the layers interact in the forward iteration\n",
        "- `backward()` - method that is used during training to compute the gradients of the loos function given model parameters (usually not implemented)\n",
        "- `torch.nn.Sequential`-\n",
        "- `torch.nn.Linear()`-\n",
        "- `torch.nn.ReLU()` - activation function between layers"
      ],
      "metadata": {
        "id": "Wq1EkOItQHQX"
      }
    },
    {
      "cell_type": "code",
      "source": [
        "# Defining the Neural Network class\n",
        "class NeuralNetwork(torch.nn.Module):\n",
        "  def __init__(self, num_inputs, num_outputs):\n",
        "    super().__init__()\n",
        "\n",
        "    self.layers = torch.nn.Sequential(\n",
        "        # First Hidden Layer\n",
        "        torch.nn.Linear(num_inputs, 30),\n",
        "        torch.nn.ReLU(),\n",
        "\n",
        "        # Second Hidden Layer\n",
        "        torch.nn.Linear(30, 20),\n",
        "        torch.nn.ReLU(),\n",
        "\n",
        "        # Output Layer\n",
        "        torch.nn.Linear(20, num_outputs),\n",
        "    )\n",
        "\n",
        "  def forward(self, x):\n",
        "    logits = self.layers(x)\n",
        "    return logits"
      ],
      "metadata": {
        "id": "-Uh0iQ27PcsD"
      },
      "execution_count": null,
      "outputs": []
    },
    {
      "cell_type": "code",
      "source": [
        "model = NeuralNetwork(50, 3)\n",
        "print(model)"
      ],
      "metadata": {
        "colab": {
          "base_uri": "https://localhost:8080/"
        },
        "id": "Umk2nw8OSLVp",
        "outputId": "62b65a9f-67ea-4a6b-d645-f0bdea4efe04"
      },
      "execution_count": null,
      "outputs": [
        {
          "output_type": "stream",
          "name": "stdout",
          "text": [
            "NeuralNetwork(\n",
            "  (layers): Sequential(\n",
            "    (0): Linear(in_features=50, out_features=30, bias=True)\n",
            "    (1): ReLU()\n",
            "    (2): Linear(in_features=30, out_features=20, bias=True)\n",
            "    (3): ReLU()\n",
            "    (4): Linear(in_features=20, out_features=3, bias=True)\n",
            "  )\n",
            ")\n"
          ]
        }
      ]
    },
    {
      "cell_type": "code",
      "source": [
        "# Question: What are the  parameters that does not have grad?\n",
        "num_params = sum(p.numel() for p in model.parameters() if p.requires_grad)\n",
        "print(\"Total number of trainable model parameters: \", num_params)"
      ],
      "metadata": {
        "colab": {
          "base_uri": "https://localhost:8080/"
        },
        "id": "7mFO3XRBSPss",
        "outputId": "df7f2b13-d9c8-40a9-e7ad-8e8136a97a05"
      },
      "execution_count": null,
      "outputs": [
        {
          "output_type": "stream",
          "name": "stdout",
          "text": [
            "Total number of trainable model parameters:  2213\n"
          ]
        }
      ]
    },
    {
      "cell_type": "code",
      "source": [
        "print(\"Weights of the first layers\")\n",
        "print(model.layers[0].weight.shape)\n",
        "print(model.layers[0].weight)\n",
        "print(\"Biases of the first layer\")\n",
        "print(model.layers[0].bias.shape)\n",
        "print(model.layers[0].bias)"
      ],
      "metadata": {
        "colab": {
          "base_uri": "https://localhost:8080/"
        },
        "id": "t06MB1DtSt3t",
        "outputId": "5e7d1421-eaf6-439a-835a-5c7d9a1a3abb"
      },
      "execution_count": null,
      "outputs": [
        {
          "output_type": "stream",
          "name": "stdout",
          "text": [
            "Weights of the first layers\n",
            "torch.Size([30, 50])\n",
            "Parameter containing:\n",
            "tensor([[-0.0278,  0.0257, -0.0797,  ..., -0.0664,  0.1040, -0.0665],\n",
            "        [-0.0450, -0.1279, -0.1201,  ..., -0.0323, -0.0515,  0.0682],\n",
            "        [-0.1313, -0.0507,  0.1229,  ...,  0.1269,  0.1258,  0.0209],\n",
            "        ...,\n",
            "        [ 0.0472, -0.0425,  0.0211,  ..., -0.0381,  0.0478, -0.0617],\n",
            "        [-0.0382, -0.0881,  0.0621,  ..., -0.1191, -0.1093,  0.0630],\n",
            "        [-0.0476, -0.1245, -0.0237,  ..., -0.0979, -0.0857, -0.0911]],\n",
            "       requires_grad=True)\n",
            "Biases of the first layer\n",
            "torch.Size([30])\n",
            "Parameter containing:\n",
            "tensor([-0.1187,  0.1345, -0.0024,  0.1178,  0.0936,  0.0438,  0.1265, -0.0552,\n",
            "         0.0103, -0.0005, -0.0394,  0.0738,  0.0928, -0.1338,  0.0335, -0.0199,\n",
            "         0.0355,  0.0544,  0.1064, -0.1211,  0.0686, -0.0322,  0.0733, -0.0085,\n",
            "         0.0320, -0.1322,  0.0558,  0.0370, -0.0939,  0.0740],\n",
            "       requires_grad=True)\n"
          ]
        }
      ]
    },
    {
      "cell_type": "markdown",
      "source": [
        "Reporducing outputs using `torch.manual_seed()`"
      ],
      "metadata": {
        "id": "hsUoBVoCT9PU"
      }
    },
    {
      "cell_type": "code",
      "source": [
        "torch.manual_seed(123)\n",
        "model = NeuralNetwork(50, 3)\n",
        "print(model.layers[0].weight)"
      ],
      "metadata": {
        "colab": {
          "base_uri": "https://localhost:8080/"
        },
        "id": "N4lNllg3TSWk",
        "outputId": "ce5172e1-e430-4575-bb3f-9ae9658efdbb"
      },
      "execution_count": null,
      "outputs": [
        {
          "output_type": "stream",
          "name": "stdout",
          "text": [
            "Parameter containing:\n",
            "tensor([[-0.0577,  0.0047, -0.0702,  ...,  0.0222,  0.1260,  0.0865],\n",
            "        [ 0.0502,  0.0307,  0.0333,  ...,  0.0951,  0.1134, -0.0297],\n",
            "        [ 0.1077, -0.1108,  0.0122,  ...,  0.0108, -0.1049, -0.1063],\n",
            "        ...,\n",
            "        [-0.0787,  0.1259,  0.0803,  ...,  0.1218,  0.1303, -0.1351],\n",
            "        [ 0.1359,  0.0175, -0.0673,  ...,  0.0674,  0.0676,  0.1058],\n",
            "        [ 0.0790,  0.1343, -0.0293,  ...,  0.0344, -0.0971, -0.0509]],\n",
            "       requires_grad=True)\n"
          ]
        }
      ]
    },
    {
      "cell_type": "markdown",
      "source": [
        "Runing one forward pass\n",
        "\n",
        "- One training example of length 50 is generated and passed into the model.\n",
        "- Calling the model this way passes the data through the neural network and returns the values at the output layer\n",
        "- the `grad_fn=<AddmmBackward0>` the last-used function to compute a variable in the computation graph. It is used by the model for computing gradients and during backpropogation. In this case it means matrix mutltipilication followed by addition. Its the function last used to compute values"
      ],
      "metadata": {
        "id": "Ax8XJUv0UfM7"
      }
    },
    {
      "cell_type": "code",
      "source": [
        "torch.manual_seed(123)\n",
        "X = torch.rand((1,50))\n",
        "out = model(X)\n",
        "print(out)"
      ],
      "metadata": {
        "colab": {
          "base_uri": "https://localhost:8080/"
        },
        "id": "SzLRIx6FUK3d",
        "outputId": "3a2c353a-00e6-45e2-98f1-ba67e3eb7182"
      },
      "execution_count": null,
      "outputs": [
        {
          "output_type": "stream",
          "name": "stdout",
          "text": [
            "tensor([[-0.1262,  0.1080, -0.1792]], grad_fn=<AddmmBackward0>)\n"
          ]
        }
      ]
    },
    {
      "cell_type": "markdown",
      "source": [
        "When using the model for inference we use the `torch.no_grad()` to save on computational cost calculating gradients"
      ],
      "metadata": {
        "id": "GpH0f-kxVC9I"
      }
    },
    {
      "cell_type": "code",
      "source": [
        "with torch.no_grad():\n",
        "  out = model(X)\n",
        "print(out)"
      ],
      "metadata": {
        "colab": {
          "base_uri": "https://localhost:8080/"
        },
        "id": "v0-CI48_UVFf",
        "outputId": "3bc10fb6-5d29-4aa6-ca47-aec7aec90924"
      },
      "execution_count": null,
      "outputs": [
        {
          "output_type": "stream",
          "name": "stdout",
          "text": [
            "tensor([[-0.1262,  0.1080, -0.1792]])\n"
          ]
        }
      ]
    },
    {
      "cell_type": "markdown",
      "source": [
        "The loss functions in pytorch genearally ccombine softmax operation with the loss calculation for computational efficiency.\n",
        "\n",
        "When we want to compute class membership probabilities for the last layer we have to call the softmax function explicitly"
      ],
      "metadata": {
        "id": "KcYvCwXHV60f"
      }
    },
    {
      "cell_type": "code",
      "source": [
        "with torch.no_grad():\n",
        "  out = torch.softmax(model(X), dim = 1)\n",
        "print(out)"
      ],
      "metadata": {
        "colab": {
          "base_uri": "https://localhost:8080/"
        },
        "id": "pN62MXl2VYTo",
        "outputId": "6a273ad9-fd84-4831-a967-bcaa7819952f"
      },
      "execution_count": null,
      "outputs": [
        {
          "output_type": "stream",
          "name": "stdout",
          "text": [
            "tensor([[0.3113, 0.3934, 0.2952]])\n"
          ]
        }
      ]
    },
    {
      "cell_type": "markdown",
      "source": [
        "# A.6 Setting up Efficient data loaders\n",
        "\n",
        "- Dataset class - defines the dataset and manages training and testing data\n",
        "- Dataloader class - handles dataset shuffling, assembling dataset into batches and basically handles getting data ready for the model.  \n",
        "![{223E8E01-0E47-4797-8A67-0B3DA28672C4}.png](data:image/png;base64,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)"
      ],
      "metadata": {
        "id": "5HaBwydFcZs2"
      }
    },
    {
      "cell_type": "markdown",
      "source": [
        "## Setting up a simple dataset"
      ],
      "metadata": {
        "id": "aoC_l-oCfiKt"
      }
    },
    {
      "cell_type": "code",
      "source": [
        "X_train = torch.tensor([\n",
        "[-1.2, 3.1],\n",
        "[-0.9, 2.9],\n",
        "[-0.5, 2.6],\n",
        "[2.3, -1.1],\n",
        "[2.7, -1.5]\n",
        "])\n",
        "Y_train = torch.tensor([0, 0, 0, 1, 1])\n",
        "X_test = torch.tensor([\n",
        "[-0.8, 2.8],\n",
        "[2.6, -1.6],\n",
        "])\n",
        "Y_test = torch.tensor([0, 1])"
      ],
      "metadata": {
        "id": "dY0lipRufl6o"
      },
      "execution_count": null,
      "outputs": []
    },
    {
      "cell_type": "markdown",
      "source": [
        "## Dataset class\n",
        "`torch.utils.data.Dataset` is the main class wihch is inherited to create the custom dataset\n",
        "- `__init()__`\n",
        "- `__getitem__(self,index)` - tihs function defines how to handle exactly one datarecord and the corresponding label\n",
        "- `__len__(self)` - The function returns the total length of the dataset  "
      ],
      "metadata": {
        "id": "6FXfq0aLd1w2"
      }
    },
    {
      "cell_type": "code",
      "source": [
        "from torch.utils.data import Dataset\n",
        "\n",
        "class ToyDataset(Dataset):\n",
        "  def __init__(self, X, Y):\n",
        "    self.features = X\n",
        "    self.labels = Y\n",
        "\n",
        "  def __getitem__(self, index):\n",
        "    one_X = self.features[index]\n",
        "    one_Y = self.labels[index]\n",
        "    return one_X, one_Y\n",
        "\n",
        "  def __len__(self):\n",
        "    return self.labels.shape[0]"
      ],
      "metadata": {
        "id": "nCg1hoA-cfuN"
      },
      "execution_count": null,
      "outputs": []
    },
    {
      "cell_type": "code",
      "source": [
        "train_ds = ToyDataset(X_train, Y_train)\n",
        "test_ds = ToyDataset(X_test, Y_test)"
      ],
      "metadata": {
        "id": "_iSjm3AKfQM7"
      },
      "execution_count": null,
      "outputs": []
    },
    {
      "cell_type": "markdown",
      "source": [
        "## DataLoader Class\n",
        "This class takes the dataset iterates thorugh it organizes it into batches using a random number generator and organizing them into input and output for the model\n",
        "\n",
        "Here the seed is set to reproduce outputs but in general **batching the data randomly is desired** when training to prevent neural networks from getting caught in repetitive update cycles\n",
        "\n",
        "- `dataset` -  pass in an instance of the `Dataset` class\n",
        "- `batch_size` - the number of training samples per batch\n",
        "- `shuffle` - set  to `True` for training dataset and `False` for testing  \n",
        "- `num_workers` - no of CPU workers woring on loading the data. Higher number means more paralell but does depend on the data. (Mostly does not work on jupyter notebooks or small datasets)\n",
        "- `drop_last` - if the number of records in the dataset and the `batch_size` does not match like in the case below having one batch with less elements can cause issues with convergence during training. Should generally be set to `True`"
      ],
      "metadata": {
        "id": "AYbKtdKkgQRj"
      }
    },
    {
      "cell_type": "code",
      "source": [
        "from torch.utils.data import DataLoader\n",
        "\n",
        "torch.manual_seed(123)\n",
        "\n",
        "train_loader = DataLoader(\n",
        "    dataset = train_ds,\n",
        "    batch_size = 2,\n",
        "    shuffle = True,\n",
        "    num_workers=0,\n",
        "    drop_last = True\n",
        ")\n",
        "\n",
        "test_loader = DataLoader(\n",
        "    dataset=test_ds,\n",
        "    batch_size=2,\n",
        "    shuffle=False,\n",
        "    num_workers=0\n",
        ")"
      ],
      "metadata": {
        "id": "IE6aZa0vgHK-"
      },
      "execution_count": null,
      "outputs": []
    },
    {
      "cell_type": "markdown",
      "source": [
        "Checking outputs"
      ],
      "metadata": {
        "id": "hi80kyIyhWhm"
      }
    },
    {
      "cell_type": "code",
      "source": [
        "print(\"Training dataset after the loader\")\n",
        "for idx, (x,y) in enumerate(train_loader):\n",
        "  print(f\"Batch {idx+1}:\", x,y)\n",
        "\n",
        "print()\n",
        "print(\"Testing dataset after the loader\")\n",
        "for idx, (x,y) in enumerate(test_loader):\n",
        "  print(f\"Batch {idx+1}:\", x,y)"
      ],
      "metadata": {
        "colab": {
          "base_uri": "https://localhost:8080/"
        },
        "id": "mrqyF4lXg3ib",
        "outputId": "7c0ed300-36fc-41b1-b8ba-4751b6e05b65"
      },
      "execution_count": null,
      "outputs": [
        {
          "output_type": "stream",
          "name": "stdout",
          "text": [
            "Training dataset after the loader\n",
            "Batch 1: tensor([[ 2.3000, -1.1000],\n",
            "        [-0.9000,  2.9000]]) tensor([1, 0])\n",
            "Batch 2: tensor([[-1.2000,  3.1000],\n",
            "        [-0.5000,  2.6000]]) tensor([0, 0])\n",
            "\n",
            "Testing dataset after the loader\n",
            "Batch 1: tensor([[-0.8000,  2.8000],\n",
            "        [ 2.6000, -1.6000]]) tensor([0, 1])\n"
          ]
        }
      ]
    },
    {
      "cell_type": "markdown",
      "source": [
        "# A.7 A typical Training Loop\n",
        "## Training a nerual network on the above toy dataset\n",
        "\n",
        "- `torch.optim.SGD()` - stochastic gradient descenet optimizer\n",
        "- one epoch is one run of the entire training set thorugh the model\n",
        "- the learning rate is a hyperparameter that must be tuned with experimentation such that it converges after a certain number of epochs\n",
        "- `model.train()` - tunes settings and sets the model to training mode\n",
        "- `model.eval()` - tunes the model for evaluation such as not calculating backpropogation gradients\n",
        "- `optimizer.zero_grad()` - should be set each round of updates so that the gradients dont accumulate"
      ],
      "metadata": {
        "id": "P4YDC0KaEPXj"
      }
    },
    {
      "cell_type": "code",
      "source": [
        "import torch.nn.functional as F\n",
        "\n",
        "torch.manual_seed(123)\n",
        "\n",
        "model = NeuralNetwork(num_inputs = 2,num_outputs=2)\n",
        "optimizer = torch.optim.SGD(model.parameters(), lr = 0.5)\n",
        "num_epochs = 3\n",
        "\n",
        "for epoch in range(num_epochs):\n",
        "  model.train()\n",
        "  for batch_idx, (features, labels) in enumerate(train_loader):\n",
        "    logits = model(features)\n",
        "    loss = F.cross_entropy(logits, labels)\n",
        "\n",
        "    optimizer.zero_grad()\n",
        "    loss.backward()\n",
        "    optimizer.step()\n",
        "\n",
        "    # LOGGING\n",
        "    print(f\"Epoch: {epoch+1:03d}/{num_epochs:03d}\"\\\n",
        "          f\" | Batch {batch_idx:03d}/{len(train_loader):03d} \"\n",
        "          f\" | Train Loss: {loss:.2f}\")\n",
        "\n",
        "  model.eval()"
      ],
      "metadata": {
        "colab": {
          "base_uri": "https://localhost:8080/"
        },
        "id": "SMpBHww0EXQ3",
        "outputId": "5b33e6e1-dc85-43d3-83a5-3c87badf883c"
      },
      "execution_count": null,
      "outputs": [
        {
          "output_type": "stream",
          "name": "stdout",
          "text": [
            "Epoch: 001/003 | Batch 000/002  | Train Loss: 0.75\n",
            "Epoch: 001/003 | Batch 001/002  | Train Loss: 0.65\n",
            "Epoch: 002/003 | Batch 000/002  | Train Loss: 0.44\n",
            "Epoch: 002/003 | Batch 001/002  | Train Loss: 0.13\n",
            "Epoch: 003/003 | Batch 000/002  | Train Loss: 0.03\n",
            "Epoch: 003/003 | Batch 001/002  | Train Loss: 0.00\n"
          ]
        }
      ]
    },
    {
      "cell_type": "markdown",
      "source": [
        "## Using the above model to make predictions"
      ],
      "metadata": {
        "id": "f3kicayPHVVc"
      }
    },
    {
      "cell_type": "code",
      "source": [
        "model.eval()\n",
        "with torch.no_grad():\n",
        "  outputs = model(X_train)\n",
        "print(outputs)"
      ],
      "metadata": {
        "colab": {
          "base_uri": "https://localhost:8080/"
        },
        "id": "osHTuucYF1B6",
        "outputId": "a2659552-be6c-4d88-d8fc-238aca815f80"
      },
      "execution_count": null,
      "outputs": [
        {
          "output_type": "stream",
          "name": "stdout",
          "text": [
            "tensor([[ 2.8569, -4.1618],\n",
            "        [ 2.5382, -3.7548],\n",
            "        [ 2.0944, -3.1820],\n",
            "        [-1.4814,  1.4816],\n",
            "        [-1.7176,  1.7342]])\n"
          ]
        }
      ]
    },
    {
      "cell_type": "markdown",
      "source": [
        "### Getting class membership probabilites\n",
        "The first input in the set `X_train` has a $99\\%$ probability to be output class 1 and a $1\\%$ probability to be in class 2"
      ],
      "metadata": {
        "id": "UO2ntFu7HuiC"
      }
    },
    {
      "cell_type": "code",
      "source": [
        "torch.set_printoptions(sci_mode = False)\n",
        "probs = torch.softmax(outputs, dim=1)\n",
        "print(probs)"
      ],
      "metadata": {
        "colab": {
          "base_uri": "https://localhost:8080/"
        },
        "id": "FRxQQcSPHgQD",
        "outputId": "667f2ced-d21a-449c-ad7d-4aeec73388ef"
      },
      "execution_count": null,
      "outputs": [
        {
          "output_type": "stream",
          "name": "stdout",
          "text": [
            "tensor([[    0.9991,     0.0009],\n",
            "        [    0.9982,     0.0018],\n",
            "        [    0.9949,     0.0051],\n",
            "        [    0.0491,     0.9509],\n",
            "        [    0.0307,     0.9693]])\n"
          ]
        }
      ]
    },
    {
      "cell_type": "markdown",
      "source": [
        "coverting probabilities to class label predictions\n",
        "- The first 3 training data belongs to class 1 and the last 2 belongs to class 2"
      ],
      "metadata": {
        "id": "XyxgrUrWIvlZ"
      }
    },
    {
      "cell_type": "code",
      "source": [
        "predictions = torch.argmax(probs, dim = 1)\n",
        "print(predictions)"
      ],
      "metadata": {
        "colab": {
          "base_uri": "https://localhost:8080/"
        },
        "id": "YKsdePwMH7oE",
        "outputId": "fd487f34-c405-4909-812f-299069f959a7"
      },
      "execution_count": null,
      "outputs": [
        {
          "output_type": "stream",
          "name": "stdout",
          "text": [
            "tensor([0, 0, 0, 1, 1])\n"
          ]
        }
      ]
    },
    {
      "cell_type": "markdown",
      "source": [
        "The model has predicted correctly and fit the training data"
      ],
      "metadata": {
        "id": "7vrci9oFJZ8J"
      }
    },
    {
      "cell_type": "code",
      "source": [
        "print(predictions == Y_train)\n",
        "print(f\"The total number of correct predictions based on the training set: {torch.sum(predictions ==  Y_train)}\")"
      ],
      "metadata": {
        "colab": {
          "base_uri": "https://localhost:8080/"
        },
        "id": "47QcA-XoI4u5",
        "outputId": "a285b507-5ff4-483c-92ac-067385c91c98"
      },
      "execution_count": null,
      "outputs": [
        {
          "output_type": "stream",
          "name": "stdout",
          "text": [
            "tensor([True, True, True, True, True])\n",
            "The total number of correct predictions based on the training set: 5\n"
          ]
        }
      ]
    },
    {
      "cell_type": "markdown",
      "source": [
        "### Generalizing the computation of prediction accuracy\n",
        "The function is useful for loading the model with batch sizes and getting the accuracy as the entire dataset cannot be loaded and evaluated at te same time"
      ],
      "metadata": {
        "id": "TN2Z463EJ9zn"
      }
    },
    {
      "cell_type": "code",
      "source": [
        "def compute_accuracy(model, dataloader):\n",
        "\n",
        "  model = model.eval()\n",
        "  correct = 0.0\n",
        "  total_examples = 0\n",
        "\n",
        "  for idx, (features, labels) in enumerate(dataloader):\n",
        "\n",
        "    with torch.no_grad():\n",
        "      logits = model(features)\n",
        "\n",
        "    predictions = torch.argmax(logits, dim = 1)\n",
        "    compare = labels == predictions\n",
        "    correct += torch.sum(compare)\n",
        "    total_examples += len(compare)\n",
        "\n",
        "  return (correct/total_examples).item()"
      ],
      "metadata": {
        "id": "gCKwg6qfJR16"
      },
      "execution_count": null,
      "outputs": []
    },
    {
      "cell_type": "code",
      "source": [
        "print(f\"Training accuracy: {compute_accuracy(model, train_loader)}\")\n",
        "print(f\"Test accuracy: {compute_accuracy(model, test_loader)}\")"
      ],
      "metadata": {
        "colab": {
          "base_uri": "https://localhost:8080/"
        },
        "id": "pm_Vt7u0K6JH",
        "outputId": "a8bf14cf-7e79-4b21-bab3-ece62903a877"
      },
      "execution_count": null,
      "outputs": [
        {
          "output_type": "stream",
          "name": "stdout",
          "text": [
            "Training accuracy: 1.0\n",
            "Test accuracy: 1.0\n"
          ]
        }
      ]
    },
    {
      "cell_type": "markdown",
      "source": [
        "# A.8 Saving and Loading Models\n",
        "- `model.state_dict()` - dictionary that maps each layer in teh model to its trainable paramenters\n",
        "- `model.pth` or `model.pt` - common file conventions for saving models"
      ],
      "metadata": {
        "id": "VmxIUC-WLpD9"
      }
    },
    {
      "cell_type": "code",
      "source": [
        "torch.save(model.state_dict(), \"model.pth\")"
      ],
      "metadata": {
        "id": "HvIUHvuZLcuj"
      },
      "execution_count": null,
      "outputs": []
    },
    {
      "cell_type": "markdown",
      "source": [
        "Restoring Model from disk\n",
        "- Note: The model architecture must match exactly to where it was trained when saving and loading"
      ],
      "metadata": {
        "id": "77xaDbtnM6Or"
      }
    },
    {
      "cell_type": "code",
      "source": [
        "model = NeuralNetwork(num_inputs = 2,num_outputs=2)\n",
        "model.load_state_dict(torch.load(\"model.pth\"))"
      ],
      "metadata": {
        "colab": {
          "base_uri": "https://localhost:8080/"
        },
        "id": "8Cd0g4IBL8CJ",
        "outputId": "186da407-2192-4b68-cc23-5a1c6deca4f1"
      },
      "execution_count": null,
      "outputs": [
        {
          "output_type": "stream",
          "name": "stderr",
          "text": [
            "<ipython-input-38-a3aba5c745d0>:2: FutureWarning: You are using `torch.load` with `weights_only=False` (the current default value), which uses the default pickle module implicitly. It is possible to construct malicious pickle data which will execute arbitrary code during unpickling (See https://github.com/pytorch/pytorch/blob/main/SECURITY.md#untrusted-models for more details). In a future release, the default value for `weights_only` will be flipped to `True`. This limits the functions that could be executed during unpickling. Arbitrary objects will no longer be allowed to be loaded via this mode unless they are explicitly allowlisted by the user via `torch.serialization.add_safe_globals`. We recommend you start setting `weights_only=True` for any use case where you don't have full control of the loaded file. Please open an issue on GitHub for any issues related to this experimental feature.\n",
            "  model.load_state_dict(torch.load(\"model.pth\"))\n"
          ]
        },
        {
          "output_type": "execute_result",
          "data": {
            "text/plain": [
              "<All keys matched successfully>"
            ]
          },
          "metadata": {},
          "execution_count": 38
        }
      ]
    },
    {
      "cell_type": "markdown",
      "source": [
        "# A.9 Optimizing performance using GPU\n"
      ],
      "metadata": {
        "id": "SdOzpiVyN1oU"
      }
    },
    {
      "cell_type": "markdown",
      "source": [
        "- Pytorch devices refer to where the tensors are stored and where computations occur. This can be either the CPU or the GPU\n",
        "- All tensors must be on the same decive during a computation\n",
        "\n",
        "- `torch.cuda.is_availabe()` - returns if torch can access GPU or not"
      ],
      "metadata": {
        "id": "JvjbrFQLOBgq"
      }
    },
    {
      "cell_type": "code",
      "source": [
        "print(torch.cuda.is_available())"
      ],
      "metadata": {
        "colab": {
          "base_uri": "https://localhost:8080/"
        },
        "id": "LpWjWslRNyzN",
        "outputId": "a23c6894-be38-4a22-9d08-bed3fafe108e"
      },
      "execution_count": null,
      "outputs": [
        {
          "output_type": "stream",
          "name": "stdout",
          "text": [
            "True\n"
          ]
        }
      ]
    },
    {
      "cell_type": "markdown",
      "source": [
        "CPU Computation"
      ],
      "metadata": {
        "id": "s3KukQN7Om8S"
      }
    },
    {
      "cell_type": "code",
      "source": [
        "tensor_1 = torch.tensor([1., 2., 3.])\n",
        "tensor_2 = torch.tensor([4., 5., 6.])\n",
        "print(tensor_1 + tensor_2)"
      ],
      "metadata": {
        "colab": {
          "base_uri": "https://localhost:8080/"
        },
        "id": "sH1t-qrgOj_S",
        "outputId": "8ecf1a25-548e-460c-c285-040bc1ad882f"
      },
      "execution_count": null,
      "outputs": [
        {
          "output_type": "stream",
          "name": "stdout",
          "text": [
            "tensor([5., 7., 9.])\n"
          ]
        }
      ]
    },
    {
      "cell_type": "markdown",
      "source": [
        "Moving the tensors to GPU\n",
        "\n",
        "The `device='cuda:0'` in the output says that the computations happened on the GPU"
      ],
      "metadata": {
        "id": "30SgtvTrOvrI"
      }
    },
    {
      "cell_type": "code",
      "source": [
        "tensor_1 = tensor_1.to(\"cuda\")\n",
        "tensor_2 = tensor_2.to(\"cuda\")\n",
        "print(tensor_1+ tensor_2)\n"
      ],
      "metadata": {
        "colab": {
          "base_uri": "https://localhost:8080/"
        },
        "id": "YBx7Ylv9OTJn",
        "outputId": "b4720d9e-3e9d-4abb-a57d-bed5e3b59cd5"
      },
      "execution_count": null,
      "outputs": [
        {
          "output_type": "stream",
          "name": "stdout",
          "text": [
            "tensor([5., 7., 9.], device='cuda:0')\n"
          ]
        }
      ]
    },
    {
      "cell_type": "markdown",
      "source": [
        "## Training a Neural Network on the GPU"
      ],
      "metadata": {
        "id": "bZwaI-1IPeiv"
      }
    },
    {
      "cell_type": "code",
      "source": [
        "import torch.nn.functional as F\n",
        "\n",
        "torch.manual_seed(123)\n",
        "\n",
        "model = NeuralNetwork(num_inputs = 2,num_outputs=2)\n",
        "\n",
        "device = torch.device(\"cuda\" if torch.cuda.is_available() else \"cpu\")\n",
        "model = model.to(device)\n",
        "\n",
        "optimizer = torch.optim.SGD(model.parameters(), lr = 0.5)\n",
        "num_epochs = 3\n",
        "\n",
        "for epoch in range(num_epochs):\n",
        "  model.train()\n",
        "  for batch_idx, (features, labels) in enumerate(train_loader):\n",
        "    features, labels = features.to(device), labels.to(device)\n",
        "    logits = model(features)\n",
        "    loss = F.cross_entropy(logits, labels)\n",
        "\n",
        "    optimizer.zero_grad()\n",
        "    loss.backward()\n",
        "    optimizer.step()\n",
        "\n",
        "    # LOGGING\n",
        "    print(f\"Epoch: {epoch+1:03d}/{num_epochs:03d}\"\\\n",
        "          f\" | Batch {batch_idx:03d}/{len(train_loader):03d} \"\n",
        "          f\" | Train Loss: {loss:.2f}\")\n",
        "\n",
        "  model.eval()"
      ],
      "metadata": {
        "colab": {
          "base_uri": "https://localhost:8080/"
        },
        "outputId": "2a731c1b-7eed-423b-f976-63b77df961a1",
        "id": "OFHuaqKlPobK"
      },
      "execution_count": null,
      "outputs": [
        {
          "output_type": "stream",
          "name": "stdout",
          "text": [
            "Epoch: 001/003 | Batch 000/002  | Train Loss: 0.75\n",
            "Epoch: 001/003 | Batch 001/002  | Train Loss: 0.65\n",
            "Epoch: 002/003 | Batch 000/002  | Train Loss: 0.44\n",
            "Epoch: 002/003 | Batch 001/002  | Train Loss: 0.13\n",
            "Epoch: 003/003 | Batch 000/002  | Train Loss: 0.03\n",
            "Epoch: 003/003 | Batch 001/002  | Train Loss: 0.00\n"
          ]
        }
      ]
    },
    {
      "cell_type": "markdown",
      "source": [
        "# TODO: Figure out distrubuted training on multiple GPU (Find the runtime for this )\n"
      ],
      "metadata": {
        "id": "1nVP6IDOQPff"
      }
    }
  ]
}