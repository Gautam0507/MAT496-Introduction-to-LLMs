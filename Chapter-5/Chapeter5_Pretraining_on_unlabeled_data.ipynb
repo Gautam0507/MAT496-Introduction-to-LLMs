{
  "nbformat": 4,
  "nbformat_minor": 0,
  "metadata": {
    "colab": {
      "provenance": [],
      "authorship_tag": "ABX9TyODRX377+FLr37NpP/01OfD",
      "include_colab_link": true
    },
    "kernelspec": {
      "name": "python3",
      "display_name": "Python 3"
    },
    "language_info": {
      "name": "python"
    }
  },
  "cells": [
    {
      "cell_type": "markdown",
      "metadata": {
        "id": "view-in-github",
        "colab_type": "text"
      },
      "source": [
        "<a href=\"https://colab.research.google.com/github/Gautam0507/MAT496-Introduction-to-LLMs/blob/main/Chapter-5/Chapeter5_Pretraining_on_unlabeled_data.ipynb\" target=\"_parent\"><img src=\"https://colab.research.google.com/assets/colab-badge.svg\" alt=\"Open In Colab\"/></a>"
      ]
    },
    {
      "cell_type": "markdown",
      "source": [
        "# 5.1 Evaluating generative text models"
      ],
      "metadata": {
        "id": "2i_5pQycNpx7"
      }
    },
    {
      "cell_type": "code",
      "source": [
        "!pip install tiktoken"
      ],
      "metadata": {
        "colab": {
          "base_uri": "https://localhost:8080/"
        },
        "id": "A9ziwHwcQ--W",
        "outputId": "4d404277-3fed-4ee7-85ca-da4cf9098794"
      },
      "execution_count": null,
      "outputs": [
        {
          "output_type": "stream",
          "name": "stdout",
          "text": [
            "Collecting tiktoken\n",
            "  Downloading tiktoken-0.9.0-cp311-cp311-manylinux_2_17_x86_64.manylinux2014_x86_64.whl.metadata (6.7 kB)\n",
            "Requirement already satisfied: regex>=2022.1.18 in /usr/local/lib/python3.11/dist-packages (from tiktoken) (2024.11.6)\n",
            "Requirement already satisfied: requests>=2.26.0 in /usr/local/lib/python3.11/dist-packages (from tiktoken) (2.32.3)\n",
            "Requirement already satisfied: charset-normalizer<4,>=2 in /usr/local/lib/python3.11/dist-packages (from requests>=2.26.0->tiktoken) (3.4.1)\n",
            "Requirement already satisfied: idna<4,>=2.5 in /usr/local/lib/python3.11/dist-packages (from requests>=2.26.0->tiktoken) (3.10)\n",
            "Requirement already satisfied: urllib3<3,>=1.21.1 in /usr/local/lib/python3.11/dist-packages (from requests>=2.26.0->tiktoken) (2.3.0)\n",
            "Requirement already satisfied: certifi>=2017.4.17 in /usr/local/lib/python3.11/dist-packages (from requests>=2.26.0->tiktoken) (2025.1.31)\n",
            "Downloading tiktoken-0.9.0-cp311-cp311-manylinux_2_17_x86_64.manylinux2014_x86_64.whl (1.2 MB)\n",
            "\u001b[2K   \u001b[90m━━━━━━━━━━━━━━━━━━━━━━━━━━━━━━━━━━━━━━━━\u001b[0m \u001b[32m1.2/1.2 MB\u001b[0m \u001b[31m15.8 MB/s\u001b[0m eta \u001b[36m0:00:00\u001b[0m\n",
            "\u001b[?25hInstalling collected packages: tiktoken\n",
            "Successfully installed tiktoken-0.9.0\n"
          ]
        }
      ]
    },
    {
      "cell_type": "code",
      "execution_count": null,
      "metadata": {
        "id": "f4dfaW5zMd0t"
      },
      "outputs": [],
      "source": [
        "import torch\n",
        "import torch.nn as nn\n",
        "import tiktoken"
      ]
    },
    {
      "cell_type": "markdown",
      "source": [
        "## 5.1.1 Using GPT to generate text"
      ],
      "metadata": {
        "id": "nltbihscN0_W"
      }
    },
    {
      "cell_type": "markdown",
      "source": [
        "### Code borrowed from chapter 4"
      ],
      "metadata": {
        "id": "_lHpVv3ON8OH"
      }
    },
    {
      "cell_type": "markdown",
      "source": [
        "All code here is taken from chapter 4. Should be put into a python file and imported instead."
      ],
      "metadata": {
        "id": "3iij88DDQJyd"
      }
    },
    {
      "cell_type": "code",
      "source": [
        "def generate_text_simple(model, idx, max_new_tokens, context_size):\n",
        "  for _ in range(max_new_tokens):\n",
        "    idx_cond = idx[:, -context_size:]\n",
        "    with torch.no_grad():\n",
        "      logits = model(idx_cond)\n",
        "\n",
        "    logits = logits[:, -1, :]\n",
        "    probas = torch.softmax(logits, dim = -1)\n",
        "    idx_next = torch.argmax(probas, dim = -1, keepdim = True)\n",
        "    idx = torch.cat((idx, idx_next), dim = 1)\n",
        "  return idx"
      ],
      "metadata": {
        "id": "W9bYrPt-Qxqb"
      },
      "execution_count": null,
      "outputs": []
    },
    {
      "cell_type": "code",
      "source": [
        "class LayerNorm(nn.Module):\n",
        "  def __init__(self, emb_dim):\n",
        "    super().__init__()\n",
        "    self.eps = 1e-5\n",
        "    self.scale = nn.Parameter(torch.ones(emb_dim))\n",
        "    self.shift = nn.Parameter(torch.zeros(emb_dim))\n",
        "\n",
        "  def forward(self, x):\n",
        "    mean = x.mean(dim = -1, keepdim = True)\n",
        "    var = x.var(dim = -1, keepdim = True, unbiased= False)\n",
        "    norm_x = (x - mean) / torch.sqrt(var + self.eps)\n",
        "    norm_x = self.scale * norm_x + self.shift\n",
        "    return norm_x"
      ],
      "metadata": {
        "id": "6zmt8fywQICN"
      },
      "execution_count": null,
      "outputs": []
    },
    {
      "cell_type": "code",
      "source": [
        "class GELU(nn.Module):\n",
        "  def __init__(self):\n",
        "    super().__init__()\n",
        "\n",
        "  def forward(self, x):\n",
        "    GELU = 0.5 * x * (1 + torch.tanh(torch.sqrt(torch.tensor(2.0 / torch.pi, dtype = torch.float32)) * (x + 0.044715 * torch.pow(x, 3))))\n",
        "    return GELU"
      ],
      "metadata": {
        "id": "rxqJemRKQBI8"
      },
      "execution_count": null,
      "outputs": []
    },
    {
      "cell_type": "code",
      "source": [
        "class FeedForward(nn.Module):\n",
        "  def __init__(self, cfg):\n",
        "    super().__init__()\n",
        "    self.layers = nn.Sequential(\n",
        "        nn.Linear(cfg[\"emb_dim\"], 4 * cfg[\"emb_dim\"]),\n",
        "        GELU(),\n",
        "        nn.Linear(4 * cfg[\"emb_dim\"], cfg[\"emb_dim\"]),\n",
        "    )\n",
        "\n",
        "  def forward(self, x):\n",
        "    return self.layers(x)"
      ],
      "metadata": {
        "id": "_Q3uaDbKP-DF"
      },
      "execution_count": null,
      "outputs": []
    },
    {
      "cell_type": "code",
      "source": [
        "class MultiHeadAttention(nn.Module):\n",
        "  def __init__(self, d_in, d_out, context_length, dropout, num_heads, qkv_bias = False):\n",
        "    super().__init__()\n",
        "    assert(d_out % num_heads == 0), \"d_out must be divisible by num_heads\"\n",
        "\n",
        "    self.d_out = d_out\n",
        "    self.num_heads = num_heads\n",
        "    self.head_dim = d_out // num_heads\n",
        "    self.W_query = nn.Linear(d_in, d_out, bias = qkv_bias)\n",
        "    self.W_key = nn.Linear(d_in, d_out, bias = qkv_bias)\n",
        "    self.W_value = nn.Linear(d_in, d_out, bias = qkv_bias)\n",
        "    self.out_proj = nn.Linear(d_out, d_out)\n",
        "    self.dropout = nn.Dropout(dropout)\n",
        "    self.register_buffer(\"mask\", torch.triu(torch.ones(context_length, context_length), diagonal = 1))\n",
        "\n",
        "  def forward(self, x):\n",
        "    b, num_tokens, d_in = x.shape\n",
        "    keys = self.W_key(x)\n",
        "    queries = self.W_query(x)\n",
        "    values = self.W_value(x)\n",
        "\n",
        "    keys = keys.view(b, num_tokens, self.num_heads, self.head_dim)\n",
        "    values = values.view(b, num_tokens, self.num_heads, self.head_dim)\n",
        "    queries = queries.view(b, num_tokens, self.num_heads, self.head_dim)\n",
        "\n",
        "    keys = keys.transpose(1,2)\n",
        "    values = values.transpose(1,2)\n",
        "    queries = queries.transpose(1,2)\n",
        "\n",
        "    attn_scores = queries @ keys.transpose(2,3)\n",
        "    mask_bool = self.mask.bool()[:num_tokens, :num_tokens]\n",
        "\n",
        "    attn_scores.masked_fill_(mask_bool, -torch.inf)\n",
        "\n",
        "    attn_weights = torch.softmax(attn_scores / keys.shape[-1]**0.5, dim = -1)\n",
        "    attn_weights = self.dropout(attn_weights)\n",
        "\n",
        "    context_vec = (attn_weights @ values).transpose(1,2)\n",
        "    context_vec = context_vec.contiguous().view(b, num_tokens, self.d_out)\n",
        "    context_vec = self.out_proj(context_vec)\n",
        "\n",
        "    return context_vec"
      ],
      "metadata": {
        "id": "CAhA3PtcPggw"
      },
      "execution_count": null,
      "outputs": []
    },
    {
      "cell_type": "code",
      "source": [
        "class TransformerBlock(nn.Module):\n",
        "  def __init__(self, cfg):\n",
        "    super().__init__()\n",
        "    self.att = MultiHeadAttention(\n",
        "        d_in = cfg[\"emb_dim\"],\n",
        "        d_out = cfg[\"emb_dim\"],\n",
        "        context_length=cfg[\"context_length\"],\n",
        "        num_heads=cfg[\"n_heads\"],\n",
        "        dropout=cfg[\"drop_rate\"],\n",
        "        qkv_bias=cfg[\"qkv_bias\"]\n",
        "    )\n",
        "    self.ff = FeedForward(cfg)\n",
        "    self.norm1 = LayerNorm(cfg[\"emb_dim\"])\n",
        "    self.norm2 = LayerNorm(cfg[\"emb_dim\"])\n",
        "    self.drop_shortcut = nn.Dropout(cfg[\"drop_rate\"])\n",
        "\n",
        "  def forward(self, x):\n",
        "    shortcut = x\n",
        "    x = self.norm1(x)\n",
        "    x = self.att(x)\n",
        "    x = self.drop_shortcut(x)\n",
        "    x = x + shortcut\n",
        "\n",
        "    shortcut = x\n",
        "    x = self.norm2(x)\n",
        "    x = self.ff(x)\n",
        "    x = self.drop_shortcut(x)\n",
        "    x = x + shortcut\n",
        "\n",
        "    return x"
      ],
      "metadata": {
        "id": "Jps-VKYiPsnT"
      },
      "execution_count": null,
      "outputs": []
    },
    {
      "cell_type": "code",
      "source": [
        "class GPTModel(nn.Module):\n",
        "  def __init__(self, cfg):\n",
        "    super().__init__()\n",
        "    self.tok_emb = nn.Embedding(cfg[\"vocab_size\"], cfg[\"emb_dim\"])\n",
        "    self.pos_emb = nn.Embedding(cfg[\"context_length\"], cfg[\"emb_dim\"])\n",
        "    self.drop_emb = nn.Dropout(cfg[\"drop_rate\"])\n",
        "\n",
        "    self.trf_blocks = nn.Sequential(*[TransformerBlock(cfg) for _ in range(cfg[\"n_layers\"])])\n",
        "\n",
        "    self.final_norm = LayerNorm(cfg[\"emb_dim\"])\n",
        "    self.out_head = nn.Linear(cfg[\"emb_dim\"], cfg[\"vocab_size\"], bias = False)\n",
        "\n",
        "  def forward(self, in_idx):\n",
        "    batch_size, seq_len = in_idx.shape\n",
        "    tok_embeds = self.tok_emb(in_idx)\n",
        "    pos_embeds = self.pos_emb(torch.arange(seq_len, device = in_idx.device))\n",
        "    x = tok_embeds + pos_embeds\n",
        "    x = self.drop_emb(x)\n",
        "    x = self.trf_blocks(x)\n",
        "    x = self.final_norm(x)\n",
        "    logits = self.out_head(x)\n",
        "    return logits"
      ],
      "metadata": {
        "id": "zM04Dq-vPuXH"
      },
      "execution_count": null,
      "outputs": []
    },
    {
      "cell_type": "markdown",
      "source": [
        "### Initializing the model for chapter 5"
      ],
      "metadata": {
        "id": "Thav5K22Pd_6"
      }
    },
    {
      "cell_type": "code",
      "source": [
        "GPT_CONFIG_124M = {\n",
        "    \"vocab_size\" : 50257,\n",
        "    #Shortened the context length from 1024 to 256 tokens (reducing computation)\n",
        "    \"context_length\" : 256,\n",
        "    \"emb_dim\" : 768,\n",
        "    \"n_heads\" : 12,\n",
        "    \"n_layers\" : 12,\n",
        "    \"drop_rate\" : 0.1,\n",
        "    \"qkv_bias\" : False\n",
        "}"
      ],
      "metadata": {
        "id": "FaLIM_fyOf4b"
      },
      "execution_count": null,
      "outputs": []
    },
    {
      "cell_type": "code",
      "source": [
        "model = GPTModel(GPT_CONFIG_124M)\n",
        "model.eval()"
      ],
      "metadata": {
        "colab": {
          "base_uri": "https://localhost:8080/"
        },
        "id": "HH9pBLMlOhqT",
        "outputId": "59180d11-7b59-41cb-be5b-5b7a875cdb22"
      },
      "execution_count": null,
      "outputs": [
        {
          "output_type": "execute_result",
          "data": {
            "text/plain": [
              "GPTModel(\n",
              "  (tok_emb): Embedding(50257, 768)\n",
              "  (pos_emb): Embedding(256, 768)\n",
              "  (drop_emb): Dropout(p=0.1, inplace=False)\n",
              "  (trf_blocks): Sequential(\n",
              "    (0): TransformerBlock(\n",
              "      (att): MultiHeadAttention(\n",
              "        (W_query): Linear(in_features=768, out_features=768, bias=False)\n",
              "        (W_key): Linear(in_features=768, out_features=768, bias=False)\n",
              "        (W_value): Linear(in_features=768, out_features=768, bias=False)\n",
              "        (out_proj): Linear(in_features=768, out_features=768, bias=True)\n",
              "        (dropout): Dropout(p=0.1, inplace=False)\n",
              "      )\n",
              "      (ff): FeedForward(\n",
              "        (layers): Sequential(\n",
              "          (0): Linear(in_features=768, out_features=3072, bias=True)\n",
              "          (1): GELU()\n",
              "          (2): Linear(in_features=3072, out_features=768, bias=True)\n",
              "        )\n",
              "      )\n",
              "      (norm1): LayerNorm()\n",
              "      (norm2): LayerNorm()\n",
              "      (drop_shortcut): Dropout(p=0.1, inplace=False)\n",
              "    )\n",
              "    (1): TransformerBlock(\n",
              "      (att): MultiHeadAttention(\n",
              "        (W_query): Linear(in_features=768, out_features=768, bias=False)\n",
              "        (W_key): Linear(in_features=768, out_features=768, bias=False)\n",
              "        (W_value): Linear(in_features=768, out_features=768, bias=False)\n",
              "        (out_proj): Linear(in_features=768, out_features=768, bias=True)\n",
              "        (dropout): Dropout(p=0.1, inplace=False)\n",
              "      )\n",
              "      (ff): FeedForward(\n",
              "        (layers): Sequential(\n",
              "          (0): Linear(in_features=768, out_features=3072, bias=True)\n",
              "          (1): GELU()\n",
              "          (2): Linear(in_features=3072, out_features=768, bias=True)\n",
              "        )\n",
              "      )\n",
              "      (norm1): LayerNorm()\n",
              "      (norm2): LayerNorm()\n",
              "      (drop_shortcut): Dropout(p=0.1, inplace=False)\n",
              "    )\n",
              "    (2): TransformerBlock(\n",
              "      (att): MultiHeadAttention(\n",
              "        (W_query): Linear(in_features=768, out_features=768, bias=False)\n",
              "        (W_key): Linear(in_features=768, out_features=768, bias=False)\n",
              "        (W_value): Linear(in_features=768, out_features=768, bias=False)\n",
              "        (out_proj): Linear(in_features=768, out_features=768, bias=True)\n",
              "        (dropout): Dropout(p=0.1, inplace=False)\n",
              "      )\n",
              "      (ff): FeedForward(\n",
              "        (layers): Sequential(\n",
              "          (0): Linear(in_features=768, out_features=3072, bias=True)\n",
              "          (1): GELU()\n",
              "          (2): Linear(in_features=3072, out_features=768, bias=True)\n",
              "        )\n",
              "      )\n",
              "      (norm1): LayerNorm()\n",
              "      (norm2): LayerNorm()\n",
              "      (drop_shortcut): Dropout(p=0.1, inplace=False)\n",
              "    )\n",
              "    (3): TransformerBlock(\n",
              "      (att): MultiHeadAttention(\n",
              "        (W_query): Linear(in_features=768, out_features=768, bias=False)\n",
              "        (W_key): Linear(in_features=768, out_features=768, bias=False)\n",
              "        (W_value): Linear(in_features=768, out_features=768, bias=False)\n",
              "        (out_proj): Linear(in_features=768, out_features=768, bias=True)\n",
              "        (dropout): Dropout(p=0.1, inplace=False)\n",
              "      )\n",
              "      (ff): FeedForward(\n",
              "        (layers): Sequential(\n",
              "          (0): Linear(in_features=768, out_features=3072, bias=True)\n",
              "          (1): GELU()\n",
              "          (2): Linear(in_features=3072, out_features=768, bias=True)\n",
              "        )\n",
              "      )\n",
              "      (norm1): LayerNorm()\n",
              "      (norm2): LayerNorm()\n",
              "      (drop_shortcut): Dropout(p=0.1, inplace=False)\n",
              "    )\n",
              "    (4): TransformerBlock(\n",
              "      (att): MultiHeadAttention(\n",
              "        (W_query): Linear(in_features=768, out_features=768, bias=False)\n",
              "        (W_key): Linear(in_features=768, out_features=768, bias=False)\n",
              "        (W_value): Linear(in_features=768, out_features=768, bias=False)\n",
              "        (out_proj): Linear(in_features=768, out_features=768, bias=True)\n",
              "        (dropout): Dropout(p=0.1, inplace=False)\n",
              "      )\n",
              "      (ff): FeedForward(\n",
              "        (layers): Sequential(\n",
              "          (0): Linear(in_features=768, out_features=3072, bias=True)\n",
              "          (1): GELU()\n",
              "          (2): Linear(in_features=3072, out_features=768, bias=True)\n",
              "        )\n",
              "      )\n",
              "      (norm1): LayerNorm()\n",
              "      (norm2): LayerNorm()\n",
              "      (drop_shortcut): Dropout(p=0.1, inplace=False)\n",
              "    )\n",
              "    (5): TransformerBlock(\n",
              "      (att): MultiHeadAttention(\n",
              "        (W_query): Linear(in_features=768, out_features=768, bias=False)\n",
              "        (W_key): Linear(in_features=768, out_features=768, bias=False)\n",
              "        (W_value): Linear(in_features=768, out_features=768, bias=False)\n",
              "        (out_proj): Linear(in_features=768, out_features=768, bias=True)\n",
              "        (dropout): Dropout(p=0.1, inplace=False)\n",
              "      )\n",
              "      (ff): FeedForward(\n",
              "        (layers): Sequential(\n",
              "          (0): Linear(in_features=768, out_features=3072, bias=True)\n",
              "          (1): GELU()\n",
              "          (2): Linear(in_features=3072, out_features=768, bias=True)\n",
              "        )\n",
              "      )\n",
              "      (norm1): LayerNorm()\n",
              "      (norm2): LayerNorm()\n",
              "      (drop_shortcut): Dropout(p=0.1, inplace=False)\n",
              "    )\n",
              "    (6): TransformerBlock(\n",
              "      (att): MultiHeadAttention(\n",
              "        (W_query): Linear(in_features=768, out_features=768, bias=False)\n",
              "        (W_key): Linear(in_features=768, out_features=768, bias=False)\n",
              "        (W_value): Linear(in_features=768, out_features=768, bias=False)\n",
              "        (out_proj): Linear(in_features=768, out_features=768, bias=True)\n",
              "        (dropout): Dropout(p=0.1, inplace=False)\n",
              "      )\n",
              "      (ff): FeedForward(\n",
              "        (layers): Sequential(\n",
              "          (0): Linear(in_features=768, out_features=3072, bias=True)\n",
              "          (1): GELU()\n",
              "          (2): Linear(in_features=3072, out_features=768, bias=True)\n",
              "        )\n",
              "      )\n",
              "      (norm1): LayerNorm()\n",
              "      (norm2): LayerNorm()\n",
              "      (drop_shortcut): Dropout(p=0.1, inplace=False)\n",
              "    )\n",
              "    (7): TransformerBlock(\n",
              "      (att): MultiHeadAttention(\n",
              "        (W_query): Linear(in_features=768, out_features=768, bias=False)\n",
              "        (W_key): Linear(in_features=768, out_features=768, bias=False)\n",
              "        (W_value): Linear(in_features=768, out_features=768, bias=False)\n",
              "        (out_proj): Linear(in_features=768, out_features=768, bias=True)\n",
              "        (dropout): Dropout(p=0.1, inplace=False)\n",
              "      )\n",
              "      (ff): FeedForward(\n",
              "        (layers): Sequential(\n",
              "          (0): Linear(in_features=768, out_features=3072, bias=True)\n",
              "          (1): GELU()\n",
              "          (2): Linear(in_features=3072, out_features=768, bias=True)\n",
              "        )\n",
              "      )\n",
              "      (norm1): LayerNorm()\n",
              "      (norm2): LayerNorm()\n",
              "      (drop_shortcut): Dropout(p=0.1, inplace=False)\n",
              "    )\n",
              "    (8): TransformerBlock(\n",
              "      (att): MultiHeadAttention(\n",
              "        (W_query): Linear(in_features=768, out_features=768, bias=False)\n",
              "        (W_key): Linear(in_features=768, out_features=768, bias=False)\n",
              "        (W_value): Linear(in_features=768, out_features=768, bias=False)\n",
              "        (out_proj): Linear(in_features=768, out_features=768, bias=True)\n",
              "        (dropout): Dropout(p=0.1, inplace=False)\n",
              "      )\n",
              "      (ff): FeedForward(\n",
              "        (layers): Sequential(\n",
              "          (0): Linear(in_features=768, out_features=3072, bias=True)\n",
              "          (1): GELU()\n",
              "          (2): Linear(in_features=3072, out_features=768, bias=True)\n",
              "        )\n",
              "      )\n",
              "      (norm1): LayerNorm()\n",
              "      (norm2): LayerNorm()\n",
              "      (drop_shortcut): Dropout(p=0.1, inplace=False)\n",
              "    )\n",
              "    (9): TransformerBlock(\n",
              "      (att): MultiHeadAttention(\n",
              "        (W_query): Linear(in_features=768, out_features=768, bias=False)\n",
              "        (W_key): Linear(in_features=768, out_features=768, bias=False)\n",
              "        (W_value): Linear(in_features=768, out_features=768, bias=False)\n",
              "        (out_proj): Linear(in_features=768, out_features=768, bias=True)\n",
              "        (dropout): Dropout(p=0.1, inplace=False)\n",
              "      )\n",
              "      (ff): FeedForward(\n",
              "        (layers): Sequential(\n",
              "          (0): Linear(in_features=768, out_features=3072, bias=True)\n",
              "          (1): GELU()\n",
              "          (2): Linear(in_features=3072, out_features=768, bias=True)\n",
              "        )\n",
              "      )\n",
              "      (norm1): LayerNorm()\n",
              "      (norm2): LayerNorm()\n",
              "      (drop_shortcut): Dropout(p=0.1, inplace=False)\n",
              "    )\n",
              "    (10): TransformerBlock(\n",
              "      (att): MultiHeadAttention(\n",
              "        (W_query): Linear(in_features=768, out_features=768, bias=False)\n",
              "        (W_key): Linear(in_features=768, out_features=768, bias=False)\n",
              "        (W_value): Linear(in_features=768, out_features=768, bias=False)\n",
              "        (out_proj): Linear(in_features=768, out_features=768, bias=True)\n",
              "        (dropout): Dropout(p=0.1, inplace=False)\n",
              "      )\n",
              "      (ff): FeedForward(\n",
              "        (layers): Sequential(\n",
              "          (0): Linear(in_features=768, out_features=3072, bias=True)\n",
              "          (1): GELU()\n",
              "          (2): Linear(in_features=3072, out_features=768, bias=True)\n",
              "        )\n",
              "      )\n",
              "      (norm1): LayerNorm()\n",
              "      (norm2): LayerNorm()\n",
              "      (drop_shortcut): Dropout(p=0.1, inplace=False)\n",
              "    )\n",
              "    (11): TransformerBlock(\n",
              "      (att): MultiHeadAttention(\n",
              "        (W_query): Linear(in_features=768, out_features=768, bias=False)\n",
              "        (W_key): Linear(in_features=768, out_features=768, bias=False)\n",
              "        (W_value): Linear(in_features=768, out_features=768, bias=False)\n",
              "        (out_proj): Linear(in_features=768, out_features=768, bias=True)\n",
              "        (dropout): Dropout(p=0.1, inplace=False)\n",
              "      )\n",
              "      (ff): FeedForward(\n",
              "        (layers): Sequential(\n",
              "          (0): Linear(in_features=768, out_features=3072, bias=True)\n",
              "          (1): GELU()\n",
              "          (2): Linear(in_features=3072, out_features=768, bias=True)\n",
              "        )\n",
              "      )\n",
              "      (norm1): LayerNorm()\n",
              "      (norm2): LayerNorm()\n",
              "      (drop_shortcut): Dropout(p=0.1, inplace=False)\n",
              "    )\n",
              "  )\n",
              "  (final_norm): LayerNorm()\n",
              "  (out_head): Linear(in_features=768, out_features=50257, bias=False)\n",
              ")"
            ]
          },
          "metadata": {},
          "execution_count": 12
        }
      ]
    },
    {
      "cell_type": "markdown",
      "source": [
        "### Defining Utility functions for text to token ID Conversion"
      ],
      "metadata": {
        "id": "SLSxSpQgQdce"
      }
    },
    {
      "cell_type": "markdown",
      "source": [
        "- `torch.tensor.unsqueeze()` - adds the batch dimension"
      ],
      "metadata": {
        "id": "7pW2_JFZRbnW"
      }
    },
    {
      "cell_type": "code",
      "source": [
        "def text_to_token_ids(text, tokenizer):\n",
        "  encoded = tokenizer.encode(text, allowed_special = {'<|endoftext|>'})\n",
        "  encoded_tensor = torch.tensor(encoded).unsqueeze(0)\n",
        "  return encoded_tensor"
      ],
      "metadata": {
        "id": "-NRGkbKTQnUN"
      },
      "execution_count": null,
      "outputs": []
    },
    {
      "cell_type": "markdown",
      "source": [
        "- `torch.tensor.squeeze()` - removes the batch dimension"
      ],
      "metadata": {
        "id": "32JIZkxiRixr"
      }
    },
    {
      "cell_type": "code",
      "source": [
        "def token_ids_to_text(token_ids, tokenizer):\n",
        "  flat = token_ids.squeeze(0)\n",
        "  return tokenizer.decode(flat.tolist())"
      ],
      "metadata": {
        "id": "6KJf1hUYRbB6"
      },
      "execution_count": null,
      "outputs": []
    },
    {
      "cell_type": "code",
      "source": [
        "start_context = \"Every effort moves you\"\n",
        "tokenizer = tiktoken.get_encoding(\"gpt2\")\n",
        "\n",
        "token_ids = generate_text_simple(model = model,\n",
        "                                 idx = text_to_token_ids(start_context, tokenizer),\n",
        "                                 max_new_tokens=10,\n",
        "                                 context_size = GPT_CONFIG_124M[\"context_length\"])\n",
        "\n",
        "print(f\"Output text: \\n {token_ids_to_text(token_ids, tokenizer)}\")"
      ],
      "metadata": {
        "colab": {
          "base_uri": "https://localhost:8080/"
        },
        "id": "8hdui_KcRzZN",
        "outputId": "27eac031-b30e-4b3d-e616-cb0f3110a31b"
      },
      "execution_count": null,
      "outputs": [
        {
          "output_type": "stream",
          "name": "stdout",
          "text": [
            "Output text: \n",
            " Every effort moves you!!!!!!!!!!\n"
          ]
        }
      ]
    },
    {
      "cell_type": "markdown",
      "source": [
        "## 5.1.2 Calculating the text generation loss"
      ],
      "metadata": {
        "id": "IHtrC5xqSz-4"
      }
    },
    {
      "cell_type": "markdown",
      "source": [
        "![{9EDAA59E-E97E-45A4-9072-55BB5F522A50}.png](data:image/png;base64,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)"
      ],
      "metadata": {
        "id": "cUWMRLFATD3M"
      }
    },
    {
      "cell_type": "code",
      "source": [
        "inputs = torch.tensor([[16833, 3626, 6100],   # [\"every effort moves\",\n",
        "                       [40, 1107, 588]])      # \"I really like\"]\n",
        "\n",
        "targets = torch.tensor([[3626, 6100, 345],    # [\" effort moves you\",\n",
        "                        [1107, 588, 11311]])  # \" really like chocolate\"]"
      ],
      "metadata": {
        "id": "2LEpr5x_S5v0"
      },
      "execution_count": null,
      "outputs": []
    },
    {
      "cell_type": "markdown",
      "source": [
        "Shape Explanation\n",
        "- $2$ - batch size (number of inputs)  \n",
        "- $3$ - Number of tokens in each input\n",
        "- $50257$ - Embedding dimensioality"
      ],
      "metadata": {
        "id": "dumkMXenT9vc"
      }
    },
    {
      "cell_type": "code",
      "source": [
        "with torch.no_grad():\n",
        "  logits = model(inputs)\n",
        "probas = torch.softmax(logits, dim = -1)\n",
        "print(probas.shape)"
      ],
      "metadata": {
        "colab": {
          "base_uri": "https://localhost:8080/"
        },
        "id": "9RMznwAKTunc",
        "outputId": "0c1507bc-7482-4f1c-eb7a-42fe272c8f6b"
      },
      "execution_count": null,
      "outputs": [
        {
          "output_type": "stream",
          "name": "stdout",
          "text": [
            "torch.Size([2, 3, 50257])\n"
          ]
        }
      ]
    },
    {
      "cell_type": "code",
      "source": [
        "token_ids = torch.argmax(probas, dim = -1, keepdim = True)\n",
        "print(f\"Token IDs: \\n{token_ids}\")"
      ],
      "metadata": {
        "colab": {
          "base_uri": "https://localhost:8080/"
        },
        "id": "Y3rqRzybTxBK",
        "outputId": "d81f510d-eaab-437f-e290-d411c67739f3"
      },
      "execution_count": null,
      "outputs": [
        {
          "output_type": "stream",
          "name": "stdout",
          "text": [
            "Token IDs: \n",
            "tensor([[[0],\n",
            "         [0],\n",
            "         [0]],\n",
            "\n",
            "        [[0],\n",
            "         [0],\n",
            "         [0]]])\n"
          ]
        }
      ]
    },
    {
      "cell_type": "code",
      "source": [
        "print(f\"Targets batch 1: {token_ids_to_text(targets[0], tokenizer)}\")\n",
        "print(f\"Outputs batch 1\"\n",
        "      f\"{token_ids_to_text(token_ids[0].flatten(), tokenizer)}\")"
      ],
      "metadata": {
        "colab": {
          "base_uri": "https://localhost:8080/"
        },
        "id": "0kJdrY4EUddK",
        "outputId": "e3167d15-7d56-4c4d-da93-e9e6a20c47d2"
      },
      "execution_count": null,
      "outputs": [
        {
          "output_type": "stream",
          "name": "stdout",
          "text": [
            "Targets batch 1:  effort moves you\n",
            "Outputs batch 1!!!\n"
          ]
        }
      ]
    },
    {
      "cell_type": "code",
      "source": [
        "text_idx = 0\n",
        "target_probas_1 = probas[text_idx, [0,1,2], targets[text_idx]]\n",
        "print(f\"Text 1: {target_probas_1}\")\n",
        "\n",
        "text_idx = 1\n",
        "target_probas_2 = probas[text_idx, [0,1,2], targets[text_idx]]\n",
        "print(f\"Text 2: {target_probas_2}\")"
      ],
      "metadata": {
        "colab": {
          "base_uri": "https://localhost:8080/"
        },
        "id": "5g8INa_9U4wx",
        "outputId": "5f815bf4-7555-4bac-95e9-e16593f1b429"
      },
      "execution_count": null,
      "outputs": [
        {
          "output_type": "stream",
          "name": "stdout",
          "text": [
            "Text 1: tensor([nan, nan, nan])\n",
            "Text 2: tensor([nan, nan, nan])\n"
          ]
        }
      ]
    },
    {
      "cell_type": "markdown",
      "source": [
        "Working with logarithms of probability scores is more manageable in mathematical\n",
        "optimization than handling the scores directly.\n",
        "\n",
        "TODO: Look into appendix B for reasoning"
      ],
      "metadata": {
        "id": "CYVmXrE_V4lD"
      }
    },
    {
      "cell_type": "code",
      "source": [
        "log_probas = torch.log(torch.cat((target_probas_1, target_probas_2)))\n",
        "print(log_probas)"
      ],
      "metadata": {
        "colab": {
          "base_uri": "https://localhost:8080/"
        },
        "id": "-IRyNFKuVjoQ",
        "outputId": "003efc9a-8814-4afe-9847-b1fb4cbfb33a"
      },
      "execution_count": null,
      "outputs": [
        {
          "output_type": "stream",
          "name": "stdout",
          "text": [
            "tensor([nan, nan, nan, nan, nan, nan])\n"
          ]
        }
      ]
    },
    {
      "cell_type": "markdown",
      "source": [],
      "metadata": {
        "id": "cm586-zFWN_z"
      }
    },
    {
      "cell_type": "code",
      "source": [
        "avg_log_probas = torch.mean(log_probas)\n",
        "print(avg_log_probas)"
      ],
      "metadata": {
        "colab": {
          "base_uri": "https://localhost:8080/"
        },
        "id": "wPFp9YuCVypK",
        "outputId": "dbaa39ff-2272-4f69-a336-97424c1d6cf7"
      },
      "execution_count": null,
      "outputs": [
        {
          "output_type": "stream",
          "name": "stdout",
          "text": [
            "tensor(nan)\n"
          ]
        }
      ]
    },
    {
      "cell_type": "markdown",
      "source": [
        "the goal is to bring the\n",
        "negative average log probability down to 0"
      ],
      "metadata": {
        "id": "_stn-sqUWaWT"
      }
    },
    {
      "cell_type": "code",
      "source": [
        "neg_avg_log_probas = avg_log_probas * -1\n",
        "print(neg_avg_log_probas)"
      ],
      "metadata": {
        "colab": {
          "base_uri": "https://localhost:8080/"
        },
        "id": "M2UMfwSUWUmq",
        "outputId": "057c1b84-273e-46f0-b9da-2e7818d1e634"
      },
      "execution_count": null,
      "outputs": [
        {
          "output_type": "stream",
          "name": "stdout",
          "text": [
            "tensor(nan)\n"
          ]
        }
      ]
    },
    {
      "cell_type": "markdown",
      "source": [
        "The above loss is called the cross entropy loss\n",
        "`torch.nn.functional.cross_entropy(torch.tensor1, torch.tensor2)`"
      ],
      "metadata": {
        "id": "0fulxnbuWqjw"
      }
    },
    {
      "cell_type": "code",
      "source": [
        "print(f\"Logits shpae: {logits.shape}\")\n",
        "print(f\"Targets shpae: {targets.shape}\")"
      ],
      "metadata": {
        "colab": {
          "base_uri": "https://localhost:8080/"
        },
        "id": "VhFeFXl_WKjw",
        "outputId": "68be8bff-107c-427b-85c1-d239263021f3"
      },
      "execution_count": null,
      "outputs": [
        {
          "output_type": "stream",
          "name": "stdout",
          "text": [
            "Logits shpae: torch.Size([2, 3, 50257])\n",
            "Targets shpae: torch.Size([2, 3])\n"
          ]
        }
      ]
    },
    {
      "cell_type": "code",
      "source": [
        "logits_flat = logits.flatten(0,1)\n",
        "targets_flat = targets.flatten()\n",
        "print(f\"Flattened logits: {logits_flat.shape}\")\n",
        "print(f\"Flattened targets: {targets_flat.shape}\")"
      ],
      "metadata": {
        "colab": {
          "base_uri": "https://localhost:8080/"
        },
        "id": "qTGkEUZ6XBeD",
        "outputId": "d3db506c-042e-465b-93fa-890fef6e4429"
      },
      "execution_count": null,
      "outputs": [
        {
          "output_type": "stream",
          "name": "stdout",
          "text": [
            "Flattened logits: torch.Size([6, 50257])\n",
            "Flattened targets: torch.Size([6])\n"
          ]
        }
      ]
    },
    {
      "cell_type": "code",
      "source": [
        "loss = torch.nn.functional.cross_entropy(logits_flat, targets_flat)\n",
        "print(loss)"
      ],
      "metadata": {
        "colab": {
          "base_uri": "https://localhost:8080/"
        },
        "id": "GtR5hphfXWkT",
        "outputId": "f4121f92-4480-48b6-8827-bffcb3774067"
      },
      "execution_count": null,
      "outputs": [
        {
          "output_type": "stream",
          "name": "stdout",
          "text": [
            "tensor(nan)\n"
          ]
        }
      ]
    },
    {
      "cell_type": "markdown",
      "source": [
        "TODO: Look into perplexity on pg 140"
      ],
      "metadata": {
        "id": "4FJteYE8XiNp"
      }
    },
    {
      "cell_type": "markdown",
      "source": [
        "## 5.1.3 Calculating the training and validation set losses"
      ],
      "metadata": {
        "id": "LmDaOS35XsKz"
      }
    },
    {
      "cell_type": "code",
      "source": [],
      "metadata": {
        "id": "d4tkKFdMXfKZ"
      },
      "execution_count": null,
      "outputs": []
    }
  ]
}