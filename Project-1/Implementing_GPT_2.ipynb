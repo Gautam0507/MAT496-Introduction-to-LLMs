{
  "cells": [
    {
      "cell_type": "markdown",
      "metadata": {
        "id": "view-in-github",
        "colab_type": "text"
      },
      "source": [
        "<a href=\"https://colab.research.google.com/github/Gautam0507/MAT496-Introduction-to-LLMs/blob/main/Project-1/Implementing_GPT_2.ipynb\" target=\"_parent\"><img src=\"https://colab.research.google.com/assets/colab-badge.svg\" alt=\"Open In Colab\"/></a>"
      ]
    },
    {
      "cell_type": "markdown",
      "metadata": {
        "jukit_cell_id": "iTXx8gQJRk",
        "id": "Rc3WJJ0Pi3De"
      },
      "source": [
        "# Project - 1: GPT-2 Implementation\n",
        "**Done By** : N Gautam  2210110411"
      ]
    },
    {
      "cell_type": "markdown",
      "metadata": {
        "jukit_cell_id": "fMJ0ijVopV",
        "id": "EfhcSxVDi3Dg"
      },
      "source": [
        "In this notebook is my impementation of the  GPT-2 model pretraining\n",
        "\n",
        "# To use this notebook:\n",
        "1. Set `run_training = True` to train the model from scratch.  Set `run_training = False` to load pretrained weights and test the model.\n",
        "3. Click \"Run All Cells\" or run each cell sequentially.\n",
        "\n",
        "\n",
        "The last code cell contains the text generation function where you can modify the variable `input_text` to generate a sample ouptut."
      ]
    },
    {
      "cell_type": "code",
      "metadata": {
        "jukit_cell_id": "eH3QP9l0qy",
        "id": "pI9A4EqAi3Dh"
      },
      "source": [
        "run_training = False"
      ],
      "outputs": [],
      "execution_count": null
    },
    {
      "cell_type": "markdown",
      "metadata": {
        "jukit_cell_id": "D5kWfdnl3M",
        "id": "LUa8__Y3i3Dh"
      },
      "source": [
        "# Importing Libraries"
      ]
    },
    {
      "cell_type": "code",
      "metadata": {
        "jukit_cell_id": "O7vTLPLS4E",
        "id": "n3dwB3eyi3Di"
      },
      "source": [
        "%%capture\n",
        "!pip install tiktoken gdown"
      ],
      "outputs": [],
      "execution_count": null
    },
    {
      "cell_type": "code",
      "metadata": {
        "jukit_cell_id": "y0x0MWdajn",
        "id": "M6DK1KTMi3Di"
      },
      "source": [
        "from math import log\n",
        "from tqdm.notebook import tqdm\n",
        "import matplotlib.pyplot as plt\n",
        "from urllib.request import urlretrieve\n",
        "import os\n",
        "import torch\n",
        "from torch.utils.data import Dataset\n",
        "import torch.nn as nn\n",
        "import tiktoken\n",
        "import gdown"
      ],
      "outputs": [],
      "execution_count": null
    },
    {
      "cell_type": "markdown",
      "metadata": {
        "jukit_cell_id": "usP0gVJpch",
        "id": "oyzlbheqi3Di"
      },
      "source": [
        "# All Functions and classes necessary"
      ]
    },
    {
      "cell_type": "markdown",
      "metadata": {
        "jukit_cell_id": "XO74iJ9puq",
        "id": "Dj1GlBbdi3Dj"
      },
      "source": [
        "## Preparing the Data"
      ]
    },
    {
      "cell_type": "code",
      "metadata": {
        "jukit_cell_id": "7Rh0AoD0Dr",
        "id": "ox7QpEzKi3Dj"
      },
      "source": [
        "url = [\n",
        "    \"https://www.gutenberg.org/cache/epub/1342/pg1342.txt\",\n",
        "    \"https://www.gutenberg.org/cache/epub/1400/pg1400.txt\",\n",
        "]"
      ],
      "outputs": [],
      "execution_count": null
    },
    {
      "cell_type": "code",
      "metadata": {
        "jukit_cell_id": "PoefBi02zY",
        "id": "fLJhKolAi3Dj"
      },
      "source": [
        "if not os.path.exists(\"Pride_and_Prejudice.txt\"):\n",
        "    urlretrieve(url[0], \"Pride_and_Prejudice.txt\")\n",
        "if not os.path.exists(\"War_and_Peace.txt\"):\n",
        "    urlretrieve(url[1], \"War_and_Peace.txt\")"
      ],
      "outputs": [],
      "execution_count": null
    },
    {
      "cell_type": "code",
      "metadata": {
        "jukit_cell_id": "FMcV4VBa5v",
        "id": "Iy1OXItzi3Dk"
      },
      "source": [
        "def create_data(file_name):\n",
        "    with open(file_name, \"r\", encoding=\"utf-8\") as f:\n",
        "        file_content = f.read()  # File content is in string format with encoding\n",
        "    return file_content\n",
        "\n",
        "raw_text = (\n",
        "    create_data(\"Pride_and_Prejudice.txt\")\n",
        "    + \"<|endoftext|>\"\n",
        "    + create_data(\"War_and_Peace.txt\")\n",
        "    + \"<|endoftext|>\"\n",
        ")"
      ],
      "outputs": [],
      "execution_count": null
    },
    {
      "cell_type": "markdown",
      "metadata": {
        "jukit_cell_id": "aitE4MRreF",
        "id": "NKJIsXb5i3Dk"
      },
      "source": [
        "## Creating Configuration"
      ]
    },
    {
      "cell_type": "code",
      "metadata": {
        "jukit_cell_id": "YGsDATTeEZ",
        "id": "RnGwkr-Ni3Dk"
      },
      "source": [
        "GPT_CONFIG_124M = {\n",
        "    \"vocab_size\": 50257,  # Vocabulary size\n",
        "    \"context_length\": 1024,  # Context length\n",
        "    \"emb_dim\": 768,  # Embedding dimension\n",
        "    \"n_heads\": 12,  # Number of attention heads\n",
        "    \"n_layers\": 12,  # Number of layers\n",
        "    \"drop_rate\": 0.1,  # Dropout rate\n",
        "    \"qkv_bias\": False,  # Query-key-value bias\n",
        "}\n",
        "\n",
        "OTHER_SETTINGS = {\n",
        "    \"learning_rate\": 5e-4,\n",
        "    \"num_epochs\": 10,\n",
        "    \"batch_size\": 4,\n",
        "    \"weight_decay\": 0.1,\n",
        "    \"stride\": 128,\n",
        "}"
      ],
      "outputs": [],
      "execution_count": null
    },
    {
      "cell_type": "markdown",
      "metadata": {
        "jukit_cell_id": "3fJ4KMSnDu",
        "id": "TosZDQcNi3Dl"
      },
      "source": [
        "## Creating Dataset"
      ]
    },
    {
      "cell_type": "code",
      "metadata": {
        "jukit_cell_id": "dBnDjTsXVw",
        "id": "b-WJ3qyLi3Dl"
      },
      "source": [
        "class GPTDataset(Dataset):\n",
        "    def __init__(self, txt, tokenizer, max_length, stride):\n",
        "        self.input_ids = []\n",
        "        self.target_ids = []\n",
        "\n",
        "        token_ids = tokenizer.encode(txt, allowed_special={\"<|endoftext|>\"})\n",
        "        for i in range(0, len(token_ids) - max_length, stride):\n",
        "            input_chunk = token_ids[i : i + max_length]\n",
        "            target_chunk = token_ids[i + 1 : i + max_length + 1]\n",
        "            self.input_ids.append(torch.tensor(input_chunk))\n",
        "            self.target_ids.append(torch.tensor(target_chunk))\n",
        "\n",
        "    def __len__(self):\n",
        "        return len(self.input_ids)\n",
        "\n",
        "    def __getitem__(self, idx):\n",
        "        return (self.input_ids[idx], self.target_ids[idx])\n",
        "\n",
        "\n",
        "def create_dataloader(\n",
        "    txt,\n",
        "    batch_size=4,\n",
        "    max_length=256,\n",
        "    stride=128,\n",
        "    shuffle=True,\n",
        "    drop_last=True,\n",
        "    num_workers=0,\n",
        "):\n",
        "    tokenizer = tiktoken.get_encoding(\"gpt2\")\n",
        "    dataset = GPTDataset(txt, tokenizer, max_length, stride)\n",
        "    dataloader = torch.utils.data.DataLoader(\n",
        "        dataset,\n",
        "        batch_size=batch_size,\n",
        "        shuffle=shuffle,\n",
        "        drop_last=drop_last,\n",
        "        num_workers=num_workers,\n",
        "    )\n",
        "    return dataloader"
      ],
      "outputs": [],
      "execution_count": null
    },
    {
      "cell_type": "markdown",
      "metadata": {
        "jukit_cell_id": "0vclpmWw90",
        "id": "Bh9aIcBJi3Dl"
      },
      "source": [
        "## MultiHeaded Attention"
      ]
    },
    {
      "cell_type": "code",
      "metadata": {
        "jukit_cell_id": "DElIsjqHCy",
        "id": "9rRMkdtvi3Dl"
      },
      "source": [
        "class MultiHeadAttention(nn.Module):\n",
        "    def __init__(self, d_in, d_out, context_length, dropout, num_heads, qkv_bias=False):\n",
        "        super().__init__()\n",
        "        assert d_out % num_heads == 0, \"d_out must be divisible by n_heads\"\n",
        "\n",
        "        self.d_out = d_out\n",
        "        self.num_heads = num_heads\n",
        "        self.head_dim = (\n",
        "            d_out // num_heads\n",
        "        )  # Reduce the projection dim to match desired output dim\n",
        "\n",
        "        self.W_query = nn.Linear(d_in, d_out, bias=qkv_bias)\n",
        "        self.W_key = nn.Linear(d_in, d_out, bias=qkv_bias)\n",
        "        self.W_value = nn.Linear(d_in, d_out, bias=qkv_bias)\n",
        "        self.out_proj = nn.Linear(d_out, d_out)  # Linear layer to combine head outputs\n",
        "        self.dropout = nn.Dropout(dropout)\n",
        "        self.register_buffer(\n",
        "            \"mask\", torch.triu(torch.ones(context_length, context_length), diagonal=1)\n",
        "        )\n",
        "\n",
        "    def forward(self, x):\n",
        "        b, num_tokens, d_in = x.shape\n",
        "\n",
        "        keys = self.W_key(x)  # Shape: (b, num_tokens, d_out)\n",
        "        queries = self.W_query(x)\n",
        "        values = self.W_value(x)\n",
        "\n",
        "        keys = keys.view(b, num_tokens, self.num_heads, self.head_dim)\n",
        "        values = values.view(b, num_tokens, self.num_heads, self.head_dim)\n",
        "        queries = queries.view(b, num_tokens, self.num_heads, self.head_dim)\n",
        "\n",
        "        keys = keys.transpose(1, 2)\n",
        "        queries = queries.transpose(1, 2)\n",
        "        values = values.transpose(1, 2)\n",
        "\n",
        "        attn_scores = queries @ keys.transpose(2, 3)  # Dot product for each head\n",
        "\n",
        "        mask_bool = self.mask.bool()[:num_tokens, :num_tokens]\n",
        "\n",
        "        attn_scores.masked_fill_(mask_bool, -torch.inf)\n",
        "\n",
        "        attn_weights = torch.softmax(attn_scores / keys.shape[-1] ** 0.5, dim=-1)\n",
        "        attn_weights = self.dropout(attn_weights)\n",
        "\n",
        "        context_vec = (attn_weights @ values).transpose(1, 2)\n",
        "\n",
        "        context_vec = context_vec.reshape(b, num_tokens, self.d_out)\n",
        "        context_vec = self.out_proj(context_vec)  # optional projection\n",
        "\n",
        "        return context_vec"
      ],
      "outputs": [],
      "execution_count": null
    },
    {
      "cell_type": "markdown",
      "metadata": {
        "jukit_cell_id": "6pu7e6jm42",
        "id": "SzTad-7li3Dl"
      },
      "source": [
        "## Implementing Layer Norm"
      ]
    },
    {
      "cell_type": "code",
      "metadata": {
        "jukit_cell_id": "wzjxny7MWW",
        "id": "NesXKHgoi3Dm"
      },
      "source": [
        "class LayerNorm(nn.Module):\n",
        "    def __init__(self, emb_dim):\n",
        "        super().__init__()\n",
        "        self.eps = 1e-5\n",
        "        self.scale = nn.Parameter(torch.ones(emb_dim))\n",
        "        self.shift = nn.Parameter(torch.zeros(emb_dim))\n",
        "\n",
        "    def forward(self, x):\n",
        "        mean = x.mean(dim=-1, keepdim=True)\n",
        "        var = x.var(dim=-1, keepdim=True, unbiased=False)\n",
        "        norm_x = (x - mean) / torch.sqrt(var + self.eps)\n",
        "        return self.scale * norm_x + self.shift"
      ],
      "outputs": [],
      "execution_count": null
    },
    {
      "cell_type": "markdown",
      "metadata": {
        "jukit_cell_id": "trsyxyfmrb",
        "id": "E0AVJkQdi3Dm"
      },
      "source": [
        "## Implementing GELU  "
      ]
    },
    {
      "cell_type": "code",
      "metadata": {
        "jukit_cell_id": "Yf0NDKKN5e",
        "id": "l20vYQZZi3Dm"
      },
      "source": [
        "class GELU(nn.Module):\n",
        "    def __init__(self):\n",
        "        super().__init__()\n",
        "\n",
        "    def forward(self, x):\n",
        "        return (\n",
        "            0.5\n",
        "            * x\n",
        "            * (\n",
        "                1\n",
        "                + torch.tanh(\n",
        "                    torch.sqrt(torch.tensor(2.0 / torch.pi))\n",
        "                    * (x + 0.044715 * torch.pow(x, 3))\n",
        "                )\n",
        "            )\n",
        "        )"
      ],
      "outputs": [],
      "execution_count": null
    },
    {
      "cell_type": "markdown",
      "metadata": {
        "jukit_cell_id": "laahwOcZyq",
        "id": "cem74gJdi3Dm"
      },
      "source": [
        "## Implementing Feed Forward"
      ]
    },
    {
      "cell_type": "code",
      "metadata": {
        "jukit_cell_id": "khS2hegBQt",
        "id": "yVOrUUFDi3Dm"
      },
      "source": [
        "class FeedForward(nn.Module):\n",
        "    def __init__(self, cfg):\n",
        "        super().__init__()\n",
        "        self.layers = nn.Sequential(\n",
        "            nn.Linear(cfg[\"emb_dim\"], 4 * cfg[\"emb_dim\"]),\n",
        "            GELU(),\n",
        "            nn.Linear(4 * cfg[\"emb_dim\"], cfg[\"emb_dim\"]),\n",
        "        )\n",
        "\n",
        "    def forward(self, x):\n",
        "        return self.layers(x)"
      ],
      "outputs": [],
      "execution_count": null
    },
    {
      "cell_type": "markdown",
      "metadata": {
        "jukit_cell_id": "49GfQSzQcE",
        "id": "EewILHWwi3Dn"
      },
      "source": [
        "## Implementing the Transformer Block"
      ]
    },
    {
      "cell_type": "code",
      "metadata": {
        "jukit_cell_id": "3m4sgfzrcR",
        "id": "Nr1avpKKi3Dn"
      },
      "source": [
        "class TransformerBlock(nn.Module):\n",
        "    def __init__(self, cfg):\n",
        "        super().__init__()\n",
        "        self.att = MultiHeadAttention(\n",
        "            d_in=cfg[\"emb_dim\"],\n",
        "            d_out=cfg[\"emb_dim\"],\n",
        "            context_length=cfg[\"context_length\"],\n",
        "            num_heads=cfg[\"n_heads\"],\n",
        "            dropout=cfg[\"drop_rate\"],\n",
        "            qkv_bias=cfg[\"qkv_bias\"],\n",
        "        )\n",
        "        self.ff = FeedForward(cfg)\n",
        "        self.norm1 = LayerNorm(cfg[\"emb_dim\"])\n",
        "        self.norm2 = LayerNorm(cfg[\"emb_dim\"])\n",
        "        self.drop_shortcut = nn.Dropout(cfg[\"drop_rate\"])\n",
        "\n",
        "    def forward(self, x):\n",
        "        shortcut = x\n",
        "        x = self.norm1(x)\n",
        "        x = self.att(x)\n",
        "        x = self.drop_shortcut(x)\n",
        "        x = x + shortcut\n",
        "\n",
        "        shortcut = x\n",
        "        x = self.norm2(x)\n",
        "        x = self.ff(x)\n",
        "        x = self.drop_shortcut(x)\n",
        "        x = x + shortcut\n",
        "\n",
        "        return x"
      ],
      "outputs": [],
      "execution_count": null
    },
    {
      "cell_type": "markdown",
      "metadata": {
        "jukit_cell_id": "gYaItUDan5",
        "id": "PSB5UhCoi3Dn"
      },
      "source": [
        "## Implementing the GPT Model"
      ]
    },
    {
      "cell_type": "code",
      "metadata": {
        "jukit_cell_id": "6SLHQIdc9Z",
        "id": "OnzmKJqyi3Dn"
      },
      "source": [
        "class GPTModel(nn.Module):\n",
        "    def __init__(self, cfg):\n",
        "        super().__init__()\n",
        "        self.tok_emb = nn.Embedding(cfg[\"vocab_size\"], cfg[\"emb_dim\"])\n",
        "        self.pos_emb = nn.Embedding(cfg[\"context_length\"], cfg[\"emb_dim\"])\n",
        "        self.drop_emb = nn.Dropout(cfg[\"drop_rate\"])\n",
        "\n",
        "        self.trf_blocks = nn.Sequential(\n",
        "            *[TransformerBlock(cfg) for _ in range(cfg[\"n_layers\"])]\n",
        "        )\n",
        "\n",
        "        self.final_norm = LayerNorm(cfg[\"emb_dim\"])\n",
        "        self.out_head = nn.Linear(cfg[\"emb_dim\"], cfg[\"vocab_size\"], bias=False)\n",
        "\n",
        "    def forward(self, in_idx):\n",
        "        batch_size, seq_len = in_idx.shape\n",
        "        tok_embeds = self.tok_emb(in_idx)\n",
        "        pos_embeds = self.pos_emb(torch.arange(seq_len, device=in_idx.device))\n",
        "        x = tok_embeds + pos_embeds  # Shape [batch_size, num_tokens, emb_size]\n",
        "        x = self.drop_emb(x)\n",
        "        x = self.trf_blocks(x)\n",
        "        x = self.final_norm(x)\n",
        "        logits = self.out_head(x)\n",
        "        return logits"
      ],
      "outputs": [],
      "execution_count": null
    },
    {
      "cell_type": "markdown",
      "metadata": {
        "jukit_cell_id": "89owLOROEQ",
        "id": "znsMHe0Oi3Dn"
      },
      "source": [
        "## Implementing the Text Generation Functions"
      ]
    },
    {
      "cell_type": "code",
      "metadata": {
        "jukit_cell_id": "QavRWE56Ru",
        "id": "HchFNdLpi3Do"
      },
      "source": [
        "def text_to_token_ids(text, tokenizer):\n",
        "    encoded = tokenizer.encode(text)\n",
        "    encoded_tensor = torch.tensor(encoded).unsqueeze(0)  # add batch dimension\n",
        "    return encoded_tensor\n",
        "\n",
        "\n",
        "def token_ids_to_text(token_ids, tokenizer):\n",
        "    flat = token_ids.squeeze(0)  # remove batch dimension\n",
        "    return tokenizer.decode(flat.tolist())\n",
        "\n",
        "\n",
        "def generate_tokens(\n",
        "    model, idx, max_new_tokens, context_size, temperature=0.0, top_K=None\n",
        "):\n",
        "    for _ in range(max_new_tokens):\n",
        "        idx_cond = idx[:, -context_size:]\n",
        "        with torch.no_grad():\n",
        "            logits = model(idx_cond)\n",
        "        logits = logits[:, -1, :]\n",
        "\n",
        "        if top_K is not None:\n",
        "            top_logits, _ = torch.topk(logits, top_K)\n",
        "            min_val = top_logits[:, -1]\n",
        "            logits = torch.where(\n",
        "                logits < min_val, torch.tensor(float(\"-inf\")).to(logits.device), logits\n",
        "            )\n",
        "\n",
        "        if temperature > 0.0:\n",
        "            logits = logits / temperature\n",
        "            probs = torch.softmax(logits, dim=-1)\n",
        "            idx_next = torch.multinomial(probs, num_samples=1)\n",
        "        else:\n",
        "            idx_next = torch.argmax(logits, dim=-1, keepdim=True)\n",
        "        idx = torch.cat((idx, idx_next), dim=1)\n",
        "    return idx\n",
        "\n",
        "\n",
        "def generate_text(\n",
        "    model,\n",
        "    tokenizer,\n",
        "    prompt,\n",
        "    max_new_tokens=25,\n",
        "    context_size=GPT_CONFIG_124M[\"context_length\"],\n",
        "    temperature=0.0,\n",
        "    top_K=None,\n",
        "):\n",
        "    idx = text_to_token_ids(prompt, tokenizer)\n",
        "    if idx.size(1) > context_size:\n",
        "        print(\n",
        "            f\"Warning: Input has {idx.size(1)} tokens which exceeds the context size of {context_size}.\"\n",
        "        )\n",
        "        print(f\"Only the last {context_size} tokens will be used for generation.\")\n",
        "\n",
        "    idx = idx.to(device)\n",
        "    idx = generate_tokens(\n",
        "        model,\n",
        "        idx,\n",
        "        max_new_tokens=max_new_tokens,\n",
        "        context_size=context_size,\n",
        "        temperature=temperature,\n",
        "        top_K=top_K,\n",
        "    )\n",
        "    return token_ids_to_text(idx, tokenizer)"
      ],
      "outputs": [],
      "execution_count": null
    },
    {
      "cell_type": "markdown",
      "metadata": {
        "jukit_cell_id": "pqAjEsquPm",
        "id": "TFRGhDOfi3Do"
      },
      "source": [
        "## Defining Loss for the Model"
      ]
    },
    {
      "cell_type": "code",
      "metadata": {
        "jukit_cell_id": "NcnJurSlen",
        "id": "kFSQhuMui3Do"
      },
      "source": [
        "def calc_loss_batch(input_batch, target_batch, model, device):\n",
        "    input_batch, target_batch = input_batch.to(device), target_batch.to(device)\n",
        "    logits = model(input_batch)\n",
        "    loss = torch.nn.functional.cross_entropy(\n",
        "        logits.flatten(0, 1), target_batch.flatten()\n",
        "    )\n",
        "    return loss\n",
        "\n",
        "\n",
        "def calc_loss_loader(data_loader, model, device, num_batches=None):\n",
        "    total_loss = 0.0\n",
        "    if len(data_loader) == 0:\n",
        "        return float(\"nan\")\n",
        "    elif num_batches is None:\n",
        "        num_batches = len(data_loader)\n",
        "    else:\n",
        "        num_batches = min(num_batches, len(data_loader))\n",
        "    for i, (input_batch, target_batch) in enumerate(data_loader):\n",
        "        if i < num_batches:\n",
        "            loss = calc_loss_batch(input_batch, target_batch, model, device)\n",
        "            total_loss += loss.item()\n",
        "        else:\n",
        "            break\n",
        "    return total_loss / num_batches\n",
        "\n",
        "\n",
        "def evaluate_model(model, train_loader, val_loader, device, eval_iter):\n",
        "    model.eval()\n",
        "    with torch.no_grad():\n",
        "        train_loss = calc_loss_loader(\n",
        "            train_loader, model, device, num_batches=eval_iter\n",
        "        )\n",
        "        val_loss = calc_loss_loader(val_loader, model, device, num_batches=eval_iter)\n",
        "    model.train()\n",
        "    return train_loss, val_loss"
      ],
      "outputs": [],
      "execution_count": null
    },
    {
      "cell_type": "markdown",
      "metadata": {
        "jukit_cell_id": "qhzqBfzBeo",
        "id": "84wyDaqgi3Dp"
      },
      "source": [
        "## Defining the function for model training"
      ]
    },
    {
      "cell_type": "code",
      "metadata": {
        "jukit_cell_id": "2iWvTlMBDQ",
        "id": "nSgVg1Ddi3Dp"
      },
      "source": [
        "def train_model(\n",
        "    model,\n",
        "    train_loader,\n",
        "    val_loader,\n",
        "    optimizer,\n",
        "    device,\n",
        "    num_epochs,\n",
        "    eval_freq,\n",
        "    eval_iter,\n",
        "):\n",
        "    train_losses, val_losses, track_tokens_seen = [], [], []\n",
        "    tokens_seen = 0\n",
        "    global_step = -1\n",
        "\n",
        "    for epoch in tqdm(range(num_epochs)):\n",
        "        model.train()\n",
        "\n",
        "        if (epoch + 1 == 7):\n",
        "          # From the graph we can see the validation error starting\n",
        "          # to go up at the start of epoch 7 (overfitting)\n",
        "          torch.save(\n",
        "              {\n",
        "                  \"model_state_dict\": model.state_dict(),\n",
        "                  \"optimizer_state_dict\": optimizer.state_dict(),\n",
        "              },\n",
        "              \"GPT-2_model_chcekpoint.pth\",\n",
        "          )\n",
        "\n",
        "        for input_batch, target_batch in train_loader:\n",
        "            optimizer.zero_grad()\n",
        "            loss = calc_loss_batch(input_batch, target_batch, model, device)\n",
        "            loss.backward()\n",
        "            optimizer.step()\n",
        "            tokens_seen += input_batch.numel()\n",
        "            global_step += 1\n",
        "\n",
        "            if global_step % eval_freq == 0:\n",
        "                train_loss, val_loss = evaluate_model(\n",
        "                    model, train_loader, val_loader, device, eval_iter\n",
        "                )\n",
        "                train_losses.append(train_loss)\n",
        "                val_losses.append(val_loss)\n",
        "                track_tokens_seen.append(tokens_seen)\n",
        "                print(\n",
        "                    f\"Ep {epoch+1} (Step {global_step:06d}): \"\n",
        "                    f\"Train loss {train_loss:.3f}, Val loss {val_loss:.3f}\"\n",
        "                )\n",
        "\n",
        "    return train_losses, val_losses, track_tokens_seen"
      ],
      "outputs": [],
      "execution_count": null
    },
    {
      "cell_type": "markdown",
      "metadata": {
        "jukit_cell_id": "qp4Bfpkl35",
        "id": "ax3MWL_gi3Dp"
      },
      "source": [
        "## Plotting the losses of the model"
      ]
    },
    {
      "cell_type": "code",
      "metadata": {
        "jukit_cell_id": "aPfsbiQ6jI",
        "id": "wIncH-JOi3Dp"
      },
      "source": [
        "def make_plot(epochs_seen, train_losses, val_losses):\n",
        "    fig, ax1 = plt.subplots()\n",
        "\n",
        "    # Plot training and validation loss against epochs\n",
        "    ax1.plot(epochs_seen, train_losses, label=\"Training loss\")\n",
        "    ax1.plot(epochs_seen, val_losses, linestyle=\"-.\", label=\"Validation loss\")\n",
        "    ax1.set_xlabel(\"Epochs\")\n",
        "    ax1.set_ylabel(\"Loss\")\n",
        "    ax1.legend(loc=\"upper right\")\n",
        "\n",
        "    fig.tight_layout()\n",
        "    plt.savefig(\"loss.png\")\n",
        "    plt.close(fig)  # Close the figure to prevent automatic display"
      ],
      "outputs": [],
      "execution_count": null
    },
    {
      "cell_type": "markdown",
      "metadata": {
        "jukit_cell_id": "exGud6DdFK",
        "id": "O9pgSJ8Pi3Dp"
      },
      "source": [
        "# Training the Model"
      ]
    },
    {
      "cell_type": "code",
      "metadata": {
        "jukit_cell_id": "fTjX1VXPoh",
        "id": "AH8pXT_Ci3Dq"
      },
      "source": [
        "torch.manual_seed(123)\n",
        "device = torch.device(\"cuda\" if torch.cuda.is_available() else \"cpu\")\n",
        "\n",
        "model = GPTModel(GPT_CONFIG_124M)\n",
        "model.to(device)\n",
        "\n",
        "if run_training:\n",
        "    optimizer = torch.optim.AdamW(\n",
        "        model.parameters(),\n",
        "        lr=OTHER_SETTINGS[\"learning_rate\"],\n",
        "        weight_decay=OTHER_SETTINGS[\"weight_decay\"],\n",
        "    )\n",
        "\n",
        "    train_ratio = 0.90\n",
        "    split_idx = int(train_ratio * len(raw_text))\n",
        "\n",
        "    train_loader = create_dataloader(\n",
        "        raw_text[:split_idx],\n",
        "        batch_size=OTHER_SETTINGS[\"batch_size\"],\n",
        "        max_length=GPT_CONFIG_124M[\"context_length\"],\n",
        "        stride=GPT_CONFIG_124M[\"context_length\"],\n",
        "        drop_last=True,\n",
        "        shuffle=True,\n",
        "        num_workers=0,\n",
        "    )\n",
        "\n",
        "    val_loader = create_dataloader(\n",
        "        raw_text[split_idx:],\n",
        "        batch_size=OTHER_SETTINGS[\"batch_size\"],\n",
        "        max_length=GPT_CONFIG_124M[\"context_length\"],\n",
        "        stride=GPT_CONFIG_124M[\"context_length\"],\n",
        "        drop_last=False,\n",
        "        shuffle=False,\n",
        "        num_workers=0,\n",
        "    )\n",
        "    train_losses, val_losses, tokens_seen = train_model(\n",
        "        model,\n",
        "        train_loader,\n",
        "        val_loader,\n",
        "        optimizer,\n",
        "        device,\n",
        "        num_epochs=OTHER_SETTINGS[\"num_epochs\"],\n",
        "        eval_freq=10,\n",
        "        eval_iter=5,\n",
        "    )\n",
        "\n",
        "    # Plotting the losses\n",
        "    epochs_tensor = torch.linspace(0, OTHER_SETTINGS[\"num_epochs\"], len(train_losses))\n",
        "    make_plot(epochs_tensor, train_losses, val_losses)\n",
        "\n",
        "    # Saving model weights\n",
        "    torch.save(\n",
        "        {\n",
        "            \"model_state_dict\": model.state_dict(),\n",
        "            \"optimizer_state_dict\": optimizer.state_dict(),\n",
        "        },\n",
        "        \"GPT-2_model.pth\",\n",
        "    )"
      ],
      "outputs": [],
      "execution_count": null
    },
    {
      "cell_type": "markdown",
      "metadata": {
        "jukit_cell_id": "WxGJs0RTEl",
        "id": "dvxrnnZsi3Dq"
      },
      "source": [
        "# Loading model weights from pretrained file"
      ]
    },
    {
      "cell_type": "code",
      "metadata": {
        "jukit_cell_id": "CFes5SHx42",
        "id": "61FWycQ2i3Dq",
        "colab": {
          "base_uri": "https://localhost:8080/"
        },
        "outputId": "5a4761c9-565b-4862-8364-12ec11c17faf"
      },
      "source": [
        "if not run_training:\n",
        "  if not os.path.isdir(\"/content/batchsize4\"):\n",
        "    gdown.download_folder(\"https://drive.google.com/drive/folders/1nNwu1JmUdt9IHMfjXoWds5Pn1kP3t50I?usp=drive_link\")\n",
        "\n",
        "  values = torch.load(\"/content/batchsize4/GPT-2_model.pth\", map_location=device, weights_only=False)\n",
        "  model.load_state_dict(values[\"model_state_dict\"])"
      ],
      "outputs": [
        {
          "output_type": "stream",
          "name": "stderr",
          "text": [
            "Retrieving folder contents\n"
          ]
        },
        {
          "output_type": "stream",
          "name": "stdout",
          "text": [
            "Processing file 14KMKSn4h_XCd5zU31q5s1DtVRmm2E1RI GPT-2_model_chcekpoint.pth\n",
            "Processing file 16DWsIsbpCc2zqQcC2r_oY9Y9EGqfhqBy GPT-2_model.pth\n",
            "Processing file 1XA7alm_ALs7r-ynwSgyljFKsvFAZilf5 pretrained_loss.png\n",
            "Processing file 1UBuAh3GySD0dgW8GLUFa-ddzBZs2k_ib Project_1_GPT_2.ipynb\n"
          ]
        },
        {
          "output_type": "stream",
          "name": "stderr",
          "text": [
            "Retrieving folder contents completed\n",
            "Building directory structure\n",
            "Building directory structure completed\n",
            "Downloading...\n",
            "From (original): https://drive.google.com/uc?id=14KMKSn4h_XCd5zU31q5s1DtVRmm2E1RI\n",
            "From (redirected): https://drive.google.com/uc?id=14KMKSn4h_XCd5zU31q5s1DtVRmm2E1RI&confirm=t&uuid=968464f2-29c5-42da-aec1-389e8cbc2c55\n",
            "To: /content/batchsize4/GPT-2_model_chcekpoint.pth\n",
            "100%|██████████| 2.01G/2.01G [00:16<00:00, 121MB/s]\n",
            "Downloading...\n",
            "From (original): https://drive.google.com/uc?id=16DWsIsbpCc2zqQcC2r_oY9Y9EGqfhqBy\n",
            "From (redirected): https://drive.google.com/uc?id=16DWsIsbpCc2zqQcC2r_oY9Y9EGqfhqBy&confirm=t&uuid=18310b13-bae9-44fb-93c4-dac975082519\n",
            "To: /content/batchsize4/GPT-2_model.pth\n",
            "100%|██████████| 2.01G/2.01G [00:13<00:00, 144MB/s]\n",
            "Downloading...\n",
            "From: https://drive.google.com/uc?id=1XA7alm_ALs7r-ynwSgyljFKsvFAZilf5\n",
            "To: /content/batchsize4/pretrained_loss.png\n",
            "100%|██████████| 35.3k/35.3k [00:00<00:00, 43.8MB/s]\n",
            "Downloading...\n",
            "From: https://drive.google.com/uc?id=1UBuAh3GySD0dgW8GLUFa-ddzBZs2k_ib\n",
            "To: /content/batchsize4/Project_1_GPT_2.ipynb\n",
            "100%|██████████| 107k/107k [00:00<00:00, 77.9MB/s]\n",
            "Download completed\n"
          ]
        }
      ],
      "execution_count": null
    },
    {
      "cell_type": "markdown",
      "metadata": {
        "jukit_cell_id": "r2RyI1iRMH",
        "id": "ylt7Gaswi3D2"
      },
      "source": [
        "# Displaying the training loss plot"
      ]
    },
    {
      "cell_type": "code",
      "metadata": {
        "jukit_cell_id": "0a3v3YFder",
        "id": "cXlRYtmli3D3",
        "colab": {
          "base_uri": "https://localhost:8080/",
          "height": 406
        },
        "outputId": "c2b855a5-c7a5-4ee2-9e84-a3854e3d2e7a"
      },
      "source": [
        "if run_training:\n",
        "    plt.figure(figsize=(10, 6))\n",
        "    img = plt.imread(\"loss.png\")\n",
        "    plt.imshow(img)\n",
        "    plt.axis(\"off\")\n",
        "    plt.show()\n",
        "else:\n",
        "    try:\n",
        "        img = plt.imread(\"/content/batchsize4/pretrained_loss.png\")\n",
        "        plt.imshow(img)\n",
        "        plt.axis(\"off\")\n",
        "        plt.show()\n",
        "    except Exception as e:\n",
        "        print(f\"Could not load pretrained plot: {e}\")\n",
        "        print(\"Please check the URL or manually download the loss plot\")"
      ],
      "outputs": [
        {
          "output_type": "display_data",
          "data": {
            "text/plain": [
              "<Figure size 640x480 with 1 Axes>"
            ],
            "image/png": "[encoded data removed]"
          },
          "metadata": {}
        }
      ],
      "execution_count": null
    },
    {
      "cell_type": "markdown",
      "metadata": {
        "jukit_cell_id": "K8qaf2gMme",
        "id": "G_Lih67Qi3D3"
      },
      "source": [
        "# Generating text using the model"
      ]
    },
    {
      "cell_type": "code",
      "source": [],
      "metadata": {
        "id": "dgaf2C7y92ZG"
      },
      "execution_count": null,
      "outputs": []
    },
    {
      "cell_type": "code",
      "metadata": {
        "jukit_cell_id": "i89khcFqjQ",
        "id": "AsEO_oQMi3D3",
        "colab": {
          "base_uri": "https://localhost:8080/"
        },
        "outputId": "83f65392-ca1b-4025-a60a-66aa711b203b"
      },
      "source": [
        "# Change the below variable to give input\n",
        "input_text = \"\"\"It is a truth universally acknowledged,\"\"\"\n",
        "\n",
        "model.eval()\n",
        "tokenizer = tiktoken.get_encoding(\"gpt2\")\n",
        "with torch.no_grad():\n",
        "    generated_text = generate_text(\n",
        "        model,\n",
        "        tokenizer,\n",
        "        input_text,\n",
        "        max_new_tokens=25,\n",
        "        context_size=GPT_CONFIG_124M[\"context_length\"],\n",
        "        temperature=0.8,\n",
        "        top_K=10,\n",
        "    )\n",
        "\n",
        "print(generated_text)"
      ],
      "outputs": [
        {
          "output_type": "stream",
          "name": "stdout",
          "text": [
            "It is a truth universally acknowledged, as a good, and always let me in my way to you were my one night. I would have no liking for life\n"
          ]
        }
      ],
      "execution_count": null
    }
  ],
  "metadata": {
    "anaconda-cloud": {},
    "kernelspec": {
      "display_name": "Python 3",
      "name": "python3"
    },
    "colab": {
      "provenance": [],
      "gpuType": "T4",
      "include_colab_link": true
    },
    "accelerator": "GPU"
  },
  "nbformat": 4,
  "nbformat_minor": 0
}